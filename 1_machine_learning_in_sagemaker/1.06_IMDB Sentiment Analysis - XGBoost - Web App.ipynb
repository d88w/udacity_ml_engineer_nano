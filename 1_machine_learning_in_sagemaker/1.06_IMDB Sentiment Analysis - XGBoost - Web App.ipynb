{
 "cells": [
  {
   "cell_type": "markdown",
   "metadata": {},
   "source": [
    "# Sentiment Analysis Web App\n",
    "\n",
    "_Deep Learning Nanodegree Program | Deployment_\n",
    "\n",
    "---\n",
    "\n",
    "In this notebook we will use Amazon's SageMaker service to construct a random tree model to predict the sentiment of a movie review. In addition, we will deploy this model to an endpoint and construct a very simple web app which will interact with our model's deployed endpoint.\n",
    "\n",
    "## General Outline\n",
    "\n",
    "Typically, when using a notebook instance with SageMaker, you will proceed through the following steps. Of course, not every step will need to be done with each project. Also, there is quite a lot of room for variation in many of the steps, as you will see throughout these lessons.\n",
    "\n",
    "1. Download or otherwise retrieve the data.\n",
    "2. Process / Prepare the data.\n",
    "3. Upload the processed data to S3.\n",
    "4. Train a chosen model.\n",
    "5. Test the trained model (typically using a batch transform job).\n",
    "6. Deploy the trained model.\n",
    "7. Use the deployed model.\n",
    "\n",
    "In this notebook we will progress through each of the steps above. We will also see that the final step, using the deployed model, can be quite challenging."
   ]
  },
  {
   "cell_type": "markdown",
   "metadata": {},
   "source": [
    "## Step 1: Downloading the data\n",
    "\n",
    "The dataset we are going to use is very popular among researchers in Natural Language Processing, usually referred to as the [IMDb dataset](http://ai.stanford.edu/~amaas/data/sentiment/). It consists of movie reviews from the website [imdb.com](http://www.imdb.com/), each labeled as either '**pos**itive', if the reviewer enjoyed the film, or '**neg**ative' otherwise.\n",
    "\n",
    "> Maas, Andrew L., et al. [Learning Word Vectors for Sentiment Analysis](http://ai.stanford.edu/~amaas/data/sentiment/). In _Proceedings of the 49th Annual Meeting of the Association for Computational Linguistics: Human Language Technologies_. Association for Computational Linguistics, 2011.\n",
    "\n",
    "We begin by using some Jupyter Notebook magic to download and extract the dataset."
   ]
  },
  {
   "cell_type": "code",
   "execution_count": 1,
   "metadata": {},
   "outputs": [
    {
     "name": "stdout",
     "output_type": "stream",
     "text": [
      "mkdir: cannot create directory ‘../data’: File exists\n",
      "--2020-06-28 22:19:33--  http://ai.stanford.edu/~amaas/data/sentiment/aclImdb_v1.tar.gz\n",
      "Resolving ai.stanford.edu (ai.stanford.edu)... 171.64.68.10\n",
      "Connecting to ai.stanford.edu (ai.stanford.edu)|171.64.68.10|:80... connected.\n",
      "HTTP request sent, awaiting response... 200 OK\n",
      "Length: 84125825 (80M) [application/x-gzip]\n",
      "Saving to: ‘../data/aclImdb_v1.tar.gz’\n",
      "\n",
      "../data/aclImdb_v1. 100%[===================>]  80.23M  23.9MB/s    in 4.0s    \n",
      "\n",
      "2020-06-28 22:19:38 (20.2 MB/s) - ‘../data/aclImdb_v1.tar.gz’ saved [84125825/84125825]\n",
      "\n"
     ]
    }
   ],
   "source": [
    "%mkdir ../data\n",
    "!wget -O ../data/aclImdb_v1.tar.gz http://ai.stanford.edu/~amaas/data/sentiment/aclImdb_v1.tar.gz\n",
    "!tar -zxf ../data/aclImdb_v1.tar.gz -C ../data"
   ]
  },
  {
   "cell_type": "markdown",
   "metadata": {},
   "source": [
    "## Step 2: Preparing and Processing the data\n",
    "\n",
    "The data we have downloaded is split into various files, each of which contains a single review. It will be much easier going forward if we combine these individual files into two large files, one for training and one for testing."
   ]
  },
  {
   "cell_type": "code",
   "execution_count": 2,
   "metadata": {},
   "outputs": [],
   "source": [
    "import os\n",
    "import glob\n",
    "\n",
    "def read_imdb_data(data_dir='../data/aclImdb'):\n",
    "    data = {}\n",
    "    labels = {}\n",
    "    \n",
    "    for data_type in ['train', 'test']:\n",
    "        data[data_type] = {}\n",
    "        labels[data_type] = {}\n",
    "        \n",
    "        for sentiment in ['pos', 'neg']:\n",
    "            data[data_type][sentiment] = []\n",
    "            labels[data_type][sentiment] = []\n",
    "            \n",
    "            path = os.path.join(data_dir, data_type, sentiment, '*.txt')\n",
    "            files = glob.glob(path)\n",
    "            \n",
    "            for f in files:\n",
    "                with open(f) as review:\n",
    "                    data[data_type][sentiment].append(review.read())\n",
    "                    # Here we represent a positive review by '1' and a negative review by '0'\n",
    "                    labels[data_type][sentiment].append(1 if sentiment == 'pos' else 0)\n",
    "                    \n",
    "            assert len(data[data_type][sentiment]) == len(labels[data_type][sentiment]), \\\n",
    "                    \"{}/{} data size does not match labels size\".format(data_type, sentiment)\n",
    "                \n",
    "    return data, labels"
   ]
  },
  {
   "cell_type": "code",
   "execution_count": 3,
   "metadata": {},
   "outputs": [
    {
     "name": "stdout",
     "output_type": "stream",
     "text": [
      "IMDB reviews: train = 12500 pos / 12500 neg, test = 12500 pos / 12500 neg\n"
     ]
    }
   ],
   "source": [
    "data, labels = read_imdb_data()\n",
    "print(\"IMDB reviews: train = {} pos / {} neg, test = {} pos / {} neg\".format(\n",
    "            len(data['train']['pos']), len(data['train']['neg']),\n",
    "            len(data['test']['pos']), len(data['test']['neg'])))"
   ]
  },
  {
   "cell_type": "code",
   "execution_count": 4,
   "metadata": {},
   "outputs": [],
   "source": [
    "from sklearn.utils import shuffle\n",
    "\n",
    "def prepare_imdb_data(data, labels):\n",
    "    \"\"\"Prepare training and test sets from IMDb movie reviews.\"\"\"\n",
    "    \n",
    "    #Combine positive and negative reviews and labels\n",
    "    data_train = data['train']['pos'] + data['train']['neg']\n",
    "    data_test = data['test']['pos'] + data['test']['neg']\n",
    "    labels_train = labels['train']['pos'] + labels['train']['neg']\n",
    "    labels_test = labels['test']['pos'] + labels['test']['neg']\n",
    "    \n",
    "    #Shuffle reviews and corresponding labels within training and test sets\n",
    "    data_train, labels_train = shuffle(data_train, labels_train)\n",
    "    data_test, labels_test = shuffle(data_test, labels_test)\n",
    "    \n",
    "    # Return a unified training data, test data, training labels, test labets\n",
    "    return data_train, data_test, labels_train, labels_test"
   ]
  },
  {
   "cell_type": "code",
   "execution_count": 5,
   "metadata": {},
   "outputs": [
    {
     "name": "stdout",
     "output_type": "stream",
     "text": [
      "IMDb reviews (combined): train = 25000, test = 25000\n"
     ]
    }
   ],
   "source": [
    "train_X, test_X, train_y, test_y = prepare_imdb_data(data, labels)\n",
    "print(\"IMDb reviews (combined): train = {}, test = {}\".format(len(train_X), len(test_X)))"
   ]
  },
  {
   "cell_type": "code",
   "execution_count": 6,
   "metadata": {},
   "outputs": [
    {
     "data": {
      "text/plain": [
       "'This film appears to draw a borderline - on one side, those who love it, on the other, those who find it unbearable.<br /><br />To begin with, there is an awful lot of comedy in this film that many viewers are not \"getting\". Of course jet Li\\'s Mask looks like Bruce Lee\\'s Kato - he\\'s supposed to, it\\'s a joke. The guy who has a time-bomb sewn to his heart - outrageous? of course, it\\'s a joke! Some readers will probably ask, if this film is supposed to be so funny, why all the excessive and gory violence? well, for one thing the tolerance for this level of violence is actually different, from culture to culture; and while Hong Kong audiences would recognize this violence is extreme, it\\'s certainly only slightly more than average for a HK action film.<br /><br />Also, Black Mask is really the kind of film that takes a genre\\'s conventions and pushes them to extremes, simply because the conventions themselves are wholly unrealistic. After decades of watching people get shot without any noticeable open wounds, many people were horrified to see Bonnie and Clyde and the outlaws of the Wild Bunch spurting blood all over the place. But the fact is, when you\\'re shot with rapid metal projectile, it\\'s almost certain that blood will spurt, especially from an artery.<br /><br />This film is a Chinese comic book movie. It is true that the Spiderman films never get this gory - but if they were faithful to reality, they would be! Well, despite its comic-book origins, this film is faithful to reality.<br /><br />The only complaint I have is the flashy, over-stylized filming and editing. If the makers of this film had shot it with an eye to Hollywood-style nostalgia (as, e.g., The Rocketeer, or the recent Sky captain film), I doubt anyone would have found it offensive.<br /><br />But as it stands, I still had a lotta fun watching this movie.'"
      ]
     },
     "execution_count": 6,
     "metadata": {},
     "output_type": "execute_result"
    }
   ],
   "source": [
    "train_X[100]"
   ]
  },
  {
   "cell_type": "markdown",
   "metadata": {},
   "source": [
    "## Processing the data\n",
    "\n",
    "Now that we have our training and testing datasets merged and ready to use, we need to start processing the raw data into something that will be useable by our machine learning algorithm. To begin with, we remove any html formatting and any non-alpha numeric characters that may appear in the reviews. We will do this in a very simplistic way using Python's regular expression module. We will discuss the reason for this rather simplistic pre-processing later on."
   ]
  },
  {
   "cell_type": "code",
   "execution_count": 7,
   "metadata": {},
   "outputs": [],
   "source": [
    "import re\n",
    "\n",
    "REPLACE_NO_SPACE = re.compile(\"(\\.)|(\\;)|(\\:)|(\\!)|(\\')|(\\?)|(\\,)|(\\\")|(\\()|(\\))|(\\[)|(\\])\")\n",
    "REPLACE_WITH_SPACE = re.compile(\"(<br\\s*/><br\\s*/>)|(\\-)|(\\/)\")\n",
    "\n",
    "def review_to_words(review):\n",
    "    words = REPLACE_NO_SPACE.sub(\"\", review.lower())\n",
    "    words = REPLACE_WITH_SPACE.sub(\" \", words)\n",
    "    return words"
   ]
  },
  {
   "cell_type": "code",
   "execution_count": 8,
   "metadata": {},
   "outputs": [
    {
     "data": {
      "text/plain": [
       "'this film appears to draw a borderline   on one side those who love it on the other those who find it unbearable to begin with there is an awful lot of comedy in this film that many viewers are not getting of course jet lis mask looks like bruce lees kato   hes supposed to its a joke the guy who has a time bomb sewn to his heart   outrageous of course its a joke some readers will probably ask if this film is supposed to be so funny why all the excessive and gory violence well for one thing the tolerance for this level of violence is actually different from culture to culture and while hong kong audiences would recognize this violence is extreme its certainly only slightly more than average for a hk action film also black mask is really the kind of film that takes a genres conventions and pushes them to extremes simply because the conventions themselves are wholly unrealistic after decades of watching people get shot without any noticeable open wounds many people were horrified to see bonnie and clyde and the outlaws of the wild bunch spurting blood all over the place but the fact is when youre shot with rapid metal projectile its almost certain that blood will spurt especially from an artery this film is a chinese comic book movie it is true that the spiderman films never get this gory   but if they were faithful to reality they would be well despite its comic book origins this film is faithful to reality the only complaint i have is the flashy over stylized filming and editing if the makers of this film had shot it with an eye to hollywood style nostalgia as eg the rocketeer or the recent sky captain film i doubt anyone would have found it offensive but as it stands i still had a lotta fun watching this movie'"
      ]
     },
     "execution_count": 8,
     "metadata": {},
     "output_type": "execute_result"
    }
   ],
   "source": [
    "review_to_words(train_X[100])"
   ]
  },
  {
   "cell_type": "code",
   "execution_count": 9,
   "metadata": {},
   "outputs": [],
   "source": [
    "import pickle\n",
    "\n",
    "cache_dir = os.path.join(\"../cache\", \"sentiment_web_app\")  # where to store cache files\n",
    "os.makedirs(cache_dir, exist_ok=True)  # ensure cache directory exists\n",
    "\n",
    "def preprocess_data(data_train, data_test, labels_train, labels_test,\n",
    "                    cache_dir=cache_dir, cache_file=\"preprocessed_data.pkl\"):\n",
    "    \"\"\"Convert each review to words; read from cache if available.\"\"\"\n",
    "\n",
    "    # If cache_file is not None, try to read from it first\n",
    "    cache_data = None\n",
    "    if cache_file is not None:\n",
    "        try:\n",
    "            with open(os.path.join(cache_dir, cache_file), \"rb\") as f:\n",
    "                cache_data = pickle.load(f)\n",
    "            print(\"Read preprocessed data from cache file:\", cache_file)\n",
    "        except:\n",
    "            pass  # unable to read from cache, but that's okay\n",
    "    \n",
    "    # If cache is missing, then do the heavy lifting\n",
    "    if cache_data is None:\n",
    "        # Preprocess training and test data to obtain words for each review\n",
    "        #words_train = list(map(review_to_words, data_train))\n",
    "        #words_test = list(map(review_to_words, data_test))\n",
    "        words_train = [review_to_words(review) for review in data_train]\n",
    "        words_test = [review_to_words(review) for review in data_test]\n",
    "        \n",
    "        # Write to cache file for future runs\n",
    "        if cache_file is not None:\n",
    "            cache_data = dict(words_train=words_train, words_test=words_test,\n",
    "                              labels_train=labels_train, labels_test=labels_test)\n",
    "            with open(os.path.join(cache_dir, cache_file), \"wb\") as f:\n",
    "                pickle.dump(cache_data, f)\n",
    "            print(\"Wrote preprocessed data to cache file:\", cache_file)\n",
    "    else:\n",
    "        # Unpack data loaded from cache file\n",
    "        words_train, words_test, labels_train, labels_test = (cache_data['words_train'],\n",
    "                cache_data['words_test'], cache_data['labels_train'], cache_data['labels_test'])\n",
    "    \n",
    "    return words_train, words_test, labels_train, labels_test"
   ]
  },
  {
   "cell_type": "code",
   "execution_count": 10,
   "metadata": {},
   "outputs": [
    {
     "name": "stdout",
     "output_type": "stream",
     "text": [
      "Read preprocessed data from cache file: preprocessed_data.pkl\n"
     ]
    }
   ],
   "source": [
    "# Preprocess data\n",
    "train_X, test_X, train_y, test_y = preprocess_data(train_X, test_X, train_y, test_y)"
   ]
  },
  {
   "cell_type": "markdown",
   "metadata": {},
   "source": [
    "### Extract Bag-of-Words features\n",
    "\n",
    "For the model we will be implementing, rather than using the reviews directly, we are going to transform each review into a Bag-of-Words feature representation. Keep in mind that 'in the wild' we will only have access to the training set so our transformer can only use the training set to construct a representation."
   ]
  },
  {
   "cell_type": "code",
   "execution_count": 11,
   "metadata": {},
   "outputs": [
    {
     "name": "stderr",
     "output_type": "stream",
     "text": [
      "/home/ec2-user/anaconda3/envs/python3/lib/python3.6/site-packages/sklearn/externals/joblib/__init__.py:15: FutureWarning: sklearn.externals.joblib is deprecated in 0.21 and will be removed in 0.23. Please import this functionality directly from joblib, which can be installed with: pip install joblib. If this warning is raised when loading pickled models, you may need to re-serialize those models with scikit-learn 0.21+.\n",
      "  warnings.warn(msg, category=FutureWarning)\n"
     ]
    }
   ],
   "source": [
    "import numpy as np\n",
    "from sklearn.feature_extraction.text import CountVectorizer\n",
    "from sklearn.externals import joblib\n",
    "# joblib is an enhanced version of pickle that is more efficient for storing NumPy arrays\n",
    "\n",
    "def extract_BoW_features(words_train, words_test, vocabulary_size=5000,\n",
    "                         cache_dir=cache_dir, cache_file=\"bow_features.pkl\"):\n",
    "    \"\"\"Extract Bag-of-Words for a given set of documents, already preprocessed into words.\"\"\"\n",
    "    \n",
    "    # If cache_file is not None, try to read from it first\n",
    "    cache_data = None\n",
    "    if cache_file is not None:\n",
    "        try:\n",
    "            with open(os.path.join(cache_dir, cache_file), \"rb\") as f:\n",
    "                cache_data = joblib.load(f)\n",
    "            print(\"Read features from cache file:\", cache_file)\n",
    "        except:\n",
    "            pass  # unable to read from cache, but that's okay\n",
    "    \n",
    "    # If cache is missing, then do the heavy lifting\n",
    "    if cache_data is None:\n",
    "        # Fit a vectorizer to training documents and use it to transform them\n",
    "        # NOTE: Training documents have already been preprocessed and tokenized into words;\n",
    "        #       pass in dummy functions to skip those steps, e.g. preprocessor=lambda x: x\n",
    "        vectorizer = CountVectorizer(max_features=vocabulary_size)\n",
    "        features_train = vectorizer.fit_transform(words_train).toarray()\n",
    "\n",
    "        # Apply the same vectorizer to transform the test documents (ignore unknown words)\n",
    "        features_test = vectorizer.transform(words_test).toarray()\n",
    "        \n",
    "        # NOTE: Remember to convert the features using .toarray() for a compact representation\n",
    "        \n",
    "        # Write to cache file for future runs (store vocabulary as well)\n",
    "        if cache_file is not None:\n",
    "            vocabulary = vectorizer.vocabulary_\n",
    "            cache_data = dict(features_train=features_train, features_test=features_test,\n",
    "                             vocabulary=vocabulary)\n",
    "            with open(os.path.join(cache_dir, cache_file), \"wb\") as f:\n",
    "                joblib.dump(cache_data, f)\n",
    "            print(\"Wrote features to cache file:\", cache_file)\n",
    "    else:\n",
    "        # Unpack data loaded from cache file\n",
    "        features_train, features_test, vocabulary = (cache_data['features_train'],\n",
    "                cache_data['features_test'], cache_data['vocabulary'])\n",
    "    \n",
    "    # Return both the extracted features as well as the vocabulary\n",
    "    return features_train, features_test, vocabulary"
   ]
  },
  {
   "cell_type": "code",
   "execution_count": 12,
   "metadata": {},
   "outputs": [
    {
     "name": "stdout",
     "output_type": "stream",
     "text": [
      "Read features from cache file: bow_features.pkl\n"
     ]
    }
   ],
   "source": [
    "# Extract Bag of Words features for both training and test datasets\n",
    "train_X, test_X, vocabulary = extract_BoW_features(train_X, test_X)"
   ]
  },
  {
   "cell_type": "code",
   "execution_count": 13,
   "metadata": {},
   "outputs": [
    {
     "data": {
      "text/plain": [
       "5000"
      ]
     },
     "execution_count": 13,
     "metadata": {},
     "output_type": "execute_result"
    }
   ],
   "source": [
    "len(train_X[100])"
   ]
  },
  {
   "cell_type": "markdown",
   "metadata": {},
   "source": [
    "## Step 3: Upload data to S3\n",
    "\n",
    "Now that we have created the feature representation of our training (and testing) data, it is time to start setting up and using the XGBoost classifier provided by SageMaker.\n",
    "\n",
    "### Writing the datasets\n",
    "\n",
    "The XGBoost classifier that we will be using requires the dataset to be written to a file and stored using Amazon S3. To do this, we will start by splitting the training dataset into two parts, the data we will train the model with and a validation set. Then, we will write those datasets to a file locally and then upload the files to S3. In addition, we will write the test set to a file and upload that file to S3. This is so that we can use SageMakers Batch Transform functionality to test our model once we've fit it."
   ]
  },
  {
   "cell_type": "code",
   "execution_count": 14,
   "metadata": {},
   "outputs": [],
   "source": [
    "import pandas as pd\n",
    "\n",
    "# Earlier we shuffled the training dataset so to make things simple we can just assign\n",
    "# the first 10 000 reviews to the validation set and use the remaining reviews for training.\n",
    "val_X = pd.DataFrame(train_X[:10000])\n",
    "train_X = pd.DataFrame(train_X[10000:])\n",
    "\n",
    "val_y = pd.DataFrame(train_y[:10000])\n",
    "train_y = pd.DataFrame(train_y[10000:])"
   ]
  },
  {
   "cell_type": "markdown",
   "metadata": {},
   "source": [
    "The documentation for the XGBoost algorithm in SageMaker requires that the training and validation datasets should contain no headers or index and that the label should occur first for each sample.\n",
    "\n",
    "For more information about this and other algorithms, the SageMaker developer documentation can be found on __[Amazon's website.](https://docs.aws.amazon.com/sagemaker/latest/dg/)__"
   ]
  },
  {
   "cell_type": "code",
   "execution_count": 15,
   "metadata": {},
   "outputs": [],
   "source": [
    "# First we make sure that the local directory in which we'd like to store the training and validation csv files exists.\n",
    "data_dir = '../data/sentiment_web_app'\n",
    "if not os.path.exists(data_dir):\n",
    "    os.makedirs(data_dir)"
   ]
  },
  {
   "cell_type": "code",
   "execution_count": 16,
   "metadata": {},
   "outputs": [],
   "source": [
    "pd.DataFrame(test_X).to_csv(os.path.join(data_dir, 'test.csv'), header=False, index=False)\n",
    "\n",
    "pd.concat([val_y, val_X], axis=1).to_csv(os.path.join(data_dir, 'validation.csv'), header=False, index=False)\n",
    "pd.concat([train_y, train_X], axis=1).to_csv(os.path.join(data_dir, 'train.csv'), header=False, index=False)"
   ]
  },
  {
   "cell_type": "code",
   "execution_count": 17,
   "metadata": {},
   "outputs": [],
   "source": [
    "# To save a bit of memory we can set text_X, train_X, val_X, train_y and val_y to None.\n",
    "\n",
    "test_X = train_X = val_X = train_y = val_y = None"
   ]
  },
  {
   "cell_type": "markdown",
   "metadata": {},
   "source": [
    "### Uploading Training / Validation files to S3\n",
    "\n",
    "Amazon's S3 service allows us to store files that can be accessed by both the built-in training models such as the XGBoost model we will be using as well as custom models such as the one we will see a little later.\n",
    "\n",
    "For this and most other tasks we will be doing using SageMaker, there are two methods we could use. The first is to use the low level functionality of SageMaker which requires knowing each of the objects involved in the SageMaker environment. The second is to use the high level functionality in which certain choices have been made on the user's behalf. The low level approach benefits from allowing the user a great deal of flexibility while the high level approach makes development much quicker. For our purposes we will opt to use the high level approach although using the low-level approach is certainly an option.\n",
    "\n",
    "Recall the method `upload_data()` which is a member of the object representing our current SageMaker session. What this method does is upload the data to the default bucket (which is created if it does not exist) into the path described by the key_prefix variable. To see this for yourself, once you have uploaded the data files, go to the S3 console and look to see where the files have been uploaded.\n",
    "\n",
    "For additional resources, see the __[SageMaker API documentation](http://sagemaker.readthedocs.io/en/latest/)__ and in addition the __[SageMaker Developer Guide.](https://docs.aws.amazon.com/sagemaker/latest/dg/)__"
   ]
  },
  {
   "cell_type": "code",
   "execution_count": 18,
   "metadata": {},
   "outputs": [],
   "source": [
    "import sagemaker\n",
    "\n",
    "session = sagemaker.Session() # Store the current SageMaker session\n",
    "\n",
    "# S3 prefix (which folder will we use)\n",
    "prefix = 'sentiment-web-app'\n",
    "\n",
    "test_location = session.upload_data(os.path.join(data_dir, 'test.csv'), key_prefix=prefix)\n",
    "val_location = session.upload_data(os.path.join(data_dir, 'validation.csv'), key_prefix=prefix)\n",
    "train_location = session.upload_data(os.path.join(data_dir, 'train.csv'), key_prefix=prefix)"
   ]
  },
  {
   "cell_type": "markdown",
   "metadata": {},
   "source": [
    "## Step 4: Creating the XGBoost model\n",
    "\n",
    "Now that the data has been uploaded it is time to create the XGBoost model. To begin with, we need to do some setup. At this point it is worth discussing what a model is in SageMaker. It is easiest to think of a model of comprising three different objects in the SageMaker ecosystem, which interact with one another.\n",
    "\n",
    "- Model Artifacts\n",
    "- Training Code (Container)\n",
    "- Inference Code (Container)\n",
    "\n",
    "The Model Artifacts are what you might think of as the actual model itself. For example, if you were building a neural network, the model artifacts would be the weights of the various layers. In our case, for an XGBoost model, the artifacts are the actual trees that are created during training.\n",
    "\n",
    "The other two objects, the training code and the inference code are then used to manipulate the training artifacts. More precisely, the training code uses the training data that is provided and creates the model artifacts, while the inference code uses the model artifacts to make predictions on new data.\n",
    "\n",
    "The way that SageMaker runs the training and inference code is by making use of Docker containers. For now, think of a container as being a way of packaging code up so that dependencies aren't an issue."
   ]
  },
  {
   "cell_type": "code",
   "execution_count": 19,
   "metadata": {},
   "outputs": [],
   "source": [
    "from sagemaker import get_execution_role\n",
    "\n",
    "# Our current execution role is required when creating the model as the training\n",
    "# and inference code will need to access the model artifacts.\n",
    "role = get_execution_role()"
   ]
  },
  {
   "cell_type": "code",
   "execution_count": 20,
   "metadata": {},
   "outputs": [
    {
     "name": "stderr",
     "output_type": "stream",
     "text": [
      "'get_image_uri' method will be deprecated in favor of 'ImageURIProvider' class in SageMaker Python SDK v2.\n",
      "WARNING:root:There is a more up to date SageMaker XGBoost image. To use the newer image, please set 'repo_version'='1.0-1'. For example:\n",
      "\tget_image_uri(region, 'xgboost', '1.0-1').\n"
     ]
    }
   ],
   "source": [
    "# We need to retrieve the location of the container which is provided by Amazon for using XGBoost.\n",
    "# As a matter of convenience, the training and inference code both use the same container.\n",
    "from sagemaker.amazon.amazon_estimator import get_image_uri\n",
    "\n",
    "container = get_image_uri(session.boto_region_name, 'xgboost')"
   ]
  },
  {
   "cell_type": "code",
   "execution_count": 21,
   "metadata": {},
   "outputs": [
    {
     "name": "stderr",
     "output_type": "stream",
     "text": [
      "WARNING:root:Parameter image_name will be renamed to image_uri in SageMaker Python SDK v2.\n"
     ]
    }
   ],
   "source": [
    "# First we create a SageMaker estimator object for our model.\n",
    "xgb = sagemaker.estimator.Estimator(container, # The location of the container we wish to use\n",
    "                                    role,                                    # What is our current IAM Role\n",
    "                                    train_instance_count=1,                  # How many compute instances\n",
    "                                    train_instance_type='ml.m4.xlarge',      # What kind of compute instances\n",
    "                                    output_path='s3://{}/{}/output'.format(session.default_bucket(), prefix),\n",
    "                                    sagemaker_session=session)\n",
    "\n",
    "# And then set the algorithm specific parameters.\n",
    "xgb.set_hyperparameters(max_depth=5,\n",
    "                        eta=0.2,\n",
    "                        gamma=4,\n",
    "                        min_child_weight=6,\n",
    "                        subsample=0.8,\n",
    "                        silent=0,\n",
    "                        objective='binary:logistic',\n",
    "                        early_stopping_rounds=10,\n",
    "                        num_round=500)"
   ]
  },
  {
   "cell_type": "markdown",
   "metadata": {},
   "source": [
    "### Fit the XGBoost model\n",
    "\n",
    "Now that our model has been set up we simply need to attach the training and validation datasets and then ask SageMaker to set up the computation."
   ]
  },
  {
   "cell_type": "code",
   "execution_count": 22,
   "metadata": {},
   "outputs": [
    {
     "name": "stderr",
     "output_type": "stream",
     "text": [
      "WARNING:sagemaker:'s3_input' class will be renamed to 'TrainingInput' in SageMaker Python SDK v2.\n",
      "WARNING:sagemaker:'s3_input' class will be renamed to 'TrainingInput' in SageMaker Python SDK v2.\n"
     ]
    }
   ],
   "source": [
    "s3_input_train = sagemaker.s3_input(s3_data=train_location, content_type='csv')\n",
    "s3_input_validation = sagemaker.s3_input(s3_data=val_location, content_type='csv')"
   ]
  },
  {
   "cell_type": "code",
   "execution_count": 23,
   "metadata": {},
   "outputs": [
    {
     "name": "stdout",
     "output_type": "stream",
     "text": [
      "2020-06-28 22:21:12 Starting - Starting the training job...\n",
      "2020-06-28 22:21:15 Starting - Launching requested ML instances.........\n",
      "2020-06-28 22:22:45 Starting - Preparing the instances for training...\n",
      "2020-06-28 22:23:39 Downloading - Downloading input data...\n",
      "2020-06-28 22:23:57 Training - Downloading the training image..\u001b[34mArguments: train\u001b[0m\n",
      "\u001b[34m[2020-06-28:22:24:18:INFO] Running standalone xgboost training.\u001b[0m\n",
      "\u001b[34m[2020-06-28:22:24:18:INFO] File size need to be processed in the node: 238.5mb. Available memory size in the node: 8486.35mb\u001b[0m\n",
      "\u001b[34m[2020-06-28:22:24:18:INFO] Determined delimiter of CSV input is ','\u001b[0m\n",
      "\u001b[34m[22:24:18] S3DistributionType set as FullyReplicated\u001b[0m\n",
      "\u001b[34m[22:24:20] 15000x5000 matrix with 75000000 entries loaded from /opt/ml/input/data/train?format=csv&label_column=0&delimiter=,\u001b[0m\n",
      "\u001b[34m[2020-06-28:22:24:20:INFO] Determined delimiter of CSV input is ','\u001b[0m\n",
      "\u001b[34m[22:24:20] S3DistributionType set as FullyReplicated\u001b[0m\n",
      "\u001b[34m[22:24:21] 10000x5000 matrix with 50000000 entries loaded from /opt/ml/input/data/validation?format=csv&label_column=0&delimiter=,\u001b[0m\n",
      "\u001b[34m[22:24:24] src/tree/updater_prune.cc:74: tree pruning end, 1 roots, 38 extra nodes, 4 pruned nodes, max_depth=5\u001b[0m\n",
      "\u001b[34m[0]#011train-error:0.3022#011validation-error:0.3118\u001b[0m\n",
      "\u001b[34mMultiple eval metrics have been passed: 'validation-error' will be used for early stopping.\n",
      "\u001b[0m\n",
      "\u001b[34mWill train until validation-error hasn't improved in 10 rounds.\u001b[0m\n",
      "\u001b[34m[22:24:26] src/tree/updater_prune.cc:74: tree pruning end, 1 roots, 42 extra nodes, 2 pruned nodes, max_depth=5\u001b[0m\n",
      "\u001b[34m[1]#011train-error:0.2874#011validation-error:0.2984\u001b[0m\n",
      "\u001b[34m[22:24:27] src/tree/updater_prune.cc:74: tree pruning end, 1 roots, 42 extra nodes, 10 pruned nodes, max_depth=5\u001b[0m\n",
      "\u001b[34m[2]#011train-error:0.277867#011validation-error:0.2898\u001b[0m\n",
      "\u001b[34m[22:24:29] src/tree/updater_prune.cc:74: tree pruning end, 1 roots, 44 extra nodes, 6 pruned nodes, max_depth=5\u001b[0m\n",
      "\u001b[34m[3]#011train-error:0.265467#011validation-error:0.2812\u001b[0m\n",
      "\n",
      "2020-06-28 22:24:17 Training - Training image download completed. Training in progress.\u001b[34m[22:24:30] src/tree/updater_prune.cc:74: tree pruning end, 1 roots, 28 extra nodes, 4 pruned nodes, max_depth=5\u001b[0m\n",
      "\u001b[34m[4]#011train-error:0.265733#011validation-error:0.2807\u001b[0m\n",
      "\u001b[34m[22:24:31] src/tree/updater_prune.cc:74: tree pruning end, 1 roots, 36 extra nodes, 8 pruned nodes, max_depth=5\u001b[0m\n",
      "\u001b[34m[5]#011train-error:0.2584#011validation-error:0.2738\u001b[0m\n",
      "\u001b[34m[22:24:33] src/tree/updater_prune.cc:74: tree pruning end, 1 roots, 34 extra nodes, 0 pruned nodes, max_depth=5\u001b[0m\n",
      "\u001b[34m[6]#011train-error:0.245933#011validation-error:0.2668\u001b[0m\n",
      "\u001b[34m[22:24:34] src/tree/updater_prune.cc:74: tree pruning end, 1 roots, 26 extra nodes, 6 pruned nodes, max_depth=5\u001b[0m\n",
      "\u001b[34m[7]#011train-error:0.2384#011validation-error:0.2601\u001b[0m\n",
      "\u001b[34m[22:24:35] src/tree/updater_prune.cc:74: tree pruning end, 1 roots, 18 extra nodes, 12 pruned nodes, max_depth=5\u001b[0m\n",
      "\u001b[34m[8]#011train-error:0.232467#011validation-error:0.2533\u001b[0m\n",
      "\u001b[34m[22:24:36] src/tree/updater_prune.cc:74: tree pruning end, 1 roots, 38 extra nodes, 6 pruned nodes, max_depth=5\u001b[0m\n",
      "\u001b[34m[9]#011train-error:0.229333#011validation-error:0.2511\u001b[0m\n",
      "\u001b[34m[22:24:38] src/tree/updater_prune.cc:74: tree pruning end, 1 roots, 36 extra nodes, 2 pruned nodes, max_depth=5\u001b[0m\n",
      "\u001b[34m[10]#011train-error:0.223133#011validation-error:0.2446\u001b[0m\n",
      "\u001b[34m[22:24:39] src/tree/updater_prune.cc:74: tree pruning end, 1 roots, 32 extra nodes, 10 pruned nodes, max_depth=5\u001b[0m\n",
      "\u001b[34m[11]#011train-error:0.219133#011validation-error:0.2386\u001b[0m\n",
      "\u001b[34m[22:24:40] src/tree/updater_prune.cc:74: tree pruning end, 1 roots, 34 extra nodes, 4 pruned nodes, max_depth=5\u001b[0m\n",
      "\u001b[34m[12]#011train-error:0.2166#011validation-error:0.2398\u001b[0m\n",
      "\u001b[34m[22:24:41] src/tree/updater_prune.cc:74: tree pruning end, 1 roots, 36 extra nodes, 8 pruned nodes, max_depth=5\u001b[0m\n",
      "\u001b[34m[13]#011train-error:0.211267#011validation-error:0.235\u001b[0m\n",
      "\u001b[34m[22:24:43] src/tree/updater_prune.cc:74: tree pruning end, 1 roots, 24 extra nodes, 8 pruned nodes, max_depth=5\u001b[0m\n",
      "\u001b[34m[14]#011train-error:0.207667#011validation-error:0.2326\u001b[0m\n",
      "\u001b[34m[22:24:44] src/tree/updater_prune.cc:74: tree pruning end, 1 roots, 20 extra nodes, 10 pruned nodes, max_depth=5\u001b[0m\n",
      "\u001b[34m[15]#011train-error:0.2026#011validation-error:0.2263\u001b[0m\n",
      "\u001b[34m[22:24:45] src/tree/updater_prune.cc:74: tree pruning end, 1 roots, 34 extra nodes, 4 pruned nodes, max_depth=5\u001b[0m\n",
      "\u001b[34m[16]#011train-error:0.1978#011validation-error:0.2219\u001b[0m\n",
      "\u001b[34m[22:24:47] src/tree/updater_prune.cc:74: tree pruning end, 1 roots, 40 extra nodes, 0 pruned nodes, max_depth=5\u001b[0m\n",
      "\u001b[34m[17]#011train-error:0.195533#011validation-error:0.2182\u001b[0m\n",
      "\u001b[34m[22:24:48] src/tree/updater_prune.cc:74: tree pruning end, 1 roots, 34 extra nodes, 12 pruned nodes, max_depth=5\u001b[0m\n",
      "\u001b[34m[18]#011train-error:0.192933#011validation-error:0.218\u001b[0m\n",
      "\u001b[34m[22:24:49] src/tree/updater_prune.cc:74: tree pruning end, 1 roots, 24 extra nodes, 6 pruned nodes, max_depth=5\u001b[0m\n",
      "\u001b[34m[19]#011train-error:0.190133#011validation-error:0.2157\u001b[0m\n",
      "\u001b[34m[22:24:50] src/tree/updater_prune.cc:74: tree pruning end, 1 roots, 36 extra nodes, 12 pruned nodes, max_depth=5\u001b[0m\n",
      "\u001b[34m[20]#011train-error:0.1868#011validation-error:0.2121\u001b[0m\n",
      "\u001b[34m[22:24:52] src/tree/updater_prune.cc:74: tree pruning end, 1 roots, 28 extra nodes, 12 pruned nodes, max_depth=5\u001b[0m\n",
      "\u001b[34m[21]#011train-error:0.184067#011validation-error:0.2102\u001b[0m\n",
      "\u001b[34m[22:24:53] src/tree/updater_prune.cc:74: tree pruning end, 1 roots, 26 extra nodes, 14 pruned nodes, max_depth=5\u001b[0m\n",
      "\u001b[34m[22]#011train-error:0.182333#011validation-error:0.2097\u001b[0m\n",
      "\u001b[34m[22:24:54] src/tree/updater_prune.cc:74: tree pruning end, 1 roots, 32 extra nodes, 2 pruned nodes, max_depth=5\u001b[0m\n",
      "\u001b[34m[23]#011train-error:0.1788#011validation-error:0.2078\u001b[0m\n",
      "\u001b[34m[22:24:56] src/tree/updater_prune.cc:74: tree pruning end, 1 roots, 30 extra nodes, 8 pruned nodes, max_depth=5\u001b[0m\n",
      "\u001b[34m[24]#011train-error:0.1766#011validation-error:0.2057\u001b[0m\n",
      "\u001b[34m[22:24:57] src/tree/updater_prune.cc:74: tree pruning end, 1 roots, 28 extra nodes, 4 pruned nodes, max_depth=5\u001b[0m\n",
      "\u001b[34m[25]#011train-error:0.1748#011validation-error:0.2034\u001b[0m\n",
      "\u001b[34m[22:24:58] src/tree/updater_prune.cc:74: tree pruning end, 1 roots, 18 extra nodes, 8 pruned nodes, max_depth=5\u001b[0m\n",
      "\u001b[34m[26]#011train-error:0.172667#011validation-error:0.2021\u001b[0m\n",
      "\u001b[34m[22:24:59] src/tree/updater_prune.cc:74: tree pruning end, 1 roots, 22 extra nodes, 14 pruned nodes, max_depth=5\u001b[0m\n",
      "\u001b[34m[27]#011train-error:0.170933#011validation-error:0.1999\u001b[0m\n",
      "\u001b[34m[22:25:01] src/tree/updater_prune.cc:74: tree pruning end, 1 roots, 32 extra nodes, 6 pruned nodes, max_depth=5\u001b[0m\n",
      "\u001b[34m[28]#011train-error:0.169267#011validation-error:0.1992\u001b[0m\n",
      "\u001b[34m[22:25:02] src/tree/updater_prune.cc:74: tree pruning end, 1 roots, 18 extra nodes, 12 pruned nodes, max_depth=5\u001b[0m\n",
      "\u001b[34m[29]#011train-error:0.168533#011validation-error:0.198\u001b[0m\n",
      "\u001b[34m[22:25:03] src/tree/updater_prune.cc:74: tree pruning end, 1 roots, 30 extra nodes, 10 pruned nodes, max_depth=5\u001b[0m\n",
      "\u001b[34m[30]#011train-error:0.1672#011validation-error:0.1972\u001b[0m\n",
      "\u001b[34m[22:25:04] src/tree/updater_prune.cc:74: tree pruning end, 1 roots, 30 extra nodes, 4 pruned nodes, max_depth=5\u001b[0m\n",
      "\u001b[34m[31]#011train-error:0.166067#011validation-error:0.1943\u001b[0m\n",
      "\u001b[34m[22:25:06] src/tree/updater_prune.cc:74: tree pruning end, 1 roots, 32 extra nodes, 8 pruned nodes, max_depth=5\u001b[0m\n",
      "\u001b[34m[32]#011train-error:0.164533#011validation-error:0.1937\u001b[0m\n",
      "\u001b[34m[22:25:07] src/tree/updater_prune.cc:74: tree pruning end, 1 roots, 28 extra nodes, 10 pruned nodes, max_depth=5\u001b[0m\n",
      "\u001b[34m[33]#011train-error:0.1628#011validation-error:0.1926\u001b[0m\n",
      "\u001b[34m[22:25:08] src/tree/updater_prune.cc:74: tree pruning end, 1 roots, 28 extra nodes, 10 pruned nodes, max_depth=5\u001b[0m\n",
      "\u001b[34m[34]#011train-error:0.161467#011validation-error:0.1915\u001b[0m\n",
      "\u001b[34m[22:25:09] src/tree/updater_prune.cc:74: tree pruning end, 1 roots, 34 extra nodes, 6 pruned nodes, max_depth=5\u001b[0m\n",
      "\u001b[34m[35]#011train-error:0.1596#011validation-error:0.1899\u001b[0m\n",
      "\u001b[34m[22:25:11] src/tree/updater_prune.cc:74: tree pruning end, 1 roots, 30 extra nodes, 10 pruned nodes, max_depth=5\u001b[0m\n",
      "\u001b[34m[36]#011train-error:0.1576#011validation-error:0.1892\u001b[0m\n",
      "\u001b[34m[22:25:12] src/tree/updater_prune.cc:74: tree pruning end, 1 roots, 30 extra nodes, 10 pruned nodes, max_depth=5\u001b[0m\n",
      "\u001b[34m[37]#011train-error:0.156467#011validation-error:0.1874\u001b[0m\n",
      "\u001b[34m[22:25:13] src/tree/updater_prune.cc:74: tree pruning end, 1 roots, 28 extra nodes, 6 pruned nodes, max_depth=5\u001b[0m\n",
      "\u001b[34m[38]#011train-error:0.154067#011validation-error:0.1872\u001b[0m\n",
      "\u001b[34m[22:25:15] src/tree/updater_prune.cc:74: tree pruning end, 1 roots, 26 extra nodes, 14 pruned nodes, max_depth=5\u001b[0m\n",
      "\u001b[34m[39]#011train-error:0.1542#011validation-error:0.1857\u001b[0m\n",
      "\u001b[34m[22:25:16] src/tree/updater_prune.cc:74: tree pruning end, 1 roots, 16 extra nodes, 10 pruned nodes, max_depth=5\u001b[0m\n",
      "\u001b[34m[40]#011train-error:0.153067#011validation-error:0.1849\u001b[0m\n",
      "\u001b[34m[22:25:17] src/tree/updater_prune.cc:74: tree pruning end, 1 roots, 30 extra nodes, 8 pruned nodes, max_depth=5\u001b[0m\n",
      "\u001b[34m[41]#011train-error:0.151133#011validation-error:0.184\u001b[0m\n",
      "\u001b[34m[22:25:18] src/tree/updater_prune.cc:74: tree pruning end, 1 roots, 22 extra nodes, 2 pruned nodes, max_depth=5\u001b[0m\n",
      "\u001b[34m[42]#011train-error:0.150267#011validation-error:0.1834\u001b[0m\n",
      "\u001b[34m[22:25:20] src/tree/updater_prune.cc:74: tree pruning end, 1 roots, 14 extra nodes, 16 pruned nodes, max_depth=5\u001b[0m\n",
      "\u001b[34m[43]#011train-error:0.1504#011validation-error:0.1814\u001b[0m\n"
     ]
    },
    {
     "name": "stdout",
     "output_type": "stream",
     "text": [
      "\u001b[34m[22:25:21] src/tree/updater_prune.cc:74: tree pruning end, 1 roots, 16 extra nodes, 14 pruned nodes, max_depth=5\u001b[0m\n",
      "\u001b[34m[44]#011train-error:0.149#011validation-error:0.1803\u001b[0m\n",
      "\u001b[34m[22:25:22] src/tree/updater_prune.cc:74: tree pruning end, 1 roots, 24 extra nodes, 10 pruned nodes, max_depth=5\u001b[0m\n",
      "\u001b[34m[45]#011train-error:0.1464#011validation-error:0.1797\u001b[0m\n",
      "\u001b[34m[22:25:23] src/tree/updater_prune.cc:74: tree pruning end, 1 roots, 28 extra nodes, 12 pruned nodes, max_depth=5\u001b[0m\n",
      "\u001b[34m[46]#011train-error:0.1452#011validation-error:0.1792\u001b[0m\n",
      "\u001b[34m[22:25:25] src/tree/updater_prune.cc:74: tree pruning end, 1 roots, 34 extra nodes, 6 pruned nodes, max_depth=5\u001b[0m\n",
      "\u001b[34m[47]#011train-error:0.144733#011validation-error:0.1788\u001b[0m\n",
      "\u001b[34m[22:25:26] src/tree/updater_prune.cc:74: tree pruning end, 1 roots, 24 extra nodes, 6 pruned nodes, max_depth=5\u001b[0m\n",
      "\u001b[34m[48]#011train-error:0.1428#011validation-error:0.1779\u001b[0m\n",
      "\u001b[34m[22:25:27] src/tree/updater_prune.cc:74: tree pruning end, 1 roots, 38 extra nodes, 0 pruned nodes, max_depth=5\u001b[0m\n",
      "\u001b[34m[49]#011train-error:0.140667#011validation-error:0.1749\u001b[0m\n",
      "\u001b[34m[22:25:28] src/tree/updater_prune.cc:74: tree pruning end, 1 roots, 20 extra nodes, 6 pruned nodes, max_depth=5\u001b[0m\n",
      "\u001b[34m[50]#011train-error:0.140067#011validation-error:0.1743\u001b[0m\n",
      "\u001b[34m[22:25:30] src/tree/updater_prune.cc:74: tree pruning end, 1 roots, 36 extra nodes, 8 pruned nodes, max_depth=5\u001b[0m\n",
      "\u001b[34m[51]#011train-error:0.1386#011validation-error:0.1727\u001b[0m\n",
      "\u001b[34m[22:25:31] src/tree/updater_prune.cc:74: tree pruning end, 1 roots, 30 extra nodes, 8 pruned nodes, max_depth=5\u001b[0m\n",
      "\u001b[34m[52]#011train-error:0.138267#011validation-error:0.1726\u001b[0m\n",
      "\u001b[34m[22:25:32] src/tree/updater_prune.cc:74: tree pruning end, 1 roots, 24 extra nodes, 12 pruned nodes, max_depth=5\u001b[0m\n",
      "\u001b[34m[53]#011train-error:0.137733#011validation-error:0.1721\u001b[0m\n",
      "\u001b[34m[22:25:34] src/tree/updater_prune.cc:74: tree pruning end, 1 roots, 18 extra nodes, 14 pruned nodes, max_depth=5\u001b[0m\n",
      "\u001b[34m[54]#011train-error:0.1374#011validation-error:0.1722\u001b[0m\n",
      "\u001b[34m[22:25:35] src/tree/updater_prune.cc:74: tree pruning end, 1 roots, 24 extra nodes, 8 pruned nodes, max_depth=5\u001b[0m\n",
      "\u001b[34m[55]#011train-error:0.135867#011validation-error:0.1704\u001b[0m\n",
      "\u001b[34m[22:25:36] src/tree/updater_prune.cc:74: tree pruning end, 1 roots, 14 extra nodes, 10 pruned nodes, max_depth=5\u001b[0m\n",
      "\u001b[34m[56]#011train-error:0.135#011validation-error:0.1709\u001b[0m\n",
      "\u001b[34m[22:25:37] src/tree/updater_prune.cc:74: tree pruning end, 1 roots, 16 extra nodes, 6 pruned nodes, max_depth=5\u001b[0m\n",
      "\u001b[34m[57]#011train-error:0.134533#011validation-error:0.17\u001b[0m\n",
      "\u001b[34m[22:25:39] src/tree/updater_prune.cc:74: tree pruning end, 1 roots, 16 extra nodes, 12 pruned nodes, max_depth=5\u001b[0m\n",
      "\u001b[34m[58]#011train-error:0.1332#011validation-error:0.1696\u001b[0m\n",
      "\u001b[34m[22:25:40] src/tree/updater_prune.cc:74: tree pruning end, 1 roots, 12 extra nodes, 14 pruned nodes, max_depth=5\u001b[0m\n",
      "\u001b[34m[59]#011train-error:0.133#011validation-error:0.1686\u001b[0m\n",
      "\u001b[34m[22:25:41] src/tree/updater_prune.cc:74: tree pruning end, 1 roots, 14 extra nodes, 12 pruned nodes, max_depth=5\u001b[0m\n",
      "\u001b[34m[60]#011train-error:0.1324#011validation-error:0.1688\u001b[0m\n",
      "\u001b[34m[22:25:42] src/tree/updater_prune.cc:74: tree pruning end, 1 roots, 16 extra nodes, 16 pruned nodes, max_depth=5\u001b[0m\n",
      "\u001b[34m[61]#011train-error:0.1328#011validation-error:0.168\u001b[0m\n",
      "\u001b[34m[22:25:44] src/tree/updater_prune.cc:74: tree pruning end, 1 roots, 32 extra nodes, 8 pruned nodes, max_depth=5\u001b[0m\n",
      "\u001b[34m[62]#011train-error:0.131#011validation-error:0.1677\u001b[0m\n",
      "\u001b[34m[22:25:45] src/tree/updater_prune.cc:74: tree pruning end, 1 roots, 16 extra nodes, 14 pruned nodes, max_depth=5\u001b[0m\n",
      "\u001b[34m[63]#011train-error:0.1298#011validation-error:0.1662\u001b[0m\n",
      "\u001b[34m[22:25:46] src/tree/updater_prune.cc:74: tree pruning end, 1 roots, 14 extra nodes, 6 pruned nodes, max_depth=5\u001b[0m\n",
      "\u001b[34m[64]#011train-error:0.128467#011validation-error:0.1654\u001b[0m\n",
      "\u001b[34m[22:25:47] src/tree/updater_prune.cc:74: tree pruning end, 1 roots, 16 extra nodes, 10 pruned nodes, max_depth=5\u001b[0m\n",
      "\u001b[34m[65]#011train-error:0.127867#011validation-error:0.1646\u001b[0m\n",
      "\u001b[34m[22:25:49] src/tree/updater_prune.cc:74: tree pruning end, 1 roots, 24 extra nodes, 8 pruned nodes, max_depth=5\u001b[0m\n",
      "\u001b[34m[66]#011train-error:0.127067#011validation-error:0.1642\u001b[0m\n",
      "\u001b[34m[22:25:50] src/tree/updater_prune.cc:74: tree pruning end, 1 roots, 18 extra nodes, 10 pruned nodes, max_depth=5\u001b[0m\n",
      "\u001b[34m[67]#011train-error:0.126333#011validation-error:0.1632\u001b[0m\n",
      "\u001b[34m[22:25:51] src/tree/updater_prune.cc:74: tree pruning end, 1 roots, 38 extra nodes, 2 pruned nodes, max_depth=5\u001b[0m\n",
      "\u001b[34m[68]#011train-error:0.124733#011validation-error:0.1619\u001b[0m\n",
      "\u001b[34m[22:25:53] src/tree/updater_prune.cc:74: tree pruning end, 1 roots, 24 extra nodes, 14 pruned nodes, max_depth=5\u001b[0m\n",
      "\u001b[34m[69]#011train-error:0.124267#011validation-error:0.1613\u001b[0m\n",
      "\u001b[34m[22:25:54] src/tree/updater_prune.cc:74: tree pruning end, 1 roots, 24 extra nodes, 6 pruned nodes, max_depth=5\u001b[0m\n",
      "\u001b[34m[70]#011train-error:0.123#011validation-error:0.1609\u001b[0m\n",
      "\u001b[34m[22:25:55] src/tree/updater_prune.cc:74: tree pruning end, 1 roots, 22 extra nodes, 6 pruned nodes, max_depth=5\u001b[0m\n",
      "\u001b[34m[71]#011train-error:0.121933#011validation-error:0.1607\u001b[0m\n",
      "\u001b[34m[22:25:56] src/tree/updater_prune.cc:74: tree pruning end, 1 roots, 28 extra nodes, 8 pruned nodes, max_depth=5\u001b[0m\n",
      "\u001b[34m[72]#011train-error:0.1218#011validation-error:0.16\u001b[0m\n",
      "\u001b[34m[22:25:58] src/tree/updater_prune.cc:74: tree pruning end, 1 roots, 16 extra nodes, 4 pruned nodes, max_depth=5\u001b[0m\n",
      "\u001b[34m[73]#011train-error:0.121133#011validation-error:0.16\u001b[0m\n",
      "\u001b[34m[22:25:59] src/tree/updater_prune.cc:74: tree pruning end, 1 roots, 22 extra nodes, 8 pruned nodes, max_depth=5\u001b[0m\n",
      "\u001b[34m[74]#011train-error:0.119067#011validation-error:0.1597\u001b[0m\n",
      "\u001b[34m[22:26:00] src/tree/updater_prune.cc:74: tree pruning end, 1 roots, 12 extra nodes, 4 pruned nodes, max_depth=5\u001b[0m\n",
      "\u001b[34m[75]#011train-error:0.118333#011validation-error:0.1597\u001b[0m\n",
      "\u001b[34m[22:26:01] src/tree/updater_prune.cc:74: tree pruning end, 1 roots, 20 extra nodes, 4 pruned nodes, max_depth=5\u001b[0m\n",
      "\u001b[34m[76]#011train-error:0.117133#011validation-error:0.16\u001b[0m\n",
      "\u001b[34m[22:26:03] src/tree/updater_prune.cc:74: tree pruning end, 1 roots, 14 extra nodes, 18 pruned nodes, max_depth=5\u001b[0m\n",
      "\u001b[34m[77]#011train-error:0.117067#011validation-error:0.159\u001b[0m\n",
      "\u001b[34m[22:26:04] src/tree/updater_prune.cc:74: tree pruning end, 1 roots, 26 extra nodes, 4 pruned nodes, max_depth=5\u001b[0m\n",
      "\u001b[34m[78]#011train-error:0.116067#011validation-error:0.159\u001b[0m\n",
      "\u001b[34m[22:26:05] src/tree/updater_prune.cc:74: tree pruning end, 1 roots, 22 extra nodes, 4 pruned nodes, max_depth=5\u001b[0m\n",
      "\u001b[34m[79]#011train-error:0.115267#011validation-error:0.1573\u001b[0m\n",
      "\u001b[34m[22:26:06] src/tree/updater_prune.cc:74: tree pruning end, 1 roots, 28 extra nodes, 10 pruned nodes, max_depth=5\u001b[0m\n",
      "\u001b[34m[80]#011train-error:0.114933#011validation-error:0.1562\u001b[0m\n",
      "\u001b[34m[22:26:08] src/tree/updater_prune.cc:74: tree pruning end, 1 roots, 16 extra nodes, 12 pruned nodes, max_depth=5\u001b[0m\n",
      "\u001b[34m[81]#011train-error:0.114#011validation-error:0.1561\u001b[0m\n",
      "\u001b[34m[22:26:09] src/tree/updater_prune.cc:74: tree pruning end, 1 roots, 12 extra nodes, 4 pruned nodes, max_depth=5\u001b[0m\n",
      "\u001b[34m[82]#011train-error:0.1132#011validation-error:0.1551\u001b[0m\n",
      "\u001b[34m[22:26:10] src/tree/updater_prune.cc:74: tree pruning end, 1 roots, 20 extra nodes, 10 pruned nodes, max_depth=5\u001b[0m\n",
      "\u001b[34m[83]#011train-error:0.112533#011validation-error:0.1532\u001b[0m\n",
      "\u001b[34m[22:26:12] src/tree/updater_prune.cc:74: tree pruning end, 1 roots, 10 extra nodes, 16 pruned nodes, max_depth=5\u001b[0m\n",
      "\u001b[34m[84]#011train-error:0.1124#011validation-error:0.153\u001b[0m\n",
      "\u001b[34m[22:26:13] src/tree/updater_prune.cc:74: tree pruning end, 1 roots, 18 extra nodes, 6 pruned nodes, max_depth=5\u001b[0m\n",
      "\u001b[34m[85]#011train-error:0.112333#011validation-error:0.1523\u001b[0m\n",
      "\u001b[34m[22:26:14] src/tree/updater_prune.cc:74: tree pruning end, 1 roots, 20 extra nodes, 10 pruned nodes, max_depth=5\u001b[0m\n",
      "\u001b[34m[86]#011train-error:0.1116#011validation-error:0.152\u001b[0m\n",
      "\u001b[34m[22:26:15] src/tree/updater_prune.cc:74: tree pruning end, 1 roots, 12 extra nodes, 8 pruned nodes, max_depth=5\u001b[0m\n",
      "\u001b[34m[87]#011train-error:0.111867#011validation-error:0.1519\u001b[0m\n",
      "\u001b[34m[22:26:17] src/tree/updater_prune.cc:74: tree pruning end, 1 roots, 26 extra nodes, 12 pruned nodes, max_depth=5\u001b[0m\n",
      "\u001b[34m[88]#011train-error:0.111267#011validation-error:0.152\u001b[0m\n",
      "\u001b[34m[22:26:18] src/tree/updater_prune.cc:74: tree pruning end, 1 roots, 16 extra nodes, 10 pruned nodes, max_depth=5\u001b[0m\n",
      "\u001b[34m[89]#011train-error:0.109933#011validation-error:0.1521\u001b[0m\n",
      "\u001b[34m[22:26:19] src/tree/updater_prune.cc:74: tree pruning end, 1 roots, 12 extra nodes, 2 pruned nodes, max_depth=5\u001b[0m\n",
      "\u001b[34m[90]#011train-error:0.110267#011validation-error:0.1517\u001b[0m\n",
      "\u001b[34m[22:26:20] src/tree/updater_prune.cc:74: tree pruning end, 1 roots, 14 extra nodes, 12 pruned nodes, max_depth=5\u001b[0m\n",
      "\u001b[34m[91]#011train-error:0.110533#011validation-error:0.1512\u001b[0m\n"
     ]
    },
    {
     "name": "stdout",
     "output_type": "stream",
     "text": [
      "\u001b[34m[22:26:22] src/tree/updater_prune.cc:74: tree pruning end, 1 roots, 20 extra nodes, 4 pruned nodes, max_depth=5\u001b[0m\n",
      "\u001b[34m[92]#011train-error:0.110133#011validation-error:0.1514\u001b[0m\n",
      "\u001b[34m[22:26:23] src/tree/updater_prune.cc:74: tree pruning end, 1 roots, 14 extra nodes, 8 pruned nodes, max_depth=5\u001b[0m\n",
      "\u001b[34m[93]#011train-error:0.109933#011validation-error:0.1508\u001b[0m\n",
      "\u001b[34m[22:26:24] src/tree/updater_prune.cc:74: tree pruning end, 1 roots, 14 extra nodes, 0 pruned nodes, max_depth=5\u001b[0m\n",
      "\u001b[34m[94]#011train-error:0.1096#011validation-error:0.1513\u001b[0m\n",
      "\u001b[34m[22:26:25] src/tree/updater_prune.cc:74: tree pruning end, 1 roots, 42 extra nodes, 6 pruned nodes, max_depth=5\u001b[0m\n",
      "\u001b[34m[95]#011train-error:0.1078#011validation-error:0.149\u001b[0m\n",
      "\u001b[34m[22:26:27] src/tree/updater_prune.cc:74: tree pruning end, 1 roots, 12 extra nodes, 10 pruned nodes, max_depth=5\u001b[0m\n",
      "\u001b[34m[96]#011train-error:0.107933#011validation-error:0.1482\u001b[0m\n",
      "\u001b[34m[22:26:28] src/tree/updater_prune.cc:74: tree pruning end, 1 roots, 18 extra nodes, 10 pruned nodes, max_depth=5\u001b[0m\n",
      "\u001b[34m[97]#011train-error:0.107333#011validation-error:0.1476\u001b[0m\n",
      "\u001b[34m[22:26:29] src/tree/updater_prune.cc:74: tree pruning end, 1 roots, 26 extra nodes, 10 pruned nodes, max_depth=5\u001b[0m\n",
      "\u001b[34m[98]#011train-error:0.1068#011validation-error:0.148\u001b[0m\n",
      "\u001b[34m[22:26:31] src/tree/updater_prune.cc:74: tree pruning end, 1 roots, 30 extra nodes, 8 pruned nodes, max_depth=5\u001b[0m\n",
      "\u001b[34m[99]#011train-error:0.106533#011validation-error:0.149\u001b[0m\n",
      "\u001b[34m[22:26:32] src/tree/updater_prune.cc:74: tree pruning end, 1 roots, 12 extra nodes, 8 pruned nodes, max_depth=5\u001b[0m\n",
      "\u001b[34m[100]#011train-error:0.105467#011validation-error:0.1482\u001b[0m\n",
      "\u001b[34m[22:26:33] src/tree/updater_prune.cc:74: tree pruning end, 1 roots, 14 extra nodes, 16 pruned nodes, max_depth=5\u001b[0m\n",
      "\u001b[34m[101]#011train-error:0.104667#011validation-error:0.1479\u001b[0m\n",
      "\u001b[34m[22:26:34] src/tree/updater_prune.cc:74: tree pruning end, 1 roots, 26 extra nodes, 8 pruned nodes, max_depth=5\u001b[0m\n",
      "\u001b[34m[102]#011train-error:0.103333#011validation-error:0.1481\u001b[0m\n",
      "\u001b[34m[22:26:36] src/tree/updater_prune.cc:74: tree pruning end, 1 roots, 12 extra nodes, 4 pruned nodes, max_depth=5\u001b[0m\n",
      "\u001b[34m[103]#011train-error:0.1026#011validation-error:0.1481\u001b[0m\n",
      "\u001b[34m[22:26:37] src/tree/updater_prune.cc:74: tree pruning end, 1 roots, 16 extra nodes, 10 pruned nodes, max_depth=5\u001b[0m\n",
      "\u001b[34m[104]#011train-error:0.102267#011validation-error:0.1477\u001b[0m\n",
      "\u001b[34m[22:26:38] src/tree/updater_prune.cc:74: tree pruning end, 1 roots, 24 extra nodes, 6 pruned nodes, max_depth=5\u001b[0m\n",
      "\u001b[34m[105]#011train-error:0.102333#011validation-error:0.1473\u001b[0m\n",
      "\u001b[34m[22:26:39] src/tree/updater_prune.cc:74: tree pruning end, 1 roots, 12 extra nodes, 12 pruned nodes, max_depth=5\u001b[0m\n",
      "\u001b[34m[106]#011train-error:0.1018#011validation-error:0.1478\u001b[0m\n",
      "\u001b[34m[22:26:41] src/tree/updater_prune.cc:74: tree pruning end, 1 roots, 14 extra nodes, 18 pruned nodes, max_depth=5\u001b[0m\n",
      "\u001b[34m[107]#011train-error:0.100933#011validation-error:0.1476\u001b[0m\n",
      "\u001b[34m[22:26:42] src/tree/updater_prune.cc:74: tree pruning end, 1 roots, 14 extra nodes, 2 pruned nodes, max_depth=5\u001b[0m\n",
      "\u001b[34m[108]#011train-error:0.100733#011validation-error:0.1476\u001b[0m\n",
      "\u001b[34m[22:26:43] src/tree/updater_prune.cc:74: tree pruning end, 1 roots, 26 extra nodes, 8 pruned nodes, max_depth=5\u001b[0m\n",
      "\u001b[34m[109]#011train-error:0.1008#011validation-error:0.1469\u001b[0m\n",
      "\u001b[34m[22:26:44] src/tree/updater_prune.cc:74: tree pruning end, 1 roots, 14 extra nodes, 10 pruned nodes, max_depth=5\u001b[0m\n",
      "\u001b[34m[110]#011train-error:0.1002#011validation-error:0.1467\u001b[0m\n",
      "\u001b[34m[22:26:46] src/tree/updater_prune.cc:74: tree pruning end, 1 roots, 28 extra nodes, 16 pruned nodes, max_depth=5\u001b[0m\n",
      "\u001b[34m[111]#011train-error:0.099467#011validation-error:0.1462\u001b[0m\n",
      "\u001b[34m[22:26:47] src/tree/updater_prune.cc:74: tree pruning end, 1 roots, 16 extra nodes, 8 pruned nodes, max_depth=5\u001b[0m\n",
      "\u001b[34m[112]#011train-error:0.098467#011validation-error:0.1443\u001b[0m\n",
      "\u001b[34m[22:26:48] src/tree/updater_prune.cc:74: tree pruning end, 1 roots, 14 extra nodes, 4 pruned nodes, max_depth=5\u001b[0m\n",
      "\u001b[34m[113]#011train-error:0.097933#011validation-error:0.1441\u001b[0m\n",
      "\u001b[34m[22:26:50] src/tree/updater_prune.cc:74: tree pruning end, 1 roots, 16 extra nodes, 14 pruned nodes, max_depth=5\u001b[0m\n",
      "\u001b[34m[114]#011train-error:0.098133#011validation-error:0.1442\u001b[0m\n",
      "\u001b[34m[22:26:51] src/tree/updater_prune.cc:74: tree pruning end, 1 roots, 12 extra nodes, 10 pruned nodes, max_depth=5\u001b[0m\n",
      "\u001b[34m[115]#011train-error:0.097867#011validation-error:0.1441\u001b[0m\n",
      "\u001b[34m[22:26:52] src/tree/updater_prune.cc:74: tree pruning end, 1 roots, 12 extra nodes, 2 pruned nodes, max_depth=5\u001b[0m\n",
      "\u001b[34m[116]#011train-error:0.097133#011validation-error:0.1431\u001b[0m\n",
      "\u001b[34m[22:26:53] src/tree/updater_prune.cc:74: tree pruning end, 1 roots, 10 extra nodes, 8 pruned nodes, max_depth=5\u001b[0m\n",
      "\u001b[34m[117]#011train-error:0.097533#011validation-error:0.1436\u001b[0m\n",
      "\u001b[34m[22:26:55] src/tree/updater_prune.cc:74: tree pruning end, 1 roots, 26 extra nodes, 12 pruned nodes, max_depth=5\u001b[0m\n",
      "\u001b[34m[118]#011train-error:0.097267#011validation-error:0.143\u001b[0m\n",
      "\u001b[34m[22:26:56] src/tree/updater_prune.cc:74: tree pruning end, 1 roots, 28 extra nodes, 8 pruned nodes, max_depth=5\u001b[0m\n",
      "\u001b[34m[119]#011train-error:0.0968#011validation-error:0.1424\u001b[0m\n",
      "\u001b[34m[22:26:57] src/tree/updater_prune.cc:74: tree pruning end, 1 roots, 18 extra nodes, 10 pruned nodes, max_depth=5\u001b[0m\n",
      "\u001b[34m[120]#011train-error:0.095733#011validation-error:0.1426\u001b[0m\n",
      "\u001b[34m[22:26:58] src/tree/updater_prune.cc:74: tree pruning end, 1 roots, 16 extra nodes, 6 pruned nodes, max_depth=5\u001b[0m\n",
      "\u001b[34m[121]#011train-error:0.0954#011validation-error:0.1428\u001b[0m\n",
      "\u001b[34m[22:27:00] src/tree/updater_prune.cc:74: tree pruning end, 1 roots, 12 extra nodes, 6 pruned nodes, max_depth=5\u001b[0m\n",
      "\u001b[34m[122]#011train-error:0.0954#011validation-error:0.1422\u001b[0m\n",
      "\u001b[34m[22:27:01] src/tree/updater_prune.cc:74: tree pruning end, 1 roots, 14 extra nodes, 4 pruned nodes, max_depth=5\u001b[0m\n",
      "\u001b[34m[123]#011train-error:0.095467#011validation-error:0.142\u001b[0m\n",
      "\u001b[34m[22:27:02] src/tree/updater_prune.cc:74: tree pruning end, 1 roots, 14 extra nodes, 8 pruned nodes, max_depth=5\u001b[0m\n",
      "\u001b[34m[124]#011train-error:0.094867#011validation-error:0.1425\u001b[0m\n",
      "\u001b[34m[22:27:04] src/tree/updater_prune.cc:74: tree pruning end, 1 roots, 10 extra nodes, 6 pruned nodes, max_depth=5\u001b[0m\n",
      "\u001b[34m[125]#011train-error:0.0946#011validation-error:0.1423\u001b[0m\n",
      "\u001b[34m[22:27:05] src/tree/updater_prune.cc:74: tree pruning end, 1 roots, 16 extra nodes, 14 pruned nodes, max_depth=5\u001b[0m\n",
      "\u001b[34m[126]#011train-error:0.093267#011validation-error:0.1417\u001b[0m\n",
      "\u001b[34m[22:27:06] src/tree/updater_prune.cc:74: tree pruning end, 1 roots, 16 extra nodes, 6 pruned nodes, max_depth=5\u001b[0m\n",
      "\u001b[34m[127]#011train-error:0.092867#011validation-error:0.1415\u001b[0m\n",
      "\u001b[34m[22:27:08] src/tree/updater_prune.cc:74: tree pruning end, 1 roots, 12 extra nodes, 20 pruned nodes, max_depth=5\u001b[0m\n",
      "\u001b[34m[128]#011train-error:0.093267#011validation-error:0.1409\u001b[0m\n",
      "\u001b[34m[22:27:09] src/tree/updater_prune.cc:74: tree pruning end, 1 roots, 12 extra nodes, 4 pruned nodes, max_depth=5\u001b[0m\n",
      "\u001b[34m[129]#011train-error:0.093067#011validation-error:0.1406\u001b[0m\n",
      "\u001b[34m[22:27:10] src/tree/updater_prune.cc:74: tree pruning end, 1 roots, 20 extra nodes, 10 pruned nodes, max_depth=5\u001b[0m\n",
      "\u001b[34m[130]#011train-error:0.092733#011validation-error:0.1405\u001b[0m\n",
      "\u001b[34m[22:27:11] src/tree/updater_prune.cc:74: tree pruning end, 1 roots, 10 extra nodes, 2 pruned nodes, max_depth=5\u001b[0m\n",
      "\u001b[34m[131]#011train-error:0.092267#011validation-error:0.1409\u001b[0m\n",
      "\u001b[34m[22:27:13] src/tree/updater_prune.cc:74: tree pruning end, 1 roots, 18 extra nodes, 4 pruned nodes, max_depth=5\u001b[0m\n",
      "\u001b[34m[132]#011train-error:0.092#011validation-error:0.1405\u001b[0m\n",
      "\u001b[34m[22:27:14] src/tree/updater_prune.cc:74: tree pruning end, 1 roots, 14 extra nodes, 16 pruned nodes, max_depth=5\u001b[0m\n",
      "\u001b[34m[133]#011train-error:0.091533#011validation-error:0.1404\u001b[0m\n",
      "\u001b[34m[22:27:15] src/tree/updater_prune.cc:74: tree pruning end, 1 roots, 12 extra nodes, 4 pruned nodes, max_depth=5\u001b[0m\n",
      "\u001b[34m[134]#011train-error:0.0912#011validation-error:0.1399\u001b[0m\n",
      "\u001b[34m[22:27:16] src/tree/updater_prune.cc:74: tree pruning end, 1 roots, 14 extra nodes, 12 pruned nodes, max_depth=5\u001b[0m\n",
      "\u001b[34m[135]#011train-error:0.0908#011validation-error:0.1393\u001b[0m\n",
      "\u001b[34m[22:27:18] src/tree/updater_prune.cc:74: tree pruning end, 1 roots, 18 extra nodes, 14 pruned nodes, max_depth=5\u001b[0m\n",
      "\u001b[34m[136]#011train-error:0.09#011validation-error:0.14\u001b[0m\n",
      "\u001b[34m[22:27:19] src/tree/updater_prune.cc:74: tree pruning end, 1 roots, 12 extra nodes, 10 pruned nodes, max_depth=5\u001b[0m\n",
      "\u001b[34m[137]#011train-error:0.089733#011validation-error:0.1396\u001b[0m\n",
      "\u001b[34m[22:27:20] src/tree/updater_prune.cc:74: tree pruning end, 1 roots, 14 extra nodes, 8 pruned nodes, max_depth=5\u001b[0m\n",
      "\u001b[34m[138]#011train-error:0.0898#011validation-error:0.1399\u001b[0m\n",
      "\u001b[34m[22:27:21] src/tree/updater_prune.cc:74: tree pruning end, 1 roots, 18 extra nodes, 8 pruned nodes, max_depth=5\u001b[0m\n",
      "\u001b[34m[139]#011train-error:0.088933#011validation-error:0.1395\u001b[0m\n"
     ]
    },
    {
     "name": "stdout",
     "output_type": "stream",
     "text": [
      "\u001b[34m[22:27:23] src/tree/updater_prune.cc:74: tree pruning end, 1 roots, 14 extra nodes, 12 pruned nodes, max_depth=5\u001b[0m\n",
      "\u001b[34m[140]#011train-error:0.0888#011validation-error:0.1389\u001b[0m\n",
      "\u001b[34m[22:27:24] src/tree/updater_prune.cc:74: tree pruning end, 1 roots, 16 extra nodes, 6 pruned nodes, max_depth=5\u001b[0m\n",
      "\u001b[34m[141]#011train-error:0.088667#011validation-error:0.1383\u001b[0m\n",
      "\u001b[34m[22:27:25] src/tree/updater_prune.cc:74: tree pruning end, 1 roots, 32 extra nodes, 16 pruned nodes, max_depth=5\u001b[0m\n",
      "\u001b[34m[142]#011train-error:0.0878#011validation-error:0.1379\u001b[0m\n",
      "\u001b[34m[22:27:27] src/tree/updater_prune.cc:74: tree pruning end, 1 roots, 22 extra nodes, 10 pruned nodes, max_depth=5\u001b[0m\n",
      "\u001b[34m[143]#011train-error:0.087667#011validation-error:0.138\u001b[0m\n",
      "\u001b[34m[22:27:28] src/tree/updater_prune.cc:74: tree pruning end, 1 roots, 12 extra nodes, 10 pruned nodes, max_depth=5\u001b[0m\n",
      "\u001b[34m[144]#011train-error:0.087133#011validation-error:0.138\u001b[0m\n",
      "\u001b[34m[22:27:29] src/tree/updater_prune.cc:74: tree pruning end, 1 roots, 20 extra nodes, 16 pruned nodes, max_depth=5\u001b[0m\n",
      "\u001b[34m[145]#011train-error:0.0868#011validation-error:0.1372\u001b[0m\n",
      "\u001b[34m[22:27:30] src/tree/updater_prune.cc:74: tree pruning end, 1 roots, 10 extra nodes, 6 pruned nodes, max_depth=5\u001b[0m\n",
      "\u001b[34m[146]#011train-error:0.0864#011validation-error:0.1374\u001b[0m\n",
      "\u001b[34m[22:27:32] src/tree/updater_prune.cc:74: tree pruning end, 1 roots, 22 extra nodes, 4 pruned nodes, max_depth=5\u001b[0m\n",
      "\u001b[34m[147]#011train-error:0.086867#011validation-error:0.1379\u001b[0m\n",
      "\u001b[34m[22:27:33] src/tree/updater_prune.cc:74: tree pruning end, 1 roots, 10 extra nodes, 12 pruned nodes, max_depth=5\u001b[0m\n",
      "\u001b[34m[148]#011train-error:0.0864#011validation-error:0.1375\u001b[0m\n",
      "\u001b[34m[22:27:34] src/tree/updater_prune.cc:74: tree pruning end, 1 roots, 16 extra nodes, 10 pruned nodes, max_depth=5\u001b[0m\n",
      "\u001b[34m[149]#011train-error:0.0864#011validation-error:0.1377\u001b[0m\n",
      "\u001b[34m[22:27:35] src/tree/updater_prune.cc:74: tree pruning end, 1 roots, 20 extra nodes, 10 pruned nodes, max_depth=5\u001b[0m\n",
      "\u001b[34m[150]#011train-error:0.0852#011validation-error:0.138\u001b[0m\n",
      "\u001b[34m[22:27:37] src/tree/updater_prune.cc:74: tree pruning end, 1 roots, 16 extra nodes, 10 pruned nodes, max_depth=5\u001b[0m\n",
      "\u001b[34m[151]#011train-error:0.085#011validation-error:0.1371\u001b[0m\n",
      "\u001b[34m[22:27:38] src/tree/updater_prune.cc:74: tree pruning end, 1 roots, 10 extra nodes, 6 pruned nodes, max_depth=5\u001b[0m\n",
      "\u001b[34m[152]#011train-error:0.0848#011validation-error:0.1361\u001b[0m\n",
      "\u001b[34m[22:27:39] src/tree/updater_prune.cc:74: tree pruning end, 1 roots, 14 extra nodes, 6 pruned nodes, max_depth=5\u001b[0m\n",
      "\u001b[34m[153]#011train-error:0.0846#011validation-error:0.1357\u001b[0m\n",
      "\u001b[34m[22:27:41] src/tree/updater_prune.cc:74: tree pruning end, 1 roots, 18 extra nodes, 8 pruned nodes, max_depth=5\u001b[0m\n",
      "\u001b[34m[154]#011train-error:0.0842#011validation-error:0.1371\u001b[0m\n",
      "\u001b[34m[22:27:42] src/tree/updater_prune.cc:74: tree pruning end, 1 roots, 20 extra nodes, 10 pruned nodes, max_depth=5\u001b[0m\n",
      "\u001b[34m[155]#011train-error:0.083933#011validation-error:0.1354\u001b[0m\n",
      "\u001b[34m[22:27:43] src/tree/updater_prune.cc:74: tree pruning end, 1 roots, 18 extra nodes, 14 pruned nodes, max_depth=5\u001b[0m\n",
      "\u001b[34m[156]#011train-error:0.084067#011validation-error:0.1354\u001b[0m\n",
      "\u001b[34m[22:27:44] src/tree/updater_prune.cc:74: tree pruning end, 1 roots, 12 extra nodes, 2 pruned nodes, max_depth=5\u001b[0m\n",
      "\u001b[34m[157]#011train-error:0.083667#011validation-error:0.1351\u001b[0m\n",
      "\u001b[34m[22:27:46] src/tree/updater_prune.cc:74: tree pruning end, 1 roots, 16 extra nodes, 16 pruned nodes, max_depth=5\u001b[0m\n",
      "\u001b[34m[158]#011train-error:0.083067#011validation-error:0.1359\u001b[0m\n",
      "\u001b[34m[22:27:47] src/tree/updater_prune.cc:74: tree pruning end, 1 roots, 12 extra nodes, 18 pruned nodes, max_depth=5\u001b[0m\n",
      "\u001b[34m[159]#011train-error:0.083#011validation-error:0.1358\u001b[0m\n",
      "\u001b[34m[22:27:48] src/tree/updater_prune.cc:74: tree pruning end, 1 roots, 16 extra nodes, 10 pruned nodes, max_depth=5\u001b[0m\n",
      "\u001b[34m[160]#011train-error:0.0826#011validation-error:0.1364\u001b[0m\n",
      "\u001b[34m[22:27:49] src/tree/updater_prune.cc:74: tree pruning end, 1 roots, 14 extra nodes, 4 pruned nodes, max_depth=5\u001b[0m\n",
      "\u001b[34m[161]#011train-error:0.082333#011validation-error:0.1357\u001b[0m\n",
      "\u001b[34m[22:27:51] src/tree/updater_prune.cc:74: tree pruning end, 1 roots, 18 extra nodes, 6 pruned nodes, max_depth=5\u001b[0m\n",
      "\u001b[34m[162]#011train-error:0.082333#011validation-error:0.1357\u001b[0m\n",
      "\u001b[34m[22:27:52] src/tree/updater_prune.cc:74: tree pruning end, 1 roots, 16 extra nodes, 4 pruned nodes, max_depth=5\u001b[0m\n",
      "\u001b[34m[163]#011train-error:0.082467#011validation-error:0.1348\u001b[0m\n",
      "\u001b[34m[22:27:53] src/tree/updater_prune.cc:74: tree pruning end, 1 roots, 12 extra nodes, 6 pruned nodes, max_depth=5\u001b[0m\n",
      "\u001b[34m[164]#011train-error:0.082267#011validation-error:0.1351\u001b[0m\n",
      "\u001b[34m[22:27:54] src/tree/updater_prune.cc:74: tree pruning end, 1 roots, 10 extra nodes, 8 pruned nodes, max_depth=5\u001b[0m\n",
      "\u001b[34m[165]#011train-error:0.0822#011validation-error:0.1344\u001b[0m\n",
      "\u001b[34m[22:27:56] src/tree/updater_prune.cc:74: tree pruning end, 1 roots, 12 extra nodes, 12 pruned nodes, max_depth=5\u001b[0m\n",
      "\u001b[34m[166]#011train-error:0.0818#011validation-error:0.1349\u001b[0m\n",
      "\u001b[34m[22:27:57] src/tree/updater_prune.cc:74: tree pruning end, 1 roots, 12 extra nodes, 8 pruned nodes, max_depth=5\u001b[0m\n",
      "\u001b[34m[167]#011train-error:0.081533#011validation-error:0.1346\u001b[0m\n",
      "\u001b[34m[22:27:58] src/tree/updater_prune.cc:74: tree pruning end, 1 roots, 22 extra nodes, 16 pruned nodes, max_depth=5\u001b[0m\n",
      "\u001b[34m[168]#011train-error:0.0814#011validation-error:0.1348\u001b[0m\n",
      "\u001b[34m[22:28:00] src/tree/updater_prune.cc:74: tree pruning end, 1 roots, 16 extra nodes, 12 pruned nodes, max_depth=5\u001b[0m\n",
      "\u001b[34m[169]#011train-error:0.082067#011validation-error:0.1347\u001b[0m\n",
      "\u001b[34m[22:28:01] src/tree/updater_prune.cc:74: tree pruning end, 1 roots, 10 extra nodes, 4 pruned nodes, max_depth=5\u001b[0m\n",
      "\u001b[34m[170]#011train-error:0.082467#011validation-error:0.1344\u001b[0m\n",
      "\u001b[34m[22:28:02] src/tree/updater_prune.cc:74: tree pruning end, 1 roots, 18 extra nodes, 8 pruned nodes, max_depth=5\u001b[0m\n",
      "\u001b[34m[171]#011train-error:0.081867#011validation-error:0.1338\u001b[0m\n",
      "\u001b[34m[22:28:03] src/tree/updater_prune.cc:74: tree pruning end, 1 roots, 12 extra nodes, 4 pruned nodes, max_depth=5\u001b[0m\n",
      "\u001b[34m[172]#011train-error:0.081733#011validation-error:0.1344\u001b[0m\n",
      "\u001b[34m[22:28:05] src/tree/updater_prune.cc:74: tree pruning end, 1 roots, 10 extra nodes, 4 pruned nodes, max_depth=5\u001b[0m\n",
      "\u001b[34m[173]#011train-error:0.081667#011validation-error:0.1346\u001b[0m\n",
      "\u001b[34m[22:28:06] src/tree/updater_prune.cc:74: tree pruning end, 1 roots, 16 extra nodes, 12 pruned nodes, max_depth=5\u001b[0m\n",
      "\u001b[34m[174]#011train-error:0.081733#011validation-error:0.1346\u001b[0m\n",
      "\u001b[34m[22:28:07] src/tree/updater_prune.cc:74: tree pruning end, 1 roots, 24 extra nodes, 10 pruned nodes, max_depth=5\u001b[0m\n",
      "\u001b[34m[175]#011train-error:0.0814#011validation-error:0.1347\u001b[0m\n",
      "\u001b[34m[22:28:09] src/tree/updater_prune.cc:74: tree pruning end, 1 roots, 10 extra nodes, 10 pruned nodes, max_depth=5\u001b[0m\n",
      "\u001b[34m[176]#011train-error:0.0814#011validation-error:0.134\u001b[0m\n",
      "\u001b[34m[22:28:10] src/tree/updater_prune.cc:74: tree pruning end, 1 roots, 14 extra nodes, 4 pruned nodes, max_depth=5\u001b[0m\n",
      "\u001b[34m[177]#011train-error:0.0812#011validation-error:0.1345\u001b[0m\n",
      "\u001b[34m[22:28:11] src/tree/updater_prune.cc:74: tree pruning end, 1 roots, 10 extra nodes, 12 pruned nodes, max_depth=5\u001b[0m\n",
      "\u001b[34m[178]#011train-error:0.0812#011validation-error:0.1345\u001b[0m\n",
      "\u001b[34m[22:28:12] src/tree/updater_prune.cc:74: tree pruning end, 1 roots, 16 extra nodes, 2 pruned nodes, max_depth=5\u001b[0m\n",
      "\u001b[34m[179]#011train-error:0.081#011validation-error:0.1347\u001b[0m\n",
      "\u001b[34m[22:28:14] src/tree/updater_prune.cc:74: tree pruning end, 1 roots, 10 extra nodes, 4 pruned nodes, max_depth=5\u001b[0m\n",
      "\u001b[34m[180]#011train-error:0.080267#011validation-error:0.1345\u001b[0m\n",
      "\u001b[34m[22:28:15] src/tree/updater_prune.cc:74: tree pruning end, 1 roots, 34 extra nodes, 2 pruned nodes, max_depth=5\u001b[0m\n",
      "\u001b[34m[181]#011train-error:0.0798#011validation-error:0.134\u001b[0m\n",
      "\u001b[34mStopping. Best iteration:\u001b[0m\n",
      "\u001b[34m[171]#011train-error:0.081867#011validation-error:0.1338\n",
      "\u001b[0m\n",
      "\n",
      "2020-06-28 22:29:28 Uploading - Uploading generated training model\n",
      "2020-06-28 22:29:28 Completed - Training job completed\n",
      "Training seconds: 349\n",
      "Billable seconds: 349\n"
     ]
    }
   ],
   "source": [
    "xgb.fit({'train': s3_input_train, 'validation': s3_input_validation})"
   ]
  },
  {
   "cell_type": "markdown",
   "metadata": {},
   "source": [
    "## Step 5: Testing the model\n",
    "\n",
    "Now that we've fit our XGBoost model, it's time to see how well it performs. To do this we will use SageMakers Batch Transform functionality. Batch Transform is a convenient way to perform inference on a large dataset in a way that is not realtime. That is, we don't necessarily need to use our model's results immediately and instead we can perform inference on a large number of samples. An example of this in industry might be performing an end of month report. This method of inference can also be useful to us as it means that we can perform inference on our entire test set. \n",
    "\n",
    "To perform a Batch Transformation we need to first create a transformer objects from our trained estimator object."
   ]
  },
  {
   "cell_type": "code",
   "execution_count": 24,
   "metadata": {},
   "outputs": [
    {
     "name": "stderr",
     "output_type": "stream",
     "text": [
      "WARNING:sagemaker:Parameter image will be renamed to image_uri in SageMaker Python SDK v2.\n"
     ]
    }
   ],
   "source": [
    "xgb_transformer = xgb.transformer(instance_count = 1, instance_type = 'ml.m4.xlarge')"
   ]
  },
  {
   "cell_type": "markdown",
   "metadata": {},
   "source": [
    "Next we actually perform the transform job. When doing so we need to make sure to specify the type of data we are sending so that it is serialized correctly in the background. In our case we are providing our model with csv data so we specify `text/csv`. Also, if the test data that we have provided is too large to process all at once then we need to specify how the data file should be split up. Since each line is a single entry in our data set we tell SageMaker that it can split the input on each line."
   ]
  },
  {
   "cell_type": "code",
   "execution_count": 25,
   "metadata": {},
   "outputs": [],
   "source": [
    "xgb_transformer.transform(test_location, content_type='text/csv', split_type='Line')"
   ]
  },
  {
   "cell_type": "markdown",
   "metadata": {},
   "source": [
    "Currently the transform job is running but it is doing so in the background. Since we wish to wait until the transform job is done and we would like a bit of feedback we can run the `wait()` method."
   ]
  },
  {
   "cell_type": "code",
   "execution_count": 26,
   "metadata": {},
   "outputs": [
    {
     "name": "stdout",
     "output_type": "stream",
     "text": [
      ".....................\u001b[34mArguments: serve\u001b[0m\n",
      "\u001b[34m[2020-06-28 22:33:13 +0000] [1] [INFO] Starting gunicorn 19.7.1\u001b[0m\n",
      "\u001b[34m[2020-06-28 22:33:13 +0000] [1] [INFO] Listening at: http://0.0.0.0:8080 (1)\u001b[0m\n",
      "\u001b[34m[2020-06-28 22:33:13 +0000] [1] [INFO] Using worker: gevent\u001b[0m\n",
      "\u001b[34m[2020-06-28 22:33:13 +0000] [38] [INFO] Booting worker with pid: 38\u001b[0m\n",
      "\u001b[34m[2020-06-28 22:33:13 +0000] [39] [INFO] Booting worker with pid: 39\u001b[0m\n",
      "\u001b[34m[2020-06-28 22:33:14 +0000] [40] [INFO] Booting worker with pid: 40\u001b[0m\n",
      "\u001b[34m[2020-06-28 22:33:14 +0000] [41] [INFO] Booting worker with pid: 41\u001b[0m\n",
      "\u001b[34m[2020-06-28:22:33:14:INFO] Model loaded successfully for worker : 38\u001b[0m\n",
      "\u001b[34m[2020-06-28:22:33:14:INFO] Model loaded successfully for worker : 39\u001b[0m\n",
      "\u001b[34m[2020-06-28:22:33:14:INFO] Model loaded successfully for worker : 40\u001b[0m\n",
      "\u001b[34m[2020-06-28:22:33:14:INFO] Model loaded successfully for worker : 41\u001b[0m\n",
      "\u001b[32m2020-06-28T22:33:33.748:[sagemaker logs]: MaxConcurrentTransforms=4, MaxPayloadInMB=6, BatchStrategy=MULTI_RECORD\u001b[0m\n",
      "\u001b[34m[2020-06-28:22:33:36:INFO] Sniff delimiter as ','\u001b[0m\n",
      "\u001b[34m[2020-06-28:22:33:36:INFO] Determined delimiter of CSV input is ','\u001b[0m\n",
      "\u001b[34m[2020-06-28:22:33:37:INFO] Sniff delimiter as ','\u001b[0m\n",
      "\u001b[34m[2020-06-28:22:33:37:INFO] Determined delimiter of CSV input is ','\u001b[0m\n",
      "\u001b[35m[2020-06-28:22:33:36:INFO] Sniff delimiter as ','\u001b[0m\n",
      "\u001b[35m[2020-06-28:22:33:36:INFO] Determined delimiter of CSV input is ','\u001b[0m\n",
      "\u001b[35m[2020-06-28:22:33:37:INFO] Sniff delimiter as ','\u001b[0m\n",
      "\u001b[35m[2020-06-28:22:33:37:INFO] Determined delimiter of CSV input is ','\u001b[0m\n",
      "\u001b[34m[2020-06-28:22:33:37:INFO] Sniff delimiter as ','\u001b[0m\n",
      "\u001b[34m[2020-06-28:22:33:37:INFO] Determined delimiter of CSV input is ','\u001b[0m\n",
      "\u001b[34m[2020-06-28:22:33:37:INFO] Sniff delimiter as ','\u001b[0m\n",
      "\u001b[34m[2020-06-28:22:33:37:INFO] Determined delimiter of CSV input is ','\u001b[0m\n",
      "\u001b[35m[2020-06-28:22:33:37:INFO] Sniff delimiter as ','\u001b[0m\n",
      "\u001b[35m[2020-06-28:22:33:37:INFO] Determined delimiter of CSV input is ','\u001b[0m\n",
      "\u001b[35m[2020-06-28:22:33:37:INFO] Sniff delimiter as ','\u001b[0m\n",
      "\u001b[35m[2020-06-28:22:33:37:INFO] Determined delimiter of CSV input is ','\u001b[0m\n",
      "\u001b[34m[2020-06-28:22:33:39:INFO] Sniff delimiter as ','\u001b[0m\n",
      "\u001b[35m[2020-06-28:22:33:39:INFO] Sniff delimiter as ','\u001b[0m\n",
      "\u001b[34m[2020-06-28:22:33:39:INFO] Determined delimiter of CSV input is ','\u001b[0m\n",
      "\u001b[34m[2020-06-28:22:33:39:INFO] Sniff delimiter as ','\u001b[0m\n",
      "\u001b[34m[2020-06-28:22:33:39:INFO] Determined delimiter of CSV input is ','\u001b[0m\n",
      "\u001b[34m[2020-06-28:22:33:39:INFO] Sniff delimiter as ','\u001b[0m\n",
      "\u001b[34m[2020-06-28:22:33:39:INFO] Determined delimiter of CSV input is ','\u001b[0m\n",
      "\u001b[34m[2020-06-28:22:33:39:INFO] Sniff delimiter as ','\u001b[0m\n",
      "\u001b[34m[2020-06-28:22:33:39:INFO] Determined delimiter of CSV input is ','\u001b[0m\n",
      "\u001b[35m[2020-06-28:22:33:39:INFO] Determined delimiter of CSV input is ','\u001b[0m\n",
      "\u001b[35m[2020-06-28:22:33:39:INFO] Sniff delimiter as ','\u001b[0m\n",
      "\u001b[35m[2020-06-28:22:33:39:INFO] Determined delimiter of CSV input is ','\u001b[0m\n",
      "\u001b[35m[2020-06-28:22:33:39:INFO] Sniff delimiter as ','\u001b[0m\n",
      "\u001b[35m[2020-06-28:22:33:39:INFO] Determined delimiter of CSV input is ','\u001b[0m\n",
      "\u001b[35m[2020-06-28:22:33:39:INFO] Sniff delimiter as ','\u001b[0m\n",
      "\u001b[35m[2020-06-28:22:33:39:INFO] Determined delimiter of CSV input is ','\u001b[0m\n",
      "\u001b[34m[2020-06-28:22:33:41:INFO] Sniff delimiter as ','\u001b[0m\n",
      "\u001b[34m[2020-06-28:22:33:41:INFO] Determined delimiter of CSV input is ','\u001b[0m\n",
      "\u001b[34m[2020-06-28:22:33:42:INFO] Sniff delimiter as ','\u001b[0m\n",
      "\u001b[34m[2020-06-28:22:33:42:INFO] Determined delimiter of CSV input is ','\u001b[0m\n",
      "\u001b[34m[2020-06-28:22:33:42:INFO] Sniff delimiter as ','\u001b[0m\n",
      "\u001b[34m[2020-06-28:22:33:42:INFO] Determined delimiter of CSV input is ','\u001b[0m\n",
      "\u001b[35m[2020-06-28:22:33:41:INFO] Sniff delimiter as ','\u001b[0m\n",
      "\u001b[35m[2020-06-28:22:33:41:INFO] Determined delimiter of CSV input is ','\u001b[0m\n",
      "\u001b[35m[2020-06-28:22:33:42:INFO] Sniff delimiter as ','\u001b[0m\n",
      "\u001b[35m[2020-06-28:22:33:42:INFO] Determined delimiter of CSV input is ','\u001b[0m\n",
      "\u001b[35m[2020-06-28:22:33:42:INFO] Sniff delimiter as ','\u001b[0m\n",
      "\u001b[35m[2020-06-28:22:33:42:INFO] Determined delimiter of CSV input is ','\u001b[0m\n",
      "\u001b[34m[2020-06-28:22:33:42:INFO] Sniff delimiter as ','\u001b[0m\n",
      "\u001b[34m[2020-06-28:22:33:42:INFO] Determined delimiter of CSV input is ','\u001b[0m\n",
      "\u001b[35m[2020-06-28:22:33:42:INFO] Sniff delimiter as ','\u001b[0m\n",
      "\u001b[35m[2020-06-28:22:33:42:INFO] Determined delimiter of CSV input is ','\u001b[0m\n",
      "\u001b[34m[2020-06-28:22:33:44:INFO] Sniff delimiter as ','\u001b[0m\n",
      "\u001b[34m[2020-06-28:22:33:44:INFO] Determined delimiter of CSV input is ','\u001b[0m\n",
      "\u001b[34m[2020-06-28:22:33:44:INFO] Sniff delimiter as ','\u001b[0m\n",
      "\u001b[34m[2020-06-28:22:33:44:INFO] Determined delimiter of CSV input is ','\u001b[0m\n",
      "\u001b[34m[2020-06-28:22:33:44:INFO] Sniff delimiter as ','\u001b[0m\n",
      "\u001b[34m[2020-06-28:22:33:44:INFO] Determined delimiter of CSV input is ','\u001b[0m\n",
      "\u001b[34m[2020-06-28:22:33:44:INFO] Sniff delimiter as ','\u001b[0m\n",
      "\u001b[34m[2020-06-28:22:33:44:INFO] Determined delimiter of CSV input is ','\u001b[0m\n",
      "\u001b[35m[2020-06-28:22:33:44:INFO] Sniff delimiter as ','\u001b[0m\n",
      "\u001b[35m[2020-06-28:22:33:44:INFO] Determined delimiter of CSV input is ','\u001b[0m\n",
      "\u001b[35m[2020-06-28:22:33:44:INFO] Sniff delimiter as ','\u001b[0m\n",
      "\u001b[35m[2020-06-28:22:33:44:INFO] Determined delimiter of CSV input is ','\u001b[0m\n",
      "\u001b[35m[2020-06-28:22:33:44:INFO] Sniff delimiter as ','\u001b[0m\n",
      "\u001b[35m[2020-06-28:22:33:44:INFO] Determined delimiter of CSV input is ','\u001b[0m\n",
      "\u001b[35m[2020-06-28:22:33:44:INFO] Sniff delimiter as ','\u001b[0m\n",
      "\u001b[35m[2020-06-28:22:33:44:INFO] Determined delimiter of CSV input is ','\u001b[0m\n",
      "\u001b[34m[2020-06-28:22:33:49:INFO] Sniff delimiter as ','\u001b[0m\n",
      "\u001b[34m[2020-06-28:22:33:49:INFO] Determined delimiter of CSV input is ','\u001b[0m\n",
      "\u001b[35m[2020-06-28:22:33:49:INFO] Sniff delimiter as ','\u001b[0m\n",
      "\u001b[35m[2020-06-28:22:33:49:INFO] Determined delimiter of CSV input is ','\u001b[0m\n",
      "\u001b[34m[2020-06-28:22:33:49:INFO] Sniff delimiter as ','\u001b[0m\n",
      "\u001b[34m[2020-06-28:22:33:49:INFO] Determined delimiter of CSV input is ','\u001b[0m\n",
      "\u001b[34m[2020-06-28:22:33:49:INFO] Sniff delimiter as ','\u001b[0m\n",
      "\u001b[34m[2020-06-28:22:33:49:INFO] Determined delimiter of CSV input is ','\u001b[0m\n",
      "\u001b[34m[2020-06-28:22:33:49:INFO] Sniff delimiter as ','\u001b[0m\n",
      "\u001b[34m[2020-06-28:22:33:49:INFO] Determined delimiter of CSV input is ','\u001b[0m\n",
      "\u001b[35m[2020-06-28:22:33:49:INFO] Sniff delimiter as ','\u001b[0m\n",
      "\u001b[35m[2020-06-28:22:33:49:INFO] Determined delimiter of CSV input is ','\u001b[0m\n",
      "\u001b[35m[2020-06-28:22:33:49:INFO] Sniff delimiter as ','\u001b[0m\n",
      "\u001b[35m[2020-06-28:22:33:49:INFO] Determined delimiter of CSV input is ','\u001b[0m\n",
      "\u001b[35m[2020-06-28:22:33:49:INFO] Sniff delimiter as ','\u001b[0m\n",
      "\u001b[35m[2020-06-28:22:33:49:INFO] Determined delimiter of CSV input is ','\u001b[0m\n",
      "\u001b[34m[2020-06-28:22:33:51:INFO] Sniff delimiter as ','\u001b[0m\n",
      "\u001b[34m[2020-06-28:22:33:51:INFO] Determined delimiter of CSV input is ','\u001b[0m\n",
      "\u001b[34m[2020-06-28:22:33:51:INFO] Sniff delimiter as ','\u001b[0m\n",
      "\u001b[34m[2020-06-28:22:33:51:INFO] Determined delimiter of CSV input is ','\u001b[0m\n",
      "\u001b[34m[2020-06-28:22:33:51:INFO] Sniff delimiter as ','\u001b[0m\n",
      "\u001b[34m[2020-06-28:22:33:51:INFO] Determined delimiter of CSV input is ','\u001b[0m\n",
      "\u001b[34m[2020-06-28:22:33:52:INFO] Sniff delimiter as ','\u001b[0m\n",
      "\u001b[34m[2020-06-28:22:33:52:INFO] Determined delimiter of CSV input is ','\u001b[0m\n",
      "\u001b[35m[2020-06-28:22:33:51:INFO] Sniff delimiter as ','\u001b[0m\n",
      "\u001b[35m[2020-06-28:22:33:51:INFO] Determined delimiter of CSV input is ','\u001b[0m\n",
      "\u001b[35m[2020-06-28:22:33:51:INFO] Sniff delimiter as ','\u001b[0m\n",
      "\u001b[35m[2020-06-28:22:33:51:INFO] Determined delimiter of CSV input is ','\u001b[0m\n",
      "\u001b[35m[2020-06-28:22:33:51:INFO] Sniff delimiter as ','\u001b[0m\n",
      "\u001b[35m[2020-06-28:22:33:51:INFO] Determined delimiter of CSV input is ','\u001b[0m\n",
      "\u001b[35m[2020-06-28:22:33:52:INFO] Sniff delimiter as ','\u001b[0m\n",
      "\u001b[35m[2020-06-28:22:33:52:INFO] Determined delimiter of CSV input is ','\u001b[0m\n",
      "\u001b[34m[2020-06-28:22:33:54:INFO] Sniff delimiter as ','\u001b[0m\n",
      "\u001b[34m[2020-06-28:22:33:54:INFO] Determined delimiter of CSV input is ','\u001b[0m\n",
      "\u001b[34m[2020-06-28:22:33:54:INFO] Sniff delimiter as ','\u001b[0m\n",
      "\u001b[34m[2020-06-28:22:33:54:INFO] Determined delimiter of CSV input is ','\u001b[0m\n",
      "\u001b[35m[2020-06-28:22:33:54:INFO] Sniff delimiter as ','\u001b[0m\n",
      "\u001b[35m[2020-06-28:22:33:54:INFO] Determined delimiter of CSV input is ','\u001b[0m\n",
      "\u001b[35m[2020-06-28:22:33:54:INFO] Sniff delimiter as ','\u001b[0m\n",
      "\u001b[35m[2020-06-28:22:33:54:INFO] Determined delimiter of CSV input is ','\u001b[0m\n",
      "\u001b[34m[2020-06-28:22:33:54:INFO] Sniff delimiter as ','\u001b[0m\n",
      "\u001b[34m[2020-06-28:22:33:54:INFO] Determined delimiter of CSV input is ','\u001b[0m\n",
      "\u001b[34m[2020-06-28:22:33:54:INFO] Sniff delimiter as ','\u001b[0m\n",
      "\u001b[34m[2020-06-28:22:33:54:INFO] Determined delimiter of CSV input is ','\u001b[0m\n",
      "\u001b[35m[2020-06-28:22:33:54:INFO] Sniff delimiter as ','\u001b[0m\n",
      "\u001b[35m[2020-06-28:22:33:54:INFO] Determined delimiter of CSV input is ','\u001b[0m\n",
      "\u001b[35m[2020-06-28:22:33:54:INFO] Sniff delimiter as ','\u001b[0m\n",
      "\u001b[35m[2020-06-28:22:33:54:INFO] Determined delimiter of CSV input is ','\u001b[0m\n"
     ]
    },
    {
     "name": "stdout",
     "output_type": "stream",
     "text": [
      "\u001b[34m[2020-06-28:22:33:56:INFO] Sniff delimiter as ','\u001b[0m\n",
      "\u001b[34m[2020-06-28:22:33:56:INFO] Determined delimiter of CSV input is ','\u001b[0m\n",
      "\u001b[34m[2020-06-28:22:33:56:INFO] Sniff delimiter as ','\u001b[0m\n",
      "\u001b[34m[2020-06-28:22:33:56:INFO] Determined delimiter of CSV input is ','\u001b[0m\n",
      "\u001b[35m[2020-06-28:22:33:56:INFO] Sniff delimiter as ','\u001b[0m\n",
      "\u001b[35m[2020-06-28:22:33:56:INFO] Determined delimiter of CSV input is ','\u001b[0m\n",
      "\u001b[35m[2020-06-28:22:33:56:INFO] Sniff delimiter as ','\u001b[0m\n",
      "\u001b[35m[2020-06-28:22:33:56:INFO] Determined delimiter of CSV input is ','\u001b[0m\n",
      "\u001b[34m[2020-06-28:22:33:58:INFO] Sniff delimiter as ','\u001b[0m\n",
      "\u001b[34m[2020-06-28:22:33:58:INFO] Determined delimiter of CSV input is ','\u001b[0m\n",
      "\u001b[34m[2020-06-28:22:33:59:INFO] Sniff delimiter as ','\u001b[0m\n",
      "\u001b[34m[2020-06-28:22:33:59:INFO] Determined delimiter of CSV input is ','\u001b[0m\n",
      "\u001b[34m[2020-06-28:22:33:59:INFO] Sniff delimiter as ','\u001b[0m\n",
      "\u001b[34m[2020-06-28:22:33:59:INFO] Determined delimiter of CSV input is ','\u001b[0m\n",
      "\u001b[35m[2020-06-28:22:33:58:INFO] Sniff delimiter as ','\u001b[0m\n",
      "\u001b[35m[2020-06-28:22:33:58:INFO] Determined delimiter of CSV input is ','\u001b[0m\n",
      "\u001b[35m[2020-06-28:22:33:59:INFO] Sniff delimiter as ','\u001b[0m\n",
      "\u001b[35m[2020-06-28:22:33:59:INFO] Determined delimiter of CSV input is ','\u001b[0m\n",
      "\u001b[35m[2020-06-28:22:33:59:INFO] Sniff delimiter as ','\u001b[0m\n",
      "\u001b[35m[2020-06-28:22:33:59:INFO] Determined delimiter of CSV input is ','\u001b[0m\n",
      "\u001b[34m[2020-06-28:22:33:59:INFO] Sniff delimiter as ','\u001b[0m\n",
      "\u001b[34m[2020-06-28:22:33:59:INFO] Determined delimiter of CSV input is ','\u001b[0m\n",
      "\u001b[35m[2020-06-28:22:33:59:INFO] Sniff delimiter as ','\u001b[0m\n",
      "\u001b[35m[2020-06-28:22:33:59:INFO] Determined delimiter of CSV input is ','\u001b[0m\n",
      "\n"
     ]
    }
   ],
   "source": [
    "xgb_transformer.wait()"
   ]
  },
  {
   "cell_type": "markdown",
   "metadata": {},
   "source": [
    "Now the transform job has executed and the result, the estimated sentiment of each review, has been saved on S3. Since we would rather work on this file locally we can perform a bit of notebook magic to copy the file to the `data_dir`."
   ]
  },
  {
   "cell_type": "code",
   "execution_count": 27,
   "metadata": {},
   "outputs": [
    {
     "name": "stdout",
     "output_type": "stream",
     "text": [
      "Completed 256.0 KiB/370.2 KiB (3.7 MiB/s) with 1 file(s) remaining\r",
      "Completed 370.2 KiB/370.2 KiB (5.2 MiB/s) with 1 file(s) remaining\r",
      "download: s3://sagemaker-us-east-2-959447790566/xgboost-2020-06-28-22-29-57-673/test.csv.out to ../data/sentiment_web_app/test.csv.out\r\n"
     ]
    }
   ],
   "source": [
    "!aws s3 cp --recursive $xgb_transformer.output_path $data_dir"
   ]
  },
  {
   "cell_type": "markdown",
   "metadata": {},
   "source": [
    "The last step is now to read in the output from our model, convert the output to something a little more usable, in this case we want the sentiment to be either `1` (positive) or `0` (negative), and then compare to the ground truth labels."
   ]
  },
  {
   "cell_type": "code",
   "execution_count": 28,
   "metadata": {},
   "outputs": [],
   "source": [
    "predictions = pd.read_csv(os.path.join(data_dir, 'test.csv.out'), header=None)\n",
    "predictions = [round(num) for num in predictions.squeeze().values]"
   ]
  },
  {
   "cell_type": "code",
   "execution_count": 29,
   "metadata": {},
   "outputs": [
    {
     "data": {
      "text/plain": [
       "0.86108"
      ]
     },
     "execution_count": 29,
     "metadata": {},
     "output_type": "execute_result"
    }
   ],
   "source": [
    "from sklearn.metrics import accuracy_score\n",
    "accuracy_score(test_y, predictions)"
   ]
  },
  {
   "cell_type": "markdown",
   "metadata": {},
   "source": [
    "## Step 6: Deploying the model\n",
    "\n",
    "Once we construct and fit our model, SageMaker stores the resulting model artifacts and we can use those to deploy an endpoint (inference code). To see this, look in the SageMaker console and you should see that a model has been created along with a link to the S3 location where the model artifacts have been stored.\n",
    "\n",
    "Deploying an endpoint is a lot like training the model with a few important differences. The first is that a deployed model doesn't change the model artifacts, so as you send it various testing instances the model won't change. Another difference is that since we aren't performing a fixed computation, as we were in the training step or while performing a batch transform, the compute instance that gets started stays running until we tell it to stop. This is important to note as if we forget and leave it running we will be charged the entire time.\n",
    "\n",
    "In other words **If you are no longer using a deployed endpoint, shut it down!**"
   ]
  },
  {
   "cell_type": "code",
   "execution_count": 32,
   "metadata": {},
   "outputs": [
    {
     "name": "stderr",
     "output_type": "stream",
     "text": [
      "WARNING:sagemaker:Parameter image will be renamed to image_uri in SageMaker Python SDK v2.\n",
      "WARNING:sagemaker:Using already existing model: xgboost-2020-06-28-22-21-11-987\n"
     ]
    },
    {
     "name": "stdout",
     "output_type": "stream",
     "text": [
      "-------------!"
     ]
    }
   ],
   "source": [
    "xgb_predictor = xgb.deploy(initial_instance_count = 1, instance_type = 'ml.m4.xlarge')"
   ]
  },
  {
   "cell_type": "markdown",
   "metadata": {},
   "source": [
    "### Testing the model (again)\n",
    "\n",
    "Now that we have deployed our endpoint, we can send the testing data to it and get back the inference results. We already did this earlier using the batch transform functionality of SageMaker, however, we will test our model again using the newly deployed endpoint so that we can make sure that it works properly and to get a bit of a feel for how the endpoint works.\n",
    "\n",
    "When using the created endpoint it is important to know that we are limited in the amount of information we can send in each call so we need to break the testing data up into chunks and then send each chunk. Also, we need to serialize our data before we send it to the endpoint to ensure that our data is transmitted properly. Fortunately, SageMaker can do the serialization part for us provided we tell it the format of our data."
   ]
  },
  {
   "cell_type": "code",
   "execution_count": 33,
   "metadata": {},
   "outputs": [],
   "source": [
    "from sagemaker.predictor import csv_serializer\n",
    "\n",
    "# We need to tell the endpoint what format the data we are sending is in so that SageMaker can perform the serialization.\n",
    "xgb_predictor.content_type = 'text/csv'\n",
    "xgb_predictor.serializer = csv_serializer"
   ]
  },
  {
   "cell_type": "code",
   "execution_count": 34,
   "metadata": {},
   "outputs": [],
   "source": [
    "# We split the data into chunks and send each chunk seperately, accumulating the results.\n",
    "\n",
    "def predict(data, rows=512):\n",
    "    split_array = np.array_split(data, int(data.shape[0] / float(rows) + 1))\n",
    "    predictions = ''\n",
    "    for array in split_array:\n",
    "        predictions = ','.join([predictions, xgb_predictor.predict(array).decode('utf-8')])\n",
    "    \n",
    "    return np.fromstring(predictions[1:], sep=',')"
   ]
  },
  {
   "cell_type": "code",
   "execution_count": 35,
   "metadata": {},
   "outputs": [],
   "source": [
    "test_X = pd.read_csv(os.path.join(data_dir, 'test.csv'), header=None).values\n",
    "\n",
    "predictions = predict(test_X)\n",
    "predictions = [round(num) for num in predictions]"
   ]
  },
  {
   "cell_type": "markdown",
   "metadata": {},
   "source": [
    "Lastly, we check to see what the accuracy of our model is."
   ]
  },
  {
   "cell_type": "code",
   "execution_count": 36,
   "metadata": {},
   "outputs": [
    {
     "data": {
      "text/plain": [
       "0.86108"
      ]
     },
     "execution_count": 36,
     "metadata": {},
     "output_type": "execute_result"
    }
   ],
   "source": [
    "from sklearn.metrics import accuracy_score\n",
    "accuracy_score(test_y, predictions)"
   ]
  },
  {
   "cell_type": "markdown",
   "metadata": {},
   "source": [
    "And the results here should agree with the model testing that we did earlier using the batch transform job.\n",
    "\n",
    "### Cleaning up\n",
    "\n",
    "Now that we've determined that deploying our model works as expected, we are going to shut it down. Remember that the longer the endpoint is left running, the greater the cost and since we have a bit more work to do before we are able to use our endpoint with our simple web app, we should shut everything down."
   ]
  },
  {
   "cell_type": "code",
   "execution_count": 37,
   "metadata": {},
   "outputs": [],
   "source": [
    "xgb_predictor.delete_endpoint()"
   ]
  },
  {
   "cell_type": "markdown",
   "metadata": {},
   "source": [
    "## Step 7: Putting our model to work\n",
    "\n",
    "As we've mentioned a few times now, our goal is to have our model deployed and then access it using a very simple web app. The intent is for this web app to take some user submitted data (a review), send it off to our endpoint (the model) and then display the result.\n",
    "\n",
    "However, there is a small catch. Currently the only way we can access the endpoint to send it data is using the SageMaker API. We can, if we wish, expose the actual URL that our model's endpoint is receiving data from, however, if we just send it data ourselves we will not get anything in return. This is because the endpoint created by SageMaker requires the entity accessing it have the correct permissions. So, we would need to somehow authenticate our web app with AWS.\n",
    "\n",
    "Having a website that authenticates to AWS seems a bit beyond the scope of this lesson so we will opt for an alternative approach. Namely, we will create a new endpoint which does not require authentication and which acts as a proxy for the SageMaker endpoint.\n",
    "\n",
    "As an additional constraint, we will try to avoid doing any data processing in the web app itself. Remember that when we constructed and tested our model we started with a movie review, then we simplified it by removing any html formatting and punctuation, then we constructed a bag of words embedding and the resulting vector is what we sent to our model. All of this needs to be done to our user input as well.\n",
    "\n",
    "Fortunately we can do all of this data processing in the backend, using Amazon's Lambda service.\n",
    "\n",
    "<img src=\"Web App Diagram.svg\">\n",
    "\n",
    "The diagram above gives an overview of how the various services will work together. On the far right is the model which we trained above and which will be deployed using SageMaker. On the far left is our web app that collects a user's movie review, sends it off and expects a positive or negative sentiment in return.\n",
    "\n",
    "In the middle is where some of the magic happens. We will construct a Lambda function, which you can think of as a straightforward Python function that can be executed whenever a specified event occurs. This Python function will do the data processing we need to perform on a user submitted review. In addition, we will give this function permission to send and recieve data from a SageMaker endpoint.\n",
    "\n",
    "Lastly, the method we will use to execute the Lambda function is a new endpoint that we will create using API Gateway. This endpoint will be a url that listens for data to be sent to it. Once it gets some data it will pass that data on to the Lambda function and then return whatever the Lambda function returns. Essentially it will act as an interface that lets our web app communicate with the Lambda function.\n",
    "\n",
    "In short, the following will occur:\n",
    "\n",
    "1. To begin with, a user will type out a review and enter it into our web app.\n",
    "\n",
    "2. Then, our web app will send that review to an endpoint that we created using API Gateway. This endpoint will be constructed so that anyone (including our web app) can use it.\n",
    "\n",
    "3. API Gateway will forward the data on to the Lambda function\n",
    "\n",
    "4. Once the Lambda function receives the user's review, it will process that review by tokenizing it and then creating a bag of words encoding of the result. After that, it will send the processed review off to our deployed model.\n",
    "\n",
    "5. Once the deployed model performs inference on the processed review, the resulting sentiment will be returned back to the Lambda function.\n",
    "\n",
    "6. Our Lambda function will then return the sentiment result back to our web app using the endpoint that was constructed using API Gateway.\n",
    "\n",
    "### Processing a single review\n",
    "\n",
    "For now, suppose we are given a movie review by our user in the form of a string, like so:"
   ]
  },
  {
   "cell_type": "code",
   "execution_count": 38,
   "metadata": {},
   "outputs": [],
   "source": [
    "test_review = \"Nothing but a disgusting materialistic pageant of glistening abed remote control greed zombies, totally devoid of any heart or heat. A romantic comedy that has zero romantic chemestry and zero laughs!\""
   ]
  },
  {
   "cell_type": "markdown",
   "metadata": {},
   "source": [
    "How do we go from this string to the bag of words feature vector that is expected by our model?\n",
    "\n",
    "If we recall at the beginning of this notebook, the first step is to remove any unnecessary characters using the `review_to_words` method. Remember that we intentionally did this in a very simplistic way. This is because we are going to have to copy this method to our (eventual) Lambda function (we will go into more detail later) and this means it needs to be rather simplistic."
   ]
  },
  {
   "cell_type": "code",
   "execution_count": 39,
   "metadata": {},
   "outputs": [
    {
     "name": "stdout",
     "output_type": "stream",
     "text": [
      "nothing but a disgusting materialistic pageant of glistening abed remote control greed zombies totally devoid of any heart or heat a romantic comedy that has zero romantic chemestry and zero laughs\n"
     ]
    }
   ],
   "source": [
    "test_words = review_to_words(test_review)\n",
    "print(test_words)"
   ]
  },
  {
   "cell_type": "markdown",
   "metadata": {},
   "source": [
    "Next, we need to construct a bag of words embedding of the `test_words` string. To do this, remember that a bag of words embedding uses a `vocabulary` consisting of the most frequently appearing words in a set of documents. Then, for each word in the vocabulary we record the number of times that word appears in `test_words`. We constructed the `vocabulary` earlier using the training set for our problem so encoding `test_words` is relatively straightforward."
   ]
  },
  {
   "cell_type": "code",
   "execution_count": 40,
   "metadata": {},
   "outputs": [],
   "source": [
    "def bow_encoding(words, vocabulary):\n",
    "    bow = [0] * len(vocabulary) # Start by setting the count for each word in the vocabulary to zero.\n",
    "    for word in words.split():  # For each word in the string\n",
    "        if word in vocabulary:  # If the word is one that occurs in the vocabulary, increase its count.\n",
    "            bow[vocabulary[word]] += 1\n",
    "    return bow"
   ]
  },
  {
   "cell_type": "code",
   "execution_count": 41,
   "metadata": {},
   "outputs": [
    {
     "name": "stdout",
     "output_type": "stream",
     "text": [
      "[0, 0, 0, 0, 0, 0, 0, 0, 0, 0, 0, 0, 0, 0, 0, 0, 0, 0, 0, 0, 0, 0, 0, 0, 0, 0, 0, 0, 0, 0, 0, 0, 0, 0, 0, 0, 0, 0, 0, 0, 0, 0, 0, 0, 0, 0, 0, 0, 0, 0, 0, 0, 0, 0, 0, 0, 0, 0, 0, 0, 0, 0, 0, 0, 0, 0, 0, 0, 0, 0, 0, 0, 0, 0, 0, 0, 0, 0, 0, 0, 0, 0, 0, 0, 0, 0, 0, 0, 0, 0, 0, 0, 0, 0, 0, 0, 0, 0, 0, 0, 0, 0, 0, 0, 0, 0, 0, 0, 0, 0, 0, 0, 0, 0, 0, 0, 0, 0, 0, 0, 0, 0, 0, 0, 0, 0, 0, 0, 0, 0, 0, 0, 0, 0, 0, 0, 0, 0, 0, 0, 0, 0, 0, 0, 0, 0, 0, 0, 0, 0, 0, 0, 0, 0, 0, 0, 0, 0, 0, 0, 0, 0, 0, 0, 0, 0, 0, 0, 0, 0, 0, 0, 0, 0, 0, 0, 0, 0, 0, 0, 0, 0, 0, 0, 0, 0, 0, 0, 0, 0, 0, 0, 0, 0, 0, 0, 0, 0, 0, 0, 0, 0, 0, 0, 0, 0, 0, 0, 0, 0, 0, 0, 0, 0, 0, 0, 0, 0, 0, 0, 0, 0, 0, 0, 0, 0, 1, 0, 0, 0, 0, 0, 0, 0, 0, 0, 0, 0, 0, 0, 0, 0, 0, 0, 0, 0, 0, 0, 0, 0, 0, 0, 0, 0, 0, 0, 1, 0, 0, 0, 0, 0, 0, 0, 0, 0, 0, 0, 0, 0, 0, 0, 0, 0, 0, 0, 0, 0, 0, 0, 0, 0, 0, 0, 0, 0, 0, 0, 0, 0, 0, 0, 0, 0, 0, 0, 0, 0, 0, 0, 0, 0, 0, 0, 0, 0, 0, 0, 0, 0, 0, 0, 0, 0, 0, 0, 0, 0, 0, 0, 0, 0, 0, 0, 0, 0, 0, 0, 0, 0, 0, 0, 0, 0, 0, 0, 0, 0, 0, 0, 0, 0, 0, 0, 0, 0, 0, 0, 0, 0, 0, 0, 0, 0, 0, 0, 0, 0, 0, 0, 0, 0, 0, 0, 0, 0, 0, 0, 0, 0, 0, 0, 0, 0, 0, 0, 0, 0, 0, 0, 0, 0, 0, 0, 0, 0, 0, 0, 0, 0, 0, 0, 0, 0, 0, 0, 0, 0, 0, 0, 0, 0, 0, 0, 0, 0, 0, 0, 0, 0, 0, 0, 0, 0, 0, 0, 0, 0, 0, 0, 0, 0, 0, 0, 0, 0, 0, 0, 0, 0, 0, 0, 0, 0, 0, 0, 0, 0, 0, 0, 0, 0, 0, 0, 0, 0, 0, 0, 0, 0, 0, 0, 0, 0, 0, 0, 0, 0, 0, 0, 0, 0, 0, 0, 0, 0, 0, 0, 0, 0, 0, 0, 0, 0, 0, 0, 0, 0, 0, 0, 0, 0, 0, 0, 0, 0, 0, 0, 0, 0, 0, 0, 0, 0, 0, 0, 0, 0, 0, 0, 0, 0, 0, 0, 0, 0, 0, 0, 0, 0, 0, 0, 0, 0, 0, 0, 0, 0, 0, 0, 0, 0, 0, 0, 0, 0, 0, 0, 0, 0, 0, 0, 0, 0, 0, 0, 0, 0, 0, 0, 0, 0, 0, 0, 0, 0, 0, 0, 0, 0, 0, 0, 0, 0, 0, 0, 0, 0, 0, 0, 0, 0, 0, 0, 0, 0, 0, 0, 0, 0, 0, 0, 0, 0, 0, 0, 0, 0, 0, 0, 0, 0, 0, 0, 0, 0, 0, 0, 0, 0, 0, 0, 0, 0, 0, 0, 0, 0, 0, 0, 0, 0, 0, 0, 0, 0, 0, 0, 0, 0, 0, 0, 0, 0, 0, 0, 0, 0, 0, 0, 0, 0, 0, 0, 0, 0, 0, 0, 0, 0, 0, 0, 0, 0, 0, 0, 1, 0, 0, 0, 0, 0, 0, 0, 0, 0, 0, 0, 0, 0, 0, 0, 0, 0, 0, 0, 0, 0, 0, 0, 0, 0, 0, 0, 0, 0, 0, 0, 0, 0, 0, 0, 0, 0, 0, 0, 0, 0, 0, 0, 0, 0, 0, 0, 0, 0, 0, 0, 0, 0, 0, 0, 0, 0, 0, 0, 0, 0, 0, 0, 0, 0, 0, 0, 0, 0, 0, 0, 0, 0, 0, 0, 0, 0, 0, 0, 0, 0, 0, 0, 0, 0, 0, 0, 0, 0, 0, 0, 0, 0, 0, 0, 0, 0, 0, 0, 0, 0, 0, 0, 0, 0, 0, 0, 0, 0, 0, 0, 0, 0, 0, 0, 0, 0, 0, 0, 0, 0, 0, 0, 0, 0, 0, 0, 0, 0, 0, 0, 0, 0, 0, 0, 0, 0, 0, 0, 0, 0, 0, 0, 0, 0, 0, 0, 0, 0, 0, 0, 0, 0, 0, 0, 0, 0, 0, 0, 0, 0, 0, 0, 0, 0, 0, 0, 0, 0, 0, 0, 0, 0, 0, 0, 0, 0, 0, 0, 0, 0, 0, 0, 0, 0, 0, 0, 0, 0, 0, 0, 0, 0, 0, 0, 0, 0, 0, 0, 0, 0, 0, 0, 0, 0, 0, 0, 0, 0, 0, 0, 0, 0, 0, 0, 0, 0, 0, 0, 0, 0, 0, 0, 0, 0, 0, 0, 0, 0, 0, 0, 0, 0, 0, 0, 0, 0, 0, 0, 0, 0, 0, 0, 0, 0, 0, 0, 0, 0, 0, 0, 0, 0, 1, 0, 0, 0, 0, 0, 0, 0, 0, 0, 0, 0, 0, 0, 0, 0, 0, 0, 0, 0, 0, 0, 0, 0, 0, 0, 0, 0, 0, 0, 0, 0, 0, 0, 0, 0, 0, 0, 0, 0, 0, 0, 0, 0, 0, 0, 0, 0, 0, 0, 0, 0, 0, 0, 0, 0, 0, 0, 0, 0, 0, 0, 0, 0, 0, 0, 0, 0, 0, 0, 0, 0, 0, 0, 0, 0, 0, 0, 0, 0, 0, 0, 0, 0, 0, 0, 0, 1, 0, 0, 0, 0, 0, 0, 0, 0, 0, 0, 0, 0, 0, 0, 0, 0, 0, 0, 0, 0, 0, 0, 0, 0, 0, 0, 0, 0, 0, 0, 0, 0, 0, 0, 0, 0, 0, 0, 0, 0, 0, 0, 0, 0, 0, 0, 0, 0, 0, 0, 0, 0, 0, 0, 0, 0, 0, 0, 0, 0, 0, 0, 0, 0, 0, 0, 0, 0, 0, 0, 0, 0, 0, 0, 0, 0, 0, 0, 0, 0, 0, 0, 0, 0, 0, 0, 0, 0, 0, 0, 0, 0, 0, 0, 0, 0, 0, 0, 0, 0, 0, 0, 0, 0, 0, 0, 0, 0, 0, 0, 0, 0, 0, 0, 0, 0, 0, 0, 0, 0, 0, 0, 0, 0, 0, 0, 0, 0, 0, 0, 0, 0, 0, 0, 0, 0, 0, 0, 0, 0, 0, 0, 0, 0, 0, 0, 0, 0, 0, 0, 0, 0, 0, 0, 0, 0, 0, 0, 0, 0, 0, 0, 0, 0, 0, 0, 0, 0, 0, 0, 0, 0, 0, 0, 0, 0, 0, 0, 0, 0, 0, 0, 0, 0, 0, 0, 0, 0, 0, 0, 0, 0, 0, 0, 0, 0, 0, 0, 0, 0, 0, 0, 0, 0, 0, 0, 0, 0, 0, 0, 0, 0, 0, 0, 0, 0, 0, 0, 0, 0, 0, 0, 0, 0, 0, 0, 0, 0, 0, 0, 0, 0, 0, 0, 0, 0, 0, 0, 0, 0, 0, 0, 0, 0, 0, 0, 0, 0, 0, 0, 0, 0, 1, 0, 0, 0, 0, 0, 0, 0, 0, 0, 0, 0, 0, 0, 0, 0, 0, 0, 0, 0, 0, 0, 0, 0, 0, 0, 0, 0, 0, 0, 0, 0, 0, 0, 0, 0, 0, 0, 0, 0, 0, 0, 0, 0, 0, 0, 0, 0, 0, 0, 0, 0, 0, 0, 0, 0, 1, 0, 0, 0, 0, 0, 0, 0, 0, 0, 0, 0, 0, 0, 0, 0, 0, 0, 0, 0, 0, 0, 0, 0, 0, 0, 0, 0, 0, 0, 0, 0, 0, 0, 0, 0, 0, 0, 0, 0, 0, 0, 0, 0, 0, 0, 0, 0, 0, 0, 0, 0, 0, 0, 0, 0, 0, 0, 0, 0, 0, 0, 0, 0, 0, 0, 0, 0, 0, 0, 0, 0, 0, 0, 0, 0, 0, 0, 0, 0, 0, 0, 0, 0, 0, 0, 0, 0, 0, 0, 0, 0, 0, 0, 0, 0, 0, 0, 0, 0, 0, 0, 0, 0, 0, 0, 0, 0, 0, 0, 0, 0, 0, 0, 0, 0, 0, 0, 0, 0, 0, 0, 0, 0, 0, 0, 0, 0, 0, 0, 0, 0, 0, 0, 0, 0, 0, 0, 0, 0, 0, 0, 0, 0, 0, 0, 0, 0, 0, 0, 0, 0, 0, 0, 0, 0, 0, 0, 0, 0, 0, 0, 0, 0, 0, 0, 0, 0, 0, 0, 0, 0, 0, 0, 0, 0, 0, 0, 0, 0, 0, 0, 0, 0, 0, 0, 0, 0, 0, 0, 0, 0, 0, 0, 0, 0, 0, 0, 0, 0, 0, 0, 0, 0, 0, 0, 0, 0, 0, 0, 0, 0, 0, 0, 0, 0, 0, 0, 0, 0, 0, 0, 0, 0, 0, 0, 0, 0, 0, 0, 0, 0, 0, 0, 0, 0, 0, 0, 0, 0, 0, 0, 0, 0, 0, 0, 0, 0, 0, 0, 0, 0, 0, 0, 0, 0, 0, 0, 0, 0, 0, 0, 0, 0, 0, 0, 0, 0, 0, 0, 0, 0, 0, 0, 0, 0, 0, 0, 0, 0, 0, 0, 0, 0, 0, 0, 0, 0, 0, 0, 0, 0, 0, 0, 0, 0, 0, 0, 0, 0, 0, 0, 0, 0, 0, 0, 0, 0, 0, 0, 0, 0, 0, 0, 0, 0, 0, 0, 0, 0, 0, 0, 0, 0, 0, 0, 0, 0, 0, 0, 0, 0, 0, 0, 0, 0, 0, 0, 0, 0, 0, 0, 0, 0, 0, 0, 0, 0, 0, 0, 0, 0, 0, 0, 0, 0, 0, 0, 0, 0, 0, 0, 0, 0, 0, 0, 0, 0, 0, 0, 0, 0, 0, 0, 0, 0, 0, 0, 0, 0, 0, 0, 0, 0, 0, 0, 0, 0, 0, 0, 0, 0, 0, 0, 0, 0, 0, 0, 0, 0, 0, 0, 0, 0, 0, 0, 0, 0, 0, 0, 0, 0, 0, 0, 0, 0, 0, 0, 0, 0, 0, 0, 0, 0, 0, 0, 0, 0, 0, 0, 0, 0, 0, 0, 0, 0, 0, 0, 0, 0, 0, 0, 0, 0, 0, 0, 0, 0, 0, 0, 0, 0, 0, 0, 0, 0, 0, 0, 0, 0, 0, 0, 0, 0, 0, 0, 0, 0, 0, 0, 0, 0, 0, 0, 0, 0, 0, 0, 0, 0, 0, 0, 0, 0, 0, 0, 0, 0, 0, 0, 0, 0, 0, 0, 0, 0, 0, 0, 0, 0, 0, 0, 0, 0, 0, 0, 0, 0, 0, 0, 0, 0, 0, 0, 0, 0, 0, 0, 0, 0, 0, 0, 0, 0, 0, 0, 0, 0, 0, 0, 0, 0, 0, 0, 0, 0, 0, 0, 0, 0, 0, 0, 0, 0, 0, 0, 0, 0, 0, 0, 0, 0, 0, 0, 0, 0, 0, 0, 0, 0, 0, 0, 0, 0, 0, 0, 0, 0, 0, 0, 0, 0, 0, 0, 0, 0, 0, 0, 0, 0, 0, 0, 0, 0, 0, 0, 0, 0, 0, 0, 0, 0, 0, 0, 0, 0, 0, 0, 0, 0, 0, 0, 0, 0, 0, 0, 0, 0, 0, 0, 0, 0, 0, 0, 0, 0, 0, 0, 0, 0, 0, 0, 0, 0, 0, 0, 0, 0, 0, 0, 0, 0, 0, 0, 0, 0, 0, 0, 0, 0, 0, 0, 0, 0, 0, 0, 0, 0, 0, 0, 0, 0, 0, 0, 0, 0, 0, 0, 0, 0, 0, 0, 0, 0, 0, 0, 0, 0, 0, 0, 0, 0, 0, 0, 0, 0, 0, 0, 0, 0, 0, 0, 1, 0, 0, 0, 0, 0, 0, 0, 0, 0, 0, 0, 0, 0, 0, 0, 0, 0, 0, 0, 0, 0, 0, 0, 0, 0, 0, 0, 0, 0, 0, 0, 0, 0, 0, 0, 0, 0, 0, 0, 0, 0, 0, 0, 0, 0, 0, 0, 0, 0, 0, 0, 0, 0, 0, 0, 0, 0, 0, 0, 0, 0, 0, 0, 0, 0, 0, 0, 0, 0, 0, 0, 0, 0, 0, 1, 0, 0, 0, 0, 0, 0, 0, 0, 0, 0, 0, 0, 0, 0, 0, 0, 0, 0, 0, 0, 1, 0, 0, 1, 0, 0, 0, 0, 0, 0, 0, 0, 0, 0, 0, 0, 0, 0, 0, 0, 0, 0, 0, 0, 0, 0, 0, 0, 0, 0, 0, 0, 0, 0, 0, 0, 0, 0, 0, 0, 0, 0, 0, 0, 0, 0, 0, 0, 0, 0, 0, 0, 0, 0, 0, 0, 0, 0, 0, 0, 0, 0, 0, 0, 0, 0, 0, 0, 0, 0, 0, 0, 0, 0, 0, 0, 0, 0, 0, 0, 0, 0, 0, 0, 0, 0, 0, 0, 0, 0, 0, 0, 0, 0, 0, 0, 0, 0, 0, 0, 0, 0, 0, 0, 0, 0, 0, 0, 0, 0, 0, 0, 0, 0, 0, 0, 0, 0, 0, 0, 0, 0, 0, 0, 0, 0, 0, 0, 0, 0, 0, 0, 0, 0, 0, 0, 0, 0, 0, 0, 0, 0, 0, 0, 0, 0, 0, 0, 0, 0, 0, 0, 0, 0, 0, 0, 0, 0, 0, 0, 0, 0, 0, 0, 0, 0, 0, 0, 0, 0, 0, 0, 0, 0, 0, 0, 0, 0, 0, 0, 0, 0, 0, 0, 0, 0, 0, 0, 0, 0, 0, 0, 0, 0, 0, 0, 0, 0, 0, 0, 0, 0, 0, 0, 0, 0, 0, 0, 0, 0, 0, 0, 0, 0, 0, 0, 0, 0, 0, 0, 0, 0, 0, 0, 0, 0, 0, 0, 0, 0, 0, 0, 0, 0, 0, 0, 0, 0, 0, 0, 0, 0, 0, 0, 0, 0, 0, 0, 0, 0, 0, 0, 0, 0, 0, 0, 0, 0, 0, 0, 0, 0, 0, 0, 0, 0, 0, 0, 0, 0, 0, 0, 0, 0, 0, 0, 0, 0, 0, 0, 0, 0, 0, 0, 0, 0, 0, 0, 0, 0, 0, 0, 0, 0, 0, 0, 0, 0, 0, 0, 0, 0, 0, 0, 0, 0, 0, 0, 0, 0, 0, 0, 0, 0, 0, 0, 0, 0, 0, 0, 0, 0, 0, 0, 0, 0, 0, 0, 0, 0, 0, 0, 0, 0, 0, 0, 0, 0, 0, 0, 0, 0, 0, 0, 0, 0, 0, 0, 0, 0, 0, 0, 0, 0, 0, 0, 0, 0, 0, 0, 0, 0, 0, 0, 0, 0, 0, 0, 0, 0, 0, 0, 0, 0, 0, 0, 0, 0, 0, 0, 0, 0, 0, 0, 0, 0, 0, 0, 0, 0, 0, 0, 0, 0, 0, 0, 0, 0, 0, 0, 0, 0, 0, 0, 0, 0, 0, 0, 0, 0, 0, 0, 0, 0, 0, 0, 0, 0, 0, 0, 0, 0, 0, 0, 0, 0, 0, 0, 0, 0, 0, 0, 0, 0, 0, 0, 0, 0, 0, 0, 0, 0, 0, 0, 0, 0, 0, 0, 0, 0, 0, 0, 0, 0, 0, 0, 0, 0, 0, 0, 0, 0, 0, 0, 0, 0, 0, 0, 0, 0, 1, 0, 0, 0, 0, 0, 0, 0, 0, 0, 0, 0, 0, 0, 0, 0, 0, 0, 0, 0, 0, 0, 0, 0, 0, 0, 0, 0, 0, 0, 0, 0, 0, 0, 0, 0, 0, 0, 0, 0, 0, 0, 0, 0, 0, 0, 0, 0, 0, 0, 0, 0, 0, 0, 0, 0, 0, 0, 0, 0, 0, 0, 0, 0, 0, 0, 0, 0, 0, 0, 0, 0, 0, 0, 0, 0, 0, 0, 0, 0, 0, 0, 0, 0, 0, 0, 0, 0, 0, 0, 0, 0, 0, 0, 0, 0, 0, 0, 0, 0, 0, 0, 0, 0, 0, 0, 0, 0, 0, 0, 0, 0, 0, 0, 0, 0, 0, 0, 0, 0, 0, 0, 0, 0, 0, 0, 0, 0, 0, 0, 0, 0, 0, 0, 0, 0, 0, 0, 0, 0, 0, 0, 0, 0, 0, 0, 0, 0, 0, 0, 0, 0, 0, 0, 0, 0, 0, 0, 0, 0, 0, 0, 0, 0, 0, 0, 0, 0, 0, 0, 0, 0, 0, 0, 0, 0, 0, 0, 0, 0, 0, 0, 0, 0, 0, 0, 0, 0, 0, 0, 0, 0, 0, 0, 0, 0, 0, 0, 0, 0, 0, 0, 0, 0, 0, 0, 0, 0, 0, 0, 0, 0, 0, 0, 0, 0, 0, 0, 0, 0, 0, 0, 0, 0, 0, 0, 0, 0, 0, 0, 0, 0, 0, 0, 0, 0, 0, 0, 0, 0, 0, 0, 0, 0, 0, 0, 0, 0, 0, 0, 0, 0, 0, 0, 0, 0, 0, 0, 0, 0, 0, 0, 0, 0, 0, 0, 0, 0, 0, 0, 0, 0, 0, 0, 0, 0, 0, 0, 0, 0, 0, 0, 0, 0, 0, 0, 0, 0, 0, 0, 0, 0, 0, 0, 0, 0, 0, 0, 0, 0, 0, 0, 0, 0, 0, 0, 0, 0, 0, 0, 0, 0, 0, 0, 0, 0, 0, 0, 0, 0, 0, 0, 0, 0, 0, 0, 0, 0, 0, 0, 0, 0, 0, 0, 0, 0, 0, 0, 0, 0, 0, 0, 0, 0, 0, 0, 0, 0, 0, 0, 0, 0, 0, 0, 0, 0, 0, 0, 0, 0, 0, 0, 0, 0, 0, 0, 0, 0, 0, 0, 0, 0, 0, 0, 0, 0, 0, 0, 0, 0, 0, 0, 0, 0, 0, 0, 0, 0, 0, 0, 0, 0, 0, 0, 0, 0, 0, 0, 0, 0, 0, 0, 0, 0, 0, 0, 0, 0, 0, 0, 0, 0, 0, 0, 0, 0, 0, 0, 0, 0, 0, 0, 0, 0, 0, 0, 0, 0, 0, 0, 0, 0, 0, 0, 0, 0, 0, 0, 0, 0, 0, 0, 0, 0, 0, 0, 0, 0, 0, 0, 0, 0, 0, 0, 0, 0, 0, 0, 0, 0, 0, 0, 0, 0, 0, 0, 0, 0, 0, 0, 0, 0, 0, 0, 0, 0, 0, 0, 0, 0, 0, 0, 0, 0, 0, 0, 0, 0, 0, 0, 0, 0, 0, 0, 0, 0, 0, 0, 0, 0, 0, 0, 0, 0, 0, 0, 0, 0, 0, 0, 0, 0, 0, 1, 0, 0, 0, 0, 0, 0, 0, 0, 0, 0, 0, 0, 0, 0, 0, 0, 0, 0, 0, 0, 0, 0, 0, 0, 0, 0, 0, 0, 0, 0, 0, 0, 0, 0, 0, 2, 0, 0, 0, 0, 0, 0, 0, 0, 0, 0, 0, 0, 0, 0, 0, 0, 0, 0, 0, 0, 0, 0, 0, 0, 0, 0, 0, 0, 0, 0, 0, 0, 0, 0, 0, 0, 0, 0, 0, 0, 1, 0, 0, 0, 0, 0, 0, 0, 0, 0, 0, 0, 0, 0, 0, 0, 0, 0, 0, 0, 0, 0, 0, 0, 0, 0, 0, 0, 0, 0, 0, 0, 0, 0, 0, 0, 0, 0, 0, 0, 0, 0, 0, 0, 0, 0, 0, 0, 0, 0, 0, 0, 0, 0, 0, 0, 0, 0, 0, 0, 0, 0, 0, 0, 0, 0, 0, 0, 0, 0, 0, 0, 0, 0, 0, 0, 0, 0, 0, 0, 0, 0, 0, 0, 0, 0, 0, 0, 0, 0, 0, 0, 0, 0, 0, 0, 0, 0, 0, 0, 0, 0, 0, 0, 0, 0, 0, 0, 0, 0, 0, 0, 0, 0, 0, 0, 0, 0, 0, 0, 0, 0, 0, 0, 0, 0, 0, 0, 0, 0, 0, 0, 0, 0, 0, 0, 0, 0, 0, 0, 0, 0, 0, 0, 0, 0, 0, 0, 0, 0, 0, 0, 0, 0, 0, 0, 0, 0, 0, 0, 0, 0, 0, 0, 0, 0, 0, 0, 0, 0, 0, 0, 0, 0, 0, 0, 0, 0, 0, 0, 0, 0, 0, 0, 0, 0, 0, 0, 0, 0, 0, 0, 0, 0, 0, 0, 0, 0, 0, 0, 0, 0, 0, 0, 0, 0, 0, 0, 0, 0, 0, 0, 0, 0, 0, 0, 0, 0, 0, 0, 0, 0, 0, 0, 0, 0, 0, 0, 0, 0, 0, 0, 0, 0, 0, 0, 0, 0, 0, 0, 0, 0, 0, 0, 0, 0, 0, 0, 0, 0, 0, 0, 0, 0, 0, 0, 0, 0, 0, 0, 0, 0, 0, 0, 0, 0, 0, 0, 0, 0, 0, 0, 0, 0, 0, 0, 0, 0, 0, 0, 0, 0, 0, 0, 0, 0, 0, 0, 0, 0, 0, 0, 0, 0, 0, 0, 0, 0, 0, 0, 0, 0, 0, 0, 0, 0, 0, 0, 0, 0, 0, 0, 0, 0, 0, 0, 0, 0, 0, 0, 0, 0, 0, 0, 0, 0, 0, 0, 0, 0, 0, 0, 0, 0, 0, 0, 0, 0, 0, 0, 0, 0, 0, 0, 0, 0, 0, 0, 0, 0, 0, 0, 0, 0, 0, 0, 0, 0, 0, 0, 0, 0, 0, 0, 0, 0, 0, 0, 0, 0, 0, 0, 0, 0, 0, 0, 0, 0, 0, 0, 0, 0, 0, 0, 0, 0, 0, 0, 0, 0, 0, 0, 0, 0, 0, 0, 0, 0, 0, 0, 0, 0, 0, 0, 0, 0, 0, 0, 0, 0, 0, 0, 0, 0, 0, 0, 0, 0, 0, 0, 0, 0, 0, 0, 0, 0, 0, 0, 0, 0, 0, 0, 0, 0, 0, 0, 0, 0, 0, 0, 0, 0, 0, 0, 0, 0, 0, 0, 0, 0, 0, 0, 0, 0, 0, 0, 0, 0, 0, 0, 0, 0, 0, 0, 0, 0, 0, 0, 0, 0, 0, 0, 0, 0, 0, 0, 0, 0, 0, 0, 0, 0, 0, 0, 0, 0, 0, 0, 0, 0, 0, 0, 0, 0, 0, 0, 0, 0, 1, 0, 0, 0, 0, 0, 0, 0, 0, 0, 0, 0, 0, 0, 0, 0, 0, 0, 0, 0, 0, 0, 0, 0, 0, 0, 0, 0, 0, 0, 0, 0, 0, 0, 0, 0, 0, 0, 0, 0, 0, 0, 0, 0, 0, 0, 0, 0, 0, 0, 0, 0, 0, 0, 0, 0, 0, 0, 0, 0, 0, 0, 0, 0, 0, 0, 0, 0, 0, 0, 0, 0, 0, 0, 0, 0, 0, 0, 0, 0, 0, 0, 0, 0, 0, 0, 0, 0, 0, 0, 0, 0, 0, 0, 0, 0, 0, 0, 0, 0, 0, 0, 0, 0, 0, 0, 0, 0, 0, 0, 0, 2, 0, 0, 0, 0, 0, 0, 0, 0, 0, 0, 0, 0, 0, 0, 0, 0, 0, 0, 0, 0, 0, 0, 0, 0, 0, 0, 0, 0, 0, 0, 0, 0, 0, 0, 0, 0, 0, 0, 0, 0, 0, 0, 0, 0, 0, 0, 0, 0, 0, 0, 0, 0, 0, 0, 0, 0, 0, 0, 0, 0, 0, 0, 0, 0, 0, 0, 0, 0, 0, 0, 0, 0, 0, 0, 0, 0, 0, 0, 0, 0, 0, 0, 0, 0, 0, 0, 0, 0, 0, 0, 0, 0, 0, 0, 0, 0, 0, 0, 0, 0, 0, 0, 0, 0, 0, 0, 0, 0, 0, 0, 0, 0, 0, 0, 0, 0, 0, 0, 0, 0, 0, 0, 0, 0, 0, 0, 0, 0, 0, 0, 0, 0, 0, 0, 0, 0, 0, 0, 0, 0, 0, 0, 0, 0, 0, 0, 0, 0, 0, 0, 0, 0, 0, 0, 0, 0, 0, 0, 0, 0, 0, 0, 0, 0, 0, 0, 0, 0, 0, 0, 0, 0, 0, 0, 0, 0, 0, 0, 0, 0, 0, 0, 0, 0, 0, 0, 0, 0, 0, 0, 0, 0, 0, 0, 0, 0, 0, 0, 0, 0, 0, 0, 0, 0, 0, 0, 0, 0, 0, 0, 0, 0, 0, 0, 0, 0, 0, 0, 0, 0, 0, 0, 0, 0, 0, 0, 0, 0, 0, 0, 0, 0, 0, 0, 0, 0, 0, 0, 0, 0, 0, 0, 0, 0, 0, 0, 0, 0, 0, 0, 0, 0, 0, 0, 0, 0, 0, 0, 0, 0, 0, 0, 0, 0, 0, 0, 0, 0, 0, 0, 0, 0, 0, 0, 0, 0, 0, 0, 0, 0, 0, 0, 0, 0, 0, 0, 0, 0, 0, 0, 0, 0, 0, 0, 0, 0, 0, 0, 0, 0, 0, 0, 0, 0, 0, 0, 0, 0, 0, 0, 0, 0, 0, 0, 0, 0, 0, 0, 0, 0, 0, 0, 0, 0, 0, 0, 0, 0, 0, 0, 0, 0, 0, 0, 0, 0, 0, 0, 0, 0, 0, 0, 0, 0, 0, 0, 0, 0, 0, 0, 0, 0, 0, 0, 0, 0, 0, 0, 0, 0, 0, 0, 0, 0, 0, 0, 0, 0, 0, 0, 0, 0, 0, 0, 0, 0, 0, 0, 0, 0, 0, 0, 0, 0, 0, 0, 0, 0, 0, 0, 0, 0, 0, 0, 0, 0, 0, 0, 0, 0, 0, 0, 0, 0, 0, 0, 0, 0, 0, 0, 0, 0, 0, 0, 0, 0, 0, 0, 0, 0, 0, 0, 0, 0, 0, 0, 0, 0, 0, 0, 0, 0, 0, 0, 0, 0, 0, 0, 0, 0, 0, 0, 0, 0, 0, 0, 0, 0, 0, 0, 0, 0, 0, 0, 0, 0, 0, 0, 0, 0, 0, 0, 0, 0, 0, 0, 0, 0, 0, 0, 0, 0, 0, 0, 0, 0, 0, 0, 0, 0, 0, 0, 0, 0, 0, 0, 0, 0, 0, 0, 0, 0, 0, 0, 0, 0, 0, 0, 0, 0, 0, 0, 0, 0, 0, 0, 0, 0, 0, 0, 0, 0, 0, 0, 0, 0, 0, 0, 0, 0, 0, 0, 0, 0, 0, 0, 0, 0, 0, 0, 0, 0, 0, 0, 0, 0, 0, 0, 0, 0, 0, 0, 0, 0, 0, 0, 0, 0, 0, 0, 0, 0, 0, 0, 0, 0, 0, 0, 0, 0, 0, 0, 0, 0, 0, 0, 0, 0, 0, 0, 0, 0, 0, 0, 0, 0, 0, 0, 0, 0, 0, 0, 0, 0, 0, 0, 0, 0, 0, 0, 0, 0, 0, 0, 0, 0, 0, 0, 0, 0, 0, 0, 0, 0, 0, 0, 0, 0, 0, 0, 0, 0, 0, 0, 0, 0, 0, 0, 0, 0, 0, 0, 0, 0, 0, 0, 0, 0, 0, 0, 0, 0, 0, 0, 0, 0, 0, 0, 0, 0, 0, 0, 0, 0, 0, 0, 0, 0, 0, 0, 0, 0, 0, 0, 0, 0, 0, 0, 0, 0, 0, 0, 0, 0, 0, 0, 0, 0, 0, 0, 0, 0, 0, 0, 0, 0, 0, 0, 0, 0, 0, 0, 0, 0, 0, 0, 0, 0, 0, 0, 1, 0, 0, 0, 0, 0, 0, 0, 0, 0, 0, 0, 0, 0, 0, 0, 0, 0, 0, 0, 0, 0, 0, 0, 0, 0, 0, 0, 0, 0, 0, 0, 0, 0, 0, 0, 0, 0, 0, 0, 0, 0, 0, 0, 0, 0, 0, 0, 0, 0, 0, 0, 0, 0, 0, 0, 0, 0, 0, 0, 0, 0, 0, 0, 0, 0, 0, 0, 0, 0, 0, 0, 0, 0, 0, 0, 0, 0, 0, 0, 0, 0, 0, 0, 0, 0, 0, 0, 0, 0, 0, 0, 0, 0, 0, 0, 0, 0, 0, 0, 0, 0, 0, 0, 0, 0, 0, 0, 1, 0, 0, 0, 0, 0, 0, 0, 0, 0, 0, 0, 0, 0, 0, 0, 0, 0, 0, 0, 0, 0, 0, 0, 0, 0, 0, 0, 0, 0, 0, 0, 0, 0, 0, 0, 0, 0, 0, 0, 0, 0, 0, 0, 0, 0, 0, 0, 0, 0, 0, 0, 0, 0, 0, 0, 0, 0, 0, 0, 0, 0, 0, 0, 0, 0, 0, 0, 0, 0, 0, 0, 0, 0, 0, 0, 0, 0, 0, 0, 0, 0, 0, 0, 0, 0, 0, 0, 0, 0, 0, 0, 0, 0, 0, 0, 0, 0, 0, 0, 0, 0, 0, 0, 0, 0, 0, 0, 0, 0, 0, 0, 0, 0, 0, 0, 0, 0, 0, 0, 0, 0, 0, 0, 0, 0, 0, 0, 0, 0, 0, 0, 0, 0, 0, 0, 0, 0, 0, 0, 0, 0, 0, 0, 0, 0, 0, 0, 0, 0, 0, 0, 0, 0, 0, 0, 0, 0, 0, 0, 0, 0, 0, 0, 0, 0, 0, 0, 0, 0, 0, 0, 0, 0, 0, 0, 0, 0, 0, 0, 0, 0, 0, 0, 0, 0, 0, 0, 0, 0, 0, 0, 0, 0, 0, 0, 0, 0, 0, 0, 0, 0, 0, 0, 0, 0, 0, 0, 0, 0, 0, 0, 0, 0, 0, 0, 0, 0, 0, 0, 0, 0, 0, 0, 0, 0, 0, 0, 0, 0, 0, 0, 0, 0, 0, 0, 0, 0, 0, 0, 0, 0, 0, 0, 0, 0, 0, 0, 0, 0, 0, 0, 0, 0, 0, 0, 0, 0, 0, 0, 0, 0, 0, 0, 0, 0, 0, 0, 0, 0, 0, 0, 0, 0, 0, 0, 0, 0, 0, 0, 0, 0, 0, 0, 0, 0, 0, 0, 0, 0, 0, 0, 0, 0, 0, 0, 0, 0, 0, 0, 0, 0, 0, 0, 0, 0, 0, 0, 0, 0, 0, 0, 0, 0, 0, 0, 0, 0, 0, 0, 0, 0, 0, 0, 0, 0, 0, 0, 0, 0, 0, 0, 0, 0, 0, 0, 0, 0, 0, 0, 0, 0, 0, 0, 0, 0, 0, 0, 0, 0, 0, 0, 0, 0, 0, 0, 0, 0, 0, 0, 0, 0, 0, 0, 0, 0, 0, 0, 0, 0, 0, 0, 0, 0, 0, 0, 0, 0, 0, 0, 0, 0, 0, 0, 0, 0, 0, 0, 0, 0, 0, 0, 0, 0, 0, 0, 0, 0, 0, 0, 0, 0, 0, 0, 0, 0, 0, 0, 0, 0, 0, 0, 0, 0, 0, 0, 0, 0, 0, 0, 0, 0, 0, 0, 0, 0, 0, 0, 0, 0, 0, 0, 0, 0, 0, 0, 0, 0, 0, 0, 0, 0, 0, 0, 0, 0, 0, 0, 0, 0, 0, 0, 0, 0, 0, 0, 0, 0, 0, 0, 0, 0, 0, 0, 2, 0, 1, 0]\n"
     ]
    }
   ],
   "source": [
    "test_bow = bow_encoding(test_words, vocabulary)\n",
    "print(test_bow)"
   ]
  },
  {
   "cell_type": "code",
   "execution_count": 42,
   "metadata": {},
   "outputs": [
    {
     "data": {
      "text/plain": [
       "5000"
      ]
     },
     "execution_count": 42,
     "metadata": {},
     "output_type": "execute_result"
    }
   ],
   "source": [
    "len(test_bow)"
   ]
  },
  {
   "cell_type": "markdown",
   "metadata": {},
   "source": [
    "So now we know how to construct a bag of words encoding of a user provided review, how to we send it to our endpoint? First, we need to start the endpoint back up."
   ]
  },
  {
   "cell_type": "code",
   "execution_count": 45,
   "metadata": {},
   "outputs": [
    {
     "name": "stderr",
     "output_type": "stream",
     "text": [
      "WARNING:sagemaker:Parameter image will be renamed to image_uri in SageMaker Python SDK v2.\n",
      "WARNING:sagemaker:Using already existing model: xgboost-2020-06-28-22-21-11-987\n"
     ]
    },
    {
     "name": "stdout",
     "output_type": "stream",
     "text": [
      "-------------!"
     ]
    }
   ],
   "source": [
    "# deploying the model again\n",
    "# start the endpoint back up\n",
    "\n",
    "xgb_predictor = xgb.deploy(initial_instance_count = 1, instance_type = 'ml.m4.xlarge')"
   ]
  },
  {
   "cell_type": "markdown",
   "metadata": {},
   "source": [
    "At this point we could just do the same thing that we did earlier when we tested our deployed model and send `test_bow` to our endpoint using the `xgb_predictor` object. However, when we eventually construct our Lambda function we won't have access to this object, so how do we call a SageMaker endpoint?\n",
    "\n",
    "It turns out that Python functions that are used in Lambda have access to another Amazon library called `boto3`. This library provides an API for working with Amazon services, including SageMaker. To start with, we need to get a handle to the SageMaker runtime."
   ]
  },
  {
   "cell_type": "code",
   "execution_count": 46,
   "metadata": {},
   "outputs": [],
   "source": [
    "import boto3\n",
    "\n",
    "runtime = boto3.Session().client('sagemaker-runtime')"
   ]
  },
  {
   "cell_type": "markdown",
   "metadata": {},
   "source": [
    "And now that we have access to the SageMaker runtime, we can ask it to make use of (invoke) an endpoint that has already been created. However, we need to provide SageMaker with the name of the deployed endpoint. To find this out we can print it out using the `xgb_predictor` object."
   ]
  },
  {
   "cell_type": "code",
   "execution_count": 47,
   "metadata": {},
   "outputs": [
    {
     "data": {
      "text/plain": [
       "'xgboost-2020-06-28-22-21-11-987'"
      ]
     },
     "execution_count": 47,
     "metadata": {},
     "output_type": "execute_result"
    }
   ],
   "source": [
    "xgb_predictor.endpoint"
   ]
  },
  {
   "cell_type": "markdown",
   "metadata": {},
   "source": [
    "Using the SageMaker runtime and the name of our endpoint, we can invoke the endpoint and send it the `test_bow` data."
   ]
  },
  {
   "cell_type": "code",
   "execution_count": 48,
   "metadata": {},
   "outputs": [
    {
     "ename": "ParamValidationError",
     "evalue": "Parameter validation failed:\nInvalid type for parameter Body, value: [0, 0, 0, 0, 0, 0, 0, 0, 0, 0, 0, 0, 0, 0, 0, 0, 0, 0, 0, 0, 0, 0, 0, 0, 0, 0, 0, 0, 0, 0, 0, 0, 0, 0, 0, 0, 0, 0, 0, 0, 0, 0, 0, 0, 0, 0, 0, 0, 0, 0, 0, 0, 0, 0, 0, 0, 0, 0, 0, 0, 0, 0, 0, 0, 0, 0, 0, 0, 0, 0, 0, 0, 0, 0, 0, 0, 0, 0, 0, 0, 0, 0, 0, 0, 0, 0, 0, 0, 0, 0, 0, 0, 0, 0, 0, 0, 0, 0, 0, 0, 0, 0, 0, 0, 0, 0, 0, 0, 0, 0, 0, 0, 0, 0, 0, 0, 0, 0, 0, 0, 0, 0, 0, 0, 0, 0, 0, 0, 0, 0, 0, 0, 0, 0, 0, 0, 0, 0, 0, 0, 0, 0, 0, 0, 0, 0, 0, 0, 0, 0, 0, 0, 0, 0, 0, 0, 0, 0, 0, 0, 0, 0, 0, 0, 0, 0, 0, 0, 0, 0, 0, 0, 0, 0, 0, 0, 0, 0, 0, 0, 0, 0, 0, 0, 0, 0, 0, 0, 0, 0, 0, 0, 0, 0, 0, 0, 0, 0, 0, 0, 0, 0, 0, 0, 0, 0, 0, 0, 0, 0, 0, 0, 0, 0, 0, 0, 0, 0, 0, 0, 0, 0, 0, 0, 0, 0, 1, 0, 0, 0, 0, 0, 0, 0, 0, 0, 0, 0, 0, 0, 0, 0, 0, 0, 0, 0, 0, 0, 0, 0, 0, 0, 0, 0, 0, 0, 1, 0, 0, 0, 0, 0, 0, 0, 0, 0, 0, 0, 0, 0, 0, 0, 0, 0, 0, 0, 0, 0, 0, 0, 0, 0, 0, 0, 0, 0, 0, 0, 0, 0, 0, 0, 0, 0, 0, 0, 0, 0, 0, 0, 0, 0, 0, 0, 0, 0, 0, 0, 0, 0, 0, 0, 0, 0, 0, 0, 0, 0, 0, 0, 0, 0, 0, 0, 0, 0, 0, 0, 0, 0, 0, 0, 0, 0, 0, 0, 0, 0, 0, 0, 0, 0, 0, 0, 0, 0, 0, 0, 0, 0, 0, 0, 0, 0, 0, 0, 0, 0, 0, 0, 0, 0, 0, 0, 0, 0, 0, 0, 0, 0, 0, 0, 0, 0, 0, 0, 0, 0, 0, 0, 0, 0, 0, 0, 0, 0, 0, 0, 0, 0, 0, 0, 0, 0, 0, 0, 0, 0, 0, 0, 0, 0, 0, 0, 0, 0, 0, 0, 0, 0, 0, 0, 0, 0, 0, 0, 0, 0, 0, 0, 0, 0, 0, 0, 0, 0, 0, 0, 0, 0, 0, 0, 0, 0, 0, 0, 0, 0, 0, 0, 0, 0, 0, 0, 0, 0, 0, 0, 0, 0, 0, 0, 0, 0, 0, 0, 0, 0, 0, 0, 0, 0, 0, 0, 0, 0, 0, 0, 0, 0, 0, 0, 0, 0, 0, 0, 0, 0, 0, 0, 0, 0, 0, 0, 0, 0, 0, 0, 0, 0, 0, 0, 0, 0, 0, 0, 0, 0, 0, 0, 0, 0, 0, 0, 0, 0, 0, 0, 0, 0, 0, 0, 0, 0, 0, 0, 0, 0, 0, 0, 0, 0, 0, 0, 0, 0, 0, 0, 0, 0, 0, 0, 0, 0, 0, 0, 0, 0, 0, 0, 0, 0, 0, 0, 0, 0, 0, 0, 0, 0, 0, 0, 0, 0, 0, 0, 0, 0, 0, 0, 0, 0, 0, 0, 0, 0, 0, 0, 0, 0, 0, 0, 0, 0, 0, 0, 0, 0, 0, 0, 0, 0, 0, 0, 0, 0, 0, 0, 0, 0, 0, 0, 0, 0, 0, 0, 0, 0, 0, 0, 0, 0, 0, 0, 0, 0, 0, 0, 0, 0, 0, 0, 0, 0, 0, 0, 0, 0, 0, 0, 0, 0, 0, 0, 0, 0, 0, 0, 0, 0, 0, 0, 0, 0, 0, 0, 1, 0, 0, 0, 0, 0, 0, 0, 0, 0, 0, 0, 0, 0, 0, 0, 0, 0, 0, 0, 0, 0, 0, 0, 0, 0, 0, 0, 0, 0, 0, 0, 0, 0, 0, 0, 0, 0, 0, 0, 0, 0, 0, 0, 0, 0, 0, 0, 0, 0, 0, 0, 0, 0, 0, 0, 0, 0, 0, 0, 0, 0, 0, 0, 0, 0, 0, 0, 0, 0, 0, 0, 0, 0, 0, 0, 0, 0, 0, 0, 0, 0, 0, 0, 0, 0, 0, 0, 0, 0, 0, 0, 0, 0, 0, 0, 0, 0, 0, 0, 0, 0, 0, 0, 0, 0, 0, 0, 0, 0, 0, 0, 0, 0, 0, 0, 0, 0, 0, 0, 0, 0, 0, 0, 0, 0, 0, 0, 0, 0, 0, 0, 0, 0, 0, 0, 0, 0, 0, 0, 0, 0, 0, 0, 0, 0, 0, 0, 0, 0, 0, 0, 0, 0, 0, 0, 0, 0, 0, 0, 0, 0, 0, 0, 0, 0, 0, 0, 0, 0, 0, 0, 0, 0, 0, 0, 0, 0, 0, 0, 0, 0, 0, 0, 0, 0, 0, 0, 0, 0, 0, 0, 0, 0, 0, 0, 0, 0, 0, 0, 0, 0, 0, 0, 0, 0, 0, 0, 0, 0, 0, 0, 0, 0, 0, 0, 0, 0, 0, 0, 0, 0, 0, 0, 0, 0, 0, 0, 0, 0, 0, 0, 0, 0, 0, 0, 0, 0, 0, 0, 0, 0, 0, 0, 0, 0, 0, 0, 0, 0, 0, 0, 0, 0, 1, 0, 0, 0, 0, 0, 0, 0, 0, 0, 0, 0, 0, 0, 0, 0, 0, 0, 0, 0, 0, 0, 0, 0, 0, 0, 0, 0, 0, 0, 0, 0, 0, 0, 0, 0, 0, 0, 0, 0, 0, 0, 0, 0, 0, 0, 0, 0, 0, 0, 0, 0, 0, 0, 0, 0, 0, 0, 0, 0, 0, 0, 0, 0, 0, 0, 0, 0, 0, 0, 0, 0, 0, 0, 0, 0, 0, 0, 0, 0, 0, 0, 0, 0, 0, 0, 0, 1, 0, 0, 0, 0, 0, 0, 0, 0, 0, 0, 0, 0, 0, 0, 0, 0, 0, 0, 0, 0, 0, 0, 0, 0, 0, 0, 0, 0, 0, 0, 0, 0, 0, 0, 0, 0, 0, 0, 0, 0, 0, 0, 0, 0, 0, 0, 0, 0, 0, 0, 0, 0, 0, 0, 0, 0, 0, 0, 0, 0, 0, 0, 0, 0, 0, 0, 0, 0, 0, 0, 0, 0, 0, 0, 0, 0, 0, 0, 0, 0, 0, 0, 0, 0, 0, 0, 0, 0, 0, 0, 0, 0, 0, 0, 0, 0, 0, 0, 0, 0, 0, 0, 0, 0, 0, 0, 0, 0, 0, 0, 0, 0, 0, 0, 0, 0, 0, 0, 0, 0, 0, 0, 0, 0, 0, 0, 0, 0, 0, 0, 0, 0, 0, 0, 0, 0, 0, 0, 0, 0, 0, 0, 0, 0, 0, 0, 0, 0, 0, 0, 0, 0, 0, 0, 0, 0, 0, 0, 0, 0, 0, 0, 0, 0, 0, 0, 0, 0, 0, 0, 0, 0, 0, 0, 0, 0, 0, 0, 0, 0, 0, 0, 0, 0, 0, 0, 0, 0, 0, 0, 0, 0, 0, 0, 0, 0, 0, 0, 0, 0, 0, 0, 0, 0, 0, 0, 0, 0, 0, 0, 0, 0, 0, 0, 0, 0, 0, 0, 0, 0, 0, 0, 0, 0, 0, 0, 0, 0, 0, 0, 0, 0, 0, 0, 0, 0, 0, 0, 0, 0, 0, 0, 0, 0, 0, 0, 0, 0, 0, 0, 0, 0, 1, 0, 0, 0, 0, 0, 0, 0, 0, 0, 0, 0, 0, 0, 0, 0, 0, 0, 0, 0, 0, 0, 0, 0, 0, 0, 0, 0, 0, 0, 0, 0, 0, 0, 0, 0, 0, 0, 0, 0, 0, 0, 0, 0, 0, 0, 0, 0, 0, 0, 0, 0, 0, 0, 0, 0, 1, 0, 0, 0, 0, 0, 0, 0, 0, 0, 0, 0, 0, 0, 0, 0, 0, 0, 0, 0, 0, 0, 0, 0, 0, 0, 0, 0, 0, 0, 0, 0, 0, 0, 0, 0, 0, 0, 0, 0, 0, 0, 0, 0, 0, 0, 0, 0, 0, 0, 0, 0, 0, 0, 0, 0, 0, 0, 0, 0, 0, 0, 0, 0, 0, 0, 0, 0, 0, 0, 0, 0, 0, 0, 0, 0, 0, 0, 0, 0, 0, 0, 0, 0, 0, 0, 0, 0, 0, 0, 0, 0, 0, 0, 0, 0, 0, 0, 0, 0, 0, 0, 0, 0, 0, 0, 0, 0, 0, 0, 0, 0, 0, 0, 0, 0, 0, 0, 0, 0, 0, 0, 0, 0, 0, 0, 0, 0, 0, 0, 0, 0, 0, 0, 0, 0, 0, 0, 0, 0, 0, 0, 0, 0, 0, 0, 0, 0, 0, 0, 0, 0, 0, 0, 0, 0, 0, 0, 0, 0, 0, 0, 0, 0, 0, 0, 0, 0, 0, 0, 0, 0, 0, 0, 0, 0, 0, 0, 0, 0, 0, 0, 0, 0, 0, 0, 0, 0, 0, 0, 0, 0, 0, 0, 0, 0, 0, 0, 0, 0, 0, 0, 0, 0, 0, 0, 0, 0, 0, 0, 0, 0, 0, 0, 0, 0, 0, 0, 0, 0, 0, 0, 0, 0, 0, 0, 0, 0, 0, 0, 0, 0, 0, 0, 0, 0, 0, 0, 0, 0, 0, 0, 0, 0, 0, 0, 0, 0, 0, 0, 0, 0, 0, 0, 0, 0, 0, 0, 0, 0, 0, 0, 0, 0, 0, 0, 0, 0, 0, 0, 0, 0, 0, 0, 0, 0, 0, 0, 0, 0, 0, 0, 0, 0, 0, 0, 0, 0, 0, 0, 0, 0, 0, 0, 0, 0, 0, 0, 0, 0, 0, 0, 0, 0, 0, 0, 0, 0, 0, 0, 0, 0, 0, 0, 0, 0, 0, 0, 0, 0, 0, 0, 0, 0, 0, 0, 0, 0, 0, 0, 0, 0, 0, 0, 0, 0, 0, 0, 0, 0, 0, 0, 0, 0, 0, 0, 0, 0, 0, 0, 0, 0, 0, 0, 0, 0, 0, 0, 0, 0, 0, 0, 0, 0, 0, 0, 0, 0, 0, 0, 0, 0, 0, 0, 0, 0, 0, 0, 0, 0, 0, 0, 0, 0, 0, 0, 0, 0, 0, 0, 0, 0, 0, 0, 0, 0, 0, 0, 0, 0, 0, 0, 0, 0, 0, 0, 0, 0, 0, 0, 0, 0, 0, 0, 0, 0, 0, 0, 0, 0, 0, 0, 0, 0, 0, 0, 0, 0, 0, 0, 0, 0, 0, 0, 0, 0, 0, 0, 0, 0, 0, 0, 0, 0, 0, 0, 0, 0, 0, 0, 0, 0, 0, 0, 0, 0, 0, 0, 0, 0, 0, 0, 0, 0, 0, 0, 0, 0, 0, 0, 0, 0, 0, 0, 0, 0, 0, 0, 0, 0, 0, 0, 0, 0, 0, 0, 0, 0, 0, 0, 0, 0, 0, 0, 0, 0, 0, 0, 0, 0, 0, 0, 0, 0, 0, 0, 0, 0, 0, 0, 0, 0, 0, 0, 0, 0, 0, 0, 0, 0, 0, 0, 0, 0, 0, 0, 0, 0, 0, 0, 0, 0, 0, 0, 0, 0, 0, 0, 0, 0, 0, 0, 0, 0, 0, 0, 0, 0, 0, 0, 0, 0, 0, 0, 0, 0, 0, 0, 0, 0, 0, 0, 0, 0, 0, 0, 0, 0, 0, 0, 0, 0, 0, 0, 0, 0, 0, 0, 0, 0, 0, 0, 0, 0, 0, 0, 0, 0, 0, 0, 0, 0, 0, 0, 0, 0, 0, 0, 0, 0, 0, 0, 0, 0, 0, 0, 0, 0, 0, 0, 0, 0, 0, 0, 0, 0, 0, 0, 0, 0, 0, 0, 0, 0, 0, 0, 0, 0, 0, 0, 0, 0, 0, 0, 0, 0, 0, 0, 0, 0, 0, 0, 0, 0, 0, 0, 0, 0, 0, 0, 0, 0, 0, 0, 0, 0, 0, 0, 0, 0, 0, 0, 0, 0, 0, 0, 0, 0, 0, 0, 0, 0, 0, 0, 0, 0, 0, 0, 0, 0, 0, 0, 1, 0, 0, 0, 0, 0, 0, 0, 0, 0, 0, 0, 0, 0, 0, 0, 0, 0, 0, 0, 0, 0, 0, 0, 0, 0, 0, 0, 0, 0, 0, 0, 0, 0, 0, 0, 0, 0, 0, 0, 0, 0, 0, 0, 0, 0, 0, 0, 0, 0, 0, 0, 0, 0, 0, 0, 0, 0, 0, 0, 0, 0, 0, 0, 0, 0, 0, 0, 0, 0, 0, 0, 0, 0, 0, 1, 0, 0, 0, 0, 0, 0, 0, 0, 0, 0, 0, 0, 0, 0, 0, 0, 0, 0, 0, 0, 1, 0, 0, 1, 0, 0, 0, 0, 0, 0, 0, 0, 0, 0, 0, 0, 0, 0, 0, 0, 0, 0, 0, 0, 0, 0, 0, 0, 0, 0, 0, 0, 0, 0, 0, 0, 0, 0, 0, 0, 0, 0, 0, 0, 0, 0, 0, 0, 0, 0, 0, 0, 0, 0, 0, 0, 0, 0, 0, 0, 0, 0, 0, 0, 0, 0, 0, 0, 0, 0, 0, 0, 0, 0, 0, 0, 0, 0, 0, 0, 0, 0, 0, 0, 0, 0, 0, 0, 0, 0, 0, 0, 0, 0, 0, 0, 0, 0, 0, 0, 0, 0, 0, 0, 0, 0, 0, 0, 0, 0, 0, 0, 0, 0, 0, 0, 0, 0, 0, 0, 0, 0, 0, 0, 0, 0, 0, 0, 0, 0, 0, 0, 0, 0, 0, 0, 0, 0, 0, 0, 0, 0, 0, 0, 0, 0, 0, 0, 0, 0, 0, 0, 0, 0, 0, 0, 0, 0, 0, 0, 0, 0, 0, 0, 0, 0, 0, 0, 0, 0, 0, 0, 0, 0, 0, 0, 0, 0, 0, 0, 0, 0, 0, 0, 0, 0, 0, 0, 0, 0, 0, 0, 0, 0, 0, 0, 0, 0, 0, 0, 0, 0, 0, 0, 0, 0, 0, 0, 0, 0, 0, 0, 0, 0, 0, 0, 0, 0, 0, 0, 0, 0, 0, 0, 0, 0, 0, 0, 0, 0, 0, 0, 0, 0, 0, 0, 0, 0, 0, 0, 0, 0, 0, 0, 0, 0, 0, 0, 0, 0, 0, 0, 0, 0, 0, 0, 0, 0, 0, 0, 0, 0, 0, 0, 0, 0, 0, 0, 0, 0, 0, 0, 0, 0, 0, 0, 0, 0, 0, 0, 0, 0, 0, 0, 0, 0, 0, 0, 0, 0, 0, 0, 0, 0, 0, 0, 0, 0, 0, 0, 0, 0, 0, 0, 0, 0, 0, 0, 0, 0, 0, 0, 0, 0, 0, 0, 0, 0, 0, 0, 0, 0, 0, 0, 0, 0, 0, 0, 0, 0, 0, 0, 0, 0, 0, 0, 0, 0, 0, 0, 0, 0, 0, 0, 0, 0, 0, 0, 0, 0, 0, 0, 0, 0, 0, 0, 0, 0, 0, 0, 0, 0, 0, 0, 0, 0, 0, 0, 0, 0, 0, 0, 0, 0, 0, 0, 0, 0, 0, 0, 0, 0, 0, 0, 0, 0, 0, 0, 0, 0, 0, 0, 0, 0, 0, 0, 0, 0, 0, 0, 0, 0, 0, 0, 0, 0, 0, 0, 0, 0, 0, 0, 0, 0, 0, 0, 0, 0, 0, 0, 0, 0, 0, 0, 0, 0, 0, 0, 0, 0, 0, 0, 0, 0, 0, 0, 0, 0, 0, 0, 0, 0, 0, 0, 0, 0, 0, 0, 0, 0, 0, 0, 0, 0, 0, 0, 0, 0, 0, 0, 0, 0, 0, 0, 0, 0, 0, 0, 0, 0, 1, 0, 0, 0, 0, 0, 0, 0, 0, 0, 0, 0, 0, 0, 0, 0, 0, 0, 0, 0, 0, 0, 0, 0, 0, 0, 0, 0, 0, 0, 0, 0, 0, 0, 0, 0, 0, 0, 0, 0, 0, 0, 0, 0, 0, 0, 0, 0, 0, 0, 0, 0, 0, 0, 0, 0, 0, 0, 0, 0, 0, 0, 0, 0, 0, 0, 0, 0, 0, 0, 0, 0, 0, 0, 0, 0, 0, 0, 0, 0, 0, 0, 0, 0, 0, 0, 0, 0, 0, 0, 0, 0, 0, 0, 0, 0, 0, 0, 0, 0, 0, 0, 0, 0, 0, 0, 0, 0, 0, 0, 0, 0, 0, 0, 0, 0, 0, 0, 0, 0, 0, 0, 0, 0, 0, 0, 0, 0, 0, 0, 0, 0, 0, 0, 0, 0, 0, 0, 0, 0, 0, 0, 0, 0, 0, 0, 0, 0, 0, 0, 0, 0, 0, 0, 0, 0, 0, 0, 0, 0, 0, 0, 0, 0, 0, 0, 0, 0, 0, 0, 0, 0, 0, 0, 0, 0, 0, 0, 0, 0, 0, 0, 0, 0, 0, 0, 0, 0, 0, 0, 0, 0, 0, 0, 0, 0, 0, 0, 0, 0, 0, 0, 0, 0, 0, 0, 0, 0, 0, 0, 0, 0, 0, 0, 0, 0, 0, 0, 0, 0, 0, 0, 0, 0, 0, 0, 0, 0, 0, 0, 0, 0, 0, 0, 0, 0, 0, 0, 0, 0, 0, 0, 0, 0, 0, 0, 0, 0, 0, 0, 0, 0, 0, 0, 0, 0, 0, 0, 0, 0, 0, 0, 0, 0, 0, 0, 0, 0, 0, 0, 0, 0, 0, 0, 0, 0, 0, 0, 0, 0, 0, 0, 0, 0, 0, 0, 0, 0, 0, 0, 0, 0, 0, 0, 0, 0, 0, 0, 0, 0, 0, 0, 0, 0, 0, 0, 0, 0, 0, 0, 0, 0, 0, 0, 0, 0, 0, 0, 0, 0, 0, 0, 0, 0, 0, 0, 0, 0, 0, 0, 0, 0, 0, 0, 0, 0, 0, 0, 0, 0, 0, 0, 0, 0, 0, 0, 0, 0, 0, 0, 0, 0, 0, 0, 0, 0, 0, 0, 0, 0, 0, 0, 0, 0, 0, 0, 0, 0, 0, 0, 0, 0, 0, 0, 0, 0, 0, 0, 0, 0, 0, 0, 0, 0, 0, 0, 0, 0, 0, 0, 0, 0, 0, 0, 0, 0, 0, 0, 0, 0, 0, 0, 0, 0, 0, 0, 0, 0, 0, 0, 0, 0, 0, 0, 0, 0, 0, 0, 0, 0, 0, 0, 0, 0, 0, 0, 0, 0, 0, 0, 0, 0, 0, 0, 0, 0, 0, 0, 0, 0, 0, 0, 0, 0, 0, 0, 0, 0, 0, 0, 0, 0, 0, 0, 0, 0, 0, 0, 0, 0, 0, 0, 0, 0, 0, 0, 0, 0, 0, 0, 0, 0, 0, 0, 0, 0, 0, 0, 0, 0, 0, 0, 0, 0, 0, 0, 0, 0, 0, 0, 0, 0, 0, 0, 0, 0, 0, 0, 0, 0, 0, 0, 0, 0, 0, 0, 0, 0, 0, 0, 0, 0, 0, 1, 0, 0, 0, 0, 0, 0, 0, 0, 0, 0, 0, 0, 0, 0, 0, 0, 0, 0, 0, 0, 0, 0, 0, 0, 0, 0, 0, 0, 0, 0, 0, 0, 0, 0, 0, 2, 0, 0, 0, 0, 0, 0, 0, 0, 0, 0, 0, 0, 0, 0, 0, 0, 0, 0, 0, 0, 0, 0, 0, 0, 0, 0, 0, 0, 0, 0, 0, 0, 0, 0, 0, 0, 0, 0, 0, 0, 1, 0, 0, 0, 0, 0, 0, 0, 0, 0, 0, 0, 0, 0, 0, 0, 0, 0, 0, 0, 0, 0, 0, 0, 0, 0, 0, 0, 0, 0, 0, 0, 0, 0, 0, 0, 0, 0, 0, 0, 0, 0, 0, 0, 0, 0, 0, 0, 0, 0, 0, 0, 0, 0, 0, 0, 0, 0, 0, 0, 0, 0, 0, 0, 0, 0, 0, 0, 0, 0, 0, 0, 0, 0, 0, 0, 0, 0, 0, 0, 0, 0, 0, 0, 0, 0, 0, 0, 0, 0, 0, 0, 0, 0, 0, 0, 0, 0, 0, 0, 0, 0, 0, 0, 0, 0, 0, 0, 0, 0, 0, 0, 0, 0, 0, 0, 0, 0, 0, 0, 0, 0, 0, 0, 0, 0, 0, 0, 0, 0, 0, 0, 0, 0, 0, 0, 0, 0, 0, 0, 0, 0, 0, 0, 0, 0, 0, 0, 0, 0, 0, 0, 0, 0, 0, 0, 0, 0, 0, 0, 0, 0, 0, 0, 0, 0, 0, 0, 0, 0, 0, 0, 0, 0, 0, 0, 0, 0, 0, 0, 0, 0, 0, 0, 0, 0, 0, 0, 0, 0, 0, 0, 0, 0, 0, 0, 0, 0, 0, 0, 0, 0, 0, 0, 0, 0, 0, 0, 0, 0, 0, 0, 0, 0, 0, 0, 0, 0, 0, 0, 0, 0, 0, 0, 0, 0, 0, 0, 0, 0, 0, 0, 0, 0, 0, 0, 0, 0, 0, 0, 0, 0, 0, 0, 0, 0, 0, 0, 0, 0, 0, 0, 0, 0, 0, 0, 0, 0, 0, 0, 0, 0, 0, 0, 0, 0, 0, 0, 0, 0, 0, 0, 0, 0, 0, 0, 0, 0, 0, 0, 0, 0, 0, 0, 0, 0, 0, 0, 0, 0, 0, 0, 0, 0, 0, 0, 0, 0, 0, 0, 0, 0, 0, 0, 0, 0, 0, 0, 0, 0, 0, 0, 0, 0, 0, 0, 0, 0, 0, 0, 0, 0, 0, 0, 0, 0, 0, 0, 0, 0, 0, 0, 0, 0, 0, 0, 0, 0, 0, 0, 0, 0, 0, 0, 0, 0, 0, 0, 0, 0, 0, 0, 0, 0, 0, 0, 0, 0, 0, 0, 0, 0, 0, 0, 0, 0, 0, 0, 0, 0, 0, 0, 0, 0, 0, 0, 0, 0, 0, 0, 0, 0, 0, 0, 0, 0, 0, 0, 0, 0, 0, 0, 0, 0, 0, 0, 0, 0, 0, 0, 0, 0, 0, 0, 0, 0, 0, 0, 0, 0, 0, 0, 0, 0, 0, 0, 0, 0, 0, 0, 0, 0, 0, 0, 0, 0, 0, 0, 0, 0, 0, 0, 0, 0, 0, 0, 0, 0, 0, 0, 0, 0, 0, 0, 0, 0, 0, 0, 0, 0, 0, 0, 0, 0, 0, 0, 0, 0, 0, 0, 0, 0, 0, 0, 0, 0, 0, 0, 0, 0, 0, 0, 0, 0, 0, 0, 0, 0, 0, 0, 0, 0, 0, 0, 0, 0, 0, 0, 0, 0, 0, 0, 0, 0, 0, 0, 0, 0, 1, 0, 0, 0, 0, 0, 0, 0, 0, 0, 0, 0, 0, 0, 0, 0, 0, 0, 0, 0, 0, 0, 0, 0, 0, 0, 0, 0, 0, 0, 0, 0, 0, 0, 0, 0, 0, 0, 0, 0, 0, 0, 0, 0, 0, 0, 0, 0, 0, 0, 0, 0, 0, 0, 0, 0, 0, 0, 0, 0, 0, 0, 0, 0, 0, 0, 0, 0, 0, 0, 0, 0, 0, 0, 0, 0, 0, 0, 0, 0, 0, 0, 0, 0, 0, 0, 0, 0, 0, 0, 0, 0, 0, 0, 0, 0, 0, 0, 0, 0, 0, 0, 0, 0, 0, 0, 0, 0, 0, 0, 0, 2, 0, 0, 0, 0, 0, 0, 0, 0, 0, 0, 0, 0, 0, 0, 0, 0, 0, 0, 0, 0, 0, 0, 0, 0, 0, 0, 0, 0, 0, 0, 0, 0, 0, 0, 0, 0, 0, 0, 0, 0, 0, 0, 0, 0, 0, 0, 0, 0, 0, 0, 0, 0, 0, 0, 0, 0, 0, 0, 0, 0, 0, 0, 0, 0, 0, 0, 0, 0, 0, 0, 0, 0, 0, 0, 0, 0, 0, 0, 0, 0, 0, 0, 0, 0, 0, 0, 0, 0, 0, 0, 0, 0, 0, 0, 0, 0, 0, 0, 0, 0, 0, 0, 0, 0, 0, 0, 0, 0, 0, 0, 0, 0, 0, 0, 0, 0, 0, 0, 0, 0, 0, 0, 0, 0, 0, 0, 0, 0, 0, 0, 0, 0, 0, 0, 0, 0, 0, 0, 0, 0, 0, 0, 0, 0, 0, 0, 0, 0, 0, 0, 0, 0, 0, 0, 0, 0, 0, 0, 0, 0, 0, 0, 0, 0, 0, 0, 0, 0, 0, 0, 0, 0, 0, 0, 0, 0, 0, 0, 0, 0, 0, 0, 0, 0, 0, 0, 0, 0, 0, 0, 0, 0, 0, 0, 0, 0, 0, 0, 0, 0, 0, 0, 0, 0, 0, 0, 0, 0, 0, 0, 0, 0, 0, 0, 0, 0, 0, 0, 0, 0, 0, 0, 0, 0, 0, 0, 0, 0, 0, 0, 0, 0, 0, 0, 0, 0, 0, 0, 0, 0, 0, 0, 0, 0, 0, 0, 0, 0, 0, 0, 0, 0, 0, 0, 0, 0, 0, 0, 0, 0, 0, 0, 0, 0, 0, 0, 0, 0, 0, 0, 0, 0, 0, 0, 0, 0, 0, 0, 0, 0, 0, 0, 0, 0, 0, 0, 0, 0, 0, 0, 0, 0, 0, 0, 0, 0, 0, 0, 0, 0, 0, 0, 0, 0, 0, 0, 0, 0, 0, 0, 0, 0, 0, 0, 0, 0, 0, 0, 0, 0, 0, 0, 0, 0, 0, 0, 0, 0, 0, 0, 0, 0, 0, 0, 0, 0, 0, 0, 0, 0, 0, 0, 0, 0, 0, 0, 0, 0, 0, 0, 0, 0, 0, 0, 0, 0, 0, 0, 0, 0, 0, 0, 0, 0, 0, 0, 0, 0, 0, 0, 0, 0, 0, 0, 0, 0, 0, 0, 0, 0, 0, 0, 0, 0, 0, 0, 0, 0, 0, 0, 0, 0, 0, 0, 0, 0, 0, 0, 0, 0, 0, 0, 0, 0, 0, 0, 0, 0, 0, 0, 0, 0, 0, 0, 0, 0, 0, 0, 0, 0, 0, 0, 0, 0, 0, 0, 0, 0, 0, 0, 0, 0, 0, 0, 0, 0, 0, 0, 0, 0, 0, 0, 0, 0, 0, 0, 0, 0, 0, 0, 0, 0, 0, 0, 0, 0, 0, 0, 0, 0, 0, 0, 0, 0, 0, 0, 0, 0, 0, 0, 0, 0, 0, 0, 0, 0, 0, 0, 0, 0, 0, 0, 0, 0, 0, 0, 0, 0, 0, 0, 0, 0, 0, 0, 0, 0, 0, 0, 0, 0, 0, 0, 0, 0, 0, 0, 0, 0, 0, 0, 0, 0, 0, 0, 0, 0, 0, 0, 0, 0, 0, 0, 0, 0, 0, 0, 0, 0, 0, 0, 0, 0, 0, 0, 0, 0, 0, 0, 0, 0, 0, 0, 0, 0, 0, 0, 0, 0, 0, 0, 0, 0, 0, 0, 0, 0, 0, 0, 0, 0, 0, 0, 0, 0, 0, 0, 0, 0, 0, 0, 0, 0, 0, 0, 0, 0, 0, 0, 0, 0, 0, 0, 0, 0, 0, 0, 0, 0, 0, 0, 0, 0, 0, 0, 0, 0, 0, 0, 0, 0, 0, 0, 0, 0, 0, 0, 0, 0, 0, 0, 0, 0, 0, 0, 0, 0, 0, 0, 0, 0, 0, 0, 0, 0, 0, 0, 0, 0, 0, 0, 0, 0, 0, 0, 0, 0, 0, 0, 0, 0, 0, 0, 0, 0, 0, 0, 0, 0, 0, 0, 0, 0, 0, 0, 0, 0, 0, 0, 0, 0, 0, 0, 0, 0, 0, 0, 0, 0, 0, 0, 0, 0, 0, 0, 0, 0, 0, 0, 0, 0, 0, 0, 0, 0, 0, 0, 0, 0, 0, 0, 1, 0, 0, 0, 0, 0, 0, 0, 0, 0, 0, 0, 0, 0, 0, 0, 0, 0, 0, 0, 0, 0, 0, 0, 0, 0, 0, 0, 0, 0, 0, 0, 0, 0, 0, 0, 0, 0, 0, 0, 0, 0, 0, 0, 0, 0, 0, 0, 0, 0, 0, 0, 0, 0, 0, 0, 0, 0, 0, 0, 0, 0, 0, 0, 0, 0, 0, 0, 0, 0, 0, 0, 0, 0, 0, 0, 0, 0, 0, 0, 0, 0, 0, 0, 0, 0, 0, 0, 0, 0, 0, 0, 0, 0, 0, 0, 0, 0, 0, 0, 0, 0, 0, 0, 0, 0, 0, 0, 1, 0, 0, 0, 0, 0, 0, 0, 0, 0, 0, 0, 0, 0, 0, 0, 0, 0, 0, 0, 0, 0, 0, 0, 0, 0, 0, 0, 0, 0, 0, 0, 0, 0, 0, 0, 0, 0, 0, 0, 0, 0, 0, 0, 0, 0, 0, 0, 0, 0, 0, 0, 0, 0, 0, 0, 0, 0, 0, 0, 0, 0, 0, 0, 0, 0, 0, 0, 0, 0, 0, 0, 0, 0, 0, 0, 0, 0, 0, 0, 0, 0, 0, 0, 0, 0, 0, 0, 0, 0, 0, 0, 0, 0, 0, 0, 0, 0, 0, 0, 0, 0, 0, 0, 0, 0, 0, 0, 0, 0, 0, 0, 0, 0, 0, 0, 0, 0, 0, 0, 0, 0, 0, 0, 0, 0, 0, 0, 0, 0, 0, 0, 0, 0, 0, 0, 0, 0, 0, 0, 0, 0, 0, 0, 0, 0, 0, 0, 0, 0, 0, 0, 0, 0, 0, 0, 0, 0, 0, 0, 0, 0, 0, 0, 0, 0, 0, 0, 0, 0, 0, 0, 0, 0, 0, 0, 0, 0, 0, 0, 0, 0, 0, 0, 0, 0, 0, 0, 0, 0, 0, 0, 0, 0, 0, 0, 0, 0, 0, 0, 0, 0, 0, 0, 0, 0, 0, 0, 0, 0, 0, 0, 0, 0, 0, 0, 0, 0, 0, 0, 0, 0, 0, 0, 0, 0, 0, 0, 0, 0, 0, 0, 0, 0, 0, 0, 0, 0, 0, 0, 0, 0, 0, 0, 0, 0, 0, 0, 0, 0, 0, 0, 0, 0, 0, 0, 0, 0, 0, 0, 0, 0, 0, 0, 0, 0, 0, 0, 0, 0, 0, 0, 0, 0, 0, 0, 0, 0, 0, 0, 0, 0, 0, 0, 0, 0, 0, 0, 0, 0, 0, 0, 0, 0, 0, 0, 0, 0, 0, 0, 0, 0, 0, 0, 0, 0, 0, 0, 0, 0, 0, 0, 0, 0, 0, 0, 0, 0, 0, 0, 0, 0, 0, 0, 0, 0, 0, 0, 0, 0, 0, 0, 0, 0, 0, 0, 0, 0, 0, 0, 0, 0, 0, 0, 0, 0, 0, 0, 0, 0, 0, 0, 0, 0, 0, 0, 0, 0, 0, 0, 0, 0, 0, 0, 0, 0, 0, 0, 0, 0, 0, 0, 0, 0, 0, 0, 0, 0, 0, 0, 0, 0, 0, 0, 0, 0, 0, 0, 0, 0, 0, 0, 0, 0, 0, 0, 0, 0, 0, 0, 0, 0, 0, 0, 0, 0, 0, 0, 0, 0, 0, 0, 0, 0, 0, 0, 0, 0, 0, 0, 0, 0, 0, 0, 0, 0, 0, 0, 0, 0, 0, 0, 0, 0, 0, 0, 0, 0, 0, 0, 0, 0, 0, 0, 0, 0, 0, 0, 0, 0, 0, 0, 0, 0, 0, 0, 0, 0, 0, 0, 0, 0, 0, 0, 2, 0, 1, 0], type: <class 'list'>, valid types: <class 'bytes'>, <class 'bytearray'>, file-like object",
     "output_type": "error",
     "traceback": [
      "\u001b[0;31m---------------------------------------------------------------------------\u001b[0m",
      "\u001b[0;31mParamValidationError\u001b[0m                      Traceback (most recent call last)",
      "\u001b[0;32m<ipython-input-48-4915e3b88b37>\u001b[0m in \u001b[0;36m<module>\u001b[0;34m\u001b[0m\n\u001b[1;32m      1\u001b[0m response = runtime.invoke_endpoint(EndpointName = xgb_predictor.endpoint, # The name of the endpoint we created\n\u001b[1;32m      2\u001b[0m                                    \u001b[0mContentType\u001b[0m \u001b[0;34m=\u001b[0m \u001b[0;34m'text/csv'\u001b[0m\u001b[0;34m,\u001b[0m          \u001b[0;31m# The data format that is expected\u001b[0m\u001b[0;34m\u001b[0m\u001b[0;34m\u001b[0m\u001b[0m\n\u001b[0;32m----> 3\u001b[0;31m                                    Body = test_bow)\n\u001b[0m",
      "\u001b[0;32m~/anaconda3/envs/python3/lib/python3.6/site-packages/botocore/client.py\u001b[0m in \u001b[0;36m_api_call\u001b[0;34m(self, *args, **kwargs)\u001b[0m\n\u001b[1;32m    314\u001b[0m                     \"%s() only accepts keyword arguments.\" % py_operation_name)\n\u001b[1;32m    315\u001b[0m             \u001b[0;31m# The \"self\" in this scope is referring to the BaseClient.\u001b[0m\u001b[0;34m\u001b[0m\u001b[0;34m\u001b[0m\u001b[0;34m\u001b[0m\u001b[0m\n\u001b[0;32m--> 316\u001b[0;31m             \u001b[0;32mreturn\u001b[0m \u001b[0mself\u001b[0m\u001b[0;34m.\u001b[0m\u001b[0m_make_api_call\u001b[0m\u001b[0;34m(\u001b[0m\u001b[0moperation_name\u001b[0m\u001b[0;34m,\u001b[0m \u001b[0mkwargs\u001b[0m\u001b[0;34m)\u001b[0m\u001b[0;34m\u001b[0m\u001b[0;34m\u001b[0m\u001b[0m\n\u001b[0m\u001b[1;32m    317\u001b[0m \u001b[0;34m\u001b[0m\u001b[0m\n\u001b[1;32m    318\u001b[0m         \u001b[0m_api_call\u001b[0m\u001b[0;34m.\u001b[0m\u001b[0m__name__\u001b[0m \u001b[0;34m=\u001b[0m \u001b[0mstr\u001b[0m\u001b[0;34m(\u001b[0m\u001b[0mpy_operation_name\u001b[0m\u001b[0;34m)\u001b[0m\u001b[0;34m\u001b[0m\u001b[0;34m\u001b[0m\u001b[0m\n",
      "\u001b[0;32m~/anaconda3/envs/python3/lib/python3.6/site-packages/botocore/client.py\u001b[0m in \u001b[0;36m_make_api_call\u001b[0;34m(self, operation_name, api_params)\u001b[0m\n\u001b[1;32m    606\u001b[0m         }\n\u001b[1;32m    607\u001b[0m         request_dict = self._convert_to_request_dict(\n\u001b[0;32m--> 608\u001b[0;31m             api_params, operation_model, context=request_context)\n\u001b[0m\u001b[1;32m    609\u001b[0m \u001b[0;34m\u001b[0m\u001b[0m\n\u001b[1;32m    610\u001b[0m         \u001b[0mservice_id\u001b[0m \u001b[0;34m=\u001b[0m \u001b[0mself\u001b[0m\u001b[0;34m.\u001b[0m\u001b[0m_service_model\u001b[0m\u001b[0;34m.\u001b[0m\u001b[0mservice_id\u001b[0m\u001b[0;34m.\u001b[0m\u001b[0mhyphenize\u001b[0m\u001b[0;34m(\u001b[0m\u001b[0;34m)\u001b[0m\u001b[0;34m\u001b[0m\u001b[0;34m\u001b[0m\u001b[0m\n",
      "\u001b[0;32m~/anaconda3/envs/python3/lib/python3.6/site-packages/botocore/client.py\u001b[0m in \u001b[0;36m_convert_to_request_dict\u001b[0;34m(self, api_params, operation_model, context)\u001b[0m\n\u001b[1;32m    654\u001b[0m             api_params, operation_model, context)\n\u001b[1;32m    655\u001b[0m         request_dict = self._serializer.serialize_to_request(\n\u001b[0;32m--> 656\u001b[0;31m             api_params, operation_model)\n\u001b[0m\u001b[1;32m    657\u001b[0m         \u001b[0;32mif\u001b[0m \u001b[0;32mnot\u001b[0m \u001b[0mself\u001b[0m\u001b[0;34m.\u001b[0m\u001b[0m_client_config\u001b[0m\u001b[0;34m.\u001b[0m\u001b[0minject_host_prefix\u001b[0m\u001b[0;34m:\u001b[0m\u001b[0;34m\u001b[0m\u001b[0;34m\u001b[0m\u001b[0m\n\u001b[1;32m    658\u001b[0m             \u001b[0mrequest_dict\u001b[0m\u001b[0;34m.\u001b[0m\u001b[0mpop\u001b[0m\u001b[0;34m(\u001b[0m\u001b[0;34m'host_prefix'\u001b[0m\u001b[0;34m,\u001b[0m \u001b[0;32mNone\u001b[0m\u001b[0;34m)\u001b[0m\u001b[0;34m\u001b[0m\u001b[0;34m\u001b[0m\u001b[0m\n",
      "\u001b[0;32m~/anaconda3/envs/python3/lib/python3.6/site-packages/botocore/validate.py\u001b[0m in \u001b[0;36mserialize_to_request\u001b[0;34m(self, parameters, operation_model)\u001b[0m\n\u001b[1;32m    295\u001b[0m                                                     operation_model.input_shape)\n\u001b[1;32m    296\u001b[0m             \u001b[0;32mif\u001b[0m \u001b[0mreport\u001b[0m\u001b[0;34m.\u001b[0m\u001b[0mhas_errors\u001b[0m\u001b[0;34m(\u001b[0m\u001b[0;34m)\u001b[0m\u001b[0;34m:\u001b[0m\u001b[0;34m\u001b[0m\u001b[0;34m\u001b[0m\u001b[0m\n\u001b[0;32m--> 297\u001b[0;31m                 \u001b[0;32mraise\u001b[0m \u001b[0mParamValidationError\u001b[0m\u001b[0;34m(\u001b[0m\u001b[0mreport\u001b[0m\u001b[0;34m=\u001b[0m\u001b[0mreport\u001b[0m\u001b[0;34m.\u001b[0m\u001b[0mgenerate_report\u001b[0m\u001b[0;34m(\u001b[0m\u001b[0;34m)\u001b[0m\u001b[0;34m)\u001b[0m\u001b[0;34m\u001b[0m\u001b[0;34m\u001b[0m\u001b[0m\n\u001b[0m\u001b[1;32m    298\u001b[0m         return self._serializer.serialize_to_request(parameters,\n\u001b[1;32m    299\u001b[0m                                                      operation_model)\n",
      "\u001b[0;31mParamValidationError\u001b[0m: Parameter validation failed:\nInvalid type for parameter Body, value: [0, 0, 0, 0, 0, 0, 0, 0, 0, 0, 0, 0, 0, 0, 0, 0, 0, 0, 0, 0, 0, 0, 0, 0, 0, 0, 0, 0, 0, 0, 0, 0, 0, 0, 0, 0, 0, 0, 0, 0, 0, 0, 0, 0, 0, 0, 0, 0, 0, 0, 0, 0, 0, 0, 0, 0, 0, 0, 0, 0, 0, 0, 0, 0, 0, 0, 0, 0, 0, 0, 0, 0, 0, 0, 0, 0, 0, 0, 0, 0, 0, 0, 0, 0, 0, 0, 0, 0, 0, 0, 0, 0, 0, 0, 0, 0, 0, 0, 0, 0, 0, 0, 0, 0, 0, 0, 0, 0, 0, 0, 0, 0, 0, 0, 0, 0, 0, 0, 0, 0, 0, 0, 0, 0, 0, 0, 0, 0, 0, 0, 0, 0, 0, 0, 0, 0, 0, 0, 0, 0, 0, 0, 0, 0, 0, 0, 0, 0, 0, 0, 0, 0, 0, 0, 0, 0, 0, 0, 0, 0, 0, 0, 0, 0, 0, 0, 0, 0, 0, 0, 0, 0, 0, 0, 0, 0, 0, 0, 0, 0, 0, 0, 0, 0, 0, 0, 0, 0, 0, 0, 0, 0, 0, 0, 0, 0, 0, 0, 0, 0, 0, 0, 0, 0, 0, 0, 0, 0, 0, 0, 0, 0, 0, 0, 0, 0, 0, 0, 0, 0, 0, 0, 0, 0, 0, 0, 1, 0, 0, 0, 0, 0, 0, 0, 0, 0, 0, 0, 0, 0, 0, 0, 0, 0, 0, 0, 0, 0, 0, 0, 0, 0, 0, 0, 0, 0, 1, 0, 0, 0, 0, 0, 0, 0, 0, 0, 0, 0, 0, 0, 0, 0, 0, 0, 0, 0, 0, 0, 0, 0, 0, 0, 0, 0, 0, 0, 0, 0, 0, 0, 0, 0, 0, 0, 0, 0, 0, 0, 0, 0, 0, 0, 0, 0, 0, 0, 0, 0, 0, 0, 0, 0, 0, 0, 0, 0, 0, 0, 0, 0, 0, 0, 0, 0, 0, 0, 0, 0, 0, 0, 0, 0, 0, 0, 0, 0, 0, 0, 0, 0, 0, 0, 0, 0, 0, 0, 0, 0, 0, 0, 0, 0, 0, 0, 0, 0, 0, 0, 0, 0, 0, 0, 0, 0, 0, 0, 0, 0, 0, 0, 0, 0, 0, 0, 0, 0, 0, 0, 0, 0, 0, 0, 0, 0, 0, 0, 0, 0, 0, 0, 0, 0, 0, 0, 0, 0, 0, 0, 0, 0, 0, 0, 0, 0, 0, 0, 0, 0, 0, 0, 0, 0, 0, 0, 0, 0, 0, 0, 0, 0, 0, 0, 0, 0, 0, 0, 0, 0, 0, 0, 0, 0, 0, 0, 0, 0, 0, 0, 0, 0, 0, 0, 0, 0, 0, 0, 0, 0, 0, 0, 0, 0, 0, 0, 0, 0, 0, 0, 0, 0, 0, 0, 0, 0, 0, 0, 0, 0, 0, 0, 0, 0, 0, 0, 0, 0, 0, 0, 0, 0, 0, 0, 0, 0, 0, 0, 0, 0, 0, 0, 0, 0, 0, 0, 0, 0, 0, 0, 0, 0, 0, 0, 0, 0, 0, 0, 0, 0, 0, 0, 0, 0, 0, 0, 0, 0, 0, 0, 0, 0, 0, 0, 0, 0, 0, 0, 0, 0, 0, 0, 0, 0, 0, 0, 0, 0, 0, 0, 0, 0, 0, 0, 0, 0, 0, 0, 0, 0, 0, 0, 0, 0, 0, 0, 0, 0, 0, 0, 0, 0, 0, 0, 0, 0, 0, 0, 0, 0, 0, 0, 0, 0, 0, 0, 0, 0, 0, 0, 0, 0, 0, 0, 0, 0, 0, 0, 0, 0, 0, 0, 0, 0, 0, 0, 0, 0, 0, 0, 0, 0, 0, 0, 0, 0, 0, 0, 0, 0, 0, 0, 0, 0, 0, 0, 0, 0, 0, 0, 0, 0, 0, 0, 0, 0, 0, 0, 0, 0, 0, 0, 0, 0, 0, 0, 0, 0, 1, 0, 0, 0, 0, 0, 0, 0, 0, 0, 0, 0, 0, 0, 0, 0, 0, 0, 0, 0, 0, 0, 0, 0, 0, 0, 0, 0, 0, 0, 0, 0, 0, 0, 0, 0, 0, 0, 0, 0, 0, 0, 0, 0, 0, 0, 0, 0, 0, 0, 0, 0, 0, 0, 0, 0, 0, 0, 0, 0, 0, 0, 0, 0, 0, 0, 0, 0, 0, 0, 0, 0, 0, 0, 0, 0, 0, 0, 0, 0, 0, 0, 0, 0, 0, 0, 0, 0, 0, 0, 0, 0, 0, 0, 0, 0, 0, 0, 0, 0, 0, 0, 0, 0, 0, 0, 0, 0, 0, 0, 0, 0, 0, 0, 0, 0, 0, 0, 0, 0, 0, 0, 0, 0, 0, 0, 0, 0, 0, 0, 0, 0, 0, 0, 0, 0, 0, 0, 0, 0, 0, 0, 0, 0, 0, 0, 0, 0, 0, 0, 0, 0, 0, 0, 0, 0, 0, 0, 0, 0, 0, 0, 0, 0, 0, 0, 0, 0, 0, 0, 0, 0, 0, 0, 0, 0, 0, 0, 0, 0, 0, 0, 0, 0, 0, 0, 0, 0, 0, 0, 0, 0, 0, 0, 0, 0, 0, 0, 0, 0, 0, 0, 0, 0, 0, 0, 0, 0, 0, 0, 0, 0, 0, 0, 0, 0, 0, 0, 0, 0, 0, 0, 0, 0, 0, 0, 0, 0, 0, 0, 0, 0, 0, 0, 0, 0, 0, 0, 0, 0, 0, 0, 0, 0, 0, 0, 0, 0, 0, 0, 0, 0, 0, 0, 1, 0, 0, 0, 0, 0, 0, 0, 0, 0, 0, 0, 0, 0, 0, 0, 0, 0, 0, 0, 0, 0, 0, 0, 0, 0, 0, 0, 0, 0, 0, 0, 0, 0, 0, 0, 0, 0, 0, 0, 0, 0, 0, 0, 0, 0, 0, 0, 0, 0, 0, 0, 0, 0, 0, 0, 0, 0, 0, 0, 0, 0, 0, 0, 0, 0, 0, 0, 0, 0, 0, 0, 0, 0, 0, 0, 0, 0, 0, 0, 0, 0, 0, 0, 0, 0, 0, 1, 0, 0, 0, 0, 0, 0, 0, 0, 0, 0, 0, 0, 0, 0, 0, 0, 0, 0, 0, 0, 0, 0, 0, 0, 0, 0, 0, 0, 0, 0, 0, 0, 0, 0, 0, 0, 0, 0, 0, 0, 0, 0, 0, 0, 0, 0, 0, 0, 0, 0, 0, 0, 0, 0, 0, 0, 0, 0, 0, 0, 0, 0, 0, 0, 0, 0, 0, 0, 0, 0, 0, 0, 0, 0, 0, 0, 0, 0, 0, 0, 0, 0, 0, 0, 0, 0, 0, 0, 0, 0, 0, 0, 0, 0, 0, 0, 0, 0, 0, 0, 0, 0, 0, 0, 0, 0, 0, 0, 0, 0, 0, 0, 0, 0, 0, 0, 0, 0, 0, 0, 0, 0, 0, 0, 0, 0, 0, 0, 0, 0, 0, 0, 0, 0, 0, 0, 0, 0, 0, 0, 0, 0, 0, 0, 0, 0, 0, 0, 0, 0, 0, 0, 0, 0, 0, 0, 0, 0, 0, 0, 0, 0, 0, 0, 0, 0, 0, 0, 0, 0, 0, 0, 0, 0, 0, 0, 0, 0, 0, 0, 0, 0, 0, 0, 0, 0, 0, 0, 0, 0, 0, 0, 0, 0, 0, 0, 0, 0, 0, 0, 0, 0, 0, 0, 0, 0, 0, 0, 0, 0, 0, 0, 0, 0, 0, 0, 0, 0, 0, 0, 0, 0, 0, 0, 0, 0, 0, 0, 0, 0, 0, 0, 0, 0, 0, 0, 0, 0, 0, 0, 0, 0, 0, 0, 0, 0, 0, 0, 0, 0, 0, 0, 1, 0, 0, 0, 0, 0, 0, 0, 0, 0, 0, 0, 0, 0, 0, 0, 0, 0, 0, 0, 0, 0, 0, 0, 0, 0, 0, 0, 0, 0, 0, 0, 0, 0, 0, 0, 0, 0, 0, 0, 0, 0, 0, 0, 0, 0, 0, 0, 0, 0, 0, 0, 0, 0, 0, 0, 1, 0, 0, 0, 0, 0, 0, 0, 0, 0, 0, 0, 0, 0, 0, 0, 0, 0, 0, 0, 0, 0, 0, 0, 0, 0, 0, 0, 0, 0, 0, 0, 0, 0, 0, 0, 0, 0, 0, 0, 0, 0, 0, 0, 0, 0, 0, 0, 0, 0, 0, 0, 0, 0, 0, 0, 0, 0, 0, 0, 0, 0, 0, 0, 0, 0, 0, 0, 0, 0, 0, 0, 0, 0, 0, 0, 0, 0, 0, 0, 0, 0, 0, 0, 0, 0, 0, 0, 0, 0, 0, 0, 0, 0, 0, 0, 0, 0, 0, 0, 0, 0, 0, 0, 0, 0, 0, 0, 0, 0, 0, 0, 0, 0, 0, 0, 0, 0, 0, 0, 0, 0, 0, 0, 0, 0, 0, 0, 0, 0, 0, 0, 0, 0, 0, 0, 0, 0, 0, 0, 0, 0, 0, 0, 0, 0, 0, 0, 0, 0, 0, 0, 0, 0, 0, 0, 0, 0, 0, 0, 0, 0, 0, 0, 0, 0, 0, 0, 0, 0, 0, 0, 0, 0, 0, 0, 0, 0, 0, 0, 0, 0, 0, 0, 0, 0, 0, 0, 0, 0, 0, 0, 0, 0, 0, 0, 0, 0, 0, 0, 0, 0, 0, 0, 0, 0, 0, 0, 0, 0, 0, 0, 0, 0, 0, 0, 0, 0, 0, 0, 0, 0, 0, 0, 0, 0, 0, 0, 0, 0, 0, 0, 0, 0, 0, 0, 0, 0, 0, 0, 0, 0, 0, 0, 0, 0, 0, 0, 0, 0, 0, 0, 0, 0, 0, 0, 0, 0, 0, 0, 0, 0, 0, 0, 0, 0, 0, 0, 0, 0, 0, 0, 0, 0, 0, 0, 0, 0, 0, 0, 0, 0, 0, 0, 0, 0, 0, 0, 0, 0, 0, 0, 0, 0, 0, 0, 0, 0, 0, 0, 0, 0, 0, 0, 0, 0, 0, 0, 0, 0, 0, 0, 0, 0, 0, 0, 0, 0, 0, 0, 0, 0, 0, 0, 0, 0, 0, 0, 0, 0, 0, 0, 0, 0, 0, 0, 0, 0, 0, 0, 0, 0, 0, 0, 0, 0, 0, 0, 0, 0, 0, 0, 0, 0, 0, 0, 0, 0, 0, 0, 0, 0, 0, 0, 0, 0, 0, 0, 0, 0, 0, 0, 0, 0, 0, 0, 0, 0, 0, 0, 0, 0, 0, 0, 0, 0, 0, 0, 0, 0, 0, 0, 0, 0, 0, 0, 0, 0, 0, 0, 0, 0, 0, 0, 0, 0, 0, 0, 0, 0, 0, 0, 0, 0, 0, 0, 0, 0, 0, 0, 0, 0, 0, 0, 0, 0, 0, 0, 0, 0, 0, 0, 0, 0, 0, 0, 0, 0, 0, 0, 0, 0, 0, 0, 0, 0, 0, 0, 0, 0, 0, 0, 0, 0, 0, 0, 0, 0, 0, 0, 0, 0, 0, 0, 0, 0, 0, 0, 0, 0, 0, 0, 0, 0, 0, 0, 0, 0, 0, 0, 0, 0, 0, 0, 0, 0, 0, 0, 0, 0, 0, 0, 0, 0, 0, 0, 0, 0, 0, 0, 0, 0, 0, 0, 0, 0, 0, 0, 0, 0, 0, 0, 0, 0, 0, 0, 0, 0, 0, 0, 0, 0, 0, 0, 0, 0, 0, 0, 0, 0, 0, 0, 0, 0, 0, 0, 0, 0, 0, 0, 0, 0, 0, 0, 0, 0, 0, 0, 0, 0, 0, 0, 0, 0, 0, 0, 0, 0, 0, 0, 0, 0, 0, 0, 0, 0, 0, 0, 0, 0, 0, 0, 0, 0, 0, 0, 0, 0, 0, 0, 0, 0, 0, 0, 0, 0, 0, 0, 0, 0, 0, 0, 0, 0, 0, 0, 0, 0, 0, 0, 0, 0, 0, 0, 0, 0, 0, 0, 0, 0, 0, 0, 0, 0, 0, 0, 0, 0, 0, 0, 0, 0, 0, 0, 0, 0, 0, 0, 0, 0, 0, 0, 0, 0, 0, 0, 0, 0, 0, 0, 0, 0, 0, 0, 0, 0, 0, 0, 0, 0, 0, 0, 0, 0, 0, 0, 0, 0, 0, 0, 0, 0, 0, 0, 0, 0, 0, 0, 0, 0, 0, 0, 0, 0, 0, 0, 0, 0, 0, 0, 0, 0, 1, 0, 0, 0, 0, 0, 0, 0, 0, 0, 0, 0, 0, 0, 0, 0, 0, 0, 0, 0, 0, 0, 0, 0, 0, 0, 0, 0, 0, 0, 0, 0, 0, 0, 0, 0, 0, 0, 0, 0, 0, 0, 0, 0, 0, 0, 0, 0, 0, 0, 0, 0, 0, 0, 0, 0, 0, 0, 0, 0, 0, 0, 0, 0, 0, 0, 0, 0, 0, 0, 0, 0, 0, 0, 0, 1, 0, 0, 0, 0, 0, 0, 0, 0, 0, 0, 0, 0, 0, 0, 0, 0, 0, 0, 0, 0, 1, 0, 0, 1, 0, 0, 0, 0, 0, 0, 0, 0, 0, 0, 0, 0, 0, 0, 0, 0, 0, 0, 0, 0, 0, 0, 0, 0, 0, 0, 0, 0, 0, 0, 0, 0, 0, 0, 0, 0, 0, 0, 0, 0, 0, 0, 0, 0, 0, 0, 0, 0, 0, 0, 0, 0, 0, 0, 0, 0, 0, 0, 0, 0, 0, 0, 0, 0, 0, 0, 0, 0, 0, 0, 0, 0, 0, 0, 0, 0, 0, 0, 0, 0, 0, 0, 0, 0, 0, 0, 0, 0, 0, 0, 0, 0, 0, 0, 0, 0, 0, 0, 0, 0, 0, 0, 0, 0, 0, 0, 0, 0, 0, 0, 0, 0, 0, 0, 0, 0, 0, 0, 0, 0, 0, 0, 0, 0, 0, 0, 0, 0, 0, 0, 0, 0, 0, 0, 0, 0, 0, 0, 0, 0, 0, 0, 0, 0, 0, 0, 0, 0, 0, 0, 0, 0, 0, 0, 0, 0, 0, 0, 0, 0, 0, 0, 0, 0, 0, 0, 0, 0, 0, 0, 0, 0, 0, 0, 0, 0, 0, 0, 0, 0, 0, 0, 0, 0, 0, 0, 0, 0, 0, 0, 0, 0, 0, 0, 0, 0, 0, 0, 0, 0, 0, 0, 0, 0, 0, 0, 0, 0, 0, 0, 0, 0, 0, 0, 0, 0, 0, 0, 0, 0, 0, 0, 0, 0, 0, 0, 0, 0, 0, 0, 0, 0, 0, 0, 0, 0, 0, 0, 0, 0, 0, 0, 0, 0, 0, 0, 0, 0, 0, 0, 0, 0, 0, 0, 0, 0, 0, 0, 0, 0, 0, 0, 0, 0, 0, 0, 0, 0, 0, 0, 0, 0, 0, 0, 0, 0, 0, 0, 0, 0, 0, 0, 0, 0, 0, 0, 0, 0, 0, 0, 0, 0, 0, 0, 0, 0, 0, 0, 0, 0, 0, 0, 0, 0, 0, 0, 0, 0, 0, 0, 0, 0, 0, 0, 0, 0, 0, 0, 0, 0, 0, 0, 0, 0, 0, 0, 0, 0, 0, 0, 0, 0, 0, 0, 0, 0, 0, 0, 0, 0, 0, 0, 0, 0, 0, 0, 0, 0, 0, 0, 0, 0, 0, 0, 0, 0, 0, 0, 0, 0, 0, 0, 0, 0, 0, 0, 0, 0, 0, 0, 0, 0, 0, 0, 0, 0, 0, 0, 0, 0, 0, 0, 0, 0, 0, 0, 0, 0, 0, 0, 0, 0, 0, 0, 0, 0, 0, 0, 0, 0, 0, 0, 0, 0, 0, 0, 0, 0, 0, 0, 0, 0, 0, 0, 0, 0, 0, 0, 0, 0, 0, 0, 0, 0, 0, 0, 0, 0, 0, 0, 0, 0, 0, 0, 0, 0, 0, 0, 0, 0, 0, 0, 0, 0, 0, 0, 0, 0, 0, 0, 0, 0, 0, 0, 0, 0, 0, 0, 0, 0, 0, 0, 0, 0, 0, 0, 1, 0, 0, 0, 0, 0, 0, 0, 0, 0, 0, 0, 0, 0, 0, 0, 0, 0, 0, 0, 0, 0, 0, 0, 0, 0, 0, 0, 0, 0, 0, 0, 0, 0, 0, 0, 0, 0, 0, 0, 0, 0, 0, 0, 0, 0, 0, 0, 0, 0, 0, 0, 0, 0, 0, 0, 0, 0, 0, 0, 0, 0, 0, 0, 0, 0, 0, 0, 0, 0, 0, 0, 0, 0, 0, 0, 0, 0, 0, 0, 0, 0, 0, 0, 0, 0, 0, 0, 0, 0, 0, 0, 0, 0, 0, 0, 0, 0, 0, 0, 0, 0, 0, 0, 0, 0, 0, 0, 0, 0, 0, 0, 0, 0, 0, 0, 0, 0, 0, 0, 0, 0, 0, 0, 0, 0, 0, 0, 0, 0, 0, 0, 0, 0, 0, 0, 0, 0, 0, 0, 0, 0, 0, 0, 0, 0, 0, 0, 0, 0, 0, 0, 0, 0, 0, 0, 0, 0, 0, 0, 0, 0, 0, 0, 0, 0, 0, 0, 0, 0, 0, 0, 0, 0, 0, 0, 0, 0, 0, 0, 0, 0, 0, 0, 0, 0, 0, 0, 0, 0, 0, 0, 0, 0, 0, 0, 0, 0, 0, 0, 0, 0, 0, 0, 0, 0, 0, 0, 0, 0, 0, 0, 0, 0, 0, 0, 0, 0, 0, 0, 0, 0, 0, 0, 0, 0, 0, 0, 0, 0, 0, 0, 0, 0, 0, 0, 0, 0, 0, 0, 0, 0, 0, 0, 0, 0, 0, 0, 0, 0, 0, 0, 0, 0, 0, 0, 0, 0, 0, 0, 0, 0, 0, 0, 0, 0, 0, 0, 0, 0, 0, 0, 0, 0, 0, 0, 0, 0, 0, 0, 0, 0, 0, 0, 0, 0, 0, 0, 0, 0, 0, 0, 0, 0, 0, 0, 0, 0, 0, 0, 0, 0, 0, 0, 0, 0, 0, 0, 0, 0, 0, 0, 0, 0, 0, 0, 0, 0, 0, 0, 0, 0, 0, 0, 0, 0, 0, 0, 0, 0, 0, 0, 0, 0, 0, 0, 0, 0, 0, 0, 0, 0, 0, 0, 0, 0, 0, 0, 0, 0, 0, 0, 0, 0, 0, 0, 0, 0, 0, 0, 0, 0, 0, 0, 0, 0, 0, 0, 0, 0, 0, 0, 0, 0, 0, 0, 0, 0, 0, 0, 0, 0, 0, 0, 0, 0, 0, 0, 0, 0, 0, 0, 0, 0, 0, 0, 0, 0, 0, 0, 0, 0, 0, 0, 0, 0, 0, 0, 0, 0, 0, 0, 0, 0, 0, 0, 0, 0, 0, 0, 0, 0, 0, 0, 0, 0, 0, 0, 0, 0, 0, 0, 0, 0, 0, 0, 0, 0, 0, 0, 0, 0, 0, 0, 0, 0, 0, 0, 0, 0, 0, 0, 0, 0, 0, 0, 0, 0, 0, 0, 0, 0, 0, 0, 0, 0, 0, 0, 0, 0, 0, 0, 0, 0, 0, 0, 0, 0, 0, 0, 0, 0, 0, 0, 0, 0, 0, 0, 0, 0, 0, 0, 0, 0, 0, 0, 0, 0, 0, 0, 0, 0, 0, 0, 0, 0, 0, 0, 0, 0, 0, 0, 0, 1, 0, 0, 0, 0, 0, 0, 0, 0, 0, 0, 0, 0, 0, 0, 0, 0, 0, 0, 0, 0, 0, 0, 0, 0, 0, 0, 0, 0, 0, 0, 0, 0, 0, 0, 0, 2, 0, 0, 0, 0, 0, 0, 0, 0, 0, 0, 0, 0, 0, 0, 0, 0, 0, 0, 0, 0, 0, 0, 0, 0, 0, 0, 0, 0, 0, 0, 0, 0, 0, 0, 0, 0, 0, 0, 0, 0, 1, 0, 0, 0, 0, 0, 0, 0, 0, 0, 0, 0, 0, 0, 0, 0, 0, 0, 0, 0, 0, 0, 0, 0, 0, 0, 0, 0, 0, 0, 0, 0, 0, 0, 0, 0, 0, 0, 0, 0, 0, 0, 0, 0, 0, 0, 0, 0, 0, 0, 0, 0, 0, 0, 0, 0, 0, 0, 0, 0, 0, 0, 0, 0, 0, 0, 0, 0, 0, 0, 0, 0, 0, 0, 0, 0, 0, 0, 0, 0, 0, 0, 0, 0, 0, 0, 0, 0, 0, 0, 0, 0, 0, 0, 0, 0, 0, 0, 0, 0, 0, 0, 0, 0, 0, 0, 0, 0, 0, 0, 0, 0, 0, 0, 0, 0, 0, 0, 0, 0, 0, 0, 0, 0, 0, 0, 0, 0, 0, 0, 0, 0, 0, 0, 0, 0, 0, 0, 0, 0, 0, 0, 0, 0, 0, 0, 0, 0, 0, 0, 0, 0, 0, 0, 0, 0, 0, 0, 0, 0, 0, 0, 0, 0, 0, 0, 0, 0, 0, 0, 0, 0, 0, 0, 0, 0, 0, 0, 0, 0, 0, 0, 0, 0, 0, 0, 0, 0, 0, 0, 0, 0, 0, 0, 0, 0, 0, 0, 0, 0, 0, 0, 0, 0, 0, 0, 0, 0, 0, 0, 0, 0, 0, 0, 0, 0, 0, 0, 0, 0, 0, 0, 0, 0, 0, 0, 0, 0, 0, 0, 0, 0, 0, 0, 0, 0, 0, 0, 0, 0, 0, 0, 0, 0, 0, 0, 0, 0, 0, 0, 0, 0, 0, 0, 0, 0, 0, 0, 0, 0, 0, 0, 0, 0, 0, 0, 0, 0, 0, 0, 0, 0, 0, 0, 0, 0, 0, 0, 0, 0, 0, 0, 0, 0, 0, 0, 0, 0, 0, 0, 0, 0, 0, 0, 0, 0, 0, 0, 0, 0, 0, 0, 0, 0, 0, 0, 0, 0, 0, 0, 0, 0, 0, 0, 0, 0, 0, 0, 0, 0, 0, 0, 0, 0, 0, 0, 0, 0, 0, 0, 0, 0, 0, 0, 0, 0, 0, 0, 0, 0, 0, 0, 0, 0, 0, 0, 0, 0, 0, 0, 0, 0, 0, 0, 0, 0, 0, 0, 0, 0, 0, 0, 0, 0, 0, 0, 0, 0, 0, 0, 0, 0, 0, 0, 0, 0, 0, 0, 0, 0, 0, 0, 0, 0, 0, 0, 0, 0, 0, 0, 0, 0, 0, 0, 0, 0, 0, 0, 0, 0, 0, 0, 0, 0, 0, 0, 0, 0, 0, 0, 0, 0, 0, 0, 0, 0, 0, 0, 0, 0, 0, 0, 0, 0, 0, 0, 0, 0, 0, 0, 0, 0, 0, 0, 0, 0, 0, 0, 0, 0, 0, 0, 0, 0, 0, 0, 0, 0, 0, 0, 0, 0, 0, 0, 0, 0, 0, 0, 0, 0, 0, 0, 0, 0, 0, 0, 0, 0, 0, 0, 0, 0, 0, 0, 0, 0, 0, 0, 0, 0, 0, 0, 0, 0, 0, 0, 0, 0, 0, 0, 0, 0, 0, 0, 0, 0, 0, 0, 1, 0, 0, 0, 0, 0, 0, 0, 0, 0, 0, 0, 0, 0, 0, 0, 0, 0, 0, 0, 0, 0, 0, 0, 0, 0, 0, 0, 0, 0, 0, 0, 0, 0, 0, 0, 0, 0, 0, 0, 0, 0, 0, 0, 0, 0, 0, 0, 0, 0, 0, 0, 0, 0, 0, 0, 0, 0, 0, 0, 0, 0, 0, 0, 0, 0, 0, 0, 0, 0, 0, 0, 0, 0, 0, 0, 0, 0, 0, 0, 0, 0, 0, 0, 0, 0, 0, 0, 0, 0, 0, 0, 0, 0, 0, 0, 0, 0, 0, 0, 0, 0, 0, 0, 0, 0, 0, 0, 0, 0, 0, 2, 0, 0, 0, 0, 0, 0, 0, 0, 0, 0, 0, 0, 0, 0, 0, 0, 0, 0, 0, 0, 0, 0, 0, 0, 0, 0, 0, 0, 0, 0, 0, 0, 0, 0, 0, 0, 0, 0, 0, 0, 0, 0, 0, 0, 0, 0, 0, 0, 0, 0, 0, 0, 0, 0, 0, 0, 0, 0, 0, 0, 0, 0, 0, 0, 0, 0, 0, 0, 0, 0, 0, 0, 0, 0, 0, 0, 0, 0, 0, 0, 0, 0, 0, 0, 0, 0, 0, 0, 0, 0, 0, 0, 0, 0, 0, 0, 0, 0, 0, 0, 0, 0, 0, 0, 0, 0, 0, 0, 0, 0, 0, 0, 0, 0, 0, 0, 0, 0, 0, 0, 0, 0, 0, 0, 0, 0, 0, 0, 0, 0, 0, 0, 0, 0, 0, 0, 0, 0, 0, 0, 0, 0, 0, 0, 0, 0, 0, 0, 0, 0, 0, 0, 0, 0, 0, 0, 0, 0, 0, 0, 0, 0, 0, 0, 0, 0, 0, 0, 0, 0, 0, 0, 0, 0, 0, 0, 0, 0, 0, 0, 0, 0, 0, 0, 0, 0, 0, 0, 0, 0, 0, 0, 0, 0, 0, 0, 0, 0, 0, 0, 0, 0, 0, 0, 0, 0, 0, 0, 0, 0, 0, 0, 0, 0, 0, 0, 0, 0, 0, 0, 0, 0, 0, 0, 0, 0, 0, 0, 0, 0, 0, 0, 0, 0, 0, 0, 0, 0, 0, 0, 0, 0, 0, 0, 0, 0, 0, 0, 0, 0, 0, 0, 0, 0, 0, 0, 0, 0, 0, 0, 0, 0, 0, 0, 0, 0, 0, 0, 0, 0, 0, 0, 0, 0, 0, 0, 0, 0, 0, 0, 0, 0, 0, 0, 0, 0, 0, 0, 0, 0, 0, 0, 0, 0, 0, 0, 0, 0, 0, 0, 0, 0, 0, 0, 0, 0, 0, 0, 0, 0, 0, 0, 0, 0, 0, 0, 0, 0, 0, 0, 0, 0, 0, 0, 0, 0, 0, 0, 0, 0, 0, 0, 0, 0, 0, 0, 0, 0, 0, 0, 0, 0, 0, 0, 0, 0, 0, 0, 0, 0, 0, 0, 0, 0, 0, 0, 0, 0, 0, 0, 0, 0, 0, 0, 0, 0, 0, 0, 0, 0, 0, 0, 0, 0, 0, 0, 0, 0, 0, 0, 0, 0, 0, 0, 0, 0, 0, 0, 0, 0, 0, 0, 0, 0, 0, 0, 0, 0, 0, 0, 0, 0, 0, 0, 0, 0, 0, 0, 0, 0, 0, 0, 0, 0, 0, 0, 0, 0, 0, 0, 0, 0, 0, 0, 0, 0, 0, 0, 0, 0, 0, 0, 0, 0, 0, 0, 0, 0, 0, 0, 0, 0, 0, 0, 0, 0, 0, 0, 0, 0, 0, 0, 0, 0, 0, 0, 0, 0, 0, 0, 0, 0, 0, 0, 0, 0, 0, 0, 0, 0, 0, 0, 0, 0, 0, 0, 0, 0, 0, 0, 0, 0, 0, 0, 0, 0, 0, 0, 0, 0, 0, 0, 0, 0, 0, 0, 0, 0, 0, 0, 0, 0, 0, 0, 0, 0, 0, 0, 0, 0, 0, 0, 0, 0, 0, 0, 0, 0, 0, 0, 0, 0, 0, 0, 0, 0, 0, 0, 0, 0, 0, 0, 0, 0, 0, 0, 0, 0, 0, 0, 0, 0, 0, 0, 0, 0, 0, 0, 0, 0, 0, 0, 0, 0, 0, 0, 0, 0, 0, 0, 0, 0, 0, 0, 0, 0, 0, 0, 0, 0, 0, 0, 0, 0, 0, 0, 0, 0, 0, 0, 0, 0, 0, 0, 0, 0, 0, 0, 0, 0, 0, 0, 0, 0, 0, 0, 0, 0, 0, 0, 0, 0, 0, 0, 0, 0, 0, 0, 0, 0, 0, 0, 0, 0, 0, 0, 0, 0, 0, 0, 0, 0, 0, 0, 0, 0, 0, 0, 0, 0, 0, 0, 0, 0, 0, 0, 0, 0, 0, 0, 0, 0, 0, 0, 0, 0, 0, 0, 0, 0, 0, 0, 0, 0, 0, 0, 0, 0, 0, 0, 0, 0, 0, 0, 0, 0, 0, 0, 0, 0, 0, 0, 0, 0, 0, 0, 0, 0, 0, 0, 0, 0, 0, 0, 0, 0, 0, 0, 0, 0, 1, 0, 0, 0, 0, 0, 0, 0, 0, 0, 0, 0, 0, 0, 0, 0, 0, 0, 0, 0, 0, 0, 0, 0, 0, 0, 0, 0, 0, 0, 0, 0, 0, 0, 0, 0, 0, 0, 0, 0, 0, 0, 0, 0, 0, 0, 0, 0, 0, 0, 0, 0, 0, 0, 0, 0, 0, 0, 0, 0, 0, 0, 0, 0, 0, 0, 0, 0, 0, 0, 0, 0, 0, 0, 0, 0, 0, 0, 0, 0, 0, 0, 0, 0, 0, 0, 0, 0, 0, 0, 0, 0, 0, 0, 0, 0, 0, 0, 0, 0, 0, 0, 0, 0, 0, 0, 0, 0, 1, 0, 0, 0, 0, 0, 0, 0, 0, 0, 0, 0, 0, 0, 0, 0, 0, 0, 0, 0, 0, 0, 0, 0, 0, 0, 0, 0, 0, 0, 0, 0, 0, 0, 0, 0, 0, 0, 0, 0, 0, 0, 0, 0, 0, 0, 0, 0, 0, 0, 0, 0, 0, 0, 0, 0, 0, 0, 0, 0, 0, 0, 0, 0, 0, 0, 0, 0, 0, 0, 0, 0, 0, 0, 0, 0, 0, 0, 0, 0, 0, 0, 0, 0, 0, 0, 0, 0, 0, 0, 0, 0, 0, 0, 0, 0, 0, 0, 0, 0, 0, 0, 0, 0, 0, 0, 0, 0, 0, 0, 0, 0, 0, 0, 0, 0, 0, 0, 0, 0, 0, 0, 0, 0, 0, 0, 0, 0, 0, 0, 0, 0, 0, 0, 0, 0, 0, 0, 0, 0, 0, 0, 0, 0, 0, 0, 0, 0, 0, 0, 0, 0, 0, 0, 0, 0, 0, 0, 0, 0, 0, 0, 0, 0, 0, 0, 0, 0, 0, 0, 0, 0, 0, 0, 0, 0, 0, 0, 0, 0, 0, 0, 0, 0, 0, 0, 0, 0, 0, 0, 0, 0, 0, 0, 0, 0, 0, 0, 0, 0, 0, 0, 0, 0, 0, 0, 0, 0, 0, 0, 0, 0, 0, 0, 0, 0, 0, 0, 0, 0, 0, 0, 0, 0, 0, 0, 0, 0, 0, 0, 0, 0, 0, 0, 0, 0, 0, 0, 0, 0, 0, 0, 0, 0, 0, 0, 0, 0, 0, 0, 0, 0, 0, 0, 0, 0, 0, 0, 0, 0, 0, 0, 0, 0, 0, 0, 0, 0, 0, 0, 0, 0, 0, 0, 0, 0, 0, 0, 0, 0, 0, 0, 0, 0, 0, 0, 0, 0, 0, 0, 0, 0, 0, 0, 0, 0, 0, 0, 0, 0, 0, 0, 0, 0, 0, 0, 0, 0, 0, 0, 0, 0, 0, 0, 0, 0, 0, 0, 0, 0, 0, 0, 0, 0, 0, 0, 0, 0, 0, 0, 0, 0, 0, 0, 0, 0, 0, 0, 0, 0, 0, 0, 0, 0, 0, 0, 0, 0, 0, 0, 0, 0, 0, 0, 0, 0, 0, 0, 0, 0, 0, 0, 0, 0, 0, 0, 0, 0, 0, 0, 0, 0, 0, 0, 0, 0, 0, 0, 0, 0, 0, 0, 0, 0, 0, 0, 0, 0, 0, 0, 0, 0, 0, 0, 0, 0, 0, 0, 0, 0, 0, 0, 0, 0, 0, 0, 0, 0, 0, 0, 0, 0, 0, 0, 0, 0, 0, 0, 0, 0, 0, 0, 0, 0, 0, 0, 0, 0, 0, 0, 0, 0, 0, 0, 0, 0, 0, 0, 0, 0, 0, 0, 0, 0, 0, 0, 0, 0, 0, 0, 0, 0, 0, 0, 0, 0, 0, 0, 0, 0, 0, 0, 0, 0, 2, 0, 1, 0], type: <class 'list'>, valid types: <class 'bytes'>, <class 'bytearray'>, file-like object"
     ]
    }
   ],
   "source": [
    "response = runtime.invoke_endpoint(EndpointName = xgb_predictor.endpoint, # The name of the endpoint we created\n",
    "                                   ContentType = 'text/csv',          # The data format that is expected\n",
    "                                   Body = test_bow)"
   ]
  },
  {
   "cell_type": "markdown",
   "metadata": {},
   "source": [
    "So why did we get an error?\n",
    "\n",
    "Because we tried to send the endpoint a list of integers but it expected us to send data of type `text/csv`. So, we need to convert it."
   ]
  },
  {
   "cell_type": "code",
   "execution_count": 49,
   "metadata": {},
   "outputs": [],
   "source": [
    "response = runtime.invoke_endpoint(EndpointName = xgb_predictor.endpoint, # The name of the endpoint we created\n",
    "                                       ContentType = 'text/csv',                     # The data format that is expected\n",
    "                                       Body = ','.join([str(val) for val in test_bow]).encode('utf-8'))"
   ]
  },
  {
   "cell_type": "code",
   "execution_count": 50,
   "metadata": {},
   "outputs": [
    {
     "name": "stdout",
     "output_type": "stream",
     "text": [
      "{'ResponseMetadata': {'RequestId': '35cd6a8f-1230-4b5c-bf09-077406fd61a1', 'HTTPStatusCode': 200, 'HTTPHeaders': {'x-amzn-requestid': '35cd6a8f-1230-4b5c-bf09-077406fd61a1', 'x-amzn-invoked-production-variant': 'AllTraffic', 'date': 'Sun, 28 Jun 2020 22:57:57 GMT', 'content-type': 'text/csv; charset=utf-8', 'content-length': '14'}, 'RetryAttempts': 0}, 'ContentType': 'text/csv; charset=utf-8', 'InvokedProductionVariant': 'AllTraffic', 'Body': <botocore.response.StreamingBody object at 0x7fb5c0d6ae10>}\n"
     ]
    }
   ],
   "source": [
    "print(response)"
   ]
  },
  {
   "cell_type": "markdown",
   "metadata": {},
   "source": [
    "As we can see, the response from our model is a somewhat complicated looking dict that contains a bunch of information. The bit that we are most interested in is `'Body'` object which is a streaming object that we need to `read` in order to make use of."
   ]
  },
  {
   "cell_type": "code",
   "execution_count": 51,
   "metadata": {},
   "outputs": [
    {
     "name": "stdout",
     "output_type": "stream",
     "text": [
      "0.486699342728\n"
     ]
    }
   ],
   "source": [
    "response = response['Body'].read().decode('utf-8')\n",
    "print(response)"
   ]
  },
  {
   "cell_type": "markdown",
   "metadata": {},
   "source": [
    "Now that we know how to process the incoming user data we can start setting up the infrastructure to make our simple web app work. To do this we will make use of two different services. Amazon's Lambda and API Gateway services.\n",
    "\n",
    "Lambda is a service which allows someone to write some relatively simple code and have it executed whenever a chosen trigger occurs. For example, you may want to update a database whenever new data is uploaded to a folder stored on S3.\n",
    "\n",
    "API Gateway is a service that allows you to create HTTP endpoints (url addresses) which are connected to other AWS services. One of the benefits to this is that you get to decide what credentials, if any, are required to access these endpoints.\n",
    "\n",
    "In our case we are going to set up an HTTP endpoint through API Gateway which is open to the public. Then, whenever anyone sends data to our public endpoint we will trigger a Lambda function which will send the input (in our case a review) to our model's endpoint and then return the result."
   ]
  },
  {
   "cell_type": "markdown",
   "metadata": {},
   "source": [
    "### Setting up a Lambda function\n",
    "\n",
    "The first thing we are going to do is set up a Lambda function. This Lambda function will be executed whenever our public API has data sent to it. When it is executed it will receive the data, perform any sort of processing that is required, send the data (the review) to the SageMaker endpoint we've created and then return the result.\n",
    "\n",
    "#### Part A: Create an IAM Role for the Lambda function\n",
    "\n",
    "Since we want the Lambda function to call a SageMaker endpoint, we need to make sure that it has permission to do so. To do this, we will construct a role that we can later give the Lambda function.\n",
    "\n",
    "Using the AWS Console, navigate to the **IAM** page and click on **Roles**. Then, click on **Create role**. Make sure that the **AWS service** is the type of trusted entity selected and choose **Lambda** as the service that will use this role, then click **Next: Permissions**.\n",
    "\n",
    "In the search box type `sagemaker` and select the check box next to the **AmazonSageMakerFullAccess** policy. Then, click on **Next: Review**.\n",
    "\n",
    "Lastly, give this role a name. Make sure you use a name that you will remember later on, for example `LambdaSageMakerRole`. Then, click on **Create role**."
   ]
  },
  {
   "cell_type": "markdown",
   "metadata": {},
   "source": [
    "#### Part B: Create a Lambda function\n",
    "\n",
    "Now it is time to actually create the Lambda function. Remember from earlier that in order to process the user provided input and send it to our endpoint we need to gather two pieces of information:\n",
    "\n",
    " - The name of the endpoint, and\n",
    " - the vocabulary object.\n",
    "\n",
    "We will copy these pieces of information to our Lambda function after we create it.\n",
    "\n",
    "To start, using the AWS Console, navigate to the AWS Lambda page and click on **Create a function**. When you get to the next page, make sure that **Author from scratch** is selected. Now, name your Lambda function, using a name that you will remember later on, for example `sentiment_analysis_xgboost_func`. Make sure that the **Python 3.6** runtime is selected and then choose the role that you created in the previous part. Then, click on **Create Function**.\n",
    "\n",
    "On the next page you will see some information about the Lambda function you've just created. If you scroll down you should see an editor in which you can write the code that will be executed when your Lambda function is triggered. Collecting the code we wrote above to process a single review and adding it to the provided example `lambda_handler` we arrive at the following.\n",
    "\n",
    "```python\n",
    "# We need to use the low-level library to interact with SageMaker since the SageMaker API\n",
    "# is not available natively through Lambda.\n",
    "import boto3\n",
    "\n",
    "# And we need the regular expression library to do some of the data processing\n",
    "import re\n",
    "\n",
    "REPLACE_NO_SPACE = re.compile(\"(\\.)|(\\;)|(\\:)|(\\!)|(\\')|(\\?)|(\\,)|(\\\")|(\\()|(\\))|(\\[)|(\\])\")\n",
    "REPLACE_WITH_SPACE = re.compile(\"(<br\\s*/><br\\s*/>)|(\\-)|(\\/)\")\n",
    "\n",
    "def review_to_words(review):\n",
    "    words = REPLACE_NO_SPACE.sub(\"\", review.lower())\n",
    "    words = REPLACE_WITH_SPACE.sub(\" \", words)\n",
    "    return words\n",
    "    \n",
    "def bow_encoding(words, vocabulary):\n",
    "    bow = [0] * len(vocabulary) # Start by setting the count for each word in the vocabulary to zero.\n",
    "    for word in words.split():  # For each word in the string\n",
    "        if word in vocabulary:  # If the word is one that occurs in the vocabulary, increase its count.\n",
    "            bow[vocabulary[word]] += 1\n",
    "    return bow\n",
    "\n",
    "\n",
    "def lambda_handler(event, context):\n",
    "    \n",
    "    vocab = \"*** ACTUAL VOCABULARY GOES HERE ***\"\n",
    "    \n",
    "    words = review_to_words(event['body'])\n",
    "    bow = bow_encoding(words, vocab)\n",
    "\n",
    "    # The SageMaker runtime is what allows us to invoke the endpoint that we've created.\n",
    "    runtime = boto3.Session().client('sagemaker-runtime')\n",
    "\n",
    "    # Now we use the SageMaker runtime to invoke our endpoint, sending the review we were given\n",
    "    response = runtime.invoke_endpoint(EndpointName = '***ENDPOINT NAME HERE***',# The name of the endpoint we created\n",
    "                                       ContentType = 'text/csv',                 # The data format that is expected\n",
    "                                       Body = ','.join([str(val) for val in bow]).encode('utf-8')) # The actual review\n",
    "\n",
    "    # The response is an HTTP response whose body contains the result of our inference\n",
    "    result = response['Body'].read().decode('utf-8')\n",
    "    \n",
    "    # Round the result so that our web app only gets '1' or '0' as a response.\n",
    "    result = round(float(result))\n",
    "\n",
    "    return {\n",
    "        'statusCode' : 200,\n",
    "        'headers' : { 'Content-Type' : 'text/plain', 'Access-Control-Allow-Origin' : '*' },\n",
    "        'body' : str(result)\n",
    "    }\n",
    "```"
   ]
  },
  {
   "cell_type": "markdown",
   "metadata": {},
   "source": [
    "Once you have copy and pasted the code above into the Lambda code editor, replace the `**ENDPOINT NAME HERE**` portion with the name of the endpoint that we deployed earlier. You can determine the name of the endpoint using the code cell below."
   ]
  },
  {
   "cell_type": "code",
   "execution_count": 53,
   "metadata": {},
   "outputs": [
    {
     "data": {
      "text/plain": [
       "'xgboost-2020-06-28-22-21-11-987'"
      ]
     },
     "execution_count": 53,
     "metadata": {},
     "output_type": "execute_result"
    }
   ],
   "source": [
    "xgb_predictor.endpoint"
   ]
  },
  {
   "cell_type": "markdown",
   "metadata": {},
   "source": [
    "In addition, you will need to copy the vocabulary dict to the appropriate place in the code at the beginning of the `lambda_handler` method. The cell below prints out the vocabulary dict in a way that is easy to copy and paste."
   ]
  },
  {
   "cell_type": "code",
   "execution_count": 54,
   "metadata": {},
   "outputs": [
    {
     "name": "stdout",
     "output_type": "stream",
     "text": [
      "{'is': 2360, 'another': 250, 'one': 3107, 'of': 3083, 'those': 4460, 'films': 1721, 'that': 4424, 'flynn': 1765, 'was': 4805, 'making': 2718, 'in': 2257, 'the': 4426, 'last': 2521, 'decade': 1144, 'his': 2118, 'life': 2592, 'trying': 4601, 'to': 4507, 'support': 4303, 'family': 1645, 'and': 226, 'stay': 4166, 'out': 3141, 'trouble': 4592, 'with': 4911, 'its': 2370, 'remake': 3612, 'fred': 1825, 'film': 1716, 'from': 1840, 'ago': 154, 'unlike': 4670, 'studio': 4240, 'product': 3418, 'has': 2043, 'advantage': 129, 'great': 1964, 'location': 2635, 'cinematography': 820, 'right': 3696, 'at': 331, 'sight': 3969, 'golden': 1934, 'but': 636, 'who': 4871, 'aging': 153, 'before': 440, 'camera': 659, 'every': 1539, 'way': 4820, 'too': 4522, 'old': 3100, 'be': 418, 'playing': 3300, 'these': 4441, 'action': 100, 'adventure': 130, 'types': 4622, 'any': 256, 'longer': 2645, 'scenes': 3811, 'really': 3556, 'do': 1302, 'lack': 2502, 'as': 311, 'for': 1784, 'she': 3923, 'plays': 3301, 'former': 1800, 'through': 4477, 'being': 448, 'saved': 3795, 'fire': 1734, 'now': 3054, 'both': 547, 'doesnt': 1309, 'remember': 3616, 'married': 2744, 'got': 1944, 'some': 4061, 'nasty': 2968, 'people': 3221, 'led': 2558, 'by': 642, 'martin': 2748, 'are': 285, 'after': 143, 'which': 4867, 'have': 2052, 'come': 886, 'into': 2332, 'deal': 1135, 'them': 4432, 'best': 469, 'reason': 3557, 'see': 3855, 'hear': 2061, 'king': 2479, 'cole': 873, 'sing': 3992, 'play': 3296, 'piano': 3264, 'most': 2909, 'today': 4508, 'dont': 1324, 'realize': 3552, 'an': 223, 'accomplished': 87, 'jazz': 2387, 'they': 4442, 'only': 3110, 'think': 4452, 'him': 2110, 'singer': 3993, 'actually': 109, 'he': 2056, 'first': 1736, 'singing': 3995, 'routine': 3743, 'fans': 1650, 'type': 4621, 'movie': 2926, 'stock': 4193, 'market': 2740, 'crash': 1033, 'depression': 1189, 'following': 1774, 'almost': 193, 'ruined': 3751, 'american': 213, 'musical': 2947, 'theater': 4427, 'fact': 1621, 'it': 2366, 'final': 1722, 'death': 1141, 'blow': 514, 'behind': 447, 'were': 4848, 'hit': 2122, 'bad': 382, 'front': 1841, 'effort': 1432, 'show': 3953, 'business': 633, 'own': 3158, 'personal': 3240, 'work': 4940, 'director': 1264, 'james': 2378, 'cagney': 646, 'comes': 891, 'up': 4683, 'brilliant': 583, 'idea': 2213, 'stage': 4139, 'live': 2625, 'relevant': 3604, 'movies': 2927, 'shown': 3959, 'various': 4715, 'theaters': 4428, 'other': 3135, 'get': 1899, 'wind': 4893, 'competition': 918, 'on': 3105, 'my': 2951, 'favorite': 1671, 'gives': 1914, 'chance': 747, 'display': 1291, 'dancer': 1104, 'well': 4843, 'tough': 4537, 'guy': 2000, 'said': 3774, 'while': 4868, 'few': 1700, 'far': 1653, 'between': 475, 'musicals': 2948, 'lot': 2661, 'could': 1007, 'barely': 399, 'bothered': 549, 'straight': 4210, 'dramatic': 1348, 'wished': 4905, 'hed': 2072, 'done': 1322, 'more': 2904, 'career': 686, 'wish': 4904, 'had': 2003, 'course': 1019, 'all': 187, 'logic': 2638, 'so': 4046, 'creative': 1041, 'fun': 1848, 'watch': 4811, 'dick': 1239, 'powell': 3358, 'gets': 1900, 'three': 4469, 'songs': 4072, 'ah': 158, 'moon': 2900, 'here': 2086, 'hotel': 2175, 'two': 4620, 'ruby': 3749, 'further': 1853, 'screen': 3829, 'team': 4378, 'sings': 3997, 'dances': 1106, 'number': 3060, 'joan': 2404, 'no': 3020, 'nonsense': 3030, 'girl': 1909, 'friday': 1834, 'like': 2599, 'blonde': 511, 'crazy': 1035, 'shes': 3930, 'real': 3547, 'brains': 563, 'duo': 1386, 'her': 2085, 'quick': 3490, 'thinking': 4453, 'domestic': 1318, 'problems': 3409, 'top': 4525, 'theatrical': 4430, 'ones': 3108, 'roles': 3727, 'look': 2646, 'dorothy': 1330, 'ann': 244, 'chorus': 803, 'per': 3223, 'imdb': 2240, 'pages': 3168, 'john': 2409, 'seen': 3865, 'briefly': 580, 'scene': 3809, 'beginning': 443, 'producer': 3415, 'takes': 4351, 'where': 4864, 'showing': 3958, 'western': 4853, 'starring': 4154, 'wayne': 4821, 'voice': 4761, 'whats': 4860, 'even': 1533, 'unusual': 4681, 'brief': 579, 'clip': 851, 'shows': 3960, 'frank': 1821, 'assistant': 326, 'brothers': 599, 'warner': 4799, 'little': 2624, 'joke': 2414, 'there': 4438, 'ive': 2372, 'believe': 454, 'surreal': 4317, 'ok': 3098, 'not': 3040, 'ever': 1538, 'same': 3778, 'time': 4495, 'been': 438, 'able': 66, 'sit': 4003, 'twice': 4613, 'story': 4207, 'line': 2610, 'pretty': 3384, 'awful': 372, 'during': 1387, 'part': 3193, 'short': 3946, 'wondered': 4927, 'what': 4858, 'hell': 2077, 'watching': 4815, 'loved': 2670, 'cheap': 774, 'laughs': 2534, 'deserves': 1201, 'oscar': 3133, 'role': 3726, 'this': 4457, 'thing': 4450, 'let': 2579, 'down': 1335, 'half': 2007, 'stopped': 4202, 'silly': 3976, 'name': 2960, 'calling': 653, 'overall': 3150, 'if': 2222, 'your': 4991, 'you': 4986, 'land': 2511, 'go': 1924, 'seems': 3864, 'reviews': 3679, 'hate': 2046, 'curse': 1086, 'ralph': 3510, 'love': 2669, 'call': 651, 'im': 2232, 'middle': 2833, 'forced': 1787, 'agree': 155, 'cruel': 1070, 'cutting': 1092, 'badly': 383, 'over': 3148, 'acting': 99, 'etc': 1527, 'still': 4188, 'when': 4862, 'eerie': 1427, 'battle': 414, 'end': 1468, 'fantastic': 1651, 'chase': 769, 'stylish': 4251, 'executed': 1565, 'score': 3822, 'magic': 2703, 'sadly': 3769, 'points': 3319, 'can': 665, 'bring': 585, 'yourself': 4993, 'ignore': 2224, 'doubt': 1332, 'ill': 2228, 'angry': 238, 'mob': 2879, 'writing': 4971, 'review': 3676, 'such': 4268, 'past': 3207, 'brother': 598, 'girlfriend': 1910, 'hopes': 2159, 'dramas': 1347, 'presented': 3376, 'simplistic': 3985, 'bite': 489, 'or': 3124, 'wit': 4908, 'cast': 710, 'made': 2697, 'attractive': 351, 'looking': 2648, 'actors': 104, 'smiling': 4037, 'music': 2946, 'photography': 3260, 'couple': 1016, 'visual': 4757, 'effects': 1431, 'laughable': 2530, 'indie': 2276, 'cliché': 844, 'touches': 4535, 'budget': 610, 'although': 201, 'written': 4972, 'directed': 1259, 'man': 2721, 'produced': 3414, 'woman': 4921, 'sure': 4308, 'may': 2775, 'distinct': 1296, 'why': 4878, 'picture': 3269, 'about': 67, 'men': 2805, 'growing': 1983, 'closer': 856, 'never': 3001, 'quite': 3495, 'feels': 1687, 'natural': 2973, 'lived': 2626, 'attempt': 340, 'inside': 2297, 'male': 2719, 'relationship': 3597, 'careful': 688, 'presentation': 3375, 'heart': 2064, 'living': 2629, 'material': 2766, 'perfect': 3224, 'son': 4070, 'quickly': 3491, 'many': 2732, 'kitchen': 2485, 'back': 378, 'again': 146, 'trial': 4580, 'because': 432, 'faithful': 1634, 'dog': 1310, 'masters': 2761, 'grave': 1962, 'must': 2950, 'put': 3480, 'according': 88, 'law': 2538, 'oddly': 3081, 'also': 199, 'explained': 1587, 'legal': 2563, 'owner': 3159, 'apparently': 270, 'against': 147, 'scottish': 3825, 'days': 1130, 'dogs': 1311, 'destroyed': 1214, 'case': 707, 'leads': 2548, 'extended': 1604, 'flashback': 1746, 'donald': 1321, 'gray': 1963, 'based': 404, 'interesting': 2325, 'original': 3129, 'bobby': 525, 'challenge': 743, 'several': 3905, 'earlier': 1399, 'situations': 4009, 'does': 1308, 'improve': 2254, 'upon': 4684, 'speaking': 4095, 'sloppy': 4030, 'disappointing': 1274, 'follow': 1772, 'sun': 4292, 'brooks': 596, 'susan': 4326, 'brown': 601, 'performers': 3232, 'charming': 768, 'cant': 671, 'jimmy': 2403, 'wonderful': 4928, 'among': 217, 'notable': 3041, 'children': 792, 'supporting': 4304, 'much': 2934, 'later': 2525, 'will': 4886, 'grow': 1982, 'marry': 2745, 'dark': 1115, 'shadows': 3913, 'parker': 3191, 'might': 2835, 'example': 1553, 'amateur': 206, 'propaganda': 3435, 'writers': 4969, 'producers': 3416, 'should': 3951, 'study': 4242, 'german': 1896, 'knew': 2486, 'how': 2181, 'sell': 3871, 'soviet': 4089, 'style': 4249, 'leader': 2546, 'god': 1926, 'father': 1666, 'figure': 1711, 'better': 472, 'loss': 2659, 'faith': 1633, 'church': 813, 'second': 3846, 'just': 2437, 'daddy': 1096, 'unfortunately': 4654, 'seemed': 3862, 'rushed': 3760, 'nearly': 2981, 'melodramatic': 2798, 'enough': 1491, 'shots': 3950, 'corner': 996, 'would': 4957, 'added': 116, 'aspect': 321, 'saving': 3797, 'their': 4431, 'worth': 4953, 'poor': 3328, 'homeless': 2143, 'portrayed': 3342, 'likable': 2598, 'good': 1937, 'yet': 4984, 'help': 2079, 'approach': 282, 'drinking': 1362, 'spirits': 4115, 'justice': 2438, 'condition': 937, 'finally': 1724, 'bright': 581, 'country': 1014, 'rolled': 3729, 'we': 4823, 'then': 4436, 'truly': 4597, 'lacked': 2503, 'something': 4066, 'couldnt': 1008, 'finger': 1731, 'charisma': 762, 'leading': 2547, 'actress': 105, 'inevitably': 2283, 'chemistry': 782, 'romantic': 3733, 'came': 656, 'across': 96, 'merely': 2815, 'very': 4723, 'needed': 2988, 'know': 2489, 'screenplay': 3831, 'exactly': 1551, 'skills': 4014, 'restaurant': 3658, 'ultimately': 4628, 'himself': 2111, 'than': 4420, 'anybody': 257, 'anything': 260, 'else': 1448, 'convinced': 984, 'me': 2778, 'princess': 3397, 'disappointed': 1273, 'forget': 1793, 'nominated': 3025, 'judge': 2424, 'motion': 2913, 'make': 2713, 'amazed': 208, 'storyline': 4208, 'character': 758, 'build': 614, 'game': 1864, 'played': 3297, '20': 29, 'times': 4497, 'try': 4600, 'different': 1248, 'fantasy': 1652, 'eat': 1411, 'anyone': 259, 'wants': 4791, 'start': 4156, 'please': 3304, 'contact': 961, 'project': 3427, 'day': 1129, 'graphics': 1959, 'side': 3965, 'makes': 2716, 'heaven': 2068, 'saw': 3798, '12': 3, 'rented': 3628, 'things': 4451, 'brings': 587, 'memories': 2803, 'charlie': 765, 'song': 4071, 'surprised': 4313, 'looks': 2649, 'reynolds': 3684, '1st': 28, 'describe': 1194, 'characters': 760, 'imagine': 2238, 'feel': 1684, 'hope': 2155, 'older': 3101, 'available': 361, 'happy': 2032, 'amazing': 209, 'mind': 2849, 'scale': 3802, '10': 0, 'id': 2212, 'give': 1912, 'hard': 2033, 'explain': 1586, 'feeling': 1685, 'kids': 2467, 'experience': 1580, 'queen': 3485, 'defined': 1160, 'historical': 2119, 'relationships': 3598, 'succeeded': 4263, 'under': 4639, 'influence': 2286, 'prime': 3395, 'lord': 2652, 'extent': 1605, 'became': 431, 'known': 2492, 'mrs': 2930, 'beloved': 461, 'widow': 4883, 'years': 4979, 'long': 2644, 'friendship': 1838, 'earned': 1401, 'price': 3389, 'women': 4923, 'paid': 3169, 'society': 4050, 'reality': 3551, 'somewhat': 4068, 'young': 4989, 'victoria': 4732, 'goes': 1930, 'towards': 4540, 'putting': 3482, 'record': 3573, 'intelligent': 2314, 'independent': 2272, 'court': 1020, 'always': 203, 'counter': 1011, 'murder': 2939, '18': 10, 'year': 4978, 'positive': 3346, 'intrigue': 2333, 'power': 3359, 'struggle': 4234, 'rival': 3706, 'sir': 4000, 'robert': 3713, 'cuts': 1091, 'public': 3460, 'school': 3813, 'kind': 2476, 'polished': 3323, 'advice': 133, 'hardly': 2036, 'surprising': 4315, 'finds': 1728, 'herself': 2092, 'awe': 370, 'perhaps': 3235, 'fine': 1729, 'attempted': 341, 'forces': 1788, 'prince': 3396, 'mission': 2870, 'political': 3324, 'britain': 588, 'rest': 3657, 'europe': 1529, 'soon': 4074, 'falls': 1640, 'english': 1483, 'beautifully': 429, 'note': 3044, 'century': 736, 'somehow': 4063, 'india': 2273, 'single': 3996, 'remarkable': 3613, 'miss': 2866, 'emily': 1456, 'blunt': 520, 'whose': 4877, 'beauty': 430, 'reminded': 3619, 'obviously': 3072, 'absolutely': 72, 'despite': 1211, 'strong': 4229, 'performances': 3229, 'mr': 2929, 'jim': 2402, 'richardson': 3688, 'experienced': 1581, 'forms': 1801, 'whole': 4873, 'without': 4913, 'matter': 2769, 'margaret': 2735, 'powerful': 3360, 'shall': 3916, 'waste': 4808, 'detail': 1217, 'already': 197, 'plot': 3309, 'started': 4157, 'wide': 4880, 'boy': 557, 'gangster': 1868, 'numbers': 3061, 'bore': 540, 'utter': 4701, 'hidden': 2096, 'masterpiece': 2759, 'mess': 2818, 'kidding': 2465, 'themselves': 4435, 'since': 3990, 'watched': 4813, 'week': 4837, 'run': 3755, 'cinema': 816, 'pulled': 3462, 'sticks': 4186, 'easily': 1406, 'terrible': 4407, 'am': 204, 'comments': 901, 'indeed': 2271, 'went': 4847, 'amusing': 221, 'eddie': 1416, 'appeared': 276, 'heavy': 2070, 'hands': 2020, 'face': 1616, 'bar': 396, 'filmed': 1717, 'holiday': 2134, 'camp': 662, 'barry': 401, 'island': 2361, 'whatsoever': 4861, 'recently': 3567, 'joined': 2413, 'extras': 1608, 'having': 2054, 'nobody': 3022, 'required': 3641, 'released': 3603, 'heard': 2062, 'disappeared': 1271, 'fast': 1661, 'renting': 3629, 'dvd': 1391, 'advise': 134, 'instead': 2307, 'until': 4680, 'red': 3576, 'hot': 2174, 'eye': 1611, 'probably': 3407, 'less': 2575, 'painful': 3171, 'stargate': 4151, 'cheesy': 781, 'sci': 3815, 'fi': 1701, 'tv': 4610, 'series': 3890, 'theres': 4440, 'facts': 1624, 'excuse': 1564, 'remains': 3611, 'steal': 4170, 'ideas': 2215, 'special': 4097, 'fx': 1858, 'arent': 288, 'impressive': 2253, 'isnt': 2362, 'going': 1931, 'chair': 742, 'either': 1438, 'credit': 1049, 'each': 1395, 'episode': 1507, 'stolen': 4195, 'count': 1010, 'least': 2554, 'thats': 4425, 'worse': 4951, 'hour': 2176, 'episodes': 1508, '90': 60, 'minutes': 2859, 'keep': 2449, 'quality': 3484, 'throughout': 4478, 'delivering': 1171, 'pushing': 3479, 'hold': 2129, 'high': 2100, 'standards': 4145, 'found': 1811, 'myself': 2953, 'caught': 722, 'decide': 1148, 'stick': 4185, 'youll': 4988, 'talking': 4360, 'worthless': 4954, 'television': 4394, 'follows': 1775, 'killer': 2470, 'script': 3834, 'turn': 4605, 'near': 2979, 'food': 1778, 'directly': 1263, 'bed': 436, 'suspense': 4330, 'scary': 3807, 'bunch': 623, 'victims': 4730, 'terrifying': 4410, 'spoilers': 4124, 'section': 3853, 'stupidity': 4248, 'hero': 2088, 'incredible': 2269, 'told': 4513, 'health': 2060, 'inspector': 2299, 'mysterious': 2955, 'virus': 4752, 'says': 3801, 'huge': 2185, 'millions': 2848, 'extremely': 1610, 'lame': 2510, 'understand': 4643, 'release': 3602, 'none': 3028, 'guess': 1989, 'featured': 1679, 'avoid': 363, 'filmmakers': 1720, 'brought': 600, 'us': 4690, 'march': 2734, 'plenty': 3307, 'expectations': 1576, 'fox': 1814, 'child': 789, 'harsh': 2040, 'winters': 4901, 'south': 4087, 'france': 1816, 'narrative': 2966, 'becomes': 434, 'documentary': 1307, 'fairy': 1632, 'tale': 4353, 'tells': 4397, 'frankly': 1823, 'simple': 3983, 'looked': 2647, 'japanese': 2382, 'animals': 240, 'striking': 4226, 'development': 1225, 'trust': 4598, 'hanging': 2023, 'around': 297, 'dealing': 1136, 'likes': 2602, 'meets': 2795, 'elegant': 1441, 'home': 2142, 'mountains': 2918, 'provide': 3448, 'beautiful': 428, 'cinematographer': 819, 'capture': 676, 'scenery': 3810, 'level': 2584, 'wait': 4770, 'seasons': 3844, '45': 50, 'find': 1726, 'attempts': 343, 'bond': 532, 'creature': 1045, 'thought': 4462, 'weak': 4824, 'human': 2188, 'interpretation': 2328, 'happening': 2028, 'elements': 1443, 'tension': 4404, 'drama': 1346, 'given': 1913, 'latter': 2528, 'especially': 1520, 'traditional': 4550, 'granted': 1957, 'sequences': 3888, 'fairly': 1631, 'intense': 2316, 'otherwise': 3137, 'plain': 3286, 'editing': 1421, 'surprisingly': 4316, 'moments': 2887, 'werent': 4849, 'suitable': 4285, 'hall': 2009, 'eyes': 1613, 'suddenly': 4273, 'parents': 3188, 'want': 4788, 'take': 4349, 'wouldve': 4959, 'complete': 921, 'warning': 4800, 'nature': 2975, 'meant': 2784, 'decent': 1147, 'strength': 4219, 'multiple': 2936, 'larger': 2519, 'figures': 1713, 'bat': 410, 'george': 1893, 'sitting': 4007, 'bull': 619, 'anthony': 253, 'entertaining': 1499, 'stewart': 4184, 'quest': 3486, 'fathers': 1667, 'primary': 3394, 'ensemble': 1492, 'piece': 3272, 'thousand': 4465, 'passing': 3204, 'colorful': 878, 'including': 2264, 'dan': 1102, 'whos': 4876, 'usual': 4699, 'fiction': 1702, 'history': 2121, 'pace': 3161, 'tone': 4517, 'brilliantly': 584, 'step': 4175, 'themes': 4434, 'psychological': 3458, 'present': 3374, 'tall': 4362, 'chasing': 772, 'gun': 1996, 'husbands': 2205, 'failed': 1626, 'conversations': 981, 'sidekick': 3966, 'mitchell': 2875, 'use': 4692, 'environment': 1505, 'sets': 3899, 'apart': 264, 'westerns': 4854, 'naked': 2959, 'occurs': 3078, 'loose': 2650, 'rocks': 3722, 'small': 4033, 'mountain': 2917, 'physical': 3262, 'victor': 4731, 'victim': 4729, 'equally': 1510, 'william': 4887, 'particularly': 3195, 'night': 3013, 'open': 3112, 'range': 3516, 'mann': 2728, 'presents': 3377, 'vivid': 4760, 'city': 825, 'primarily': 3393, 'plane': 3288, 'shooting': 3943, 'contest': 967, 'effect': 1428, 'knows': 2493, 'place': 3282, 'move': 2921, 'greatest': 1966, 'information': 2288, 'shot': 3949, 'nor': 3032, 'care': 684, 'spell': 4104, 'dialogue': 1234, 'chosen': 805, 'image': 2233, 'convey': 982, 'particular': 3194, 'serves': 3895, 'attitude': 346, 'telling': 4396, 'motivation': 2914, 'shelley': 3928, 'climactic': 848, 'reveals': 3673, 'light': 2595, 'modern': 2882, 'joy': 2422, 'biggest': 480, 'production': 3419, 'houses': 2180, 'indian': 2274, 'industry': 2280, 'afraid': 140, 'ahead': 159, 'reach': 3536, 'wrong': 4973, 'length': 2569, 'enormous': 1490, 'star': 4150, 'akshay': 169, 'harder': 2035, 'everyone': 1542, 'associated': 327, 'lacks': 2505, 'except': 1556, 'dialogues': 1235, 'alone': 194, 'cannot': 670, 'enjoy': 1484, 'flick': 1754, 'car': 680, 'river': 3707, 'cartoon': 704, 'itself': 2371, 'clear': 839, 'directors': 1266, 'vision': 4754, 'actor': 103, 'simply': 3986, 'wasted': 4809, 'attempting': 342, 'flat': 1748, 'surely': 4309, 'signed': 3971, 'say': 3799, 'enjoyable': 1485, 'sequence': 3887, 'weakest': 4825, 'point': 3316, 'tunes': 4603, 'off': 3084, 'drop': 1369, 'opportunity': 3121, 'regarding': 3589, 'continuity': 972, 'intelligence': 2313, 'makers': 2715, 'road': 3709, 'area': 286, 'foreign': 1790, 'next': 3007, 'searching': 3842, 'hills': 2109, 'wrote': 4974, 'manage': 2722, 'till': 4493, 'climax': 849, 'unnecessary': 4672, 'stunts': 4246, 'heroes': 2089, 'walking': 4779, 'storm': 4206, 'bullets': 621, 'hurt': 2202, 'seeing': 3857, 'technical': 4381, 'heights': 2073, 'achieved': 93, 'words': 4938, 'pathetic': 3210, 'sincere': 3991, 'fan': 1648, 'dear': 1140, 'kapoor': 2443, 'possible': 3350, 'ask': 316, 'preview': 3386, 'copy': 994, 'artists': 309, 'certain': 737, 'viewers': 4739, 'enter': 1494, 'reputation': 3640, 'house': 2178, 'lose': 2654, 'kinda': 2477, 'wooden': 4934, 'cardboard': 682, 'ending': 1471, 'sorry': 4076, 'didnt': 1242, 'recommend': 3571, 'philosophical': 3253, 'questions': 3489, 'purpose': 3474, 'happens': 2029, 'die': 1243, 'premise': 3370, 'absurd': 73, 'dimensional': 1253, 'overdone': 3152, 'hollywood': 2137, 'everybody': 1540, 'dead': 1132, 'five': 1743, 'happen': 2026, 'stuck': 4237, 'glad': 1916, 'did': 1241, 'spoiler': 4123, 'worthy': 4956, 'feature': 1678, 'status': 4165, 'third': 4455, 'rate': 3526, 'drive': 1363, 'season': 3843, 'general': 1880, 'worry': 4950, 'deeply': 1156, 'impact': 2244, 'audiences': 353, 'americans': 214, 'crap': 1031, 'wonder': 4926, 'events': 1536, 'opinions': 3119, 'expecting': 1578, 'horrible': 2163, 'crappy': 1032, 'entertainment': 1500, 'ridiculous': 3693, 'wasnt': 4807, 'completely': 922, 'pleased': 3305, 'managed': 2723, 'wow': 4962, 'avoided': 364, 'rip': 3700, 'brain': 562, 'laugh': 2529, 'called': 652, 'turkey': 4604, 'blood': 512, 'opening': 3114, 'nicely': 3009, 'nightmare': 3014, 'elm': 1447, 'street': 4216, 'coming': 896, 'alive': 186, 'waiting': 4772, 'cause': 723, 'gore': 1941, 'neither': 2996, 'nudity': 3059, 'kelly': 2452, 'missing': 2869, 'lady': 2507, 'leslie': 2574, 'anyway': 261, 'moves': 2925, 'along': 195, 'famous': 1647, 'ballet': 389, 'oh': 3096, 'blues': 519, 'contrast': 975, 'arts': 310, 'ball': 388, 'black': 493, 'white': 4870, 'costumes': 1006, 'suppose': 4305, 'means': 2783, 'though': 4461, 'marvelous': 2750, 'gene': 1879, 'hbo': 2055, 'shame': 3918, 'reduced': 3579, 'repetitive': 3633, 'survived': 4322, 'lies': 2591, 'beaten': 424, 'ad': 110, 'embarrassing': 1454, 'timothy': 4499, 'taking': 4352, 'southern': 4088, 'sheriff': 3929, 'blond': 510, 'super': 4295, 'violent': 4748, 'thugs': 4484, 'lately': 2524, 'thanks': 4423, 'succeed': 4262, 'justify': 2439, 'violence': 4747, 'irony': 2357, 'humour': 2194, 'pulp': 3465, 'however': 2183, 'genre': 1888, 'filled': 1715, 'false': 1641, 'talented': 4355, 'ron': 3734, 'howard': 2182, 'often': 3095, 'hype': 2207, 'majority': 2712, 'big': 478, 'notorious': 3051, 'bettie': 473, 'page': 3167, 'critics': 1064, 'saying': 3800, 'celebrity': 729, 'handle': 2018, 'expected': 1577, 'blown': 516, 'away': 369, 'performance': 3228, 'viewing': 4740, 'hours': 2177, 'delivers': 1172, '1950s': 14, 'early': 1400, 'abuse': 74, 'depicted': 1183, 'subtlety': 4261, 'talked': 4359, 'models': 2881, 'covers': 1024, 'ground': 1979, 'minute': 2858, 'running': 3756, 'subplots': 4256, 'portion': 3338, 'co': 867, 'writer': 4968, 'ladies': 2506, 'creating': 1039, 'flawless': 1751, 'manages': 2725, 'pay': 3216, 'tribute': 4581, 'subject': 4253, 'turner': 4607, 'certainly': 738, 'peter': 3247, 'sellers': 3872, 'cook': 988, 'ship': 3934, 'captain': 674, 'murders': 2943, 'previous': 3387, 'hes': 2093, 'witnessed': 4915, 'treasure': 4571, 'buried': 624, 'begins': 444, 'losing': 2658, 'memory': 2804, 'map': 2733, 'blank': 501, 'thus': 4486, 'someone': 4064, 'ghosts': 1903, 'lead': 2545, 'path': 3209, 'pointless': 3318, 'spike': 4111, 'replaced': 3634, 'talents': 4356, 'class': 833, 'poorly': 3329, 'lit': 2621, 'appearance': 274, 'doomed': 1327, 'frankenstein': 1822, 'handsome': 2021, 'desperate': 1208, 'makeup': 2717, 'hair': 2005, 'filming': 1718, 'lines': 2612, 'wont': 4932, 'free': 1827, 'jokes': 2415, 'vhs': 4725, '15': 7, 'received': 3564, 'british': 589, 'program': 3424, 'richard': 3686, 'stars': 4155, 'orson': 3132, 'welles': 4844, 'irish': 2353, 'accent': 78, 'gorgeous': 1942, 'appealing': 272, 'hung': 2197, 'touch': 4533, 'evil': 1548, 'citizen': 824, 'kane': 2442, 'interaction': 2322, 'our': 3139, 'meeting': 2794, 'superb': 4296, 'job': 2405, 'lawyer': 2541, 'mike': 2838, 'fall': 1637, 'money': 2888, 'buy': 640, 'husband': 2204, 'partner': 3198, 'describes': 1196, 'proves': 3447, 'true': 4596, 'twists': 4619, 'turns': 4609, 'mystery': 2956, 'borrowed': 545, 'heavily': 2069, 'murderer': 2941, 'centers': 734, 'sea': 3838, 'subtle': 4260, 'fresh': 1833, 'adds': 119, 'pink': 3277, 'fill': 1714, 'mundane': 2938, 'common': 906, 'fare': 1655, 'runs': 3757, 'fashion': 1659, 'expect': 1575, 'paced': 3162, 'breath': 573, 'edge': 1418, 'fault': 1668, 'worst': 4952, 'grace': 1950, 'cute': 1090, 'pass': 3201, 'anti': 254, 'drug': 1373, 'shock': 3938, 'tell': 4395, 'stuff': 4243, 'ie': 2221, 'drugs': 1374, 'break': 569, 'families': 1644, 'drives': 1367, 'easy': 1410, 'vicious': 4728, 'seem': 3861, 'alert': 178, 'andy': 230, 'police': 3322, 'station': 4164, 'evidence': 1546, 'jump': 2429, 'suspect': 4327, 'creativity': 1042, 'company': 910, 'mark': 2739, 'college': 875, 'accused': 91, 'killing': 2472, 'cop': 991, 'desert': 1198, 'stealing': 4171, 'local': 2634, 'airport': 167, 'flies': 1756, 'once': 3106, 'flying': 1764, 'spots': 4132, 'air': 164, 'named': 2961, 'steps': 4177, 'sees': 3866, 'low': 2676, 'causing': 726, 'strangely': 4212, 'marks': 2742, 'engaging': 1481, 'conversation': 980, 'needs': 2990, 'poignant': 3315, 'develop': 1222, 'full': 1846, 'romance': 3732, '70s': 56, 'vague': 4705, 'complicated': 925, 'person': 3238, 'bank': 394, 'serving': 3897, 'prison': 3401, 'sentence': 3881, 'died': 1244, 'killed': 2469, 'weight': 4840, 'fell': 1690, 'splendid': 4119, 'slow': 4031, 'floating': 1758, 'explosion': 1596, 'genius': 1887, 'breaking': 570, 'guard': 1988, 'showcase': 3954, 'youth': 4994, 'purchased': 3470, 'read': 3543, 'rubbish': 3748, 'bargain': 400, 'normally': 3034, 'christopher': 811, 'walken': 4777, 'presence': 3373, 'friend': 1835, 'affect': 136, 'revenge': 3675, 'boring': 543, 'grand': 1953, 'revolution': 3680, 'audience': 352, 'felt': 1692, 'confused': 941, 'random': 3514, 'loosely': 2651, 'tied': 4489, 'together': 4511, 'conclusion': 936, 'horribly': 2164, 'pilot': 3276, 'truck': 4595, 'due': 1382, 'wanting': 4790, 'kill': 2468, 'sad': 3767, 'wounded': 4961, 'round': 3742, 'visuals': 4759, 'new': 3003, 'steven': 4182, 'bottom': 551, 'bored': 541, 'teenagers': 4391, 'double': 1331, 'spoil': 4121, 'government': 1948, 'agent': 150, 'escapes': 1519, 'arrested': 298, 'million': 2847, 'handed': 2016, 'terrorist': 4413, 'gang': 1867, 'force': 1786, 'surprise': 4312, 'trained': 4557, 'steve': 4181, 'baby': 376, 'save': 3794, 'world': 4946, 'whatever': 4859, 'navy': 2976, 'boom': 537, 'cartoons': 705, 'absolute': 71, 'garbage': 1870, 'fight': 1707, 'van': 4713, 'ninja': 3018, 'dire': 1257, 'skill': 4013, 'entire': 1502, 'acceptable': 81, '80s': 59, '2006': 36, 'born': 544, 'check': 777, 'tony': 4521, 'proper': 3436, 'martial': 2747, 'grim': 1974, 'hello': 2078, 'arthur': 305, 'admit': 122, 'impressed': 2251, 'generally': 1881, 'hill': 2108, 'tommy': 4516, 'distant': 1295, 'relative': 3599, 'provided': 3449, 'fashioned': 1660, 'notice': 3048, 'opinion': 3118, 'stands': 4147, 'test': 4416, 'comic': 893, 'mere': 2814, 'stereotypes': 4179, 'sunday': 4293, 'arnold': 296, 'private': 3404, 'thank': 4421, 'childhood': 790, 'favorites': 1672, 'liked': 2600, 'period': 3236, 'thief': 4448, 'held': 2074, 'grew': 1972, 'enjoyed': 1486, 'adults': 126, 'compared': 912, 'nowadays': 3055, 'remembered': 3617, 'nothing': 3047, 'ten': 4399, 'watches': 4814, 'seeks': 3860, 'stories': 4205, 'provides': 3450, '20th': 38, 'jones': 2418, 'comedy': 890, 'creates': 1038, 'mixture': 2878, 'clearly': 840, 'succeeds': 4264, 'mainly': 2708, 'directing': 1260, 'department': 1182, 'stand': 4143, 'providing': 3451, 'comedic': 888, 'chilling': 794, 'definitely': 1162, 'guts': 1999, 'horror': 2168, 'planned': 3290, 'mid': 2832, '1930s': 11, 'confidence': 938, 'transition': 4561, 'sound': 4081, 'took': 4523, 'pictures': 3270, 'acted': 98, 'key': 2458, 'images': 2235, 'silent': 3975, 'purely': 3472, 'title': 4504, 'cards': 683, 'self': 3869, 'focus': 1766, 'reactions': 3542, 'atmosphere': 333, 'ford': 1789, 'filmmaker': 1719, 'appears': 278, 'interested': 2324, 'luckily': 2682, 'depiction': 1185, 'community': 908, 'working': 4944, 'importantly': 2248, 'setting': 3900, 'everything': 1544, 'result': 3660, 'finest': 1730, 'works': 4945, 'kinds': 2478, 'places': 3284, 'streets': 4217, 'darkness': 1117, 'walls': 4783, 'press': 3379, 'faces': 1618, 'close': 853, 'ups': 4686, 'backgrounds': 381, 'usually': 4700, 'focusing': 1769, 'inner': 2292, 'conflicts': 940, 'fits': 1741, 'perfectly': 3226, 'within': 4912, 'manner': 2729, 'drunk': 1375, 'act': 97, 'moment': 2886, 'oscars': 3134, 'won': 4925, 'spot': 4131, 'whom': 4875, 'nice': 3008, 'relief': 3605, 'parts': 3199, 'contain': 962, 'serious': 3891, 'deliver': 1169, 'incredibly': 2270, 'deep': 1154, 'players': 3299, 'tragedy': 4551, 'willing': 4889, 'major': 2711, 'studios': 4241, 'moody': 2899, 'depth': 1190, 'keeps': 2451, 'draws': 1352, 'late': 2523, 'mother': 2911, 'stays': 4169, 'daughter': 1121, 'journey': 2421, 'carpenter': 694, 'daniel': 1111, 'craig': 1030, 'immediately': 2242, 'apparent': 269, 'mothers': 2912, 'interest': 2323, 'daughters': 1122, 'boyfriend': 558, 'surprises': 4314, 'anne': 246, 'compelling': 916, 'hooked': 2153, 'direction': 1261, 'allows': 192, 'space': 4090, 'staring': 4152, 'sadness': 3770, 'sex': 3907, 'fascinating': 1658, 'shouldnt': 3952, 'womens': 4924, 'bodies': 526, 'remain': 3609, 'covered': 1023, 'treated': 4573, 'sexuality': 3909, 'discovered': 1280, 'convince': 983, 'waves': 4819, 'pre': 3365, 'kept': 2456, 'julia': 2427, 'suited': 4286, 'carry': 700, 'anger': 235, 'progresses': 3426, 'leaves': 2556, 'individual': 2277, 'reasons': 3560, 'leaving': 2557, 'lonely': 2643, '30': 42, 'sympathy': 4343, 'emotion': 1458, 'warned': 4798, 'cold': 872, 'basically': 407, 'annoying': 249, 'throw': 4479, 'doing': 1312, 'youre': 4992, 'problem': 3408, 'supposedly': 4307, 'funny': 1852, 'practically': 3362, 'student': 4238, 'spend': 4105, 'shoot': 3942, 'clichés': 846, 'mention': 2810, 'turned': 4606, 'hated': 2047, 'jeff': 2390, 'park': 3190, 'downhill': 1336, 'channel': 753, 'surfing': 4311, 'atrocious': 335, 'inane': 2258, 'mouth': 2920, 'epic': 1506, 'mean': 2779, 'main': 2707, 'ordinary': 3128, 'choose': 799, 'guys': 2001, 'room': 3735, 'learn': 2550, 'news': 3005, 'bears': 421, 'training': 4558, 'toilet': 4512, 'plague': 3285, 'minded': 2850, 'reviewers': 3678, 'obvious': 3071, 'assume': 328, 'decided': 1149, 'wacky': 4769, 'actual': 108, 'content': 966, 'refreshing': 3586, 'rather': 3528, 'listen': 2619, 'lucky': 2683, 'zero': 4996, 'disturbing': 1300, 'blair': 497, 'witch': 4909, 'average': 362, 'army': 295, 'video': 4733, 'form': 1798, 'amongst': 218, 'normal': 3033, 'plan': 3287, 'access': 83, 'guns': 1998, 'stress': 4220, 'media': 2789, 'affected': 137, 'store': 4204, 'safety': 3772, 'box': 555, 'cameras': 660, 'youd': 4987, 'quote': 3496, 'thinks': 4454, 'gonna': 1936, 'leave': 2555, 'numerous': 3062, 'schools': 3814, 'plastic': 3294, 'bag': 384, 'giving': 1915, 'need': 2987, 'talk': 4358, 'smoke': 4039, 'pot': 3354, 'hide': 2097, 'occasionally': 3075, 'feed': 1683, 'flesh': 1753, 'bought': 552, 'ham': 2011, 'dressed': 1358, 'body': 527, 'floor': 1759, 'cover': 1022, 'anymore': 258, 'fit': 1740, 'randomly': 3515, 'hunting': 2201, 'basement': 405, 'connected': 945, 'sisters': 4002, 'wall': 4781, 'profound': 3423, 'eating': 1413, 'smoking': 4040, 'heres': 2087, 'chick': 786, 'forgot': 1796, 'sister': 4001, 'apartment': 265, 'theyre': 4445, 'lying': 2690, 'mine': 2853, 'gave': 1875, 'hospital': 2172, 'doctors': 1305, 'quit': 3494, 'excited': 1561, 'michael': 2829, 'novels': 3053, 'casting': 711, 'asleep': 320, 'whilst': 4869, 'fish': 1738, 'yes': 4982, 'hired': 2117, 'blind': 506, 'novel': 3052, 'annoyed': 248, 'listening': 2620, 'speech': 4102, 'hunter': 2199, 'treat': 4572, 'comparison': 914, 'liners': 2611, '2nd': 41, 'degree': 1164, 'model': 2880, 'massacre': 2754, 'youve': 4995, 'loud': 2664, 'unique': 4662, 'strip': 4228, 'maybe': 2776, 'word': 4937, 'grandmother': 1955, 'comedies': 889, 'commercials': 903, 'left': 2561, 'head': 2057, 'stone': 4197, 'age': 148, 'wanna': 4786, 'praise': 3364, 'mexican': 2826, 'proud': 3444, 'success': 4265, 'mainstream': 2709, 'hand': 2015, 'focuses': 1768, 'pleasant': 3302, 'suffering': 4277, 'attack': 337, 'september': 3884, 'message': 2819, 'cry': 1073, 'others': 3136, 'east': 1407, 'crying': 1074, 'crimes': 1056, 'committed': 905, 'attention': 345, 'bin': 483, 'dying': 1393, 'poverty': 3357, 'aids': 161, 'sean': 3840, 'twin': 4615, 'greed': 1968, 'letting': 2583, 'rise': 3702, 'ken': 2453, 'attacked': 338, 'latin': 2527, 'suffered': 4276, 'similar': 3978, 'date': 1118, 'wanted': 4789, 'america': 212, 'become': 433, 'pain': 3170, 'non': 3027, 'taste': 4369, 'french': 1830, 'showed': 3956, 'slap': 4018, 'state': 4160, 'equal': 1509, 'lets': 2580, 'sequel': 3885, 'forgotten': 1797, 'gem': 1877, 'aforementioned': 139, 'idiot': 2218, 'code': 869, 'list': 2617, 'sequels': 3886, 'accidentally': 85, 'involved': 2346, 'secret': 3849, 'computer': 927, 'suits': 4287, 'meet': 2793, 'important': 2247, 'dies': 1245, 'captured': 677, 'beat': 423, 'beats': 426, 'using': 4698, 'saves': 3796, 'laid': 2508, 'grade': 1951, 'familiar': 1643, 'unless': 4669, 'insane': 2296, 'cameo': 657, 'blame': 499, 'fellow': 1691, 'write': 4967, 'missed': 2867, 'jesus': 2399, 'christ': 807, 'redeeming': 3577, 'features': 1680, 'joseph': 2419, 'getting': 1901, 'football': 1783, 'surface': 4310, 'younger': 4990, 'secretly': 3851, 'hoped': 2156, 'ii': 2226, 'trailers': 4555, 'neck': 2985, 'caused': 724, 'packed': 3166, 'genuinely': 1892, 'laughing': 2533, 'sport': 4129, 'irrelevant': 2358, 'add': 115, 'culture': 1079, 'formula': 1802, 'dare': 1113, 'lovely': 2671, 'necessary': 2984, 'keeping': 2450, 'viewer': 4738, 'entertained': 1498, 'mentally': 2809, 'engaged': 1480, 'turning': 4608, 'used': 4693, 'endings': 1472, 'personally': 3243, 'outcome': 3142, 'strongly': 4231, 'letter': 2581, 'existed': 1570, 'realism': 3549, 'sometimes': 4067, 'bizarre': 492, 'possibly': 3351, 'prize': 3405, 'unconvincing': 4638, 'offered': 3088, 'credits': 1050, 'lights': 2597, 'ice': 2210, 'blue': 518, 'collection': 874, 'videos': 4734, 'havent': 2053, 'finished': 1733, 'stop': 4201, 'comment': 898, 'cable': 644, 'trash': 4565, 'above': 68, 'porn': 3336, 'rating': 3529, 'boat': 523, 'distribution': 1298, 'lover': 2672, 'mad': 2696, 'relate': 3593, 'value': 4709, 'happened': 2027, 'traveling': 4568, 'brazil': 568, 'difficult': 1249, 'differences': 1247, 'revelation': 3674, 'everyday': 1541, 'bit': 488, 'negative': 2991, 'effective': 1429, 'complex': 923, 'actresses': 106, 'ugly': 4625, 'realistic': 3550, 'convincing': 985, 'science': 3816, 'imagination': 2236, 'race': 3499, 'native': 2972, 'planet': 3289, 'advanced': 128, 'earth': 1403, 'technology': 4385, 'mile': 2842, 'machine': 2693, '2001': 31, 'classical': 836, 'monster': 2892, 'deadly': 1133, 'laws': 2540, 'forbidden': 1785, 'honest': 2146, 'logical': 2639, 'statement': 4162, 'limits': 2607, 'survive': 4321, 'species': 4098, 'inevitable': 2282, 'destiny': 1212, 'diamond': 1236, 'rough': 3741, 'flow': 1762, 'uninspired': 4657, 'mini': 2854, 'digital': 1251, 'ways': 4822, 'fix': 1744, 'extra': 1606, 'research': 3644, 'outstanding': 3147, 'la': 2500, 'del': 1165, 'killers': 2471, 'exercise': 1568, '35': 45, 'color': 877, 'interviews': 2330, 'flashbacks': 1747, 'wondering': 4930, 'arrived': 301, 'worked': 4941, 'religious': 3608, 'starts': 4159, 'interview': 2329, 'prior': 3400, 'deeper': 1155, 'witness': 4914, 'semi': 3874, 'order': 3126, 'nevertheless': 3002, 'view': 4736, 'judging': 2425, 'actions': 101, 'trip': 4588, 'pure': 3471, 'raw': 3532, 'element': 1442, 'panic': 3181, 'joe': 2407, 'intimate': 2331, 'thoughts': 4464, 'emotions': 1461, 'revealing': 3672, 'facial': 1619, 'melodrama': 2797, 'hint': 2112, 'communist': 907, 'noir': 3023, 'underground': 4640, 'york': 4985, 'skip': 4016, 'widmark': 4882, 'jean': 2389, 'peters': 3248, 'originally': 3131, 'candy': 668, 'ex': 1549, 'joey': 2408, 'roll': 3728, 'highest': 2102, 'flaw': 1749, 'designed': 1203, 'solely': 4056, 'wwii': 4975, 'taylor': 4372, 'notably': 3042, 'thin': 4449, 'eventually': 1537, 'transformation': 4560, 'predictable': 3367, 'criminal': 1057, 'punishment': 3467, 'theyve': 4446, 'served': 3894, 'clean': 838, 'ease': 1404, 'suggests': 4282, 'train': 4556, 'ritter': 3705, 'terrific': 4409, 'tired': 4501, 'trashy': 4566, 'devoid': 1230, 'slightly': 4029, 'prostitute': 3440, 'suffer': 4275, 'contrived': 976, 'affair': 135, 'fbi': 1675, 'party': 3200, 'exact': 1550, 'opposite': 3123, 'weekend': 4838, 'passed': 3202, 'weeks': 4839, 'unrealistic': 4677, 'alien': 183, 'unreal': 4676, 'mild': 2839, 'tongue': 4518, 'sally': 3776, 'field': 1704, 'kevin': 2457, 'andrew': 228, 'bergman': 466, 'vegas': 4717, 'soap': 4047, 'stupid': 4247, 'robot': 3717, 'pop': 3330, 'potential': 3355, 'cut': 1089, 'endless': 1473, 'minor': 2857, 'hey': 2095, 'spoiled': 4122, 'developed': 1223, 'names': 2963, 'develops': 1226, 'sexual': 3908, 'crush': 1072, 'parent': 3187, 'term': 4405, 'neo': 2998, 'forgive': 1795, 'gold': 1932, 'misses': 2868, 'murderous': 2942, 'truth': 4599, 'pull': 3461, 'hilarious': 2106, 'described': 1195, 'wise': 4903, 'wear': 4830, 'sign': 3970, 'mass': 2753, 'spare': 4093, 'useless': 4695, 'weapon': 4828, 'changing': 752, 'wears': 4832, 'dress': 1357, 'wearing': 4831, 'supposed': 4306, 'skin': 4015, 'hoping': 2160, 'flicks': 1755, 'billy': 482, 'sucked': 4270, 'rat': 3525, 'enemy': 1477, 'midnight': 2834, 'bridge': 578, 'row': 3744, 'johnny': 2410, 'dumb': 1385, 'struggles': 4235, 'whether': 4866, 'lives': 2628, 'fails': 1628, 'root': 3737, 'dream': 1354, 'de': 1131, 'pretend': 3381, 'freddy': 1826, 'loves': 2674, 'sucks': 4271, 'energy': 1478, 'solo': 4058, 'task': 4368, 'luck': 2681, 'dynamic': 1394, 'characterization': 759, 'hurts': 2203, 'silver': 3977, 'ashamed': 312, 'author': 359, 'club': 863, 'inspiration': 2300, 'trailer': 4554, 'stellar': 4174, 'carries': 699, 'emotional': 1459, 'driven': 1365, 'thankfully': 4422, 'racial': 3501, 'paul': 3214, 'jason': 2383, 'lee': 2559, 'drink': 1361, 'morning': 2906, 'future': 1856, 'calls': 654, 'karen': 2444, 'desperately': 1209, 'asks': 319, 'wedding': 4836, 'dinner': 1254, 'realizes': 3554, 'cousin': 1021, 'attraction': 350, 'central': 735, 'trio': 4587, 'excellent': 1555, 'amazingly': 210, 'laughed': 2532, 'neighbor': 2992, 'rent': 3626, 'lots': 2662, 'vote': 4766, 'seven': 3903, 'screaming': 3827, 'hitchcock': 2123, 'edgar': 1417, 'allen': 188, 'tales': 4357, 'talent': 4354, 'soundtrack': 4085, 'band': 391, 'scare': 3803, 'tried': 4584, 'hadnt': 2004, 'charge': 761, 'wouldnt': 4958, 'faced': 1617, 'cat': 713, 'heat': 2067, 'aint': 163, 'anywhere': 263, 'everywhere': 1545, 'cliche': 843, 'rob': 3710, 'rotten': 3740, 'embarrassed': 1453, 'dull': 1384, 'ages': 152, 'ben': 463, 'art': 304, 'learning': 2552, 'gone': 1935, 'minds': 2852, 'hearts': 2066, 'planning': 3291, 'graphic': 1958, 'horrifying': 2167, 'aside': 315, 'taken': 4350, 'hatred': 2049, 'boys': 559, 'consequences': 947, 'respect': 3652, 'lesson': 2577, 'continue': 969, 'columbo': 881, 'drag': 1342, 'falk': 1636, 'fury': 1855, 'includes': 2263, 'stevens': 4183, 'francisco': 1819, 'cool': 989, 'devil': 1228, 'thrills': 4475, 'thrilling': 4474, 'thrillers': 4473, 'classic': 835, 'doctor': 1304, 'winner': 4897, 'werewolf': 4850, 'london': 2641, 'wolf': 4920, 'bullet': 620, '1996': 26, 'soldiers': 4054, '2002': 32, '2003': 33, '2004': 34, 'religion': 3607, 'philosophy': 3254, 'examples': 1554, 'theory': 4437, 'eastern': 1408, 'specific': 4099, 'odds': 3082, 'event': 1535, 'solid': 4057, 'accurate': 90, 'believed': 455, 'walk': 4775, 'belief': 451, 'involving': 2349, 'unhappy': 4656, 'photographer': 3259, 'halfway': 2008, 'incomprehensible': 2267, 'plus': 3311, 'string': 4227, 'wasting': 4810, 'suggest': 4280, 'universe': 4666, 'ed': 1415, 'creepy': 1052, 'mario': 2738, 'village': 4743, 'lighting': 2596, 'watchable': 4812, 'credible': 1048, 'powers': 3361, 'superior': 4300, 'hearing': 2063, 'believable': 453, 'explosions': 1597, 'performs': 3234, 'fancy': 1649, 'highly': 2105, 'carrey': 696, 'mostly': 2910, 'weird': 4841, 'target': 4366, 'jackie': 2374, 'chan': 746, 'considered': 951, 'likely': 2601, 'bruce': 602, 'dragon': 1344, 'lees': 2560, 'rush': 3759, 'trilogy': 4586, 'efforts': 1433, 'kick': 2460, 'starting': 4158, 'kicking': 2462, 'bone': 533, 'kung': 2498, 'fu': 1844, 'successful': 4266, 'set': 3898, 'hong': 2149, 'kong': 2494, 'likewise': 2603, 'version': 4720, 'fighting': 1709, 'abilities': 64, 'drunken': 1376, 'master': 2757, 'extraordinary': 1607, 'mall': 2720, 'literally': 2622, 'glass': 1917, 'outside': 3146, 'bus': 631, 'town': 4541, 'successfully': 4267, 'sorts': 4078, 'weapons': 4829, 'considering': 952, 'testament': 4417, 'expert': 1585, 'proved': 3446, 'trick': 4582, 'clever': 841, 'discuss': 1283, 'opposed': 3122, 'matrix': 2767, 'cgi': 740, 'miles': 2843, 'christmas': 810, 'reminds': 3620, 'smile': 4036, 'charm': 767, 'causes': 725, 'moore': 2901, 'rich': 3685, 'lazy': 2543, 'linda': 2609, 'waitress': 4773, 'soft': 4051, 'constantly': 958, 'inventive': 2341, 'values': 4710, 'loses': 2657, 'goal': 1925, 'entertain': 1497, 'include': 2261, 'tape': 4365, 'sort': 4077, 'unfolds': 4651, 'slowly': 4032, 'danny': 1112, 'glover': 1923, 'meanwhile': 2785, 'dennis': 1179, 'rated': 3527, 'hamlet': 2013, 'heck': 2071, 'portrayal': 3341, 'breathtaking': 574, 'rare': 3523, 'shakespeare': 3915, 'knock': 2488, 'mel': 2796, 'finish': 1732, 'thumbs': 4485, 'thrown': 4481, 'books': 536, 'stated': 4161, 'related': 3594, 'june': 2433, '1980': 20, '16': 8, 'unexpected': 4650, 'thriller': 4472, 'shop': 3945, 'reading': 3544, 'totally': 4532, 'maker': 2714, 'occurred': 3077, 'impress': 2250, 'tears': 4380, 'accents': 79, 'fake': 1635, 'irritating': 2359, 'asian': 314, 'elizabeth': 1445, 'execution': 1566, 'sounded': 4082, 'depressing': 1188, 'unfortunate': 4653, 'sent': 3880, 'eg': 1434, 'chicago': 785, 'international': 2326, 'festival': 1697, 'atlantis': 332, 'lost': 2660, 'empire': 1464, 'sub': 4252, 'plots': 3310, 'animation': 242, 'enjoying': 1487, 'choice': 797, 'personality': 3242, 'christian': 808, 'ability': 65, 'villain': 4744, 'accident': 84, 'included': 2262, 'deals': 1137, 'issues': 2365, 'shy': 3962, 'touching': 4536, 'necessarily': 2983, 'buddies': 608, 'maintain': 2710, 'ignorant': 2223, 'punk': 3468, 'claire': 831, 'ps': 3453, 'cameos': 658, 'chris': 806, 'teacher': 4375, 'reel': 3581, 'frightening': 1839, 'bill': 481, 'nancy': 2964, 'relatives': 3601, 'sick': 3963, 'dreadful': 1353, 'unbelievably': 4635, 'hysterical': 2208, 'girls': 1911, 'credibility': 1047, 'urge': 4689, 'spending': 4106, '14': 6, 'center': 732, 'purchase': 3469, 'cave': 727, 'intended': 2315, 'explore': 1594, 'six': 4010, 'core': 995, 'rule': 3753, 'asking': 318, 'worlds': 4947, 'explains': 1589, 'rank': 3518, 'higher': 2101, 'existent': 1572, 'incoherent': 2265, 'humor': 2192, 'aliens': 184, 'shortly': 3947, 'mistakes': 2873, 'couldve': 1009, 'wonders': 4931, 'shed': 3924, 'wandering': 4785, 'opens': 3115, 'throws': 4482, 'kid': 2464, 'drags': 1345, 'lyrics': 2692, 'wife': 4884, 'par': 3184, 'aka': 168, 'suffers': 4278, 'senseless': 3878, 'pacing': 3163, 'offers': 3090, 'explanation': 1590, 'satisfying': 3791, 'mediocre': 2791, 'haunting': 2051, 'theme': 4433, 'locations': 2636, 'stan': 4142, 'lesser': 2576, 'parody': 3192, 'twenty': 4612, 'bigger': 479, 'via': 4726, 'madonna': 2699, 'jackson': 2375, 'waited': 4771, 'disappoint': 1272, 'mtv': 2933, 'commentary': 899, 'wave': 4818, 'styles': 4250, 'remind': 3618, 'popular': 3333, 'commercial': 902, 'purple': 3473, 'insight': 2298, 'santa': 3783, 'guide': 1993, 'saturday': 3792, 'afternoon': 144, 'spanish': 4092, 'nightmares': 3015, 'nicholas': 3010, 'cage': 645, 'terms': 4406, 'allow': 189, 'sold': 4052, 'disbelief': 1277, 'medium': 2792, 'requires': 3642, 'laughter': 2535, 'mistake': 2871, 'rid': 3690, 'wood': 4933, 'bloody': 513, 'pieces': 3273, 'table': 4346, 'coffee': 870, 'tooth': 4524, 'knowing': 2490, 'aspects': 322, 'book': 535, 'twisted': 4618, 'rocket': 3721, 'education': 1424, 'fair': 1630, 'states': 4163, 'group': 1980, 'tragic': 4552, 'tour': 4538, 'site': 4005, 'bet': 470, '50s': 52, '60s': 54, 'ms': 2931, 'variety': 4714, 'appearances': 275, 'share': 3920, 'samurai': 3779, 'reference': 3582, 'total': 4531, 'whereas': 4865, '70': 55, 'lena': 2568, 'tiny': 4500, 'lol': 2640, 'forever': 1792, 'visually': 4758, 'stunning': 4244, 'delightful': 1168, 'clichéd': 845, 'chose': 804, 'unpleasant': 4674, 'friends': 1837, 'messed': 2821, 'birthday': 487, 'gift': 1906, 'spent': 4108, 'seconds': 3848, 'thru': 4483, 'utterly': 4702, 'hasnt': 2044, 'carried': 698, 'hardy': 2037, 'sophisticated': 4075, 'stretch': 4221, 'scientists': 3819, 'unseen': 4678, 'pretentious': 3383, 'horse': 2170, 'crack': 1027, 'attitudes': 347, 'clumsy': 866, 'desire': 1205, 'established': 1524, 'scientific': 3817, 'amateurish': 207, 'ridden': 3691, 'wild': 4885, 'jane': 2380, 'mix': 2876, 'gary': 1873, 'cooper': 990, '40': 48, 'sounding': 4083, 'em': 1452, 'thoroughly': 4459, 'cinematic': 818, 'stanley': 4148, 'resident': 3647, 'bomb': 531, 'discovers': 1281, 'wealth': 4826, 'duke': 1383, 'ancient': 225, 'edward': 1426, 'england': 1482, 'subjects': 4254, 'war': 4792, 'burn': 625, 'destroy': 1213, 'clothing': 861, 'fully': 1847, 'suit': 4284, 'border': 539, 'post': 3352, 'quiet': 3492, 'dry': 1377, 'office': 3091, 'closed': 854, 'altogether': 202, 'water': 4816, 'quotes': 3497, 'capital': 673, 'plight': 3308, 'compelled': 915, 'throwing': 4480, 'answer': 251, 'lips': 2615, 'wonderfully': 4929, 'featuring': 1681, 'sharp': 3922, 'storytelling': 4209, 'vincent': 4746, 'basic': 406, '40s': 49, 'con': 928, 'smart': 4035, 'ambitious': 211, 'discover': 1279, 'bleak': 503, 'desperation': 1210, 'ends': 1474, 'scheme': 3812, 'worker': 4942, 'deaf': 1134, 'uses': 4697, 'sexually': 3910, 'awkward': 374, 'contemporary': 965, 'landscapes': 2514, 'bbc': 417, 'david': 1124, 'captivating': 675, 'patrick': 3213, 'appropriate': 283, 'calm': 655, 'animal': 239, 'north': 3036, 'bear': 420, 'elephant': 1444, 'whale': 4857, 'appear': 273, 'chapter': 757, 'birds': 485, 'jungle': 2434, 'impression': 2252, 'cities': 823, 'typical': 4623, 'accompanied': 86, 'opened': 3113, 'brutal': 603, 'killings': 2473, 'cases': 708, 'newly': 3004, 'cost': 1003, 'dutch': 1389, 'yesterday': 4983, 'month': 2896, 'rarely': 3524, 'curious': 1083, 'favourite': 1673, 'cried': 1054, 'sweet': 4336, 'san': 3780, 'terribly': 4408, 'seemingly': 3863, 'devoted': 1231, 'window': 4894, 'object': 3066, 'obsession': 3070, 'dance': 1103, 'students': 4239, 'betty': 474, 'disaster': 1276, 'embarrassment': 1455, 'douglas': 1334, 'harry': 2039, 'tune': 4602, 'memorable': 2802, 'meaning': 2780, 'description': 1197, 'chaos': 755, 'innocent': 2294, 'safe': 3771, 'addition': 118, 'moved': 2922, 'portrays': 3344, 'award': 366, 'winning': 4898, 'brave': 567, 'friendly': 1836, 'wing': 4896, 'ready': 3546, 'prefer': 3368, 'motives': 2916, 'underlying': 4641, 'mighty': 2836, 'matters': 2770, 'surrounding': 4319, 'appreciated': 280, 'reaching': 3539, 'burning': 627, 'gas': 1874, 'blew': 505, 'repeat': 3630, 'burned': 626, 'introduction': 2339, 'performed': 3230, 'duty': 1390, 'bother': 548, 'soul': 4079, 'president': 3378, 'christians': 809, 'falling': 1639, 'folks': 1771, 'souls': 4080, 'pick': 3265, 'priest': 3392, 'madness': 2698, 'sudden': 4272, 'sense': 3877, 'deliberately': 1166, 'st': 4137, 'suicide': 4283, 'gotta': 1946, 'tight': 4492, 'voices': 4763, 'secretary': 3850, 'essentially': 1523, 'hire': 2116, 'jail': 2376, 'entirely': 1503, 'stretched': 4222, 'seeking': 3859, 'emotionally': 1460, 'attached': 336, 'creators': 1044, 'nail': 2957, 'adding': 117, 'catch': 714, 'closely': 855, 'kate': 2446, 'temple': 4398, 'doom': 1326, 'pair': 3176, 'reminiscent': 3621, 'african': 142, 'highlight': 2103, 'tremendous': 4579, 'basketball': 409, 'members': 2801, 'desired': 1206, 'wins': 4899, 'returns': 3668, 'process': 3412, 'repeated': 3631, 'change': 749, 'formulaic': 1803, 'sports': 4130, 'cared': 685, 'previously': 3388, 'unknown': 4668, 'awake': 365, 'feelings': 1686, 'adult': 125, 'national': 2970, 'reunion': 3669, 'vampire': 4711, 'believes': 456, 'grab': 1949, 'inappropriate': 2259, 'peoples': 3222, 'gag': 1861, 'sleep': 4024, 'search': 3841, 'odd': 3080, 'gags': 1862, 'roger': 3724, 'scripts': 3836, 'pleasantly': 3303, 'brutally': 604, 'murdered': 2940, 'funeral': 1849, 'shut': 3961, 'plans': 3292, 'honestly': 2147, 'exception': 1557, 'door': 1328, 'tracks': 4545, 'ride': 3692, 'resist': 3648, 'riding': 3695, 'opera': 3116, 'rock': 3720, 'kudos': 2497, 'charismatic': 763, 'network': 3000, 'abc': 63, 'deserve': 1199, 'projects': 3428, 'standard': 4144, 'combination': 883, 'urban': 4688, 'puts': 3481, 'hearted': 2065, 'jet': 2400, 'li': 2587, 'results': 3662, 'holding': 2130, 'rick': 3689, 'stomach': 4196, 'shower': 3957, 'carefully': 689, 'harris': 2038, 'beatty': 427, 'prove': 3445, 'downright': 1337, 'creation': 1040, 'stiff': 4187, 'generic': 1885, 'bland': 500, 'blatant': 502, 'spread': 4133, 'prevent': 3385, 'displays': 1293, 'africa': 141, 'sole': 4055, 'illness': 2230, 'concept': 930, 'brilliance': 582, 'produce': 3413, 'acid': 95, 'wound': 4960, 'headed': 2058, 'petty': 3249, 'disturbed': 1299, 'uneven': 4649, 'goofy': 1939, 'academy': 77, 'nomination': 3026, 'circle': 821, 'challenging': 744, 'soccer': 4048, 'cup': 1080, 'iran': 2350, 'match': 2762, 'spirit': 4113, 'sheer': 3925, 'gender': 1878, 'population': 3335, 'increasingly': 2268, 'join': 2412, 'colors': 879, 'cringe': 1059, 'knowledge': 2491, 'rules': 3754, 'green': 1971, 'soldier': 4053, 'cops': 993, 'background': 380, 'represents': 3639, 'wore': 4939, 'officers': 3093, 'hints': 2113, 'honor': 2150, 'player': 3298, 'rural': 3758, 'poster': 3353, 'italian': 2367, 'mask': 2752, 'errors': 1516, 'officer': 3092, 'directs': 1267, 'vice': 4727, 'mixed': 2877, 'guilty': 1995, 'games': 1865, 'radio': 3504, 'broken': 594, 'holds': 2131, 'prisoners': 3403, 'excitement': 1562, 'kicks': 2463, 'germany': 1898, 'masses': 2755, 'cars': 702, 'win': 4892, 'united': 4664, 'evening': 1534, 'finale': 1723, 'essence': 1521, 'social': 4049, 'becoming': 435, 'global': 1920, 'females': 1694, 'tries': 4585, 'decision': 1151, 'blend': 504, 'moving': 2928, 'ass': 323, 'nations': 2971, 'shark': 3921, 'hip': 2114, 'carrying': 701, 'unpredictable': 4675, 'amount': 219, 'began': 441, 'enthusiasm': 1501, 'exciting': 1563, 'anime': 243, 'uncomfortable': 4637, 'rooms': 3736, 'futuristic': 1857, 'travel': 4567, 'agents': 151, 'stranger': 4213, 'aged': 149, 'wallace': 4782, 'dialog': 1232, 'largely': 2518, 'uninteresting': 4660, 'built': 618, 'cheese': 780, 'awesome': 371, 'fear': 1676, 'scares': 3806, 'followed': 1773, 'individuals': 2278, 'jack': 2373, 'control': 977, 'theatre': 4429, 'seat': 3845, 'popcorn': 3331, 'ryan': 3765, 'brian': 576, 'buff': 611, 'conspiracy': 956, 'critical': 1062, 'alternate': 200, 'clint': 850, 'alex': 179, 'circumstances': 822, 'thomas': 4458, 'wake': 4774, 'escaped': 1518, 'nights': 3016, 'claims': 830, 'sin': 3988, 'allowing': 191, 'answers': 252, 'authority': 360, 'connection': 946, 'response': 3654, 'couples': 1017, 'direct': 1258, 'directions': 1262, 'capable': 672, 'failing': 1627, 'somewhere': 4069, 'precious': 3366, 'al': 170, 'pacino': 3164, 'fooled': 1780, 'unbelievable': 4634, 'drivel': 1364, 'ironically': 2356, 'tag': 4348, 'toys': 4543, 'design': 1202, 'disappointment': 1275, 'robin': 3715, 'williams': 4888, 'cusack': 1088, 'toy': 4542, 'factory': 1623, 'dad': 1095, 'remotely': 3623, 'slapstick': 4019, 'brando': 566, 'korean': 2495, 'lovers': 2673, 'racism': 3502, 'conservative': 948, 'cultural': 1078, 'relations': 3596, 'twist': 4617, 'racist': 3503, 'summer': 4291, 'drawn': 1351, 'disney': 1289, 'remote': 3622, 'button': 639, 'harvey': 2042, 'artist': 307, 'appeal': 271, 'gay': 1876, 'resort': 3650, 'animated': 241, 'official': 3094, 'dirty': 1268, 'vietnam': 4735, 'veteran': 4724, 'terrorists': 4414, 'darker': 1116, 'raped': 3522, 'boss': 546, 'vacation': 4704, 'investigation': 2343, 'pool': 3327, 'combined': 885, 'zombie': 4997, 'cake': 648, 'todd': 4510, 'screenwriter': 3833, 'naturally': 2974, 'experiment': 1583, 'zombies': 4998, 'idiotic': 2219, 'strange': 4211, 'superman': 4301, 'outrageous': 3145, 'forward': 1808, 'humble': 2191, 'allowed': 190, 'draw': 1349, 'sat': 3786, 'bands': 392, 'basis': 408, 'merit': 2816, 'persona': 3239, 'solve': 4060, 'albeit': 173, 'explored': 1595, 'maria': 2736, '1990s': 25, 'reached': 3537, 'fortunately': 1805, 'limited': 2606, 'mature': 2773, 'perspective': 3245, 'raising': 3509, 'dollar': 1314, 'apes': 267, 'current': 1084, 'pseudo': 3454, 'favor': 1670, 'winter': 4900, 'warriors': 4803, 'struck': 4232, 'spectacular': 4101, 'technically': 4382, 'movement': 2923, 'rising': 3703, 'warrior': 4802, 'sword': 4340, 'express': 1600, 'represent': 3637, 'simplicity': 3984, 'offering': 3089, 'physically': 3263, 'miserable': 2863, 'conceived': 929, 'birth': 486, 'details': 1219, 'system': 4345, 'rolling': 3730, 'begin': 442, 'lower': 2677, 'upper': 4685, 'tear': 4379, 'pack': 3165, 'create': 1036, 'dangerous': 1110, 'sidney': 3968, 'fourth': 1813, 'magazine': 2701, 'miracle': 2860, 'phone': 3255, 'usa': 4691, 'broadway': 592, 'jewish': 2401, 'kills': 2474, 'pet': 3246, 'confusion': 943, 'assigned': 325, 'therefore': 4439, 'sides': 3967, 'whenever': 4863, 'existence': 1571, 'destroying': 1215, 'expensive': 1579, 'attracted': 349, 'unfunny': 4655, 're': 3535, 'menacing': 2807, 'mood': 2898, 'kidnapped': 2466, 'track': 4544, 'bugs': 613, 'tense': 4403, 'website': 4834, 'lynch': 2691, 'large': 2517, 'repeatedly': 3632, 'easier': 1405, 'exceptionally': 1559, 'occasional': 3074, 'artistic': 308, 'maggie': 2702, 'standing': 4146, 'murphy': 2944, 'matt': 2768, 'liking': 2604, 'alright': 198, 'justin': 2440, 'keaton': 2448, 'angela': 232, 'robinson': 3716, 'okay': 3099, 'responsible': 3656, 'taxi': 4371, 'fail': 1625, 'hopefully': 2157, 'account': 89, 'checking': 778, 'serial': 3889, 'whoever': 4872, 'edited': 1420, 'instance': 2304, 'foot': 1781, 'tiger': 4491, 'trap': 4563, 'titles': 4506, 'titled': 4505, 'bell': 458, 'era': 1513, 'glory': 1922, 'bound': 553, 'narration': 2965, 'porno': 3337, 'monsters': 2893, 'jumps': 2432, 'bob': 524, 'bottle': 550, 'pops': 3332, 'scientist': 3818, 'horses': 2171, 'recording': 3575, 'transfer': 4559, 'cell': 730, 'compare': 911, 'cult': 1077, 'classics': 837, '2007': 37, 'remarks': 3615, 'tom': 4514, 'equipment': 1511, 'inept': 2281, 'gifted': 1907, 'detective': 1220, 'realizing': 3555, 'vs': 4767, 'deceased': 1146, 'tends': 4402, 'failure': 1629, 'argue': 290, 'guilt': 1994, 'empathy': 1462, 'overlooked': 3154, 'awfully': 373, 'views': 4742, 'visits': 4756, 'eastwood': 1409, 'distracting': 1297, 'album': 175, 'cd': 728, 'selling': 3873, '11': 2, 'forgettable': 1794, 'hole': 2132, '13': 4, 'starred': 4153, 'rescue': 3643, 'neat': 2982, 'format': 1799, 'experiences': 1582, 'stephen': 4176, 'gordon': 1940, 'treatment': 4574, 'ashley': 313, 'saga': 3773, 'principal': 3398, 'determined': 1221, 'beyond': 476, 'uk': 4626, 'eager': 1396, 'raised': 3508, 'warn': 4797, 'corny': 997, 'pile': 3275, 'strictly': 4223, 'giallo': 1904, 'gothic': 1945, 'weve': 4856, 'delight': 1167, 'emphasis': 1463, 'definite': 1161, 'bonus': 534, 'confusing': 942, 'improved': 2255, 'grandfather': 1954, 'legend': 2564, 'painting': 3175, 'castle': 712, 'revolves': 3682, 'hundred': 2195, 'occur': 3076, 'colour': 880, 'iron': 2354, 'female': 1693, 'barbara': 397, 'clothes': 860, 'catchy': 717, 'identity': 2217, '3d': 46, 'dated': 1119, 'achieve': 92, 'nazis': 2978, 'send': 3875, 'nazi': 2977, 'mentioned': 2811, 'detailed': 1218, 'professional': 3421, 'consists': 955, 'grows': 1985, 'doors': 1329, 'levels': 2585, '100': 1, 'helping': 2081, 'methods': 2825, 'knife': 2487, 'instantly': 2306, 'four': 1812, 'locked': 2637, 'introduced': 2337, '90s': 61, 'dropped': 1370, 'bush': 632, 'faster': 1662, 'enemies': 1476, 'yeah': 4977, 'massive': 2756, 'amounts': 220, 'sounds': 4084, 'prepared': 3371, 'reveal': 3670, 'yelling': 4980, 'trapped': 4564, 'countless': 1012, 'warmth': 4796, 'crew': 1053, 'entry': 1504, 'jumping': 2431, 'load': 2631, 'shoes': 3941, 'recognition': 3568, 'fifteen': 1706, 'recommended': 3572, 'mental': 2808, 'lacking': 2504, 'pie': 3271, 'buddy': 609, 'arrival': 299, 'alcohol': 176, 'honesty': 2148, 'gross': 1978, 'relies': 3606, 'simon': 3982, 'nick': 3012, 'chain': 741, 'alike': 185, 'flop': 1760, 'anderson': 227, 'angle': 236, 'virgin': 4749, 'offended': 3085, 'disgusting': 1286, 'punch': 3466, 'dubbed': 1379, '50': 51, 'versions': 4721, 'seagal': 3839, 'clue': 864, 'changed': 750, 'rebel': 3561, 'nine': 3017, 'clues': 865, 'wealthy': 4827, 'teen': 4388, 'peace': 3219, 'busy': 635, 'intensity': 2317, 'explicit': 1591, 'helps': 2082, 'legendary': 2565, 'fat': 1663, 'humanity': 2189, 'hopeless': 2158, 'needless': 2989, 'empty': 1465, 'laughably': 2531, 'appreciate': 279, 'seriously': 3892, 'medical': 2790, 'imitation': 2241, 'offer': 3087, 'consider': 949, 'overacting': 3149, 'reasonable': 3558, 'correct': 1000, 'cruise': 1071, 'educational': 1425, 'versus': 4722, 'poem': 3312, 'literature': 2623, 'messages': 2820, 'todays': 4509, 'context': 968, 'bits': 490, 'dr': 1340, 'copies': 992, 'achievement': 94, '1970s': 17, 'burns': 628, 'substance': 4258, 'taught': 4370, 'remaining': 3610, 'morality': 2903, 'extreme': 1609, 'appreciation': 281, 'mans': 2730, 'ourselves': 3140, 'learned': 2551, 'category': 718, 'recognized': 3570, 'teaching': 4377, 'discussion': 1284, 'spiritual': 4116, 'lewis': 2586, 'trite': 4589, 'holes': 2133, 'size': 4012, 'outer': 3143, 'incompetent': 2266, 'walter': 4784, 'comedian': 887, 'brooklyn': 595, 'blade': 495, 'timing': 4498, 'dignity': 1252, 'proceedings': 3410, 'blows': 517, 'footage': 1782, 'stinks': 4192, 'albert': 174, 'dave': 1123, 'denzel': 1181, 'washington': 4806, 'scott': 3824, 'glenn': 1918, 'flash': 1745, 'redemption': 3578, 'businessman': 634, 'oil': 3097, 'swimming': 4338, 'demons': 1178, 'subsequent': 4257, 'newspaper': 3006, 'reporter': 3636, 'rachel': 3500, 'flawed': 1750, 'inducing': 2279, 'montage': 2894, 'oliver': 3102, 'stones': 4198, 'sam': 3777, 'reed': 3580, 'dedicated': 1153, 'crime': 1055, 'stayed': 4167, 'parallel': 3185, 'broad': 590, 'unaware': 4632, 'arrives': 302, 'disappear': 1270, 'china': 795, 'eve': 1532, 'hang': 2022, 'buildings': 616, 'block': 508, 'unintentionally': 4659, 'doll': 1313, 'pitt': 3280, 'fired': 1735, 'dinosaurs': 1256, 'goldberg': 1933, 'rex': 3683, 'wicked': 4879, 'spite': 4117, 'equivalent': 1512, 'torture': 4529, 'fatal': 1664, 'pal': 3177, 'spielberg': 4110, 'hates': 2048, 'chases': 771, 'rubber': 3747, 'tonight': 4519, 'placed': 3283, 'escape': 1517, 'nearby': 2980, 'thirty': 4456, 'protect': 3443, 'properly': 3437, 'ray': 3533, 'california': 650, 'los': 2653, 'angeles': 233, 'understood': 4647, 'womans': 4922, 'subplot': 4255, 'nowhere': 3056, 'virtually': 4751, '3000': 43, 'butt': 638, 'adorable': 124, 'latest': 2526, 'adventures': 131, 'lifetime': 2594, 'gotten': 1947, 'broke': 593, 'talks': 4361, 'secondly': 3847, 'loads': 2633, 'agreed': 156, 'smith': 4038, 'quirky': 3493, 'position': 3345, 'smooth': 4041, 'fascinated': 1657, 'audio': 354, 'aimed': 162, 'giant': 1905, 'pity': 3281, 'shocking': 3940, 'demands': 1175, 'woods': 4935, 'beach': 419, 'hat': 2045, 'cares': 690, 'myers': 2952, 'overly': 3155, 'belongs': 460, 'carter': 703, 'noble': 3021, 'ultimate': 4627, 'vengeance': 4719, 'campy': 664, 'teenager': 4390, 'foster': 1809, 'enjoys': 1489, 'kiss': 2483, 'loving': 2675, 'balance': 387, 'elvis': 1451, 'timeless': 4496, 'possibilities': 3348, 'dreams': 1355, 'arms': 294, 'obscure': 3068, 'wishing': 4907, 'unable': 4631, 'sends': 3876, 'editor': 1423, 'courage': 1018, 'beneath': 464, 'receive': 3563, 'marriage': 2743, 'cross': 1066, 'stronger': 4230, 'situation': 4008, 'authentic': 358, 'arm': 292, 'passion': 3205, 'costume': 1005, 'grey': 1973, 'facing': 1620, 'destruction': 1216, 'crisis': 1060, '1990': 24, 'returned': 3666, 'japan': 2381, 'alan': 171, 'sunshine': 4294, 'board': 522, 'voiced': 4762, 'heston': 2094, 'tim': 4494, 'unforgettable': 4652, 'fate': 1665, 'screens': 3832, 'lively': 2627, 'raise': 3507, 'involves': 2348, 'spends': 4107, 'landscape': 2513, 'chicks': 787, 'dig': 1250, 'max': 2774, 'corporate': 998, 'guessed': 1990, 'villains': 4745, 'beating': 425, 'welcome': 4842, '17': 9, 'painfully': 3172, 'suck': 4269, 'robbery': 3711, 'rose': 3739, 'obsessed': 3069, 'paying': 3217, 'decides': 1150, 'loser': 2655, 'scream': 3826, 'slasher': 4020, 'factor': 1622, 'inspired': 2301, 'motivations': 2915, 'junk': 2436, 'jennifer': 2392, 'morgan': 2905, 'florida': 1761, 'spring': 4134, 'card': 681, 'settle': 3902, 'gratuitous': 1961, 'dialogs': 1233, 'visible': 4753, 'sake': 3775, 'library': 2589, 'shallow': 3917, 'mom': 2885, 'bath': 411, 'streisand': 4218, 'sexy': 3911, 'closing': 859, 'psycho': 3457, 'snow': 4045, 'vast': 4716, 'gabriel': 1859, 'cox': 1026, 'decisions': 1152, 'karloff': 2445, 'dracula': 1341, 'bela': 450, 'lugosi': 2686, 'switch': 4339, 'jobs': 2406, 'relatively': 3600, 'nonsensical': 3031, 'generous': 1886, 'constructed': 959, 'universal': 4665, 'stops': 4203, 'cabin': 643, 'wes': 4851, 'shape': 3919, 'ellen': 1446, 'military': 2844, 'experiments': 1584, 'hiding': 2099, 'mysteries': 2954, 'strikes': 4225, 'host': 2173, 'picked': 3266, 'nyc': 3065, 'originality': 3130, 'bang': 393, 'jay': 2386, 'consistently': 954, 'ranks': 3519, 'pat': 3208, '1960s': 15, 'dating': 1120, 'performer': 3231, 'pleasure': 3306, 'neil': 2995, 'adaptation': 113, 'bride': 577, 'contains': 964, 'comfortable': 892, 'regular': 3592, 'gain': 1863, 'fallen': 1638, 'witches': 4910, 'greedy': 1969, 'kingdom': 2480, 'warm': 4794, 'excessive': 1560, 'portray': 3340, 'childrens': 793, 'baseball': 403, 'lloyd': 2630, 'johnson': 2411, 'brenda': 575, 'matthew': 2772, 'personalities': 3241, 'costs': 1004, 'split': 4120, 'wars': 4804, 'capturing': 679, 'lone': 2642, 'installment': 2303, 'lasted': 2522, 'forty': 1807, 'popularity': 3334, 'itll': 2369, 'proof': 3434, '1968': 16, 'revealed': 3671, 'ruth': 3763, 'awards': 367, 'godfather': 1927, 'somebody': 4062, 'steals': 4172, 'fears': 1677, 'base': 402, 'jamie': 2379, 'kennedy': 2454, 'dean': 1139, 'damn': 1100, 'funniest': 1851, 'danger': 1109, 'widely': 4881, 'discovery': 1282, 'drew': 1360, 'chances': 748, 'reviewer': 3677, 'donna': 1323, 'judy': 2426, 'stole': 4194, 'scripted': 3835, 'horrendous': 2162, 'anna': 245, 'craven': 1034, 'surrounded': 4318, 'strangers': 4214, 'threatening': 4468, 'ya': 4976, 'slaughter': 4021, 'pulling': 3463, 'convoluted': 987, 'driving': 1368, 'security': 3854, 'theyll': 4444, 'speed': 4103, 'trek': 4578, 'texas': 4418, 'handful': 2017, 'flaws': 1752, 'chased': 770, 'sits': 4006, 'elsewhere': 1449, 'vehicle': 4718, 'garden': 1872, 'mildly': 2840, 'seek': 3858, 'un': 4630, 'ruthless': 3764, 'european': 1530, 'resembles': 3646, 'swim': 4337, 'marie': 2737, 'bay': 416, 'tend': 4400, 'stereotypical': 4180, 'developing': 1224, 'swear': 4334, 'unbearable': 4633, 'screening': 3830, 'freeman': 1829, 'drops': 1372, 'manager': 2724, 'progress': 3425, '80': 58, 'brad': 560, 'question': 3487, 'specifically': 4100, 'civilization': 827, 'method': 2824, 'bringing': 586, 'jealous': 2388, 'depressed': 1187, 'picks': 3268, 'winds': 4895, 'olivier': 3103, 'regret': 3591, 'symbolism': 4341, 'buying': 641, 'imaginative': 2237, 'charlotte': 766, 'fever': 1699, 'drawing': 1350, 'legs': 2566, 'frequently': 1832, 'sum': 4289, 'poetic': 3313, 'impossible': 2249, 'backdrop': 379, 'qualities': 3483, 'sink': 3999, 'teeth': 4393, 'greater': 1965, 'debut': 1143, 'deserved': 1200, 'toward': 4539, 'overlook': 3153, 'riveting': 3708, 'dentist': 1180, 'earl': 1398, 'everyones': 1543, 'league': 2549, 'hoffman': 2128, 'dawn': 1127, 'derek': 1192, 'alas': 172, 'estate': 1525, 'bo': 521, 'abusive': 75, 'conventional': 979, 'wisdom': 4902, 'arrive': 300, 'furthermore': 1854, 'ape': 266, 'speaks': 4096, 'language': 2516, 'tarzan': 4367, 'reaches': 3538, 'areas': 287, 'deaths': 1142, 'occasion': 3073, 'nude': 3058, 'lion': 2614, 'wrestling': 4966, 'paint': 3173, 'heroine': 2091, 'sacrifice': 3766, 'suffice': 4279, 'aware': 368, 'wreck': 4965, 'scenario': 3808, 'hamilton': 2012, 'continued': 970, 'cheek': 779, 'fonda': 1777, 'niro': 3019, 'closet': 858, 'union': 4661, 'intentionally': 2320, 'difference': 1246, 'sleazy': 4023, 'namely': 2962, 'masterpieces': 2760, 'spider': 4109, 'dinosaur': 1255, 'gods': 1928, 'suspicious': 4332, 'gradually': 1952, 'supernatural': 4302, 'selfish': 3870, 'atmospheric': 334, 'undoubtedly': 4648, 'presumably': 3380, 'countries': 1013, 'advertising': 132, 'receives': 3565, 'involve': 2345, 'print': 3399, 'someones': 4065, 'tie': 4488, 'notch': 3043, 'engage': 1479, 'chess': 783, 'infamous': 2284, 'performing': 3233, 'responsibility': 3655, 'integrity': 2311, 'ego': 1435, 'losers': 2656, 'opportunities': 3120, 'appearing': 277, 'garbo': 1871, 'ended': 1470, 'mistaken': 2872, 'masterful': 2758, 'russian': 3762, 'sitcom': 4004, 'executive': 1567, 'larry': 2520, 'blake': 498, 'manhattan': 2726, 'intent': 2318, 'heads': 2059, 'photographed': 3258, 'hideous': 2098, 'lengthy': 2570, 'recent': 3566, 'edition': 1422, 'haunted': 2050, 'ironic': 2355, 'spoken': 4126, 'roots': 3738, 'figured': 1712, 'sentimental': 3882, 'paulie': 3215, 'constant': 957, 'companion': 909, 'bird': 484, 'captures': 678, 'exists': 1573, 'mistress': 2874, 'spy': 4135, 'machines': 2694, 'antics': 255, 'reaction': 3541, 'shocked': 3939, 'hudson': 2184, 'convincingly': 986, 'humorous': 2193, 'staying': 4168, 'months': 2897, 'internet': 2327, 'witnesses': 4916, 'generation': 1883, 'accept': 80, 'genuine': 1891, 'hook': 2152, 'ties': 4490, 'satisfied': 3789, 'claim': 828, 'franchise': 1817, '13th': 5, 'halloween': 2010, 'hunt': 2198, 'changes': 751, 'gruesome': 1986, 'respected': 3653, 'mentions': 2813, 'nicholson': 3011, 'wendy': 4846, 'handled': 2019, 'angels': 234, 'scared': 3805, 'contract': 973, 'rights': 3697, 'woody': 4936, 'speak': 4094, 'afford': 138, 'multi': 2935, 'regardless': 3590, 'financial': 1725, 'kenneth': 2455, 'branagh': 564, 'thick': 4447, '1980s': 21, 'spoof': 4127, 'decades': 1145, 'loyal': 2679, 'superficial': 4298, 'shining': 3933, 'contrary': 974, 'regard': 3588, 'happily': 2030, 'dub': 1378, 'crude': 1069, 'accepted': 82, 'separate': 3883, 'evident': 1547, 'carl': 692, 'balls': 390, 'push': 3477, 'cash': 709, 'faults': 1669, 'eighties': 1437, 'greatly': 1967, 'shake': 3914, 'notes': 3046, 'photos': 3261, 'shine': 3931, 'rain': 3506, 'eccentric': 1414, 'walks': 4780, 'anyways': 262, 'emma': 1457, 'frustrated': 1842, 'paltrow': 3178, 'jeremy': 2394, 'louis': 2665, 'iii': 2227, 'mafia': 2700, 'investigate': 2342, 'wrap': 4963, 'attorney': 348, 'gritty': 1977, 'criticism': 1063, 'twelve': 4611, 'jaw': 2384, 'dropping': 1371, 'continues': 971, 'onto': 3111, 'stunt': 4245, 'bollywood': 530, 'muslim': 2949, 'besides': 468, 'crowd': 1067, 'cinderella': 815, 'childish': 791, 'generated': 1882, 'magical': 2704, 'sons': 4073, 'choreography': 802, 'props': 3439, 'ultra': 4629, 'spoke': 4125, 'dancing': 1107, 'segments': 3868, 'breaks': 571, 'paper': 3183, 'eyed': 1612, 'fictional': 1703, 'unit': 4663, 'foul': 1810, 'sinister': 3998, 'blah': 496, 'jumped': 2430, 'lie': 2590, 'appalling': 268, 'flight': 1757, 'improvement': 2256, 'careers': 687, 'fighter': 1708, 'perform': 3227, 'promising': 3433, 'partly': 3197, 'shadow': 3912, 'ships': 3935, 'alice': 182, 'matched': 2763, 'seventies': 3904, '60': 53, '75': 57, '25': 40, '2000': 30, 'consistent': 953, 'surviving': 4323, 'returning': 3667, 'invasion': 2340, 'tortured': 4530, 'alcoholic': 177, 'iraq': 2351, 'innocence': 2293, 'gentle': 1890, 'noted': 3045, 'superhero': 4299, 'technique': 4383, 'protagonists': 3442, '3rd': 47, 'zone': 4999, 'channels': 754, 'polanski': 3321, 'fame': 1642, 'defend': 1158, 'jaws': 2385, 'henry': 2084, 'mary': 2751, 'survivor': 4324, 'philip': 3252, 'lumet': 2688, 'signs': 3973, 'moral': 2902, 'satisfy': 3790, 'exposed': 1598, 'hank': 2024, 'divorce': 1301, 'agrees': 157, 'hanks': 2025, 'forth': 1804, 'effectively': 1430, 'pitch': 3279, 'ethan': 1528, 'acts': 107, 'aunt': 355, 'amy': 222, 'bitter': 491, '24': 39, 'pregnant': 3369, 'currently': 1085, 'witty': 4917, 'kirk': 2482, 'mirror': 2861, 'visit': 4755, 'exceptional': 1558, 'ian': 2209, '30s': 44, 'viewed': 4737, 'protagonist': 3441, 'solution': 4059, 'misery': 2865, 'neighbors': 2994, 'user': 4696, 'promised': 3431, 'mate': 2765, 'sappy': 3784, 'molly': 2884, 'movements': 2924, 'frame': 1815, 'italy': 2368, 'homosexual': 2145, 'hitler': 2124, 'encounter': 1466, 'return': 3665, 'building': 615, 'walked': 4776, 'expressions': 1603, 'invisible': 2344, 'worthwhile': 4955, 'throat': 4476, 'minimal': 2855, 'below': 462, 'exist': 1569, 'tree': 4576, 'uncle': 4636, 'sadistic': 3768, 'ruins': 3752, 'helped': 2080, 'guarantee': 1987, 'psychotic': 3459, 'patient': 3211, 'caine': 647, 'glimpse': 1919, 'patients': 3212, 'splatter': 4118, 'crafted': 1029, 'carrie': 697, 'pulls': 3464, 'typically': 4624, 'underrated': 4642, 'west': 4852, 'essential': 1522, 'service': 3896, 'torn': 4528, 'retarded': 3663, 'member': 2800, 'arguably': 289, 'gandhi': 1866, 'dancers': 1105, 'singers': 3994, 'tap': 4364, 'sympathetic': 4342, 'ear': 1397, 'removed': 3624, 'insult': 2309, 'closest': 857, 'translation': 4562, 'sensitive': 3879, 'admire': 121, 'highlights': 2104, 'snl': 4044, 'miserably': 2864, 'boredom': 542, 'techniques': 4384, 'junior': 2435, 'amitabh': 216, 'arrogant': 303, 'coherent': 871, 'lifestyle': 2593, 'scores': 3823, 'enjoyment': 1488, 'creep': 1051, 'goodness': 1938, 'dressing': 1359, 'groups': 1981, 'upset': 4687, 'prom': 3429, 'ruin': 3750, 'identify': 2216, 'suspenseful': 4331, 'jessica': 2398, 'davis': 1126, 'teens': 4392, 'cowboy': 1025, 'stood': 4199, 'voight': 4764, 'superbly': 4297, 'risk': 3704, 'enterprise': 1495, 'jonathan': 2417, 'doubts': 1333, 'delivered': 1170, 'comical': 894, 'rocky': 3723, 'bathroom': 412, 'attend': 344, 'possessed': 3347, 'pointed': 3317, 'et': 1526, 'australia': 356, 'chinese': 796, 'bold': 528, 'slightest': 4028, 'dragged': 1343, 'met': 2822, 'topic': 4526, 'catholic': 720, 'monk': 2889, 'created': 1037, 'thoughtful': 4463, 'asked': 317, 'isolated': 2363, 'competent': 917, 'expression': 1602, 'rap': 3520, 'boot': 538, 'charles': 764, 'psychic': 3456, 'explaining': 1588, 'humans': 2190, 'lowest': 2678, 'adam': 111, 'sandler': 3781, 'exaggerated': 1552, 'workers': 4943, 'museum': 2945, 'terror': 4412, 'canadian': 667, 'yellow': 4981, 'provoking': 3452, 'erotic': 1515, 'breasts': 572, 'bourne': 554, 'prequel': 3372, 'damon': 1101, 'troubled': 4593, 'fights': 1710, 'cia': 814, 'comparing': 913, 'politically': 3325, 'daily': 1097, 'noticed': 3049, 'pro': 3406, 'satire': 3788, 'combat': 882, 'insulting': 2310, 'priceless': 3390, 'frustration': 1843, 'marketing': 2741, 'amanda': 205, 'dealt': 1138, 'astaire': 330, 'ginger': 1908, 'rogers': 3725, 'recorded': 3574, 'fortune': 1806, 'ted': 4386, 'happiness': 2031, 'juvenile': 2441, 'demon': 1177, 'passes': 3203, 'chief': 788, 'indians': 2275, 'feet': 1688, 'liberal': 2588, 'disagree': 1269, 'finding': 1727, 'hopper': 2161, 'creatures': 1046, 'cube': 1076, 'square': 4136, 'delivery': 1173, 'choices': 798, 'tradition': 4549, 'leonard': 2572, 'titanic': 4503, 'pearl': 3220, 'strike': 4224, 'similarly': 3980, 'meat': 2787, 'berlin': 467, 'historically': 2120, 'pit': 3278, 'troubles': 4594, 'endure': 1475, 'curiosity': 1082, 'hammer': 2014, 'fly': 1763, 'lousy': 2667, 'tomatoes': 4515, 'le': 2544, 'alexander': 180, 'perfection': 3225, 'grant': 1956, 'dozen': 1338, 'luke': 2687, 'wilson': 4891, 'jenny': 2393, 'learns': 2553, 'overcome': 3151, 'jerk': 2395, 'don': 1320, 'tedious': 4387, 'blowing': 515, 'sky': 4017, 'miller': 2846, 'catches': 715, 'angel': 231, 'behavior': 446, 'leg': 2562, 'blacks': 494, 'persons': 3244, 'baker': 385, 'waters': 4817, 'silence': 3974, 'spooky': 4128, 'australian': 357, 'productions': 3420, 'politics': 3326, 'subtitles': 4259, 'text': 4419, 'intriguing': 2335, 'guessing': 1991, 'twins': 4616, 'pig': 3274, 'devils': 1229, 'kicked': 2461, 'noise': 3024, 'ghost': 1902, '1999': 27, 'pg': 3250, 'property': 3438, 'hugh': 2186, 'slave': 4022, 'catherine': 719, 'helen': 2075, 'understanding': 4645, 'teenage': 4389, 'grown': 1984, 'imagined': 2239, 'blob': 507, 'measure': 2786, 'nostalgia': 3038, 'activities': 102, 'lawrence': 2539, 'commit': 904, 'naive': 2958, 'louise': 2666, 'nervous': 2999, 'gory': 1943, 'mickey': 2831, 'guest': 1992, 'vulnerable': 4768, 'beings': 449, 'exploitation': 1592, 'ludicrous': 2685, 'trademark': 4548, 'despair': 1207, 'gangsters': 1869, 'bucks': 606, 'understandable': 4644, 'pays': 3218, 'prisoner': 3402, 'enters': 1496, 'exposure': 1599, 'eva': 1531, 'pursuit': 3476, 'crucial': 1068, 'dislike': 1288, 'der': 1191, 'initial': 2290, 'doc': 1303, 'aired': 165, 'structure': 4233, 'complexity': 924, 'immensely': 2243, 'recognize': 3569, 'tad': 4347, 'hits': 2125, 'fisher': 1739, 'abandoned': 62, 'composed': 926, 'serve': 3893, 'distance': 1294, 'farce': 1654, 'realise': 3548, 'hart': 2041, 'driver': 1366, 'brosnan': 597, 'struggling': 4236, 'suspend': 4329, 'elvira': 1450, 'pan': 3180, 'nation': 2969, 'jake': 2377, 'loaded': 2632, 'references': 3583, 'letters': 2582, 'cats': 721, 'beer': 439, 'comics': 895, 'homage': 2141, 'steel': 4173, 'perry': 3237, 'freedom': 1828, 'connect': 944, 'felix': 1689, 'worried': 4949, 'slight': 4027, 'household': 2179, 'edie': 1419, 'portrait': 3339, 'importance': 2246, 'unlikely': 4671, 'showdown': 3955, 'miike': 2837, 'farm': 1656, 'hilariously': 2107, 'nostalgic': 3039, 'outfit': 3144, 'treats': 4575, 'unoriginal': 4673, 'pride': 3391, 'sutherland': 4333, 'horrors': 2169, 'concerns': 934, 'meaningful': 2781, 'plausible': 3295, 'damage': 1099, 'valley': 4707, 'survivors': 4325, 'bud': 607, 'terry': 4415, 'nose': 3037, 'monkeys': 2891, 'willis': 4890, 'reflection': 3585, 'ought': 3138, 'hippie': 2115, 'resemblance': 3645, 'assault': 324, 'pants': 3182, 'miscast': 2862, 'rendition': 3625, 'sixties': 4011, 'stinker': 4191, 'dollars': 1315, 'april': 284, 'cary': 706, 'jr': 2423, 'directorial': 1265, 'conflict': 939, 'viewings': 4741, 'cheated': 775, 'threw': 4470, 'freak': 1824, 'thrill': 4471, 'buffs': 612, 'fetched': 1698, 'screams': 3828, 'recall': 3562, 'sandra': 3782, 'depicts': 1186, 'nuclear': 3057, 'summary': 4290, 'satan': 3787, 'vaguely': 4706, 'centered': 733, 'eric': 1514, 'cynical': 1093, 'ned': 2986, 'icon': 2211, 'ocean': 3079, 'grasp': 1960, 'americas': 215, 'illegal': 2229, 'caring': 691, 'rats': 3531, 'threat': 4467, 'contained': 963, 'lessons': 2578, 'intentions': 2321, 'fool': 1779, 'buck': 605, 'lucas': 2680, 'concerning': 933, 'writes': 4970, 'doo': 1325, 'hitting': 2126, 'holy': 2140, 'tracy': 4546, 'shirt': 3937, 'ticket': 4487, 'touched': 4534, 'che': 773, 'definition': 1163, 'jon': 2416, 'elderly': 1440, 'device': 1227, 'stilted': 4190, 'bette': 471, 'mildred': 2841, 'hollow': 2135, 'overrated': 3156, 'domino': 1319, 'babe': 375, 'hunters': 2200, 'trade': 4547, 'resolution': 3649, 'segment': 3867, 'introduces': 2338, 'jerry': 2396, 'ward': 4793, 'raymond': 3534, 'bible': 477, 'reflect': 3584, 'monkey': 2890, 'shell': 3927, 'critic': 1061, 'fields': 1705, 'expressed': 1601, 'rage': 3505, 'intention': 2319, 'dozens': 1339, 'web': 4833, 'afterwards': 145, 'university': 4667, 'demand': 1174, 'admittedly': 123, 'morris': 2908, 'hop': 2154, 'coach': 868, 'michelle': 2830, 'portraying': 3343, 'angles': 237, 'forest': 1791, 'dubbing': 1380, 'attacks': 339, 'purposes': 3475, 'belong': 459, 'civil': 826, 'ratings': 3530, 'concerned': 932, 'intellectual': 2312, 'rape': 3521, 'disjointed': 1287, 'encounters': 1467, 'adams': 112, 'rental': 3627, 'corruption': 1002, 'source': 4086, 'criminals': 1058, 'innovative': 2295, 'hardcore': 2034, 'realized': 3553, 'trees': 4577, 'retired': 3664, 'carradine': 695, 'corpse': 999, '1940s': 13, 'tiresome': 4502, 'staff': 4138, 'settings': 3901, 'franco': 1820, 'resulting': 3661, 'germans': 1897, 'practice': 3363, 'cameron': 661, 'kim': 2475, 'lust': 2689, 'folk': 1770, 'daring': 1114, 'tricks': 4583, 'macy': 2695, 'producing': 3417, 'alfred': 181, 'holmes': 2139, 'potentially': 3356, 'analysis': 224, 'issue': 2364, 'initially': 2291, 'banned': 395, 'laura': 2536, 'burt': 629, 'cannibal': 669, 'overwhelming': 3157, 'phony': 3256, 'bakshi': 386, 'controversial': 978, 'rabbit': 3498, 'descent': 1193, 'trail': 4553, 'scarecrow': 3804, 'teachers': 4376, 'dude': 1381, 'ripped': 3701, 'metal': 2823, '1973': 19, 'rochester': 3719, 'passionate': 3206, 'travesty': 4570, 'da': 1094, 'hood': 2151, 'simpson': 3987, 'pamela': 3179, 'shorts': 3948, 'ring': 3698, 'reasonably': 3559, 'believing': 457, 'brand': 565, 'fabulous': 1615, 'mst3k': 2932, 'revolutionary': 3681, 'julie': 2428, 'secrets': 3852, 'mentioning': 2812, 'mexico': 2827, 'royal': 3746, 'questionable': 3488, 'online': 3109, 'intrigued': 2334, 'operation': 3117, 'annie': 247, '1972': 18, 'hence': 2083, 'familys': 1646, 'canada': 666, 'command': 897, 'teach': 4374, 'unintentional': 4658, 'hundreds': 2196, 'sneak': 4043, 'stiller': 4189, 'focused': 1767, 'roy': 3745, 'battles': 415, 'wishes': 4906, 'depicting': 1184, 'gripping': 1976, 'sleeping': 4025, 'painted': 3174, 'professor': 3422, 'pushed': 3478, 'bare': 398, 'chaplin': 756, 'dolls': 1316, 'relation': 3595, 'possibility': 3349, 'instinct': 2308, 'mill': 2845, 'promise': 3430, 'offensive': 3086, 'link': 2613, 'influenced': 2287, 'ran': 3513, 'godzilla': 1929, 'troops': 4591, 'shines': 3932, 'rings': 3699, 'adapted': 114, 'advance': 127, 'rambo': 3511, 'similarities': 3979, 'sinatra': 3989, 'vampires': 4712, 'lesbian': 2573, 'mansion': 2731, 'refuses': 3587, 'abysmal': 76, 'snake': 4042, 'territory': 4411, 'dust': 1388, 'documentaries': 1306, 'holly': 2136, 'neighborhood': 2993, 'aid': 160, 'dvds': 1392, 'lily': 2605, 'claimed': 829, 'cleverly': 842, 'orange': 3125, 'blockbuster': 509, 'matches': 2764, 'championship': 745, 'nuts': 3064, 'defeat': 1157, 'involvement': 2347, 'chooses': 800, 'magnificent': 2705, 'theyd': 4443, 'severe': 3906, 'walker': 4778, 'lake': 2509, 'implausible': 2245, 'beliefs': 452, 'builds': 617, 'caliber': 649, 'stereotype': 4178, 'idiots': 2220, 'manipulative': 2727, 'kurt': 2499, 'journalist': 2420, 'report': 3635, 'mail': 2706, 'understated': 4646, 'heroic': 2090, 'jeffrey': 2391, 'travels': 4569, 'simmons': 3981, 'inspiring': 2302, 'craft': 1028, 'tea': 4373, 'eight': 1436, 'russell': 3761, 'mouse': 2919, 'ingredients': 2289, 'huh': 2187, 'corrupt': 1001, 'complain': 919, 'ridiculously': 3694, 'bacall': 377, 'campbell': 663, 'wholly': 4874, 'resources': 3651, 'imagery': 2234, 'melting': 2799, 'generations': 1884, 'norman': 3035, 'introduce': 2336, 'diana': 1237, 'picking': 3267, 'boxing': 556, 'reads': 3545, 'synopsis': 4344, 'celluloid': 731, 'twilight': 4614, 'photo': 3257, 'danes': 1108, 'fest': 1696, 'displayed': 1292, 'clown': 862, 'spin': 4112, 'batman': 413, 'clips': 852, 'frequent': 1831, 'represented': 3638, 'mechanical': 2788, 'lemmon': 2567, 'glorious': 1921, 'wet': 4855, 'hollywoods': 2138, 'classes': 834, 'cure': 1081, 'leo': 2571, 'concern': 931, 'scope': 3821, 'armed': 293, 'slick': 4026, 'nonetheless': 3029, 'choreographed': 801, 'sid': 3964, 'assumed': 329, 'topless': 4527, 'nurse': 3063, 'listed': 2618, 'lovable': 2668, 'butler': 637, 'warming': 4795, 'cliff': 847, 'cuba': 1075, 'hal': 2006, 'broadcast': 591, 'mummy': 2937, 'wed': 4835, 'roberts': 3714, 'suggested': 4281, 'notion': 3050, 'merits': 2817, 'lucy': 2684, 'wives': 4918, 'promises': 3432, 'countryside': 1015, 'shoots': 3944, 'lab': 2501, 'diane': 1238, 'sue': 4274, 'fitting': 1742, 'disease': 1285, 'ramones': 3512, 'instant': 2305, 'stale': 4141, 'horrific': 2166, 'survival': 4320, 'thousands': 4466, 'defense': 1159, 'feminist': 1695, 'disc': 1278, 'ensues': 1493, 'mgm': 2828, 'sarah': 3785, 'brady': 561, 'demented': 1176, 'wizard': 4919, 'oz': 3160, 'mindless': 2851, 'plant': 3293, 'ho': 2127, 'beast': 422, 'robots': 3718, 'dickens': 1240, 'lane': 2515, 'poetry': 3314, 'endearing': 1469, 'tame': 4363, 'georges': 1894, 'proceeds': 3411, 'fed': 1682, 'spirited': 4114, 'inferior': 2285, 'illogical': 2231, 'laurel': 2537, 'triumph': 4590, 'artificial': 306, 'meaningless': 2782, 'virginia': 4750, 'benefit': 465, 'concert': 935, 'jesse': 2397, 'obnoxious': 3067, 'cg': 739, 'firstly': 1737, 'alongside': 196, 'tons': 4520, 'marty': 2749, 'uwe': 4703, 'boll': 529, 'funnier': 1850, 'ignored': 2225, 'paris': 3189, 'carol': 693, 'incident': 2260, 'considerable': 950, 'staged': 4140, 'ears': 1402, 'helicopter': 2076, 'roman': 3731, 'restored': 3659, 'combine': 884, 'homer': 2144, 'rangers': 3517, '1933': 12, 'absence': 70, 'elaborate': 1439, 'orders': 3127, 'robbins': 3712, 'horrid': 2165, 'commented': 900, 'genres': 1889, 'complaint': 920, 'smaller': 4034, 'lisa': 2616, 'landing': 2512, 'adequate': 120, 'useful': 4694, 'montana': 2895, 'lou': 2663, 'construction': 960, 'andrews': 229, 'disneys': 1290, 'moronic': 2907, 'warren': 4801, 'lay': 2542, 'francis': 1818, 'behave': 445, 'ha': 2002, 'eyre': 1614, 'narrator': 2967, 'dalton': 1098, 'clark': 832, 'valuable': 4708, 'unwatchable': 4682, 'grinch': 1975, 'savage': 3793, 'remarkably': 3614, 'parties': 3196, 'shirley': 3936, 'stooges': 4200, 'kay': 2447, 'swedish': 4335, 'nelson': 2997, 'ireland': 2352, 'wells': 4845, 'richards': 3687, 'minimum': 2856, 'worn': 4948, 'mayor': 2777, 'curtis': 1087, '1984': 23, 'modesty': 2883, 'fay': 1674, 'designs': 1204, 'suspects': 4328, 'creator': 1043, 'significant': 3972, 'wrapped': 4964, 'colonel': 876, 'crocodile': 1065, 'cinemas': 817, 'sullivan': 4288, 'matthau': 2771, 'dreary': 1356, 'ideal': 2214, 'fulci': 1845, 'catching': 716, 'davies': 1125, 'argument': 291, '1983': 22, 'eaten': 1412, 'streep': 4215, 'stanwyck': 4149, 'kissing': 2484, 'bumbling': 622, 'scrooge': 3837, 'gerard': 1895, 'hyde': 2206, 'abraham': 69, 'kings': 2481, 'shelf': 3926, 'menace': 2806, 'wannabe': 4787, 'spain': 4091, 'cheating': 776, 'bedroom': 437, 'lincoln': 2608, 'unsettling': 4679, 'tender': 4401, 'omen': 3104, 'react': 3540, 'fond': 1776, 'dolph': 1317, 'pretending': 3382, 'mars': 2746, 'scooby': 3820, 'paranoia': 3186, 'burton': 630, 'phantom': 3251, 'exotic': 1574, 'khan': 2459, 'kubrick': 2496, 'chuck': 812, 'seed': 3856, 'exploration': 1593, '2005': 35, 'greek': 1970, 'chest': 784, 'gundam': 1997, 'gadget': 1860, 'airplane': 166, 'dawson': 1128, 'von': 4765, 'pokemon': 3320, 'psychiatrist': 3455}\n"
     ]
    }
   ],
   "source": [
    "print(str(vocabulary))"
   ]
  },
  {
   "cell_type": "markdown",
   "metadata": {},
   "source": [
    "Once you have added the endpoint name to the Lambda function, click on **Save**. Your Lambda function is now up and running. Next we need to create a way for our web app to execute the Lambda function."
   ]
  },
  {
   "cell_type": "markdown",
   "metadata": {},
   "source": [
    "### Setting up API Gateway\n",
    "\n",
    "Now that our Lambda function is set up, it is time to create a new API using API Gateway that will trigger the Lambda function we have just created.\n",
    "\n",
    "Using AWS Console, navigate to **Amazon API Gateway** and then click on **Get started**.\n",
    "\n",
    "On the next page, make sure that **New API** is selected and give the new api a name, for example, `sentiment_analysis_web_app`. Then, click on **Create API**.\n",
    "\n",
    "Now we have created an API, however it doesn't currently do anything. What we want it to do is to trigger the Lambda function that we created earlier.\n",
    "\n",
    "Select the **Actions** dropdown menu and click **Create Method**. A new blank method will be created, select its dropdown menu and select **POST**, then click on the check mark beside it.\n",
    "\n",
    "For the integration point, make sure that **Lambda Function** is selected and click on the **Use Lambda Proxy integration**. This option makes sure that the data that is sent to the API is then sent directly to the Lambda function with no processing. It also means that the return value must be a proper response object as it will also not be processed by API Gateway.\n",
    "\n",
    "Type the name of the Lambda function you created earlier into the **Lambda Function** text entry box and then click on **Save**. Click on **OK** in the pop-up box that then appears, giving permission to API Gateway to invoke the Lambda function you created.\n",
    "\n",
    "The last step in creating the API Gateway is to select the **Actions** dropdown and click on **Deploy API**. You will need to create a new Deployment stage and name it anything you like, for example `prod`.\n",
    "\n",
    "You have now successfully set up a public API to access your SageMaker model. Make sure to copy or write down the URL provided to invoke your newly created public API as this will be needed in the next step. This URL can be found at the top of the page, highlighted in blue next to the text **Invoke URL**."
   ]
  },
  {
   "cell_type": "code",
   "execution_count": 56,
   "metadata": {},
   "outputs": [],
   "source": [
    "# Derek's notes:\n",
    "# API name = sentiment_analysis_API_prod"
   ]
  },
  {
   "cell_type": "markdown",
   "metadata": {},
   "source": [
    "## Step 7: Deploying our web app\n",
    "\n",
    "Now that we have a publicly available API, we can start using it in a web app. For our purposes, we have provided a simple static html file which can make use of the public api you created earlier.\n",
    "\n",
    "In the `website` folder there should be a file called `index.html`. Download the file to your computer and open that file up in a text editor of your choice. There should be a line which contains **\\*\\*REPLACE WITH PUBLIC API URL\\*\\***. Replace this string with the url that you wrote down in the last step and then save the file.\n",
    "\n",
    "Now, if you open `index.html` on your local computer, your browser will behave as a local web server and you can use the provided site to interact with your SageMaker model.\n",
    "\n",
    "If you'd like to go further, you can host this html file anywhere you'd like, for example using github or hosting a static site on Amazon's S3. Once you have done this you can share the link with anyone you'd like and have them play with it too!\n",
    "\n",
    "> **Important Note** In order for the web app to communicate with the SageMaker endpoint, the endpoint has to actually be deployed and running. This means that you are paying for it. Make sure that the endpoint is running when you want to use the web app but that you shut it down when you don't need it, otherwise you will end up with a surprisingly large AWS bill."
   ]
  },
  {
   "cell_type": "markdown",
   "metadata": {},
   "source": [
    "### Delete the endpoint\n",
    "\n",
    "Remember to always shut down your endpoint if you are no longer using it. You are charged for the length of time that the endpoint is running so if you forget and leave it on you could end up with an unexpectedly large bill."
   ]
  },
  {
   "cell_type": "code",
   "execution_count": 57,
   "metadata": {},
   "outputs": [],
   "source": [
    "xgb_predictor.delete_endpoint()"
   ]
  },
  {
   "cell_type": "markdown",
   "metadata": {},
   "source": [
    "## Optional: Clean up\n",
    "\n",
    "The default notebook instance on SageMaker doesn't have a lot of excess disk space available. As you continue to complete and execute notebooks you will eventually fill up this disk space, leading to errors which can be difficult to diagnose. Once you are completely finished using a notebook it is a good idea to remove the files that you created along the way. Of course, you can do this from the terminal or from the notebook hub if you would like. The cell below contains some commands to clean up the created files from within the notebook."
   ]
  },
  {
   "cell_type": "code",
   "execution_count": 58,
   "metadata": {},
   "outputs": [],
   "source": [
    "# First we will remove all of the files contained in the data_dir directory\n",
    "!rm $data_dir/*\n",
    "\n",
    "# And then we delete the directory itself\n",
    "!rmdir $data_dir\n",
    "\n",
    "# Similarly we remove the files in the cache_dir directory and the directory itself\n",
    "!rm $cache_dir/*\n",
    "!rmdir $cache_dir"
   ]
  },
  {
   "cell_type": "code",
   "execution_count": null,
   "metadata": {},
   "outputs": [],
   "source": []
  }
 ],
 "metadata": {
  "kernelspec": {
   "display_name": "conda_python3",
   "language": "python",
   "name": "conda_python3"
  },
  "language_info": {
   "codemirror_mode": {
    "name": "ipython",
    "version": 3
   },
   "file_extension": ".py",
   "mimetype": "text/x-python",
   "name": "python",
   "nbconvert_exporter": "python",
   "pygments_lexer": "ipython3",
   "version": "3.6.10"
  }
 },
 "nbformat": 4,
 "nbformat_minor": 2
}
