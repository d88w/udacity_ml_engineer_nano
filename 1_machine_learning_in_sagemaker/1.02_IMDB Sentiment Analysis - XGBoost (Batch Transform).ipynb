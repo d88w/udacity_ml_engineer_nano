{
 "cells": [
  {
   "cell_type": "markdown",
   "metadata": {},
   "source": [
    "# Sentiment Analysis\n",
    "\n",
    "## Using XGBoost in SageMaker\n",
    "\n",
    "_Deep Learning Nanodegree Program | Deployment_\n",
    "\n",
    "---\n",
    "\n",
    "As our first example of using Amazon's SageMaker service we will construct a random tree model to predict the sentiment of a movie review. You may have seen a version of this example in a pervious lesson although it would have been done using the sklearn package. Instead, we will be using the XGBoost package as it is provided to us by Amazon.\n",
    "\n",
    "## Instructions\n",
    "\n",
    "Some template code has already been provided for you, and you will need to implement additional functionality to successfully complete this notebook. You will not need to modify the included code beyond what is requested. Sections that begin with '**TODO**' in the header indicate that you need to complete or implement some portion within them. Instructions will be provided for each section and the specifics of the implementation are marked in the code block with a `# TODO: ...` comment. Please be sure to read the instructions carefully!\n",
    "\n",
    "In addition to implementing code, there may be questions for you to answer which relate to the task and your implementation. Each section where you will answer a question is preceded by a '**Question:**' header. Carefully read each question and provide your answer below the '**Answer:**' header by editing the Markdown cell.\n",
    "\n",
    "> **Note**: Code and Markdown cells can be executed using the **Shift+Enter** keyboard shortcut. In addition, a cell can be edited by typically clicking it (double-click for Markdown cells) or by pressing **Enter** while it is highlighted."
   ]
  },
  {
   "cell_type": "markdown",
   "metadata": {},
   "source": [
    "## Step 1: Downloading the data\n",
    "\n",
    "The dataset we are going to use is very popular among researchers in Natural Language Processing, usually referred to as the [IMDb dataset](http://ai.stanford.edu/~amaas/data/sentiment/). It consists of movie reviews from the website [imdb.com](http://www.imdb.com/), each labeled as either '**pos**itive', if the reviewer enjoyed the film, or '**neg**ative' otherwise.\n",
    "\n",
    "> Maas, Andrew L., et al. [Learning Word Vectors for Sentiment Analysis](http://ai.stanford.edu/~amaas/data/sentiment/). In _Proceedings of the 49th Annual Meeting of the Association for Computational Linguistics: Human Language Technologies_. Association for Computational Linguistics, 2011.\n",
    "\n",
    "We begin by using some Jupyter Notebook magic to download and extract the dataset."
   ]
  },
  {
   "cell_type": "code",
   "execution_count": 1,
   "metadata": {},
   "outputs": [
    {
     "name": "stdout",
     "output_type": "stream",
     "text": [
      "mkdir: cannot create directory ‘../data’: File exists\n",
      "--2020-06-28 00:51:39--  http://ai.stanford.edu/~amaas/data/sentiment/aclImdb_v1.tar.gz\n",
      "Resolving ai.stanford.edu (ai.stanford.edu)... 171.64.68.10\n",
      "Connecting to ai.stanford.edu (ai.stanford.edu)|171.64.68.10|:80... connected.\n",
      "HTTP request sent, awaiting response... 200 OK\n",
      "Length: 84125825 (80M) [application/x-gzip]\n",
      "Saving to: ‘../data/aclImdb_v1.tar.gz’\n",
      "\n",
      "../data/aclImdb_v1. 100%[===================>]  80.23M  25.3MB/s    in 3.8s    \n",
      "\n",
      "2020-06-28 00:51:43 (21.3 MB/s) - ‘../data/aclImdb_v1.tar.gz’ saved [84125825/84125825]\n",
      "\n"
     ]
    }
   ],
   "source": [
    "%mkdir ../data\n",
    "!wget -O ../data/aclImdb_v1.tar.gz http://ai.stanford.edu/~amaas/data/sentiment/aclImdb_v1.tar.gz\n",
    "!tar -zxf ../data/aclImdb_v1.tar.gz -C ../data"
   ]
  },
  {
   "cell_type": "markdown",
   "metadata": {},
   "source": [
    "## Step 2: Preparing the data\n",
    "\n",
    "The data we have downloaded is split into various files, each of which contains a single review. It will be much easier going forward if we combine these individual files into two large files, one for training and one for testing."
   ]
  },
  {
   "cell_type": "code",
   "execution_count": 2,
   "metadata": {},
   "outputs": [],
   "source": [
    "import os\n",
    "import glob\n",
    "\n",
    "def read_imdb_data(data_dir='../data/aclImdb'):\n",
    "    data = {}\n",
    "    labels = {}\n",
    "    \n",
    "    for data_type in ['train', 'test']:\n",
    "        data[data_type] = {}\n",
    "        labels[data_type] = {}\n",
    "        \n",
    "        for sentiment in ['pos', 'neg']:\n",
    "            data[data_type][sentiment] = []\n",
    "            labels[data_type][sentiment] = []\n",
    "            \n",
    "            path = os.path.join(data_dir, data_type, sentiment, '*.txt')\n",
    "            files = glob.glob(path)\n",
    "            \n",
    "            for f in files:\n",
    "                with open(f) as review:\n",
    "                    data[data_type][sentiment].append(review.read())\n",
    "                    # Here we represent a positive review by '1' and a negative review by '0'\n",
    "                    labels[data_type][sentiment].append(1 if sentiment == 'pos' else 0)\n",
    "                    \n",
    "            assert len(data[data_type][sentiment]) == len(labels[data_type][sentiment]), \\\n",
    "                    \"{}/{} data size does not match labels size\".format(data_type, sentiment)\n",
    "                \n",
    "    return data, labels"
   ]
  },
  {
   "cell_type": "code",
   "execution_count": 3,
   "metadata": {},
   "outputs": [
    {
     "name": "stdout",
     "output_type": "stream",
     "text": [
      "IMDB reviews: train = 12500 pos / 12500 neg, test = 12500 pos / 12500 neg\n"
     ]
    }
   ],
   "source": [
    "data, labels = read_imdb_data()\n",
    "print(\"IMDB reviews: train = {} pos / {} neg, test = {} pos / {} neg\".format(\n",
    "            len(data['train']['pos']), len(data['train']['neg']),\n",
    "            len(data['test']['pos']), len(data['test']['neg'])))"
   ]
  },
  {
   "cell_type": "code",
   "execution_count": 4,
   "metadata": {},
   "outputs": [],
   "source": [
    "from sklearn.utils import shuffle\n",
    "\n",
    "def prepare_imdb_data(data, labels):\n",
    "    \"\"\"Prepare training and test sets from IMDb movie reviews.\"\"\"\n",
    "    \n",
    "    #Combine positive and negative reviews and labels\n",
    "    data_train = data['train']['pos'] + data['train']['neg']\n",
    "    data_test = data['test']['pos'] + data['test']['neg']\n",
    "    labels_train = labels['train']['pos'] + labels['train']['neg']\n",
    "    labels_test = labels['test']['pos'] + labels['test']['neg']\n",
    "    \n",
    "    #Shuffle reviews and corresponding labels within training and test sets\n",
    "    data_train, labels_train = shuffle(data_train, labels_train)\n",
    "    data_test, labels_test = shuffle(data_test, labels_test)\n",
    "    \n",
    "    # Return a unified training data, test data, training labels, test labets\n",
    "    return data_train, data_test, labels_train, labels_test"
   ]
  },
  {
   "cell_type": "code",
   "execution_count": 5,
   "metadata": {},
   "outputs": [
    {
     "name": "stdout",
     "output_type": "stream",
     "text": [
      "IMDb reviews (combined): train = 25000, test = 25000\n"
     ]
    }
   ],
   "source": [
    "train_X, test_X, train_y, test_y = prepare_imdb_data(data, labels)\n",
    "print(\"IMDb reviews (combined): train = {}, test = {}\".format(len(train_X), len(test_X)))"
   ]
  },
  {
   "cell_type": "code",
   "execution_count": 6,
   "metadata": {},
   "outputs": [
    {
     "data": {
      "text/plain": [
       "\"I've watched this movie twice now on DVD, and both times it didn't fail to impress me with its unique impartial attitude. It seems more like a depiction of reality than most other Hollywood fare, especially on a topic that is still hotly discussed. Even though it sticks closely with the southern viewpoint, it doesn't fail to question it, and in the end the only sentence passed is that the war is lost, not matter what, and cruelty is a common denominator.<br /><br />What really makes this movie outstanding is the refusal to over-dramatize. Nowadays truly good movies (in a nutshell) are few and far apart, with mainstream fare being enjoyable (if you don't have high expectations), but terribly commercially spirited. I think this movie comes off as a truly good movie (without being a masterpiece), because it sticks to itself, and gives the viewer a chance to watch and analyze it, instead of wanting to bombard him with effect and emotion to blot out his intelligence. This movie is cool, observant, and generally light-handed in its judgement, which is GOOD.<br /><br />The story has its flaws, especially Jewel's Character comes off doubtfully, but then again the situation at the time was so chaotic, that for a young widow it might have been only logical to somehow get back into a normal life, even by liberally taking each next guy. Still she doesn't come off as weak, in fact I think she's one of the stronger characters, she's always in control of the relationships, with the men just tagging. And I take it very gratefully that she's not a weeping widow. I believe in the 19th century death of a loved one was something a lot more normal than now. You could die so easily of even minor illnesses and injuries, so the prospect of of someone dying, while surely causing grief, didn't traumatise people like it does now. People didn't seem to build shrines about their lost ones like they do now, and I like that attitude.<br /><br />My recommendation is for intelligent people to watch this movie, if they are in the mood for something different than the usual hollywood fare. Don't watch if if you want non-stop action or heart-renting emotion.\""
      ]
     },
     "execution_count": 6,
     "metadata": {},
     "output_type": "execute_result"
    }
   ],
   "source": [
    "train_X[100]"
   ]
  },
  {
   "cell_type": "markdown",
   "metadata": {},
   "source": [
    "## Step 3: Processing the data\n",
    "\n",
    "Now that we have our training and testing datasets merged and ready to use, we need to start processing the raw data into something that will be useable by our machine learning algorithm. To begin with, we remove any html formatting that may appear in the reviews and perform some standard natural language processing in order to homogenize the data."
   ]
  },
  {
   "cell_type": "code",
   "execution_count": 7,
   "metadata": {},
   "outputs": [
    {
     "name": "stderr",
     "output_type": "stream",
     "text": [
      "[nltk_data] Downloading package stopwords to\n",
      "[nltk_data]     /home/ec2-user/nltk_data...\n",
      "[nltk_data]   Package stopwords is already up-to-date!\n"
     ]
    }
   ],
   "source": [
    "import nltk\n",
    "nltk.download(\"stopwords\")\n",
    "from nltk.corpus import stopwords\n",
    "from nltk.stem.porter import *\n",
    "stemmer = PorterStemmer()"
   ]
  },
  {
   "cell_type": "code",
   "execution_count": 8,
   "metadata": {},
   "outputs": [],
   "source": [
    "import re\n",
    "from bs4 import BeautifulSoup\n",
    "\n",
    "def review_to_words(review):\n",
    "    text = BeautifulSoup(review, \"html.parser\").get_text() # Remove HTML tags\n",
    "    text = re.sub(r\"[^a-zA-Z0-9]\", \" \", text.lower()) # Convert to lower case\n",
    "    words = text.split() # Split string into words\n",
    "    words = [w for w in words if w not in stopwords.words(\"english\")] # Remove stopwords\n",
    "    words = [PorterStemmer().stem(w) for w in words] # stem\n",
    "    \n",
    "    return words"
   ]
  },
  {
   "cell_type": "code",
   "execution_count": 9,
   "metadata": {},
   "outputs": [],
   "source": [
    "import pickle\n",
    "\n",
    "cache_dir = os.path.join(\"../cache\", \"sentiment_analysis\")  # where to store cache files\n",
    "os.makedirs(cache_dir, exist_ok=True)  # ensure cache directory exists\n",
    "\n",
    "def preprocess_data(data_train, data_test, labels_train, labels_test,\n",
    "                    cache_dir=cache_dir, cache_file=\"preprocessed_data.pkl\"):\n",
    "    \"\"\"Convert each review to words; read from cache if available.\"\"\"\n",
    "\n",
    "    # If cache_file is not None, try to read from it first\n",
    "    cache_data = None\n",
    "    if cache_file is not None:\n",
    "        try:\n",
    "            with open(os.path.join(cache_dir, cache_file), \"rb\") as f:\n",
    "                cache_data = pickle.load(f)\n",
    "            print(\"Read preprocessed data from cache file:\", cache_file)\n",
    "        except:\n",
    "            pass  # unable to read from cache, but that's okay\n",
    "    \n",
    "    # If cache is missing, then do the heavy lifting\n",
    "    if cache_data is None:\n",
    "        # Preprocess training and test data to obtain words for each review\n",
    "        #words_train = list(map(review_to_words, data_train))\n",
    "        #words_test = list(map(review_to_words, data_test))\n",
    "        words_train = [review_to_words(review) for review in data_train]\n",
    "        words_test = [review_to_words(review) for review in data_test]\n",
    "        \n",
    "        # Write to cache file for future runs\n",
    "        if cache_file is not None:\n",
    "            cache_data = dict(words_train=words_train, words_test=words_test,\n",
    "                              labels_train=labels_train, labels_test=labels_test)\n",
    "            with open(os.path.join(cache_dir, cache_file), \"wb\") as f:\n",
    "                pickle.dump(cache_data, f)\n",
    "            print(\"Wrote preprocessed data to cache file:\", cache_file)\n",
    "    else:\n",
    "        # Unpack data loaded from cache file\n",
    "        words_train, words_test, labels_train, labels_test = (cache_data['words_train'],\n",
    "                cache_data['words_test'], cache_data['labels_train'], cache_data['labels_test'])\n",
    "    \n",
    "    return words_train, words_test, labels_train, labels_test"
   ]
  },
  {
   "cell_type": "code",
   "execution_count": 10,
   "metadata": {},
   "outputs": [
    {
     "name": "stdout",
     "output_type": "stream",
     "text": [
      "Read preprocessed data from cache file: preprocessed_data.pkl\n"
     ]
    }
   ],
   "source": [
    "# Preprocess data\n",
    "train_X, test_X, train_y, test_y = preprocess_data(train_X, test_X, train_y, test_y)"
   ]
  },
  {
   "cell_type": "markdown",
   "metadata": {},
   "source": [
    "### Extract Bag-of-Words features\n",
    "\n",
    "For the model we will be implementing, rather than using the reviews directly, we are going to transform each review into a Bag-of-Words feature representation. Keep in mind that 'in the wild' we will only have access to the training set so our transformer can only use the training set to construct a representation."
   ]
  },
  {
   "cell_type": "code",
   "execution_count": 11,
   "metadata": {},
   "outputs": [
    {
     "name": "stderr",
     "output_type": "stream",
     "text": [
      "/home/ec2-user/anaconda3/envs/python3/lib/python3.6/site-packages/sklearn/externals/joblib/__init__.py:15: FutureWarning: sklearn.externals.joblib is deprecated in 0.21 and will be removed in 0.23. Please import this functionality directly from joblib, which can be installed with: pip install joblib. If this warning is raised when loading pickled models, you may need to re-serialize those models with scikit-learn 0.21+.\n",
      "  warnings.warn(msg, category=FutureWarning)\n"
     ]
    }
   ],
   "source": [
    "import numpy as np\n",
    "from sklearn.feature_extraction.text import CountVectorizer\n",
    "from sklearn.externals import joblib\n",
    "# joblib is an enhanced version of pickle that is more efficient for storing NumPy arrays\n",
    "\n",
    "def extract_BoW_features(words_train, words_test, vocabulary_size=5000,\n",
    "                         cache_dir=cache_dir, cache_file=\"bow_features.pkl\"):\n",
    "    \"\"\"Extract Bag-of-Words for a given set of documents, already preprocessed into words.\"\"\"\n",
    "    \n",
    "    # If cache_file is not None, try to read from it first\n",
    "    cache_data = None\n",
    "    if cache_file is not None:\n",
    "        try:\n",
    "            with open(os.path.join(cache_dir, cache_file), \"rb\") as f:\n",
    "                cache_data = joblib.load(f)\n",
    "            print(\"Read features from cache file:\", cache_file)\n",
    "        except:\n",
    "            pass  # unable to read from cache, but that's okay\n",
    "    \n",
    "    # If cache is missing, then do the heavy lifting\n",
    "    if cache_data is None:\n",
    "        # Fit a vectorizer to training documents and use it to transform them\n",
    "        # NOTE: Training documents have already been preprocessed and tokenized into words;\n",
    "        #       pass in dummy functions to skip those steps, e.g. preprocessor=lambda x: x\n",
    "        vectorizer = CountVectorizer(max_features=vocabulary_size,\n",
    "                preprocessor=lambda x: x, tokenizer=lambda x: x)  # already preprocessed\n",
    "        features_train = vectorizer.fit_transform(words_train).toarray()\n",
    "\n",
    "        # Apply the same vectorizer to transform the test documents (ignore unknown words)\n",
    "        features_test = vectorizer.transform(words_test).toarray()\n",
    "        \n",
    "        # NOTE: Remember to convert the features using .toarray() for a compact representation\n",
    "        \n",
    "        # Write to cache file for future runs (store vocabulary as well)\n",
    "        if cache_file is not None:\n",
    "            vocabulary = vectorizer.vocabulary_\n",
    "            cache_data = dict(features_train=features_train, features_test=features_test,\n",
    "                             vocabulary=vocabulary)\n",
    "            with open(os.path.join(cache_dir, cache_file), \"wb\") as f:\n",
    "                joblib.dump(cache_data, f)\n",
    "            print(\"Wrote features to cache file:\", cache_file)\n",
    "    else:\n",
    "        # Unpack data loaded from cache file\n",
    "        features_train, features_test, vocabulary = (cache_data['features_train'],\n",
    "                cache_data['features_test'], cache_data['vocabulary'])\n",
    "    \n",
    "    # Return both the extracted features as well as the vocabulary\n",
    "    return features_train, features_test, vocabulary"
   ]
  },
  {
   "cell_type": "code",
   "execution_count": 12,
   "metadata": {},
   "outputs": [
    {
     "name": "stdout",
     "output_type": "stream",
     "text": [
      "Read features from cache file: bow_features.pkl\n"
     ]
    }
   ],
   "source": [
    "# Extract Bag of Words features for both training and test datasets\n",
    "train_X, test_X, vocabulary = extract_BoW_features(train_X, test_X)"
   ]
  },
  {
   "cell_type": "markdown",
   "metadata": {},
   "source": [
    "## Step 4: Classification using XGBoost\n",
    "\n",
    "Now that we have created the feature representation of our training (and testing) data, it is time to start setting up and using the XGBoost classifier provided by SageMaker.\n",
    "\n",
    "### (TODO) Writing the dataset\n",
    "\n",
    "The XGBoost classifier that we will be using requires the dataset to be written to a file and stored using Amazon S3. To do this, we will start by splitting the training dataset into two parts, the data we will train the model with and a validation set. Then, we will write those datasets to a file and upload the files to S3. In addition, we will write the test set input to a file and upload the file to S3. This is so that we can use SageMakers Batch Transform functionality to test our model once we've fit it."
   ]
  },
  {
   "cell_type": "code",
   "execution_count": 13,
   "metadata": {},
   "outputs": [],
   "source": [
    "import pandas as pd\n",
    "\n",
    "# TODO: Split the train_X and train_y arrays into the DataFrames val_X, train_X and val_y, train_y. Make sure that\n",
    "#       val_X and val_y contain 10 000 entires while train_X and train_y contain the remaining 15 000 entries.\n",
    "\n",
    "# Derek's work:\n",
    "\n",
    "val_X = pd.DataFrame(train_X[:10000])\n",
    "train_X = pd.DataFrame(train_X[10000:])\n",
    "\n",
    "val_y = pd.DataFrame(train_y[:10000])\n",
    "train_y = pd.DataFrame(train_y[10000:])"
   ]
  },
  {
   "cell_type": "markdown",
   "metadata": {},
   "source": [
    "The documentation for the XGBoost algorithm in SageMaker requires that the saved datasets should contain no headers or index and that for the training and validation data, the label should occur first for each sample.\n",
    "\n",
    "For more information about this and other algorithms, the SageMaker developer documentation can be found on __[Amazon's website.](https://docs.aws.amazon.com/sagemaker/latest/dg/)__"
   ]
  },
  {
   "cell_type": "code",
   "execution_count": 14,
   "metadata": {},
   "outputs": [],
   "source": [
    "# First we make sure that the local directory in which we'd like to store the training and validation csv files exists.\n",
    "data_dir = '../data/xgboost'\n",
    "if not os.path.exists(data_dir):\n",
    "    os.makedirs(data_dir)"
   ]
  },
  {
   "cell_type": "code",
   "execution_count": 15,
   "metadata": {},
   "outputs": [],
   "source": [
    "# First, save the test data to test.csv in the data_dir directory. Note that we do not save the associated ground truth\n",
    "# labels, instead we will use them later to compare with our model output.\n",
    "\n",
    "pd.DataFrame(test_X).to_csv(os.path.join(data_dir, 'test.csv'), header=False, index=False)\n",
    "\n",
    "# TODO: Save the training and validation data to train.csv and validation.csv in the data_dir directory.\n",
    "#       Make sure that the files you create are in the correct format.\n",
    "\n",
    "# Derek's work:\n",
    "pd.concat([val_y, val_X], axis=1).to_csv(os.path.join(data_dir, 'validation.csv'), header=False, index=False)\n",
    "pd.concat([train_y, train_X], axis=1).to_csv(os.path.join(data_dir, 'train.csv'), header=False, index=False)"
   ]
  },
  {
   "cell_type": "code",
   "execution_count": 16,
   "metadata": {},
   "outputs": [],
   "source": [
    "# To save a bit of memory we can set text_X, train_X, val_X, train_y and val_y to None.\n",
    "\n",
    "test_X = train_X = val_X = train_y = val_y = None"
   ]
  },
  {
   "cell_type": "markdown",
   "metadata": {},
   "source": [
    "### (TODO) Uploading Training / Validation files to S3\n",
    "\n",
    "Amazon's S3 service allows us to store files that can be access by both the built-in training models such as the XGBoost model we will be using as well as custom models such as the one we will see a little later.\n",
    "\n",
    "For this, and most other tasks we will be doing using SageMaker, there are two methods we could use. The first is to use the low level functionality of SageMaker which requires knowing each of the objects involved in the SageMaker environment. The second is to use the high level functionality in which certain choices have been made on the user's behalf. The low level approach benefits from allowing the user a great deal of flexibility while the high level approach makes development much quicker. For our purposes we will opt to use the high level approach although using the low-level approach is certainly an option.\n",
    "\n",
    "Recall the method `upload_data()` which is a member of object representing our current SageMaker session. What this method does is upload the data to the default bucket (which is created if it does not exist) into the path described by the key_prefix variable. To see this for yourself, once you have uploaded the data files, go to the S3 console and look to see where the files have been uploaded.\n",
    "\n",
    "For additional resources, see the __[SageMaker API documentation](http://sagemaker.readthedocs.io/en/latest/)__ and in addition the __[SageMaker Developer Guide.](https://docs.aws.amazon.com/sagemaker/latest/dg/)__"
   ]
  },
  {
   "cell_type": "code",
   "execution_count": 17,
   "metadata": {},
   "outputs": [],
   "source": [
    "import sagemaker\n",
    "\n",
    "session = sagemaker.Session() # Store the current SageMaker session\n",
    "\n",
    "# S3 prefix (which folder will we use)\n",
    "prefix = 'sentiment-xgboost'\n",
    "\n",
    "# TODO: Upload the test.csv, train.csv and validation.csv files \n",
    "# which are contained in data_dir to S3 using sess.upload_data().\n",
    "test_location = None\n",
    "val_location = None\n",
    "train_location = None\n",
    "\n",
    "# Derek's work:\n",
    "\n",
    "test_location = session.upload_data(os.path.join(data_dir, 'test.csv'), key_prefix=prefix)\n",
    "val_location = session.upload_data(os.path.join(data_dir, 'validation.csv'), key_prefix=prefix)\n",
    "train_location = session.upload_data(os.path.join(data_dir, 'train.csv'), key_prefix=prefix)"
   ]
  },
  {
   "cell_type": "markdown",
   "metadata": {},
   "source": [
    "### (TODO) Creating the XGBoost model\n",
    "\n",
    "Now that the data has been uploaded it is time to create the XGBoost model. To begin with, we need to do some setup. At this point it is worth discussing what a model is in SageMaker. It is easiest to think of a model of comprising three different objects in the SageMaker ecosystem, which interact with one another.\n",
    "\n",
    "- Model Artifacts\n",
    "- Training Code (Container)\n",
    "- Inference Code (Container)\n",
    "\n",
    "The Model Artifacts are what you might think of as the actual model itself. For example, if you were building a neural network, the model artifacts would be the weights of the various layers. In our case, for an XGBoost model, the artifacts are the actual trees that are created during training.\n",
    "\n",
    "The other two objects, the training code and the inference code are then used the manipulate the training artifacts. More precisely, the training code uses the training data that is provided and creates the model artifacts, while the inference code uses the model artifacts to make predictions on new data.\n",
    "\n",
    "The way that SageMaker runs the training and inference code is by making use of Docker containers. For now, think of a container as being a way of packaging code up so that dependencies aren't an issue."
   ]
  },
  {
   "cell_type": "code",
   "execution_count": 18,
   "metadata": {},
   "outputs": [],
   "source": [
    "from sagemaker import get_execution_role\n",
    "\n",
    "# Our current execution role is require when creating the model as the training\n",
    "# and inference code will need to access the model artifacts.\n",
    "role = get_execution_role()"
   ]
  },
  {
   "cell_type": "code",
   "execution_count": 20,
   "metadata": {},
   "outputs": [
    {
     "name": "stderr",
     "output_type": "stream",
     "text": [
      "WARNING:sagemaker.amazon.amazon_estimator:'get_image_uri' method will be deprecated in favor of 'ImageURIProvider' class in SageMaker Python SDK v2.\n"
     ]
    }
   ],
   "source": [
    "# We need to retrieve the location of the container which is provided by Amazon for using XGBoost.\n",
    "# As a matter of convenience, the training and inference code both use the same container.\n",
    "from sagemaker.amazon.amazon_estimator import get_image_uri\n",
    "\n",
    "container = get_image_uri(session.boto_region_name, 'xgboost', '1.0-1')"
   ]
  },
  {
   "cell_type": "code",
   "execution_count": 22,
   "metadata": {},
   "outputs": [
    {
     "name": "stderr",
     "output_type": "stream",
     "text": [
      "WARNING:root:Parameter image_name will be renamed to image_uri in SageMaker Python SDK v2.\n"
     ]
    }
   ],
   "source": [
    "# TODO: Create a SageMaker estimator using the container location determined in the previous cell.\n",
    "#       It is recommended that you use a single training instance of type ml.m4.xlarge. It is also\n",
    "#       recommended that you use 's3://{}/{}/output'.format(session.default_bucket(), prefix) as the\n",
    "#       output path.\n",
    "\n",
    "xgb = sagemaker.estimator.Estimator(container, # The image name of the training container\n",
    "                                    role,      # The IAM role to use (our current role in this case)\n",
    "                                    train_instance_count=1, # The number of instances to use for training\n",
    "                                    train_instance_type='ml.m4.xlarge', # The type of instance to use for training\n",
    "                                    output_path='s3://{}/{}/output'.format(session.default_bucket(), prefix),\n",
    "                                                                        # Where to save the output (the model artifacts)\n",
    "                                    sagemaker_session=session) # The current SageMaker session\n",
    "\n",
    "\n",
    "# TODO: Set the XGBoost hyperparameters in the xgb object. Don't forget that in this case we have a binary\n",
    "#       label so we should be using the 'binary:logistic' objective.\n",
    "xgb.set_hyperparameters(max_depth=5,\n",
    "                        eta=0.2,\n",
    "                        gamma=4,\n",
    "                        min_child_weight=6,\n",
    "                        subsample=0.8,\n",
    "                        objective='binary:logistic',\n",
    "                        early_stopping_rounds=10,\n",
    "                        num_round=200)"
   ]
  },
  {
   "cell_type": "markdown",
   "metadata": {},
   "source": [
    "### Fit the XGBoost model\n",
    "\n",
    "Now that our model has been set up we simply need to attach the training and validation datasets and then ask SageMaker to set up the computation."
   ]
  },
  {
   "cell_type": "code",
   "execution_count": 23,
   "metadata": {},
   "outputs": [
    {
     "name": "stderr",
     "output_type": "stream",
     "text": [
      "WARNING:sagemaker:'s3_input' class will be renamed to 'TrainingInput' in SageMaker Python SDK v2.\n",
      "WARNING:sagemaker:'s3_input' class will be renamed to 'TrainingInput' in SageMaker Python SDK v2.\n"
     ]
    }
   ],
   "source": [
    "s3_input_train = sagemaker.s3_input(s3_data=train_location, content_type='csv')\n",
    "s3_input_validation = sagemaker.s3_input(s3_data=val_location, content_type='csv')"
   ]
  },
  {
   "cell_type": "code",
   "execution_count": 24,
   "metadata": {},
   "outputs": [
    {
     "name": "stdout",
     "output_type": "stream",
     "text": [
      "2020-06-28 01:04:33 Starting - Starting the training job...\n",
      "2020-06-28 01:04:34 Starting - Launching requested ML instances......\n",
      "2020-06-28 01:05:39 Starting - Preparing the instances for training......\n",
      "2020-06-28 01:06:38 Downloading - Downloading input data...\n",
      "2020-06-28 01:07:30 Training - Training image download completed. Training in progress...\u001b[34mINFO:sagemaker-containers:Imported framework sagemaker_xgboost_container.training\u001b[0m\n",
      "\u001b[34mINFO:sagemaker-containers:Failed to parse hyperparameter objective value binary:logistic to Json.\u001b[0m\n",
      "\u001b[34mReturning the value itself\u001b[0m\n",
      "\u001b[34mINFO:sagemaker-containers:No GPUs detected (normal if no gpus installed)\u001b[0m\n",
      "\u001b[34mINFO:sagemaker_xgboost_container.training:Running XGBoost Sagemaker in algorithm mode\u001b[0m\n",
      "\u001b[34mINFO:root:Determined delimiter of CSV input is ','\u001b[0m\n",
      "\u001b[34mINFO:root:Determined delimiter of CSV input is ','\u001b[0m\n",
      "\u001b[34mINFO:root:Determined delimiter of CSV input is ','\u001b[0m\n",
      "\u001b[34m[01:07:35] 15000x5000 matrix with 75000000 entries loaded from /opt/ml/input/data/train?format=csv&label_column=0&delimiter=,\u001b[0m\n",
      "\u001b[34mINFO:root:Determined delimiter of CSV input is ','\u001b[0m\n",
      "\u001b[34m[01:07:37] 10000x5000 matrix with 50000000 entries loaded from /opt/ml/input/data/validation?format=csv&label_column=0&delimiter=,\u001b[0m\n",
      "\u001b[34mINFO:root:Single node training.\u001b[0m\n",
      "\u001b[34mINFO:root:Train matrix has 15000 rows\u001b[0m\n",
      "\u001b[34mINFO:root:Validation matrix has 10000 rows\u001b[0m\n",
      "\u001b[34m[01:07:37] WARNING: /workspace/src/learner.cc:328: \u001b[0m\n",
      "\u001b[34mParameters: { early_stopping_rounds, num_round } might not be used.\n",
      "\n",
      "  This may not be accurate due to some parameters are only used in language bindings but\n",
      "  passed down to XGBoost core.  Or some parameters are not used but slip through this\n",
      "  verification. Please open an issue if you find above cases.\n",
      "\n",
      "\u001b[0m\n",
      "\u001b[34m[0]#011train-error:0.29767#011validation-error:0.30140\u001b[0m\n",
      "\u001b[34m[1]#011train-error:0.28580#011validation-error:0.28300\u001b[0m\n",
      "\u001b[34m[2]#011train-error:0.28307#011validation-error:0.28010\u001b[0m\n",
      "\u001b[34m[3]#011train-error:0.26693#011validation-error:0.26470\u001b[0m\n",
      "\u001b[34m[4]#011train-error:0.26267#011validation-error:0.26510\u001b[0m\n",
      "\u001b[34m[5]#011train-error:0.25633#011validation-error:0.25790\u001b[0m\n",
      "\u001b[34m[6]#011train-error:0.24813#011validation-error:0.25280\u001b[0m\n",
      "\u001b[34m[7]#011train-error:0.24260#011validation-error:0.24550\u001b[0m\n",
      "\u001b[34m[8]#011train-error:0.23853#011validation-error:0.23950\u001b[0m\n",
      "\u001b[34m[9]#011train-error:0.23107#011validation-error:0.23440\u001b[0m\n",
      "\u001b[34m[10]#011train-error:0.22260#011validation-error:0.22490\u001b[0m\n",
      "\u001b[34m[11]#011train-error:0.21680#011validation-error:0.22140\u001b[0m\n",
      "\u001b[34m[12]#011train-error:0.21380#011validation-error:0.22000\u001b[0m\n",
      "\u001b[34m[13]#011train-error:0.20860#011validation-error:0.21780\u001b[0m\n",
      "\u001b[34m[14]#011train-error:0.20487#011validation-error:0.21110\u001b[0m\n",
      "\u001b[34m[15]#011train-error:0.19973#011validation-error:0.20760\u001b[0m\n",
      "\u001b[34m[16]#011train-error:0.19600#011validation-error:0.20750\u001b[0m\n",
      "\u001b[34m[17]#011train-error:0.19280#011validation-error:0.20390\u001b[0m\n",
      "\u001b[34m[18]#011train-error:0.19113#011validation-error:0.20180\u001b[0m\n",
      "\u001b[34m[19]#011train-error:0.18940#011validation-error:0.20230\u001b[0m\n",
      "\u001b[34m[20]#011train-error:0.18587#011validation-error:0.19920\u001b[0m\n",
      "\u001b[34m[21]#011train-error:0.18333#011validation-error:0.19580\u001b[0m\n",
      "\u001b[34m[22]#011train-error:0.18133#011validation-error:0.19400\u001b[0m\n",
      "\u001b[34m[23]#011train-error:0.18007#011validation-error:0.19230\u001b[0m\n",
      "\u001b[34m[24]#011train-error:0.17813#011validation-error:0.19080\u001b[0m\n",
      "\u001b[34m[25]#011train-error:0.17420#011validation-error:0.18830\u001b[0m\n",
      "\u001b[34m[26]#011train-error:0.17440#011validation-error:0.18860\u001b[0m\n",
      "\u001b[34m[27]#011train-error:0.17207#011validation-error:0.18680\u001b[0m\n",
      "\u001b[34m[28]#011train-error:0.17013#011validation-error:0.18700\u001b[0m\n",
      "\u001b[34m[29]#011train-error:0.16820#011validation-error:0.18420\u001b[0m\n",
      "\u001b[34m[30]#011train-error:0.16640#011validation-error:0.18450\u001b[0m\n",
      "\u001b[34m[31]#011train-error:0.16480#011validation-error:0.18290\u001b[0m\n",
      "\u001b[34m[32]#011train-error:0.16493#011validation-error:0.18300\u001b[0m\n",
      "\u001b[34m[33]#011train-error:0.16293#011validation-error:0.18300\u001b[0m\n",
      "\u001b[34m[34]#011train-error:0.16147#011validation-error:0.18220\u001b[0m\n",
      "\u001b[34m[35]#011train-error:0.16187#011validation-error:0.18180\u001b[0m\n",
      "\u001b[34m[36]#011train-error:0.16020#011validation-error:0.18080\u001b[0m\n",
      "\u001b[34m[37]#011train-error:0.15887#011validation-error:0.17800\u001b[0m\n",
      "\u001b[34m[38]#011train-error:0.15707#011validation-error:0.17770\u001b[0m\n",
      "\u001b[34m[39]#011train-error:0.15633#011validation-error:0.17480\u001b[0m\n",
      "\u001b[34m[40]#011train-error:0.15493#011validation-error:0.17360\u001b[0m\n",
      "\u001b[34m[41]#011train-error:0.15260#011validation-error:0.17150\u001b[0m\n",
      "\u001b[34m[42]#011train-error:0.15040#011validation-error:0.17230\u001b[0m\n",
      "\u001b[34m[43]#011train-error:0.14980#011validation-error:0.17110\u001b[0m\n",
      "\u001b[34m[44]#011train-error:0.14833#011validation-error:0.17070\u001b[0m\n",
      "\u001b[34m[45]#011train-error:0.14727#011validation-error:0.17020\u001b[0m\n",
      "\u001b[34m[46]#011train-error:0.14687#011validation-error:0.17010\u001b[0m\n",
      "\u001b[34m[47]#011train-error:0.14413#011validation-error:0.16880\u001b[0m\n",
      "\u001b[34m[48]#011train-error:0.14313#011validation-error:0.16840\u001b[0m\n",
      "\u001b[34m[49]#011train-error:0.14207#011validation-error:0.16740\u001b[0m\n",
      "\u001b[34m[50]#011train-error:0.14107#011validation-error:0.16710\u001b[0m\n",
      "\u001b[34m[51]#011train-error:0.14007#011validation-error:0.16710\u001b[0m\n",
      "\u001b[34m[52]#011train-error:0.13927#011validation-error:0.16590\u001b[0m\n",
      "\u001b[34m[53]#011train-error:0.13887#011validation-error:0.16520\u001b[0m\n",
      "\u001b[34m[54]#011train-error:0.13647#011validation-error:0.16430\u001b[0m\n",
      "\u001b[34m[55]#011train-error:0.13667#011validation-error:0.16320\u001b[0m\n",
      "\u001b[34m[56]#011train-error:0.13573#011validation-error:0.16230\u001b[0m\n",
      "\u001b[34m[57]#011train-error:0.13440#011validation-error:0.16230\u001b[0m\n",
      "\u001b[34m[58]#011train-error:0.13367#011validation-error:0.16110\u001b[0m\n",
      "\u001b[34m[59]#011train-error:0.13207#011validation-error:0.16080\u001b[0m\n",
      "\u001b[34m[60]#011train-error:0.13107#011validation-error:0.16060\u001b[0m\n",
      "\u001b[34m[61]#011train-error:0.13007#011validation-error:0.16060\u001b[0m\n",
      "\u001b[34m[62]#011train-error:0.12980#011validation-error:0.16000\u001b[0m\n",
      "\u001b[34m[63]#011train-error:0.12760#011validation-error:0.15910\u001b[0m\n",
      "\u001b[34m[64]#011train-error:0.12740#011validation-error:0.15890\u001b[0m\n",
      "\u001b[34m[65]#011train-error:0.12747#011validation-error:0.15940\u001b[0m\n",
      "\u001b[34m[66]#011train-error:0.12667#011validation-error:0.15970\u001b[0m\n",
      "\u001b[34m[67]#011train-error:0.12567#011validation-error:0.15870\u001b[0m\n",
      "\u001b[34m[68]#011train-error:0.12500#011validation-error:0.15850\u001b[0m\n",
      "\u001b[34m[69]#011train-error:0.12407#011validation-error:0.15820\u001b[0m\n",
      "\u001b[34m[70]#011train-error:0.12467#011validation-error:0.15790\u001b[0m\n",
      "\u001b[34m[71]#011train-error:0.12360#011validation-error:0.15730\u001b[0m\n",
      "\u001b[34m[72]#011train-error:0.12307#011validation-error:0.15680\u001b[0m\n",
      "\u001b[34m[73]#011train-error:0.12240#011validation-error:0.15460\u001b[0m\n",
      "\u001b[34m[74]#011train-error:0.12127#011validation-error:0.15460\u001b[0m\n",
      "\u001b[34m[75]#011train-error:0.12047#011validation-error:0.15410\u001b[0m\n",
      "\u001b[34m[76]#011train-error:0.11927#011validation-error:0.15310\u001b[0m\n",
      "\u001b[34m[77]#011train-error:0.11893#011validation-error:0.15240\u001b[0m\n",
      "\u001b[34m[78]#011train-error:0.11880#011validation-error:0.15180\u001b[0m\n",
      "\u001b[34m[79]#011train-error:0.11707#011validation-error:0.15120\u001b[0m\n",
      "\u001b[34m[80]#011train-error:0.11740#011validation-error:0.15070\u001b[0m\n",
      "\u001b[34m[81]#011train-error:0.11693#011validation-error:0.15060\u001b[0m\n",
      "\u001b[34m[82]#011train-error:0.11593#011validation-error:0.15110\u001b[0m\n",
      "\u001b[34m[83]#011train-error:0.11453#011validation-error:0.15100\u001b[0m\n",
      "\u001b[34m[84]#011train-error:0.11480#011validation-error:0.15100\u001b[0m\n",
      "\u001b[34m[85]#011train-error:0.11433#011validation-error:0.15060\u001b[0m\n",
      "\u001b[34m[86]#011train-error:0.11413#011validation-error:0.15060\u001b[0m\n",
      "\u001b[34m[87]#011train-error:0.11320#011validation-error:0.15020\u001b[0m\n",
      "\u001b[34m[88]#011train-error:0.11213#011validation-error:0.15060\u001b[0m\n",
      "\u001b[34m[89]#011train-error:0.11147#011validation-error:0.14990\u001b[0m\n",
      "\u001b[34m[90]#011train-error:0.11140#011validation-error:0.15000\u001b[0m\n",
      "\u001b[34m[91]#011train-error:0.11140#011validation-error:0.15010\u001b[0m\n",
      "\u001b[34m[92]#011train-error:0.11040#011validation-error:0.15010\u001b[0m\n",
      "\u001b[34m[93]#011train-error:0.10960#011validation-error:0.14930\u001b[0m\n",
      "\u001b[34m[94]#011train-error:0.10940#011validation-error:0.14840\u001b[0m\n",
      "\u001b[34m[95]#011train-error:0.10873#011validation-error:0.14750\u001b[0m\n",
      "\u001b[34m[96]#011train-error:0.10800#011validation-error:0.14760\u001b[0m\n",
      "\u001b[34m[97]#011train-error:0.10753#011validation-error:0.14740\u001b[0m\n",
      "\u001b[34m[98]#011train-error:0.10773#011validation-error:0.14670\u001b[0m\n",
      "\u001b[34m[99]#011train-error:0.10793#011validation-error:0.14710\u001b[0m\n",
      "\u001b[34m[100]#011train-error:0.10693#011validation-error:0.14760\u001b[0m\n",
      "\u001b[34m[101]#011train-error:0.10707#011validation-error:0.14800\u001b[0m\n",
      "\u001b[34m[102]#011train-error:0.10640#011validation-error:0.14730\u001b[0m\n",
      "\u001b[34m[103]#011train-error:0.10600#011validation-error:0.14750\u001b[0m\n",
      "\u001b[34m[104]#011train-error:0.10527#011validation-error:0.14640\u001b[0m\n",
      "\u001b[34m[105]#011train-error:0.10540#011validation-error:0.14610\u001b[0m\n",
      "\u001b[34m[106]#011train-error:0.10480#011validation-error:0.14620\u001b[0m\n",
      "\u001b[34m[107]#011train-error:0.10453#011validation-error:0.14610\u001b[0m\n",
      "\u001b[34m[108]#011train-error:0.10400#011validation-error:0.14600\u001b[0m\n",
      "\u001b[34m[109]#011train-error:0.10273#011validation-error:0.14460\u001b[0m\n",
      "\u001b[34m[110]#011train-error:0.10247#011validation-error:0.14590\u001b[0m\n",
      "\u001b[34m[111]#011train-error:0.10127#011validation-error:0.14440\u001b[0m\n",
      "\u001b[34m[112]#011train-error:0.10100#011validation-error:0.14460\u001b[0m\n",
      "\u001b[34m[113]#011train-error:0.10100#011validation-error:0.14510\u001b[0m\n",
      "\u001b[34m[114]#011train-error:0.10027#011validation-error:0.14400\u001b[0m\n",
      "\u001b[34m[115]#011train-error:0.10000#011validation-error:0.14350\u001b[0m\n",
      "\u001b[34m[116]#011train-error:0.09933#011validation-error:0.14420\u001b[0m\n",
      "\u001b[34m[117]#011train-error:0.09940#011validation-error:0.14400\u001b[0m\n",
      "\u001b[34m[118]#011train-error:0.09907#011validation-error:0.14310\u001b[0m\n",
      "\u001b[34m[119]#011train-error:0.09820#011validation-error:0.14340\u001b[0m\n",
      "\u001b[34m[120]#011train-error:0.09787#011validation-error:0.14360\u001b[0m\n",
      "\u001b[34m[121]#011train-error:0.09753#011validation-error:0.14360\u001b[0m\n",
      "\u001b[34m[122]#011train-error:0.09740#011validation-error:0.14270\u001b[0m\n",
      "\u001b[34m[123]#011train-error:0.09740#011validation-error:0.14220\u001b[0m\n",
      "\u001b[34m[124]#011train-error:0.09700#011validation-error:0.14170\u001b[0m\n",
      "\u001b[34m[125]#011train-error:0.09647#011validation-error:0.14150\u001b[0m\n",
      "\u001b[34m[126]#011train-error:0.09620#011validation-error:0.14150\u001b[0m\n",
      "\u001b[34m[127]#011train-error:0.09613#011validation-error:0.14130\u001b[0m\n",
      "\u001b[34m[128]#011train-error:0.09553#011validation-error:0.14220\u001b[0m\n",
      "\u001b[34m[129]#011train-error:0.09513#011validation-error:0.14110\u001b[0m\n",
      "\u001b[34m[130]#011train-error:0.09467#011validation-error:0.14150\u001b[0m\n",
      "\u001b[34m[131]#011train-error:0.09453#011validation-error:0.14140\u001b[0m\n",
      "\u001b[34m[132]#011train-error:0.09480#011validation-error:0.14170\u001b[0m\n",
      "\u001b[34m[133]#011train-error:0.09387#011validation-error:0.14110\u001b[0m\n",
      "\u001b[34m[134]#011train-error:0.09333#011validation-error:0.14040\u001b[0m\n",
      "\u001b[34m[135]#011train-error:0.09347#011validation-error:0.14010\u001b[0m\n",
      "\u001b[34m[136]#011train-error:0.09313#011validation-error:0.13980\u001b[0m\n",
      "\u001b[34m[137]#011train-error:0.09247#011validation-error:0.14010\u001b[0m\n",
      "\u001b[34m[138]#011train-error:0.09313#011validation-error:0.13960\u001b[0m\n",
      "\u001b[34m[139]#011train-error:0.09353#011validation-error:0.14020\u001b[0m\n",
      "\u001b[34m[140]#011train-error:0.09373#011validation-error:0.14040\u001b[0m\n",
      "\u001b[34m[141]#011train-error:0.09333#011validation-error:0.13890\u001b[0m\n",
      "\u001b[34m[142]#011train-error:0.09307#011validation-error:0.13810\u001b[0m\n",
      "\u001b[34m[143]#011train-error:0.09320#011validation-error:0.13830\u001b[0m\n",
      "\u001b[34m[144]#011train-error:0.09273#011validation-error:0.13850\u001b[0m\n",
      "\u001b[34m[145]#011train-error:0.09233#011validation-error:0.13870\u001b[0m\n",
      "\u001b[34m[146]#011train-error:0.09187#011validation-error:0.13810\u001b[0m\n",
      "\u001b[34m[147]#011train-error:0.09160#011validation-error:0.13770\u001b[0m\n",
      "\u001b[34m[148]#011train-error:0.09160#011validation-error:0.13760\u001b[0m\n",
      "\u001b[34m[149]#011train-error:0.09133#011validation-error:0.13760\u001b[0m\n",
      "\u001b[34m[150]#011train-error:0.09040#011validation-error:0.13780\u001b[0m\n",
      "\u001b[34m[151]#011train-error:0.08987#011validation-error:0.13760\u001b[0m\n",
      "\u001b[34m[152]#011train-error:0.08987#011validation-error:0.13710\u001b[0m\n",
      "\u001b[34m[153]#011train-error:0.08933#011validation-error:0.13730\u001b[0m\n",
      "\u001b[34m[154]#011train-error:0.08893#011validation-error:0.13750\u001b[0m\n",
      "\u001b[34m[155]#011train-error:0.08860#011validation-error:0.13710\u001b[0m\n",
      "\u001b[34m[156]#011train-error:0.08820#011validation-error:0.13680\u001b[0m\n",
      "\u001b[34m[157]#011train-error:0.08740#011validation-error:0.13720\u001b[0m\n",
      "\u001b[34m[158]#011train-error:0.08747#011validation-error:0.13690\u001b[0m\n",
      "\u001b[34m[159]#011train-error:0.08680#011validation-error:0.13710\u001b[0m\n",
      "\u001b[34m[160]#011train-error:0.08707#011validation-error:0.13690\u001b[0m\n",
      "\u001b[34m[161]#011train-error:0.08693#011validation-error:0.13710\u001b[0m\n",
      "\u001b[34m[162]#011train-error:0.08680#011validation-error:0.13630\u001b[0m\n",
      "\u001b[34m[163]#011train-error:0.08660#011validation-error:0.13600\u001b[0m\n",
      "\u001b[34m[164]#011train-error:0.08673#011validation-error:0.13530\u001b[0m\n",
      "\u001b[34m[165]#011train-error:0.08700#011validation-error:0.13480\u001b[0m\n",
      "\u001b[34m[166]#011train-error:0.08713#011validation-error:0.13480\u001b[0m\n",
      "\u001b[34m[167]#011train-error:0.08693#011validation-error:0.13470\u001b[0m\n",
      "\u001b[34m[168]#011train-error:0.08713#011validation-error:0.13370\u001b[0m\n",
      "\u001b[34m[169]#011train-error:0.08693#011validation-error:0.13460\u001b[0m\n",
      "\u001b[34m[170]#011train-error:0.08647#011validation-error:0.13370\u001b[0m\n",
      "\u001b[34m[171]#011train-error:0.08633#011validation-error:0.13370\u001b[0m\n",
      "\u001b[34m[172]#011train-error:0.08553#011validation-error:0.13430\u001b[0m\n",
      "\u001b[34m[173]#011train-error:0.08540#011validation-error:0.13420\u001b[0m\n",
      "\u001b[34m[174]#011train-error:0.08460#011validation-error:0.13320\u001b[0m\n",
      "\u001b[34m[175]#011train-error:0.08387#011validation-error:0.13290\u001b[0m\n",
      "\u001b[34m[176]#011train-error:0.08367#011validation-error:0.13370\u001b[0m\n",
      "\u001b[34m[177]#011train-error:0.08333#011validation-error:0.13300\u001b[0m\n",
      "\u001b[34m[178]#011train-error:0.08307#011validation-error:0.13260\u001b[0m\n",
      "\u001b[34m[179]#011train-error:0.08227#011validation-error:0.13240\u001b[0m\n",
      "\u001b[34m[180]#011train-error:0.08233#011validation-error:0.13180\u001b[0m\n",
      "\u001b[34m[181]#011train-error:0.08213#011validation-error:0.13210\u001b[0m\n",
      "\u001b[34m[182]#011train-error:0.08227#011validation-error:0.13320\u001b[0m\n",
      "\u001b[34m[183]#011train-error:0.08200#011validation-error:0.13330\u001b[0m\n",
      "\u001b[34m[184]#011train-error:0.08180#011validation-error:0.13380\u001b[0m\n",
      "\u001b[34m[185]#011train-error:0.08187#011validation-error:0.13310\u001b[0m\n",
      "\u001b[34m[186]#011train-error:0.08160#011validation-error:0.13370\u001b[0m\n",
      "\u001b[34m[187]#011train-error:0.08167#011validation-error:0.13320\u001b[0m\n",
      "\u001b[34m[188]#011train-error:0.08073#011validation-error:0.13410\u001b[0m\n",
      "\u001b[34m[189]#011train-error:0.08007#011validation-error:0.13340\u001b[0m\n",
      "\u001b[34m[190]#011train-error:0.08060#011validation-error:0.13360\u001b[0m\n",
      "\n",
      "2020-06-28 01:11:23 Uploading - Uploading generated training model\n",
      "2020-06-28 01:11:23 Completed - Training job completed\n",
      "Training seconds: 285\n",
      "Billable seconds: 285\n"
     ]
    }
   ],
   "source": [
    "xgb.fit({'train': s3_input_train, 'validation': s3_input_validation})"
   ]
  },
  {
   "cell_type": "markdown",
   "metadata": {},
   "source": [
    "### (TODO) Testing the model\n",
    "\n",
    "Now that we've fit our XGBoost model, it's time to see how well it performs. To do this we will use SageMakers Batch Transform functionality. Batch Transform is a convenient way to perform inference on a large dataset in a way that is not realtime. That is, we don't necessarily need to use our model's results immediately and instead we can peform inference on a large number of samples. An example of this in industry might be peforming an end of month report. This method of inference can also be useful to us as it means to can perform inference on our entire test set. \n",
    "\n",
    "To perform a Batch Transformation we need to first create a transformer objects from our trained estimator object."
   ]
  },
  {
   "cell_type": "code",
   "execution_count": 25,
   "metadata": {},
   "outputs": [
    {
     "name": "stderr",
     "output_type": "stream",
     "text": [
      "WARNING:sagemaker:Parameter image will be renamed to image_uri in SageMaker Python SDK v2.\n"
     ]
    }
   ],
   "source": [
    "# TODO: Create a transformer object from the trained model. \n",
    "# Using an instance count of 1 and an instance type of ml.m4.xlarge should be more than enough.\n",
    "xgb_transformer = xgb.transformer(instance_count = 1, instance_type = 'ml.m4.xlarge')\n"
   ]
  },
  {
   "cell_type": "markdown",
   "metadata": {},
   "source": [
    "Next we actually perform the transform job. When doing so we need to make sure to specify the type of data we are sending so that it is serialized correctly in the background. In our case we are providing our model with csv data so we specify `text/csv`. Also, if the test data that we have provided is too large to process all at once then we need to specify how the data file should be split up. Since each line is a single entry in our data set we tell SageMaker that it can split the input on each line."
   ]
  },
  {
   "cell_type": "code",
   "execution_count": 26,
   "metadata": {},
   "outputs": [],
   "source": [
    "# TODO: Start the transform job. Make sure to specify the content type and the split type of the test data.\n",
    "xgb_transformer.transform(test_location, content_type='text/csv', split_type='Line')"
   ]
  },
  {
   "cell_type": "markdown",
   "metadata": {},
   "source": [
    "Currently the transform job is running but it is doing so in the background. Since we wish to wait until the transform job is done and we would like a bit of feedback we can run the `wait()` method."
   ]
  },
  {
   "cell_type": "code",
   "execution_count": 27,
   "metadata": {},
   "outputs": [
    {
     "name": "stdout",
     "output_type": "stream",
     "text": [
      "......................\u001b[34m[2020-06-28:01:15:16:INFO] No GPUs detected (normal if no gpus installed)\u001b[0m\n",
      "\u001b[34m[2020-06-28:01:15:16:INFO] No GPUs detected (normal if no gpus installed)\u001b[0m\n",
      "\u001b[34m[2020-06-28:01:15:16:INFO] nginx config: \u001b[0m\n",
      "\u001b[34mworker_processes auto;\u001b[0m\n",
      "\u001b[34mdaemon off;\u001b[0m\n",
      "\u001b[34mpid /tmp/nginx.pid;\u001b[0m\n",
      "\u001b[34merror_log  /dev/stderr;\n",
      "\u001b[0m\n",
      "\u001b[34mworker_rlimit_nofile 4096;\n",
      "\u001b[0m\n",
      "\u001b[34mevents {\n",
      "  worker_connections 2048;\u001b[0m\n",
      "\u001b[34m}\n",
      "\u001b[0m\n",
      "\u001b[34mhttp {\n",
      "  include /etc/nginx/mime.types;\n",
      "  default_type application/octet-stream;\n",
      "  access_log /dev/stdout combined;\n",
      "\n",
      "  upstream gunicorn {\n",
      "    server unix:/tmp/gunicorn.sock;\n",
      "  }\n",
      "\n",
      "  server {\n",
      "    listen 8080 deferred;\n",
      "    client_max_body_size 0;\n",
      "\n",
      "    keepalive_timeout 3;\n",
      "\n",
      "    location ~ ^/(ping|invocations|execution-parameters) {\n",
      "      proxy_set_header X-Forwarded-For $proxy_add_x_forwarded_for;\n",
      "      proxy_set_header Host $http_host;\n",
      "      proxy_redirect off;\n",
      "      proxy_read_timeout 60s;\n",
      "      proxy_pass http://gunicorn;\n",
      "    }\n",
      "\n",
      "    location / {\n",
      "      return 404 \"{}\";\n",
      "    }\n",
      "\n",
      "  }\u001b[0m\n",
      "\u001b[34m}\n",
      "\n",
      "\u001b[0m\n",
      "\u001b[34m[2020-06-28 01:15:16 +0000] [19] [INFO] Starting gunicorn 19.10.0\u001b[0m\n",
      "\u001b[34m[2020-06-28 01:15:16 +0000] [19] [INFO] Listening at: unix:/tmp/gunicorn.sock (19)\u001b[0m\n",
      "\u001b[34m[2020-06-28 01:15:16 +0000] [19] [INFO] Using worker: gevent\u001b[0m\n",
      "\u001b[34m[2020-06-28 01:15:16 +0000] [26] [INFO] Booting worker with pid: 26\u001b[0m\n",
      "\u001b[34m[2020-06-28 01:15:16 +0000] [27] [INFO] Booting worker with pid: 27\u001b[0m\n",
      "\u001b[34m[2020-06-28 01:15:16 +0000] [28] [INFO] Booting worker with pid: 28\u001b[0m\n",
      "\u001b[34m[2020-06-28 01:15:16 +0000] [29] [INFO] Booting worker with pid: 29\u001b[0m\n",
      "\u001b[34m[2020-06-28:01:15:47:INFO] No GPUs detected (normal if no gpus installed)\u001b[0m\n",
      "\u001b[34m169.254.255.130 - - [28/Jun/2020:01:15:47 +0000] \"GET /ping HTTP/1.1\" 200 0 \"-\" \"Go-http-client/1.1\"\u001b[0m\n",
      "\u001b[34m169.254.255.130 - - [28/Jun/2020:01:15:47 +0000] \"GET /execution-parameters HTTP/1.1\" 200 84 \"-\" \"Go-http-client/1.1\"\u001b[0m\n",
      "\u001b[35m[2020-06-28:01:15:47:INFO] No GPUs detected (normal if no gpus installed)\u001b[0m\n",
      "\u001b[35m169.254.255.130 - - [28/Jun/2020:01:15:47 +0000] \"GET /ping HTTP/1.1\" 200 0 \"-\" \"Go-http-client/1.1\"\u001b[0m\n",
      "\u001b[35m169.254.255.130 - - [28/Jun/2020:01:15:47 +0000] \"GET /execution-parameters HTTP/1.1\" 200 84 \"-\" \"Go-http-client/1.1\"\u001b[0m\n",
      "\u001b[34m[2020-06-28:01:15:50:INFO] No GPUs detected (normal if no gpus installed)\u001b[0m\n",
      "\u001b[34m[2020-06-28:01:15:50:INFO] Determined delimiter of CSV input is ','\u001b[0m\n",
      "\u001b[34m[2020-06-28:01:15:50:INFO] Determined delimiter of CSV input is ','\u001b[0m\n",
      "\u001b[34m[2020-06-28:01:15:50:INFO] No GPUs detected (normal if no gpus installed)\u001b[0m\n",
      "\u001b[34m[2020-06-28:01:15:50:INFO] No GPUs detected (normal if no gpus installed)\u001b[0m\n",
      "\u001b[34m[2020-06-28:01:15:50:INFO] Determined delimiter of CSV input is ','\u001b[0m\n",
      "\u001b[34m[2020-06-28:01:15:50:INFO] Determined delimiter of CSV input is ','\u001b[0m\n",
      "\u001b[35m[2020-06-28:01:15:50:INFO] No GPUs detected (normal if no gpus installed)\u001b[0m\n",
      "\u001b[35m[2020-06-28:01:15:50:INFO] Determined delimiter of CSV input is ','\u001b[0m\n",
      "\u001b[35m[2020-06-28:01:15:50:INFO] Determined delimiter of CSV input is ','\u001b[0m\n",
      "\u001b[35m[2020-06-28:01:15:50:INFO] No GPUs detected (normal if no gpus installed)\u001b[0m\n",
      "\u001b[35m[2020-06-28:01:15:50:INFO] No GPUs detected (normal if no gpus installed)\u001b[0m\n",
      "\u001b[35m[2020-06-28:01:15:50:INFO] Determined delimiter of CSV input is ','\u001b[0m\n",
      "\u001b[35m[2020-06-28:01:15:50:INFO] Determined delimiter of CSV input is ','\u001b[0m\n",
      "\u001b[32m2020-06-28T01:15:47.525:[sagemaker logs]: MaxConcurrentTransforms=4, MaxPayloadInMB=6, BatchStrategy=MULTI_RECORD\u001b[0m\n",
      "\u001b[34m169.254.255.130 - - [28/Jun/2020:01:15:53 +0000] \"POST /invocations HTTP/1.1\" 200 12177 \"-\" \"Go-http-client/1.1\"\u001b[0m\n",
      "\u001b[34m169.254.255.130 - - [28/Jun/2020:01:15:54 +0000] \"POST /invocations HTTP/1.1\" 200 12215 \"-\" \"Go-http-client/1.1\"\u001b[0m\n",
      "\u001b[34m[2020-06-28:01:15:54:INFO] Determined delimiter of CSV input is ','\u001b[0m\n",
      "\u001b[34m169.254.255.130 - - [28/Jun/2020:01:15:54 +0000] \"POST /invocations HTTP/1.1\" 200 12211 \"-\" \"Go-http-client/1.1\"\u001b[0m\n",
      "\u001b[35m169.254.255.130 - - [28/Jun/2020:01:15:53 +0000] \"POST /invocations HTTP/1.1\" 200 12177 \"-\" \"Go-http-client/1.1\"\u001b[0m\n",
      "\u001b[35m169.254.255.130 - - [28/Jun/2020:01:15:54 +0000] \"POST /invocations HTTP/1.1\" 200 12215 \"-\" \"Go-http-client/1.1\"\u001b[0m\n",
      "\u001b[35m[2020-06-28:01:15:54:INFO] Determined delimiter of CSV input is ','\u001b[0m\n",
      "\u001b[35m169.254.255.130 - - [28/Jun/2020:01:15:54 +0000] \"POST /invocations HTTP/1.1\" 200 12211 \"-\" \"Go-http-client/1.1\"\u001b[0m\n",
      "\u001b[34m[2020-06-28:01:15:54:INFO] Determined delimiter of CSV input is ','\u001b[0m\n",
      "\u001b[34m169.254.255.130 - - [28/Jun/2020:01:15:54 +0000] \"POST /invocations HTTP/1.1\" 200 12206 \"-\" \"Go-http-client/1.1\"\u001b[0m\n",
      "\u001b[34m[2020-06-28:01:15:54:INFO] Determined delimiter of CSV input is ','\u001b[0m\n",
      "\u001b[34m[2020-06-28:01:15:54:INFO] Determined delimiter of CSV input is ','\u001b[0m\n",
      "\u001b[35m[2020-06-28:01:15:54:INFO] Determined delimiter of CSV input is ','\u001b[0m\n",
      "\u001b[35m169.254.255.130 - - [28/Jun/2020:01:15:54 +0000] \"POST /invocations HTTP/1.1\" 200 12206 \"-\" \"Go-http-client/1.1\"\u001b[0m\n",
      "\u001b[35m[2020-06-28:01:15:54:INFO] Determined delimiter of CSV input is ','\u001b[0m\n",
      "\u001b[35m[2020-06-28:01:15:54:INFO] Determined delimiter of CSV input is ','\u001b[0m\n",
      "\u001b[34m169.254.255.130 - - [28/Jun/2020:01:15:57 +0000] \"POST /invocations HTTP/1.1\" 200 12214 \"-\" \"Go-http-client/1.1\"\u001b[0m\n",
      "\u001b[34m169.254.255.130 - - [28/Jun/2020:01:15:57 +0000] \"POST /invocations HTTP/1.1\" 200 12212 \"-\" \"Go-http-client/1.1\"\u001b[0m\n",
      "\u001b[34m[2020-06-28:01:15:57:INFO] Determined delimiter of CSV input is ','\u001b[0m\n",
      "\u001b[34m[2020-06-28:01:15:57:INFO] Determined delimiter of CSV input is ','\u001b[0m\n",
      "\u001b[34m169.254.255.130 - - [28/Jun/2020:01:15:57 +0000] \"POST /invocations HTTP/1.1\" 200 12277 \"-\" \"Go-http-client/1.1\"\u001b[0m\n",
      "\u001b[34m169.254.255.130 - - [28/Jun/2020:01:15:58 +0000] \"POST /invocations HTTP/1.1\" 200 12194 \"-\" \"Go-http-client/1.1\"\u001b[0m\n",
      "\u001b[34m[2020-06-28:01:15:58:INFO] Determined delimiter of CSV input is ','\u001b[0m\n",
      "\u001b[35m169.254.255.130 - - [28/Jun/2020:01:15:57 +0000] \"POST /invocations HTTP/1.1\" 200 12214 \"-\" \"Go-http-client/1.1\"\u001b[0m\n",
      "\u001b[35m169.254.255.130 - - [28/Jun/2020:01:15:57 +0000] \"POST /invocations HTTP/1.1\" 200 12212 \"-\" \"Go-http-client/1.1\"\u001b[0m\n",
      "\u001b[35m[2020-06-28:01:15:57:INFO] Determined delimiter of CSV input is ','\u001b[0m\n",
      "\u001b[35m[2020-06-28:01:15:57:INFO] Determined delimiter of CSV input is ','\u001b[0m\n",
      "\u001b[35m169.254.255.130 - - [28/Jun/2020:01:15:57 +0000] \"POST /invocations HTTP/1.1\" 200 12277 \"-\" \"Go-http-client/1.1\"\u001b[0m\n",
      "\u001b[35m169.254.255.130 - - [28/Jun/2020:01:15:58 +0000] \"POST /invocations HTTP/1.1\" 200 12194 \"-\" \"Go-http-client/1.1\"\u001b[0m\n",
      "\u001b[35m[2020-06-28:01:15:58:INFO] Determined delimiter of CSV input is ','\u001b[0m\n",
      "\u001b[34m[2020-06-28:01:16:01:INFO] Determined delimiter of CSV input is ','\u001b[0m\n",
      "\u001b[35m[2020-06-28:01:16:01:INFO] Determined delimiter of CSV input is ','\u001b[0m\n",
      "\u001b[34m169.254.255.130 - - [28/Jun/2020:01:16:03 +0000] \"POST /invocations HTTP/1.1\" 200 12226 \"-\" \"Go-http-client/1.1\"\u001b[0m\n",
      "\u001b[35m169.254.255.130 - - [28/Jun/2020:01:16:03 +0000] \"POST /invocations HTTP/1.1\" 200 12226 \"-\" \"Go-http-client/1.1\"\u001b[0m\n",
      "\u001b[34m169.254.255.130 - - [28/Jun/2020:01:16:04 +0000] \"POST /invocations HTTP/1.1\" 200 12233 \"-\" \"Go-http-client/1.1\"\u001b[0m\n",
      "\u001b[34m[2020-06-28:01:16:04:INFO] Determined delimiter of CSV input is ','\u001b[0m\n",
      "\u001b[34m169.254.255.130 - - [28/Jun/2020:01:16:04 +0000] \"POST /invocations HTTP/1.1\" 200 12212 \"-\" \"Go-http-client/1.1\"\u001b[0m\n",
      "\u001b[35m169.254.255.130 - - [28/Jun/2020:01:16:04 +0000] \"POST /invocations HTTP/1.1\" 200 12233 \"-\" \"Go-http-client/1.1\"\u001b[0m\n",
      "\u001b[35m[2020-06-28:01:16:04:INFO] Determined delimiter of CSV input is ','\u001b[0m\n",
      "\u001b[35m169.254.255.130 - - [28/Jun/2020:01:16:04 +0000] \"POST /invocations HTTP/1.1\" 200 12212 \"-\" \"Go-http-client/1.1\"\u001b[0m\n",
      "\u001b[34m169.254.255.130 - - [28/Jun/2020:01:16:06 +0000] \"POST /invocations HTTP/1.1\" 200 12241 \"-\" \"Go-http-client/1.1\"\u001b[0m\n",
      "\u001b[34m[2020-06-28:01:16:06:INFO] Determined delimiter of CSV input is ','\u001b[0m\n",
      "\u001b[34m[2020-06-28:01:16:06:INFO] Determined delimiter of CSV input is ','\u001b[0m\n",
      "\u001b[35m169.254.255.130 - - [28/Jun/2020:01:16:06 +0000] \"POST /invocations HTTP/1.1\" 200 12241 \"-\" \"Go-http-client/1.1\"\u001b[0m\n",
      "\u001b[35m[2020-06-28:01:16:06:INFO] Determined delimiter of CSV input is ','\u001b[0m\n",
      "\u001b[35m[2020-06-28:01:16:06:INFO] Determined delimiter of CSV input is ','\u001b[0m\n",
      "\u001b[34m[2020-06-28:01:16:06:INFO] Determined delimiter of CSV input is ','\u001b[0m\n",
      "\u001b[34m[2020-06-28:01:16:06:INFO] Determined delimiter of CSV input is ','\u001b[0m\n",
      "\u001b[35m[2020-06-28:01:16:06:INFO] Determined delimiter of CSV input is ','\u001b[0m\n",
      "\u001b[35m[2020-06-28:01:16:06:INFO] Determined delimiter of CSV input is ','\u001b[0m\n",
      "\u001b[34m169.254.255.130 - - [28/Jun/2020:01:16:09 +0000] \"POST /invocations HTTP/1.1\" 200 12265 \"-\" \"Go-http-client/1.1\"\u001b[0m\n",
      "\u001b[34m169.254.255.130 - - [28/Jun/2020:01:16:09 +0000] \"POST /invocations HTTP/1.1\" 200 12215 \"-\" \"Go-http-client/1.1\"\u001b[0m\n",
      "\u001b[34m[2020-06-28:01:16:09:INFO] Determined delimiter of CSV input is ','\u001b[0m\n",
      "\u001b[34m[2020-06-28:01:16:09:INFO] Determined delimiter of CSV input is ','\u001b[0m\n",
      "\u001b[34m[2020-06-28:01:16:10:INFO] Determined delimiter of CSV input is ','\u001b[0m\n",
      "\u001b[34m[2020-06-28:01:16:10:INFO] Determined delimiter of CSV input is ','\u001b[0m\n",
      "\u001b[35m169.254.255.130 - - [28/Jun/2020:01:16:09 +0000] \"POST /invocations HTTP/1.1\" 200 12265 \"-\" \"Go-http-client/1.1\"\u001b[0m\n",
      "\u001b[35m169.254.255.130 - - [28/Jun/2020:01:16:09 +0000] \"POST /invocations HTTP/1.1\" 200 12215 \"-\" \"Go-http-client/1.1\"\u001b[0m\n",
      "\u001b[35m[2020-06-28:01:16:09:INFO] Determined delimiter of CSV input is ','\u001b[0m\n",
      "\u001b[35m[2020-06-28:01:16:09:INFO] Determined delimiter of CSV input is ','\u001b[0m\n",
      "\u001b[35m[2020-06-28:01:16:10:INFO] Determined delimiter of CSV input is ','\u001b[0m\n",
      "\u001b[35m[2020-06-28:01:16:10:INFO] Determined delimiter of CSV input is ','\u001b[0m\n",
      "\u001b[34m169.254.255.130 - - [28/Jun/2020:01:16:13 +0000] \"POST /invocations HTTP/1.1\" 200 12234 \"-\" \"Go-http-client/1.1\"\u001b[0m\n",
      "\u001b[35m169.254.255.130 - - [28/Jun/2020:01:16:13 +0000] \"POST /invocations HTTP/1.1\" 200 12234 \"-\" \"Go-http-client/1.1\"\u001b[0m\n",
      "\u001b[34m169.254.255.130 - - [28/Jun/2020:01:16:13 +0000] \"POST /invocations HTTP/1.1\" 200 12190 \"-\" \"Go-http-client/1.1\"\u001b[0m\n",
      "\u001b[34m[2020-06-28:01:16:13:INFO] Determined delimiter of CSV input is ','\u001b[0m\n",
      "\u001b[34m169.254.255.130 - - [28/Jun/2020:01:16:13 +0000] \"POST /invocations HTTP/1.1\" 200 12234 \"-\" \"Go-http-client/1.1\"\u001b[0m\n",
      "\u001b[34m169.254.255.130 - - [28/Jun/2020:01:16:13 +0000] \"POST /invocations HTTP/1.1\" 200 12247 \"-\" \"Go-http-client/1.1\"\u001b[0m\n",
      "\u001b[34m[2020-06-28:01:16:13:INFO] Determined delimiter of CSV input is ','\u001b[0m\n",
      "\u001b[34m[2020-06-28:01:16:13:INFO] Determined delimiter of CSV input is ','\u001b[0m\n",
      "\u001b[34m[2020-06-28:01:16:13:INFO] Determined delimiter of CSV input is ','\u001b[0m\n",
      "\u001b[35m169.254.255.130 - - [28/Jun/2020:01:16:13 +0000] \"POST /invocations HTTP/1.1\" 200 12190 \"-\" \"Go-http-client/1.1\"\u001b[0m\n",
      "\u001b[35m[2020-06-28:01:16:13:INFO] Determined delimiter of CSV input is ','\u001b[0m\n",
      "\u001b[35m169.254.255.130 - - [28/Jun/2020:01:16:13 +0000] \"POST /invocations HTTP/1.1\" 200 12234 \"-\" \"Go-http-client/1.1\"\u001b[0m\n",
      "\u001b[35m169.254.255.130 - - [28/Jun/2020:01:16:13 +0000] \"POST /invocations HTTP/1.1\" 200 12247 \"-\" \"Go-http-client/1.1\"\u001b[0m\n",
      "\u001b[35m[2020-06-28:01:16:13:INFO] Determined delimiter of CSV input is ','\u001b[0m\n",
      "\u001b[35m[2020-06-28:01:16:13:INFO] Determined delimiter of CSV input is ','\u001b[0m\n",
      "\u001b[35m[2020-06-28:01:16:13:INFO] Determined delimiter of CSV input is ','\u001b[0m\n",
      "\u001b[34m[2020-06-28:01:16:17:INFO] Determined delimiter of CSV input is ','\u001b[0m\n",
      "\u001b[35m[2020-06-28:01:16:17:INFO] Determined delimiter of CSV input is ','\u001b[0m\n",
      "\u001b[34m169.254.255.130 - - [28/Jun/2020:01:16:20 +0000] \"POST /invocations HTTP/1.1\" 200 12239 \"-\" \"Go-http-client/1.1\"\u001b[0m\n",
      "\u001b[34m169.254.255.130 - - [28/Jun/2020:01:16:20 +0000] \"POST /invocations HTTP/1.1\" 200 12218 \"-\" \"Go-http-client/1.1\"\u001b[0m\n",
      "\u001b[34m[2020-06-28:01:16:20:INFO] Determined delimiter of CSV input is ','\u001b[0m\n",
      "\u001b[34m169.254.255.130 - - [28/Jun/2020:01:16:20 +0000] \"POST /invocations HTTP/1.1\" 200 12249 \"-\" \"Go-http-client/1.1\"\u001b[0m\n",
      "\u001b[34m169.254.255.130 - - [28/Jun/2020:01:16:20 +0000] \"POST /invocations HTTP/1.1\" 200 12234 \"-\" \"Go-http-client/1.1\"\u001b[0m\n",
      "\u001b[34m[2020-06-28:01:16:20:INFO] Determined delimiter of CSV input is ','\u001b[0m\n",
      "\u001b[34m[2020-06-28:01:16:20:INFO] Determined delimiter of CSV input is ','\u001b[0m\n",
      "\u001b[34m[2020-06-28:01:16:21:INFO] Determined delimiter of CSV input is ','\u001b[0m\n",
      "\u001b[35m169.254.255.130 - - [28/Jun/2020:01:16:20 +0000] \"POST /invocations HTTP/1.1\" 200 12239 \"-\" \"Go-http-client/1.1\"\u001b[0m\n",
      "\u001b[35m169.254.255.130 - - [28/Jun/2020:01:16:20 +0000] \"POST /invocations HTTP/1.1\" 200 12218 \"-\" \"Go-http-client/1.1\"\u001b[0m\n",
      "\u001b[35m[2020-06-28:01:16:20:INFO] Determined delimiter of CSV input is ','\u001b[0m\n",
      "\u001b[35m169.254.255.130 - - [28/Jun/2020:01:16:20 +0000] \"POST /invocations HTTP/1.1\" 200 12249 \"-\" \"Go-http-client/1.1\"\u001b[0m\n",
      "\u001b[35m169.254.255.130 - - [28/Jun/2020:01:16:20 +0000] \"POST /invocations HTTP/1.1\" 200 12234 \"-\" \"Go-http-client/1.1\"\u001b[0m\n",
      "\u001b[35m[2020-06-28:01:16:20:INFO] Determined delimiter of CSV input is ','\u001b[0m\n",
      "\u001b[35m[2020-06-28:01:16:20:INFO] Determined delimiter of CSV input is ','\u001b[0m\n",
      "\u001b[35m[2020-06-28:01:16:21:INFO] Determined delimiter of CSV input is ','\u001b[0m\n",
      "\u001b[34m169.254.255.130 - - [28/Jun/2020:01:16:24 +0000] \"POST /invocations HTTP/1.1\" 200 12215 \"-\" \"Go-http-client/1.1\"\u001b[0m\n",
      "\u001b[34m[2020-06-28:01:16:24:INFO] Determined delimiter of CSV input is ','\u001b[0m\n",
      "\u001b[35m169.254.255.130 - - [28/Jun/2020:01:16:24 +0000] \"POST /invocations HTTP/1.1\" 200 12215 \"-\" \"Go-http-client/1.1\"\u001b[0m\n",
      "\u001b[35m[2020-06-28:01:16:24:INFO] Determined delimiter of CSV input is ','\u001b[0m\n",
      "\u001b[34m169.254.255.130 - - [28/Jun/2020:01:16:24 +0000] \"POST /invocations HTTP/1.1\" 200 12254 \"-\" \"Go-http-client/1.1\"\u001b[0m\n",
      "\u001b[34m169.254.255.130 - - [28/Jun/2020:01:16:24 +0000] \"POST /invocations HTTP/1.1\" 200 12241 \"-\" \"Go-http-client/1.1\"\u001b[0m\n",
      "\u001b[34m169.254.255.130 - - [28/Jun/2020:01:16:24 +0000] \"POST /invocations HTTP/1.1\" 200 12210 \"-\" \"Go-http-client/1.1\"\u001b[0m\n",
      "\u001b[34m[2020-06-28:01:16:24:INFO] Determined delimiter of CSV input is ','\u001b[0m\n",
      "\u001b[34m[2020-06-28:01:16:24:INFO] Determined delimiter of CSV input is ','\u001b[0m\n",
      "\u001b[34m[2020-06-28:01:16:24:INFO] Determined delimiter of CSV input is ','\u001b[0m\n",
      "\u001b[35m169.254.255.130 - - [28/Jun/2020:01:16:24 +0000] \"POST /invocations HTTP/1.1\" 200 12254 \"-\" \"Go-http-client/1.1\"\u001b[0m\n",
      "\u001b[35m169.254.255.130 - - [28/Jun/2020:01:16:24 +0000] \"POST /invocations HTTP/1.1\" 200 12241 \"-\" \"Go-http-client/1.1\"\u001b[0m\n",
      "\u001b[35m169.254.255.130 - - [28/Jun/2020:01:16:24 +0000] \"POST /invocations HTTP/1.1\" 200 12210 \"-\" \"Go-http-client/1.1\"\u001b[0m\n",
      "\u001b[35m[2020-06-28:01:16:24:INFO] Determined delimiter of CSV input is ','\u001b[0m\n",
      "\u001b[35m[2020-06-28:01:16:24:INFO] Determined delimiter of CSV input is ','\u001b[0m\n",
      "\u001b[35m[2020-06-28:01:16:24:INFO] Determined delimiter of CSV input is ','\u001b[0m\n",
      "\u001b[34m169.254.255.130 - - [28/Jun/2020:01:16:27 +0000] \"POST /invocations HTTP/1.1\" 200 9087 \"-\" \"Go-http-client/1.1\"\u001b[0m\n",
      "\u001b[35m169.254.255.130 - - [28/Jun/2020:01:16:27 +0000] \"POST /invocations HTTP/1.1\" 200 9087 \"-\" \"Go-http-client/1.1\"\u001b[0m\n",
      "\u001b[34m169.254.255.130 - - [28/Jun/2020:01:16:27 +0000] \"POST /invocations HTTP/1.1\" 200 12194 \"-\" \"Go-http-client/1.1\"\u001b[0m\n",
      "\u001b[34m169.254.255.130 - - [28/Jun/2020:01:16:27 +0000] \"POST /invocations HTTP/1.1\" 200 12213 \"-\" \"Go-http-client/1.1\"\u001b[0m\n",
      "\u001b[34m169.254.255.130 - - [28/Jun/2020:01:16:27 +0000] \"POST /invocations HTTP/1.1\" 200 12249 \"-\" \"Go-http-client/1.1\"\u001b[0m\n",
      "\u001b[35m169.254.255.130 - - [28/Jun/2020:01:16:27 +0000] \"POST /invocations HTTP/1.1\" 200 12194 \"-\" \"Go-http-client/1.1\"\u001b[0m\n",
      "\u001b[35m169.254.255.130 - - [28/Jun/2020:01:16:27 +0000] \"POST /invocations HTTP/1.1\" 200 12213 \"-\" \"Go-http-client/1.1\"\u001b[0m\n",
      "\u001b[35m169.254.255.130 - - [28/Jun/2020:01:16:27 +0000] \"POST /invocations HTTP/1.1\" 200 12249 \"-\" \"Go-http-client/1.1\"\u001b[0m\n",
      "\n"
     ]
    }
   ],
   "source": [
    "xgb_transformer.wait()"
   ]
  },
  {
   "cell_type": "markdown",
   "metadata": {},
   "source": [
    "Now the transform job has executed and the result, the estimated sentiment of each review, has been saved on S3. Since we would rather work on this file locally we can perform a bit of notebook magic to copy the file to the `data_dir`."
   ]
  },
  {
   "cell_type": "code",
   "execution_count": 28,
   "metadata": {},
   "outputs": [
    {
     "name": "stdout",
     "output_type": "stream",
     "text": [
      "download: s3://sagemaker-us-east-2-959447790566/sagemaker-xgboost-2020-06-28-01-11-48-082/test.csv.out to ../data/xgboost/test.csv.out\r\n"
     ]
    }
   ],
   "source": [
    "!aws s3 cp --recursive $xgb_transformer.output_path $data_dir"
   ]
  },
  {
   "cell_type": "markdown",
   "metadata": {},
   "source": [
    "The last step is now to read in the output from our model, convert the output to something a little more usable, in this case we want the sentiment to be either `1` (positive) or `0` (negative), and then compare to the ground truth labels."
   ]
  },
  {
   "cell_type": "code",
   "execution_count": 29,
   "metadata": {},
   "outputs": [],
   "source": [
    "predictions = pd.read_csv(os.path.join(data_dir, 'test.csv.out'), header=None)\n",
    "predictions = [round(num) for num in predictions.squeeze().values]"
   ]
  },
  {
   "cell_type": "code",
   "execution_count": 30,
   "metadata": {},
   "outputs": [
    {
     "data": {
      "text/plain": [
       "0.86396"
      ]
     },
     "execution_count": 30,
     "metadata": {},
     "output_type": "execute_result"
    }
   ],
   "source": [
    "from sklearn.metrics import accuracy_score\n",
    "accuracy_score(test_y, predictions)"
   ]
  },
  {
   "cell_type": "markdown",
   "metadata": {},
   "source": [
    "## Optional: Clean up\n",
    "\n",
    "The default notebook instance on SageMaker doesn't have a lot of excess disk space available. As you continue to complete and execute notebooks you will eventually fill up this disk space, leading to errors which can be difficult to diagnose. Once you are completely finished using a notebook it is a good idea to remove the files that you created along the way. Of course, you can do this from the terminal or from the notebook hub if you would like. The cell below contains some commands to clean up the created files from within the notebook."
   ]
  },
  {
   "cell_type": "code",
   "execution_count": 31,
   "metadata": {},
   "outputs": [],
   "source": [
    "# First we will remove all of the files contained in the data_dir directory\n",
    "!rm $data_dir/*\n",
    "\n",
    "# And then we delete the directory itself\n",
    "!rmdir $data_dir\n",
    "\n",
    "# Similarly we will remove the files in the cache_dir directory and the directory itself\n",
    "!rm $cache_dir/*\n",
    "!rmdir $cache_dir"
   ]
  },
  {
   "cell_type": "code",
   "execution_count": null,
   "metadata": {},
   "outputs": [],
   "source": []
  }
 ],
 "metadata": {
  "kernelspec": {
   "display_name": "conda_python3",
   "language": "python",
   "name": "conda_python3"
  },
  "language_info": {
   "codemirror_mode": {
    "name": "ipython",
    "version": 3
   },
   "file_extension": ".py",
   "mimetype": "text/x-python",
   "name": "python",
   "nbconvert_exporter": "python",
   "pygments_lexer": "ipython3",
   "version": "3.6.10"
  }
 },
 "nbformat": 4,
 "nbformat_minor": 2
}
